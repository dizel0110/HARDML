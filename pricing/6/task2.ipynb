{
 "cells": [
  {
   "cell_type": "code",
   "execution_count": 1,
   "metadata": {
    "ExecuteTime": {
     "end_time": "2021-03-19T10:59:25.682529Z",
     "start_time": "2021-03-19T10:59:25.674553Z"
    }
   },
   "outputs": [],
   "source": [
    "import os.path as path_"
   ]
  },
  {
   "cell_type": "code",
   "execution_count": 20,
   "metadata": {
    "ExecuteTime": {
     "end_time": "2021-03-19T11:14:59.166936Z",
     "start_time": "2021-03-19T11:14:58.823413Z"
    }
   },
   "outputs": [],
   "source": [
    "import numpy as np\n",
    "import pandas as pd\n",
    "import matplotlib.pyplot as plt\n",
    "import seaborn as sns\n",
    "import fbprophet as fbp"
   ]
  },
  {
   "cell_type": "code",
   "execution_count": 3,
   "metadata": {
    "ExecuteTime": {
     "end_time": "2021-03-19T10:59:27.125335Z",
     "start_time": "2021-03-19T10:59:27.121204Z"
    }
   },
   "outputs": [],
   "source": [
    "data_path = 'data'\n",
    "submits_path = 'submits'\n",
    "seed = 110894"
   ]
  },
  {
   "cell_type": "code",
   "execution_count": 4,
   "metadata": {
    "ExecuteTime": {
     "end_time": "2021-03-19T10:59:28.408965Z",
     "start_time": "2021-03-19T10:59:28.379714Z"
    }
   },
   "outputs": [
    {
     "name": "stdout",
     "output_type": "stream",
     "text": [
      "<class 'pandas.core.frame.DataFrame'>\n",
      "RangeIndex: 3242 entries, 0 to 3241\n",
      "Data columns (total 3 columns):\n",
      " #   Column         Non-Null Count  Dtype  \n",
      "---  ------         --------------  -----  \n",
      " 0   dates          3242 non-null   object \n",
      " 1   SKU            3242 non-null   int64  \n",
      " 2   price_per_sku  3242 non-null   float64\n",
      "dtypes: float64(1), int64(1), object(1)\n",
      "memory usage: 76.1+ KB\n"
     ]
    }
   ],
   "source": [
    "df_data = pd.read_csv(path_.join(data_path, 'HW_6_data.csv'))\n",
    "df_data.info()"
   ]
  },
  {
   "cell_type": "code",
   "execution_count": 5,
   "metadata": {
    "ExecuteTime": {
     "end_time": "2021-03-19T10:59:33.211036Z",
     "start_time": "2021-03-19T10:59:33.198160Z"
    }
   },
   "outputs": [],
   "source": [
    "df_data['dates'] = pd.to_datetime(df_data['dates'])"
   ]
  },
  {
   "cell_type": "code",
   "execution_count": 6,
   "metadata": {
    "ExecuteTime": {
     "end_time": "2021-03-19T10:59:34.560720Z",
     "start_time": "2021-03-19T10:59:34.531412Z"
    }
   },
   "outputs": [
    {
     "name": "stdout",
     "output_type": "stream",
     "text": [
      "<class 'pandas.core.frame.DataFrame'>\n",
      "RangeIndex: 40 entries, 0 to 39\n",
      "Data columns (total 2 columns):\n",
      " #   Column  Non-Null Count  Dtype \n",
      "---  ------  --------------  ----- \n",
      " 0   SKU     40 non-null     int64 \n",
      " 1   dates   40 non-null     object\n",
      "dtypes: int64(1), object(1)\n",
      "memory usage: 768.0+ bytes\n"
     ]
    }
   ],
   "source": [
    "df_test = pd.read_csv(path_.join(data_path, 'HW_6_test.csv'))\n",
    "df_test.info()"
   ]
  },
  {
   "cell_type": "code",
   "execution_count": 7,
   "metadata": {
    "ExecuteTime": {
     "end_time": "2021-03-19T10:59:58.354231Z",
     "start_time": "2021-03-19T10:59:58.347613Z"
    }
   },
   "outputs": [],
   "source": [
    "df_test['dates'] = pd.to_datetime(df_test['dates'])"
   ]
  },
  {
   "cell_type": "code",
   "execution_count": null,
   "metadata": {},
   "outputs": [],
   "source": []
  },
  {
   "cell_type": "code",
   "execution_count": 66,
   "metadata": {
    "ExecuteTime": {
     "end_time": "2021-03-17T19:55:12.098691Z",
     "start_time": "2021-03-17T19:55:12.092876Z"
    }
   },
   "outputs": [
    {
     "data": {
      "text/plain": [
       "10"
      ]
     },
     "execution_count": 66,
     "metadata": {},
     "output_type": "execute_result"
    }
   ],
   "source": [
    "df_data['SKU'].nunique()"
   ]
  },
  {
   "cell_type": "code",
   "execution_count": 67,
   "metadata": {
    "ExecuteTime": {
     "end_time": "2021-03-17T19:55:13.633522Z",
     "start_time": "2021-03-17T19:55:12.667061Z"
    }
   },
   "outputs": [
    {
     "data": {
      "text/plain": [
       "<matplotlib.axes._subplots.AxesSubplot at 0x7f7f1dbbd4a8>"
      ]
     },
     "execution_count": 67,
     "metadata": {},
     "output_type": "execute_result"
    },
    {
     "data": {
      "image/png": "[encoded data removed]",
      "text/plain": [
       "<Figure size 432x288 with 1 Axes>"
      ]
     },
     "metadata": {
      "needs_background": "light"
     },
     "output_type": "display_data"
    }
   ],
   "source": [
    "sns.countplot(x='SKU', data=df_data)"
   ]
  },
  {
   "cell_type": "code",
   "execution_count": 9,
   "metadata": {
    "ExecuteTime": {
     "end_time": "2021-03-19T11:00:42.327807Z",
     "start_time": "2021-03-19T11:00:42.317575Z"
    }
   },
   "outputs": [
    {
     "data": {
      "text/plain": [
       "10"
      ]
     },
     "execution_count": 9,
     "metadata": {},
     "output_type": "execute_result"
    }
   ],
   "source": [
    "df_test['SKU'].nunique()"
   ]
  },
  {
   "cell_type": "code",
   "execution_count": 10,
   "metadata": {
    "ExecuteTime": {
     "end_time": "2021-03-19T11:00:54.095896Z",
     "start_time": "2021-03-19T11:00:53.827728Z"
    }
   },
   "outputs": [
    {
     "data": {
      "text/plain": [
       "<matplotlib.axes._subplots.AxesSubplot at 0x7f5d1447b4e0>"
      ]
     },
     "execution_count": 10,
     "metadata": {},
     "output_type": "execute_result"
    },
    {
     "data": {
      "image/png": "[encoded data removed]",
      "text/plain": [
       "<Figure size 432x288 with 1 Axes>"
      ]
     },
     "metadata": {
      "needs_background": "light"
     },
     "output_type": "display_data"
    }
   ],
   "source": [
    "sns.countplot(x='SKU', data=df_test)"
   ]
  },
  {
   "cell_type": "code",
   "execution_count": 18,
   "metadata": {
    "ExecuteTime": {
     "end_time": "2021-03-19T11:12:58.480078Z",
     "start_time": "2021-03-19T11:12:58.426249Z"
    }
   },
   "outputs": [
    {
     "data": {
      "text/html": [
       "<div>\n",
       "<style scoped>\n",
       "    .dataframe tbody tr th:only-of-type {\n",
       "        vertical-align: middle;\n",
       "    }\n",
       "\n",
       "    .dataframe tbody tr th {\n",
       "        vertical-align: top;\n",
       "    }\n",
       "\n",
       "    .dataframe thead th {\n",
       "        text-align: right;\n",
       "    }\n",
       "</style>\n",
       "<table border=\"1\" class=\"dataframe\">\n",
       "  <thead>\n",
       "    <tr style=\"text-align: right;\">\n",
       "      <th></th>\n",
       "      <th>lst_dt</th>\n",
       "      <th>max_diff</th>\n",
       "      <th>med_diff</th>\n",
       "    </tr>\n",
       "    <tr>\n",
       "      <th>SKU</th>\n",
       "      <th></th>\n",
       "      <th></th>\n",
       "      <th></th>\n",
       "    </tr>\n",
       "  </thead>\n",
       "  <tbody>\n",
       "    <tr>\n",
       "      <th>11617</th>\n",
       "      <td>2019-12-08</td>\n",
       "      <td>5.0</td>\n",
       "      <td>1.0</td>\n",
       "    </tr>\n",
       "    <tr>\n",
       "      <th>29251</th>\n",
       "      <td>2019-12-01</td>\n",
       "      <td>5.0</td>\n",
       "      <td>1.0</td>\n",
       "    </tr>\n",
       "    <tr>\n",
       "      <th>39924</th>\n",
       "      <td>2019-12-01</td>\n",
       "      <td>5.0</td>\n",
       "      <td>1.0</td>\n",
       "    </tr>\n",
       "    <tr>\n",
       "      <th>40937</th>\n",
       "      <td>2019-12-01</td>\n",
       "      <td>4.0</td>\n",
       "      <td>1.0</td>\n",
       "    </tr>\n",
       "    <tr>\n",
       "      <th>50971</th>\n",
       "      <td>2019-12-01</td>\n",
       "      <td>3.0</td>\n",
       "      <td>1.0</td>\n",
       "    </tr>\n",
       "    <tr>\n",
       "      <th>67179</th>\n",
       "      <td>2019-12-08</td>\n",
       "      <td>6.0</td>\n",
       "      <td>1.0</td>\n",
       "    </tr>\n",
       "    <tr>\n",
       "      <th>67286</th>\n",
       "      <td>2019-11-10</td>\n",
       "      <td>4.0</td>\n",
       "      <td>1.0</td>\n",
       "    </tr>\n",
       "    <tr>\n",
       "      <th>75536</th>\n",
       "      <td>2019-12-01</td>\n",
       "      <td>4.0</td>\n",
       "      <td>1.0</td>\n",
       "    </tr>\n",
       "    <tr>\n",
       "      <th>97818</th>\n",
       "      <td>2019-12-01</td>\n",
       "      <td>7.0</td>\n",
       "      <td>1.0</td>\n",
       "    </tr>\n",
       "    <tr>\n",
       "      <th>98130</th>\n",
       "      <td>2019-11-30</td>\n",
       "      <td>4.0</td>\n",
       "      <td>1.0</td>\n",
       "    </tr>\n",
       "  </tbody>\n",
       "</table>\n",
       "</div>"
      ],
      "text/plain": [
       "          lst_dt  max_diff  med_diff\n",
       "SKU                                 \n",
       "11617 2019-12-08       5.0       1.0\n",
       "29251 2019-12-01       5.0       1.0\n",
       "39924 2019-12-01       5.0       1.0\n",
       "40937 2019-12-01       4.0       1.0\n",
       "50971 2019-12-01       3.0       1.0\n",
       "67179 2019-12-08       6.0       1.0\n",
       "67286 2019-11-10       4.0       1.0\n",
       "75536 2019-12-01       4.0       1.0\n",
       "97818 2019-12-01       7.0       1.0\n",
       "98130 2019-11-30       4.0       1.0"
      ]
     },
     "execution_count": 18,
     "metadata": {},
     "output_type": "execute_result"
    }
   ],
   "source": [
    "(\n",
    "    df_data\n",
    "    .groupby('SKU')\n",
    "    .agg(\n",
    "        lst_dt=('dates', 'max'),\n",
    "        max_diff=('dates', lambda x: x.diff().dt.days.max()),\n",
    "        med_diff=('dates', lambda x: x.diff().dt.days.median()),\n",
    "    )\n",
    ")"
   ]
  },
  {
   "cell_type": "code",
   "execution_count": 19,
   "metadata": {
    "ExecuteTime": {
     "end_time": "2021-03-19T11:13:18.464334Z",
     "start_time": "2021-03-19T11:13:18.446614Z"
    }
   },
   "outputs": [
    {
     "data": {
      "text/plain": [
       "SKU\n",
       "11617   2019-12-11\n",
       "29251   2019-12-02\n",
       "39924   2019-12-02\n",
       "40937   2019-12-02\n",
       "50971   2019-12-02\n",
       "67179   2019-12-09\n",
       "67286   2019-11-11\n",
       "75536   2019-12-03\n",
       "97818   2019-12-02\n",
       "98130   2019-12-02\n",
       "Name: dates, dtype: datetime64[ns]"
      ]
     },
     "execution_count": 19,
     "metadata": {},
     "output_type": "execute_result"
    }
   ],
   "source": [
    "df_test.groupby('SKU')['dates'].min()"
   ]
  },
  {
   "cell_type": "code",
   "execution_count": null,
   "metadata": {},
   "outputs": [],
   "source": []
  },
  {
   "cell_type": "code",
   "execution_count": 48,
   "metadata": {
    "ExecuteTime": {
     "end_time": "2021-03-19T11:29:24.561390Z",
     "start_time": "2021-03-19T11:29:24.550484Z"
    }
   },
   "outputs": [
    {
     "data": {
      "text/plain": [
       "[11617, 29251, 39924, 40937, 50971, 67179, 67286, 75536, 97818, 98130]"
      ]
     },
     "execution_count": 48,
     "metadata": {},
     "output_type": "execute_result"
    }
   ],
   "source": [
    "list_skus = list(df_data['SKU'].unique())\n",
    "list_skus"
   ]
  },
  {
   "cell_type": "code",
   "execution_count": 70,
   "metadata": {
    "ExecuteTime": {
     "end_time": "2021-03-19T12:02:20.988872Z",
     "start_time": "2021-03-19T12:02:00.202337Z"
    },
    "scrolled": true
   },
   "outputs": [
    {
     "name": "stderr",
     "output_type": "stream",
     "text": [
      "INFO:fbprophet:Disabling yearly seasonality. Run prophet with yearly_seasonality=True to override this.\n",
      "INFO:fbprophet:Disabling daily seasonality. Run prophet with daily_seasonality=True to override this.\n"
     ]
    },
    {
     "name": "stdout",
     "output_type": "stream",
     "text": [
      "11617\n"
     ]
    },
    {
     "name": "stderr",
     "output_type": "stream",
     "text": [
      "INFO:fbprophet:Disabling yearly seasonality. Run prophet with yearly_seasonality=True to override this.\n",
      "INFO:fbprophet:Disabling daily seasonality. Run prophet with daily_seasonality=True to override this.\n"
     ]
    },
    {
     "name": "stdout",
     "output_type": "stream",
     "text": [
      "29251\n"
     ]
    },
    {
     "name": "stderr",
     "output_type": "stream",
     "text": [
      "INFO:fbprophet:Disabling yearly seasonality. Run prophet with yearly_seasonality=True to override this.\n",
      "INFO:fbprophet:Disabling daily seasonality. Run prophet with daily_seasonality=True to override this.\n"
     ]
    },
    {
     "name": "stdout",
     "output_type": "stream",
     "text": [
      "39924\n"
     ]
    },
    {
     "name": "stderr",
     "output_type": "stream",
     "text": [
      "INFO:fbprophet:Disabling yearly seasonality. Run prophet with yearly_seasonality=True to override this.\n",
      "INFO:fbprophet:Disabling daily seasonality. Run prophet with daily_seasonality=True to override this.\n"
     ]
    },
    {
     "name": "stdout",
     "output_type": "stream",
     "text": [
      "40937\n"
     ]
    },
    {
     "name": "stderr",
     "output_type": "stream",
     "text": [
      "INFO:fbprophet:Disabling yearly seasonality. Run prophet with yearly_seasonality=True to override this.\n",
      "INFO:fbprophet:Disabling daily seasonality. Run prophet with daily_seasonality=True to override this.\n"
     ]
    },
    {
     "name": "stdout",
     "output_type": "stream",
     "text": [
      "50971\n"
     ]
    },
    {
     "name": "stderr",
     "output_type": "stream",
     "text": [
      "INFO:fbprophet:Disabling yearly seasonality. Run prophet with yearly_seasonality=True to override this.\n",
      "INFO:fbprophet:Disabling daily seasonality. Run prophet with daily_seasonality=True to override this.\n"
     ]
    },
    {
     "name": "stdout",
     "output_type": "stream",
     "text": [
      "67179\n"
     ]
    },
    {
     "name": "stderr",
     "output_type": "stream",
     "text": [
      "INFO:fbprophet:Disabling yearly seasonality. Run prophet with yearly_seasonality=True to override this.\n",
      "INFO:fbprophet:Disabling daily seasonality. Run prophet with daily_seasonality=True to override this.\n"
     ]
    },
    {
     "name": "stdout",
     "output_type": "stream",
     "text": [
      "67286\n"
     ]
    },
    {
     "name": "stderr",
     "output_type": "stream",
     "text": [
      "INFO:fbprophet:Disabling yearly seasonality. Run prophet with yearly_seasonality=True to override this.\n",
      "INFO:fbprophet:Disabling daily seasonality. Run prophet with daily_seasonality=True to override this.\n"
     ]
    },
    {
     "name": "stdout",
     "output_type": "stream",
     "text": [
      "75536\n"
     ]
    },
    {
     "name": "stderr",
     "output_type": "stream",
     "text": [
      "INFO:fbprophet:Disabling yearly seasonality. Run prophet with yearly_seasonality=True to override this.\n",
      "INFO:fbprophet:Disabling daily seasonality. Run prophet with daily_seasonality=True to override this.\n"
     ]
    },
    {
     "name": "stdout",
     "output_type": "stream",
     "text": [
      "97818\n"
     ]
    },
    {
     "name": "stderr",
     "output_type": "stream",
     "text": [
      "INFO:fbprophet:Disabling yearly seasonality. Run prophet with yearly_seasonality=True to override this.\n",
      "INFO:fbprophet:Disabling daily seasonality. Run prophet with daily_seasonality=True to override this.\n"
     ]
    },
    {
     "name": "stdout",
     "output_type": "stream",
     "text": [
      "98130\n"
     ]
    }
   ],
   "source": [
    "list_dfs = []\n",
    "for sku in list_skus:\n",
    "    print(sku)\n",
    "    df_train = (\n",
    "        df_data\n",
    "        .loc[\n",
    "            df_data['SKU'] == sku,\n",
    "            ['dates', 'price_per_sku']\n",
    "        ]\n",
    "        .rename(columns={'dates': 'ds', 'price_per_sku': 'y'})\n",
    "        .sort_values('ds')\n",
    "    )\n",
    "    \n",
    "    model = fbp.Prophet(interval_width=0.99)\n",
    "    model.fit(df_train)\n",
    "    \n",
    "    df_predict = (\n",
    "        df_test\n",
    "        .loc[\n",
    "            df_test['SKU'] == sku,\n",
    "            ['dates']\n",
    "        ]\n",
    "        .rename(columns={'dates': 'ds'})\n",
    "    )\n",
    "    df_predict = model.predict(df_predict)\n",
    "    df_predict['SKU'] = sku\n",
    "    list_dfs.append(df_predict.loc[:, ['SKU', 'ds', 'yhat_lower', 'yhat_upper']])"
   ]
  },
  {
   "cell_type": "code",
   "execution_count": 71,
   "metadata": {
    "ExecuteTime": {
     "end_time": "2021-03-19T12:02:21.025737Z",
     "start_time": "2021-03-19T12:02:20.995200Z"
    }
   },
   "outputs": [
    {
     "data": {
      "text/html": [
       "<div>\n",
       "<style scoped>\n",
       "    .dataframe tbody tr th:only-of-type {\n",
       "        vertical-align: middle;\n",
       "    }\n",
       "\n",
       "    .dataframe tbody tr th {\n",
       "        vertical-align: top;\n",
       "    }\n",
       "\n",
       "    .dataframe thead th {\n",
       "        text-align: right;\n",
       "    }\n",
       "</style>\n",
       "<table border=\"1\" class=\"dataframe\">\n",
       "  <thead>\n",
       "    <tr style=\"text-align: right;\">\n",
       "      <th></th>\n",
       "      <th>SKU</th>\n",
       "      <th>dates</th>\n",
       "      <th>predicted_lower_bound</th>\n",
       "      <th>predicted_upper_bound</th>\n",
       "    </tr>\n",
       "  </thead>\n",
       "  <tbody>\n",
       "    <tr>\n",
       "      <th>0</th>\n",
       "      <td>11617</td>\n",
       "      <td>2019-12-11</td>\n",
       "      <td>193.013213</td>\n",
       "      <td>196.520048</td>\n",
       "    </tr>\n",
       "    <tr>\n",
       "      <th>1</th>\n",
       "      <td>11617</td>\n",
       "      <td>2019-12-16</td>\n",
       "      <td>193.452513</td>\n",
       "      <td>197.092248</td>\n",
       "    </tr>\n",
       "    <tr>\n",
       "      <th>2</th>\n",
       "      <td>11617</td>\n",
       "      <td>2019-12-23</td>\n",
       "      <td>193.889753</td>\n",
       "      <td>197.817690</td>\n",
       "    </tr>\n",
       "    <tr>\n",
       "      <th>3</th>\n",
       "      <td>11617</td>\n",
       "      <td>2019-12-30</td>\n",
       "      <td>194.343363</td>\n",
       "      <td>198.023193</td>\n",
       "    </tr>\n",
       "    <tr>\n",
       "      <th>4</th>\n",
       "      <td>29251</td>\n",
       "      <td>2019-12-02</td>\n",
       "      <td>324.824617</td>\n",
       "      <td>403.142123</td>\n",
       "    </tr>\n",
       "  </tbody>\n",
       "</table>\n",
       "</div>"
      ],
      "text/plain": [
       "     SKU      dates  predicted_lower_bound  predicted_upper_bound\n",
       "0  11617 2019-12-11             193.013213             196.520048\n",
       "1  11617 2019-12-16             193.452513             197.092248\n",
       "2  11617 2019-12-23             193.889753             197.817690\n",
       "3  11617 2019-12-30             194.343363             198.023193\n",
       "4  29251 2019-12-02             324.824617             403.142123"
      ]
     },
     "execution_count": 71,
     "metadata": {},
     "output_type": "execute_result"
    }
   ],
   "source": [
    "df_submit_baseline = (\n",
    "    pd.concat(\n",
    "        list_dfs,\n",
    "        ignore_index=True,\n",
    "    )\n",
    "    .rename(columns={\n",
    "        'ds': 'dates',\n",
    "        'yhat_lower': 'predicted_lower_bound',\n",
    "        'yhat_upper': 'predicted_upper_bound',\n",
    "    })\n",
    ")\n",
    "df_submit_baseline.head()"
   ]
  },
  {
   "cell_type": "code",
   "execution_count": 72,
   "metadata": {
    "ExecuteTime": {
     "end_time": "2021-03-19T12:02:21.044560Z",
     "start_time": "2021-03-19T12:02:21.028616Z"
    }
   },
   "outputs": [],
   "source": [
    "df_submit_baseline.to_csv(path_.join(submits_path, 'part2_baseline.csv'), index=False)"
   ]
  },
  {
   "cell_type": "code",
   "execution_count": null,
   "metadata": {},
   "outputs": [],
   "source": []
  },
  {
   "cell_type": "code",
   "execution_count": null,
   "metadata": {},
   "outputs": [],
   "source": []
  },
  {
   "cell_type": "code",
   "execution_count": null,
   "metadata": {},
   "outputs": [],
   "source": []
  },
  {
   "cell_type": "code",
   "execution_count": null,
   "metadata": {},
   "outputs": [],
   "source": []
  }
 ],
 "metadata": {
  "kernelspec": {
   "display_name": "Python 3",
   "language": "python",
   "name": "python3"
  },
  "language_info": {
   "codemirror_mode": {
    "name": "ipython",
    "version": 3
   },
   "file_extension": ".py",
   "mimetype": "text/x-python",
   "name": "python",
   "nbconvert_exporter": "python",
   "pygments_lexer": "ipython3",
   "version": "3.7.3"
  }
 },
 "nbformat": 4,
 "nbformat_minor": 4
}
