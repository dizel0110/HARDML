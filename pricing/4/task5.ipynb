{
 "cells": [
  {
   "cell_type": "markdown",
   "metadata": {},
   "source": [
    "# Импорт"
   ]
  },
  {
   "cell_type": "code",
   "execution_count": 1,
   "metadata": {
    "ExecuteTime": {
     "end_time": "2021-03-16T08:21:29.836504Z",
     "start_time": "2021-03-16T08:21:29.831155Z"
    }
   },
   "outputs": [],
   "source": [
    "import os.path as path_"
   ]
  },
  {
   "cell_type": "code",
   "execution_count": 2,
   "metadata": {
    "ExecuteTime": {
     "end_time": "2021-03-16T08:21:30.956147Z",
     "start_time": "2021-03-16T08:21:29.842527Z"
    }
   },
   "outputs": [],
   "source": [
    "import numpy as np\n",
    "import pandas as pd\n",
    "import matplotlib.pyplot as plt\n",
    "import seaborn as sns\n",
    "\n",
    "from sklearn.model_selection import TimeSeriesSplit\n",
    "from lightgbm import Dataset, train, cv, plot_importance"
   ]
  },
  {
   "cell_type": "markdown",
   "metadata": {},
   "source": [
    "# Глобальные переменные и функции"
   ]
  },
  {
   "cell_type": "code",
   "execution_count": 3,
   "metadata": {
    "ExecuteTime": {
     "end_time": "2021-03-16T08:21:30.962118Z",
     "start_time": "2021-03-16T08:21:30.958491Z"
    }
   },
   "outputs": [],
   "source": [
    "data_path = 'data'\n",
    "submit_path = 'submits'\n",
    "seed = 110894"
   ]
  },
  {
   "cell_type": "markdown",
   "metadata": {},
   "source": [
    "# Загружаем данные"
   ]
  },
  {
   "cell_type": "markdown",
   "metadata": {},
   "source": [
    "## Словарь"
   ]
  },
  {
   "cell_type": "code",
   "execution_count": 4,
   "metadata": {
    "ExecuteTime": {
     "end_time": "2021-03-16T08:21:31.013418Z",
     "start_time": "2021-03-16T08:21:30.967783Z"
    }
   },
   "outputs": [
    {
     "name": "stdout",
     "output_type": "stream",
     "text": [
      "<class 'pandas.core.frame.DataFrame'>\n",
      "RangeIndex: 10000 entries, 0 to 9999\n",
      "Data columns (total 9 columns):\n",
      " #   Column           Non-Null Count  Dtype \n",
      "---  ------           --------------  ----- \n",
      " 0   sku_id           10000 non-null  int64 \n",
      " 1   fincode          10000 non-null  object\n",
      " 2   ui1_code         10000 non-null  object\n",
      " 3   ui2_code         10000 non-null  object\n",
      " 4   ui3_code         10000 non-null  object\n",
      " 5   vendor           10000 non-null  object\n",
      " 6   brand_code       10000 non-null  object\n",
      " 7   creation_date    10000 non-null  object\n",
      " 8   expiration_date  10000 non-null  object\n",
      "dtypes: int64(1), object(8)\n",
      "memory usage: 703.2+ KB\n"
     ]
    }
   ],
   "source": [
    "df_sku_dict = pd.read_csv(path_.join(data_path, 'sku_dict.csv'))\n",
    "df_sku_dict.info()"
   ]
  },
  {
   "cell_type": "code",
   "execution_count": 5,
   "metadata": {
    "ExecuteTime": {
     "end_time": "2021-03-16T08:21:31.044516Z",
     "start_time": "2021-03-16T08:21:31.019241Z"
    }
   },
   "outputs": [],
   "source": [
    "df_sku_dict['creation_date'] = pd.to_datetime(df_sku_dict['creation_date'])\n",
    "df_sku_dict['expiration_date'] = pd.to_datetime(df_sku_dict['expiration_date'])"
   ]
  },
  {
   "cell_type": "markdown",
   "metadata": {},
   "source": [
    "## Группы"
   ]
  },
  {
   "cell_type": "code",
   "execution_count": 6,
   "metadata": {
    "ExecuteTime": {
     "end_time": "2021-03-16T08:21:31.067621Z",
     "start_time": "2021-03-16T08:21:31.047906Z"
    }
   },
   "outputs": [
    {
     "name": "stdout",
     "output_type": "stream",
     "text": [
      "<class 'pandas.core.frame.DataFrame'>\n",
      "RangeIndex: 245 entries, 0 to 244\n",
      "Data columns (total 4 columns):\n",
      " #   Column         Non-Null Count  Dtype  \n",
      "---  ------         --------------  -----  \n",
      " 0   dates          245 non-null    object \n",
      " 1   SKU            245 non-null    int64  \n",
      " 2   price_per_sku  169 non-null    float64\n",
      " 3   num_purchases  245 non-null    int64  \n",
      "dtypes: float64(1), int64(2), object(1)\n",
      "memory usage: 7.8+ KB\n"
     ]
    }
   ],
   "source": [
    "df_first_group_sku = pd.read_csv(path_.join(data_path, 'first_group_sku.csv'))\n",
    "df_first_group_sku.info()"
   ]
  },
  {
   "cell_type": "code",
   "execution_count": 7,
   "metadata": {
    "ExecuteTime": {
     "end_time": "2021-03-16T08:21:31.089641Z",
     "start_time": "2021-03-16T08:21:31.070677Z"
    }
   },
   "outputs": [
    {
     "name": "stdout",
     "output_type": "stream",
     "text": [
      "<class 'pandas.core.frame.DataFrame'>\n",
      "RangeIndex: 3749 entries, 0 to 3748\n",
      "Data columns (total 4 columns):\n",
      " #   Column         Non-Null Count  Dtype  \n",
      "---  ------         --------------  -----  \n",
      " 0   dates          3749 non-null   object \n",
      " 1   SKU            3749 non-null   int64  \n",
      " 2   price_per_sku  3749 non-null   float64\n",
      " 3   num_purchases  3749 non-null   int64  \n",
      "dtypes: float64(1), int64(2), object(1)\n",
      "memory usage: 117.3+ KB\n"
     ]
    }
   ],
   "source": [
    "df_second_group_sku = pd.read_csv(path_.join(data_path, 'second_group_sku.csv'))\n",
    "df_second_group_sku.info()"
   ]
  },
  {
   "cell_type": "code",
   "execution_count": 8,
   "metadata": {
    "ExecuteTime": {
     "end_time": "2021-03-16T08:21:31.108922Z",
     "start_time": "2021-03-16T08:21:31.092713Z"
    }
   },
   "outputs": [
    {
     "name": "stdout",
     "output_type": "stream",
     "text": [
      "<class 'pandas.core.frame.DataFrame'>\n",
      "RangeIndex: 2781 entries, 0 to 2780\n",
      "Data columns (total 4 columns):\n",
      " #   Column         Non-Null Count  Dtype  \n",
      "---  ------         --------------  -----  \n",
      " 0   dates          2781 non-null   object \n",
      " 1   SKU            2781 non-null   int64  \n",
      " 2   price_per_sku  2781 non-null   float64\n",
      " 3   num_purchases  2781 non-null   int64  \n",
      "dtypes: float64(1), int64(2), object(1)\n",
      "memory usage: 87.0+ KB\n"
     ]
    }
   ],
   "source": [
    "df_third_group_sku = pd.read_csv(path_.join(data_path, 'third_group_sku.csv'))\n",
    "df_third_group_sku.info()"
   ]
  },
  {
   "cell_type": "code",
   "execution_count": 9,
   "metadata": {
    "ExecuteTime": {
     "end_time": "2021-03-16T08:21:31.138630Z",
     "start_time": "2021-03-16T08:21:31.112498Z"
    }
   },
   "outputs": [
    {
     "name": "stdout",
     "output_type": "stream",
     "text": [
      "<class 'pandas.core.frame.DataFrame'>\n",
      "RangeIndex: 6775 entries, 0 to 6774\n",
      "Data columns (total 5 columns):\n",
      " #   Column         Non-Null Count  Dtype  \n",
      "---  ------         --------------  -----  \n",
      " 0   dates          6775 non-null   object \n",
      " 1   SKU            6775 non-null   int64  \n",
      " 2   price_per_sku  6699 non-null   float64\n",
      " 3   num_purchases  6775 non-null   int64  \n",
      " 4   group          6775 non-null   object \n",
      "dtypes: float64(1), int64(2), object(2)\n",
      "memory usage: 264.8+ KB\n"
     ]
    }
   ],
   "source": [
    "df_concated = pd.concat(\n",
    "    [\n",
    "        df_first_group_sku.assign(group='first'),\n",
    "        df_second_group_sku.assign(group='second'),\n",
    "        df_third_group_sku.assign(group='third'),\n",
    "    ],\n",
    "    ignore_index=True,\n",
    ")\n",
    "df_concated.info()"
   ]
  },
  {
   "cell_type": "code",
   "execution_count": 10,
   "metadata": {
    "ExecuteTime": {
     "end_time": "2021-03-16T08:21:31.158863Z",
     "start_time": "2021-03-16T08:21:31.146818Z"
    }
   },
   "outputs": [],
   "source": [
    "df_concated['dates'] = pd.to_datetime(df_concated['dates'])"
   ]
  },
  {
   "cell_type": "code",
   "execution_count": 11,
   "metadata": {
    "ExecuteTime": {
     "end_time": "2021-03-16T08:21:31.167409Z",
     "start_time": "2021-03-16T08:21:31.162611Z"
    }
   },
   "outputs": [],
   "source": [
    "del df_first_group_sku, df_second_group_sku, df_third_group_sku"
   ]
  },
  {
   "cell_type": "code",
   "execution_count": 12,
   "metadata": {
    "ExecuteTime": {
     "end_time": "2021-03-16T08:21:31.179239Z",
     "start_time": "2021-03-16T08:21:31.170485Z"
    }
   },
   "outputs": [
    {
     "data": {
      "text/plain": [
       "second    3749\n",
       "third     2781\n",
       "first      245\n",
       "Name: group, dtype: int64"
      ]
     },
     "execution_count": 12,
     "metadata": {},
     "output_type": "execute_result"
    }
   ],
   "source": [
    "df_concated['group'].value_counts()"
   ]
  },
  {
   "cell_type": "markdown",
   "metadata": {},
   "source": [
    "## Промо"
   ]
  },
  {
   "cell_type": "code",
   "execution_count": 13,
   "metadata": {
    "ExecuteTime": {
     "end_time": "2021-03-16T08:21:31.197649Z",
     "start_time": "2021-03-16T08:21:31.183113Z"
    }
   },
   "outputs": [
    {
     "name": "stdout",
     "output_type": "stream",
     "text": [
      "<class 'pandas.core.frame.DataFrame'>\n",
      "RangeIndex: 52 entries, 0 to 51\n",
      "Data columns (total 4 columns):\n",
      " #   Column    Non-Null Count  Dtype  \n",
      "---  ------    --------------  -----  \n",
      " 0   year      52 non-null     int64  \n",
      " 1   week_num  52 non-null     int64  \n",
      " 2   SKU       52 non-null     int64  \n",
      " 3   discount  52 non-null     float64\n",
      "dtypes: float64(1), int64(3)\n",
      "memory usage: 1.8 KB\n"
     ]
    }
   ],
   "source": [
    "df_promo = pd.read_csv(path_.join(data_path, 'promo_1510002.csv'))\n",
    "df_promo.info()"
   ]
  },
  {
   "cell_type": "markdown",
   "metadata": {},
   "source": [
    "## Конкуренты"
   ]
  },
  {
   "cell_type": "code",
   "execution_count": 14,
   "metadata": {
    "ExecuteTime": {
     "end_time": "2021-03-16T08:21:31.212787Z",
     "start_time": "2021-03-16T08:21:31.200015Z"
    }
   },
   "outputs": [
    {
     "name": "stdout",
     "output_type": "stream",
     "text": [
      "<class 'pandas.core.frame.DataFrame'>\n",
      "RangeIndex: 3009 entries, 0 to 3008\n",
      "Data columns (total 5 columns):\n",
      " #   Column         Non-Null Count  Dtype  \n",
      "---  ------         --------------  -----  \n",
      " 0   SKU            3009 non-null   int64  \n",
      " 1   year           3009 non-null   int64  \n",
      " 2   week_num       3009 non-null   int64  \n",
      " 3   ret_net_code   3009 non-null   int64  \n",
      " 4   price_per_sku  3009 non-null   float64\n",
      "dtypes: float64(1), int64(4)\n",
      "memory usage: 117.7 KB\n"
     ]
    }
   ],
   "source": [
    "df_conc = pd.read_csv(path_.join(data_path, 'conc_df.csv'))\n",
    "df_conc.info()"
   ]
  },
  {
   "cell_type": "markdown",
   "metadata": {},
   "source": [
    "## Тест"
   ]
  },
  {
   "cell_type": "code",
   "execution_count": 15,
   "metadata": {
    "ExecuteTime": {
     "end_time": "2021-03-16T08:21:31.227372Z",
     "start_time": "2021-03-16T08:21:31.215134Z"
    }
   },
   "outputs": [
    {
     "name": "stdout",
     "output_type": "stream",
     "text": [
      "<class 'pandas.core.frame.DataFrame'>\n",
      "RangeIndex: 175 entries, 0 to 174\n",
      "Data columns (total 2 columns):\n",
      " #   Column  Non-Null Count  Dtype \n",
      "---  ------  --------------  ----- \n",
      " 0   dates   175 non-null    object\n",
      " 1   SKU     175 non-null    int64 \n",
      "dtypes: int64(1), object(1)\n",
      "memory usage: 2.9+ KB\n"
     ]
    }
   ],
   "source": [
    "df_test = pd.read_csv(path_.join(data_path, 'test.csv'))\n",
    "df_test.info()"
   ]
  },
  {
   "cell_type": "code",
   "execution_count": 16,
   "metadata": {
    "ExecuteTime": {
     "end_time": "2021-03-16T08:21:31.234031Z",
     "start_time": "2021-03-16T08:21:31.229779Z"
    }
   },
   "outputs": [],
   "source": [
    "df_test['dates'] = pd.to_datetime(df_test['dates'])"
   ]
  },
  {
   "cell_type": "markdown",
   "metadata": {},
   "source": [
    "# EDA"
   ]
  },
  {
   "cell_type": "code",
   "execution_count": 17,
   "metadata": {
    "ExecuteTime": {
     "end_time": "2021-03-16T08:21:31.243393Z",
     "start_time": "2021-03-16T08:21:31.235838Z"
    }
   },
   "outputs": [
    {
     "data": {
      "text/plain": [
       "(Timestamp('2018-01-17 00:00:00'), Timestamp('2019-12-24 00:00:00'))"
      ]
     },
     "execution_count": 17,
     "metadata": {},
     "output_type": "execute_result"
    }
   ],
   "source": [
    "df_concated['dates'].min(), df_concated['dates'].max()"
   ]
  },
  {
   "cell_type": "code",
   "execution_count": 18,
   "metadata": {
    "ExecuteTime": {
     "end_time": "2021-03-16T08:21:31.255356Z",
     "start_time": "2021-03-16T08:21:31.246731Z"
    }
   },
   "outputs": [
    {
     "data": {
      "text/plain": [
       "(Timestamp('2018-12-17 00:00:00'), Timestamp('2019-12-31 00:00:00'))"
      ]
     },
     "execution_count": 18,
     "metadata": {},
     "output_type": "execute_result"
    }
   ],
   "source": [
    "df_test['dates'].min(), df_test['dates'].max()"
   ]
  },
  {
   "cell_type": "code",
   "execution_count": 19,
   "metadata": {
    "ExecuteTime": {
     "end_time": "2021-03-16T08:21:31.276711Z",
     "start_time": "2021-03-16T08:21:31.267026Z"
    }
   },
   "outputs": [
    {
     "data": {
      "text/plain": [
       "True"
      ]
     },
     "execution_count": 19,
     "metadata": {},
     "output_type": "execute_result"
    }
   ],
   "source": [
    "df_concated['SKU'].nunique() == df_test['SKU'].nunique()"
   ]
  },
  {
   "cell_type": "code",
   "execution_count": 20,
   "metadata": {
    "ExecuteTime": {
     "end_time": "2021-03-16T08:21:31.555916Z",
     "start_time": "2021-03-16T08:21:31.280774Z"
    }
   },
   "outputs": [
    {
     "data": {
      "image/png": "[encoded data removed]",
      "text/plain": [
       "<Figure size 432x288 with 1 Axes>"
      ]
     },
     "metadata": {
      "needs_background": "light"
     },
     "output_type": "display_data"
    }
   ],
   "source": [
    "sns.countplot(x='SKU', data=df_concated)\n",
    "_ = plt.xticks(rotation=90)"
   ]
  },
  {
   "cell_type": "code",
   "execution_count": 21,
   "metadata": {
    "ExecuteTime": {
     "end_time": "2021-03-16T08:21:31.852044Z",
     "start_time": "2021-03-16T08:21:31.561618Z"
    }
   },
   "outputs": [
    {
     "data": {
      "image/png": "[encoded data removed]",
      "text/plain": [
       "<Figure size 432x288 with 1 Axes>"
      ]
     },
     "metadata": {
      "needs_background": "light"
     },
     "output_type": "display_data"
    }
   ],
   "source": [
    "sns.countplot(x='SKU', data=df_test)\n",
    "_ = plt.xticks(rotation=90)"
   ]
  },
  {
   "cell_type": "code",
   "execution_count": 22,
   "metadata": {
    "ExecuteTime": {
     "end_time": "2021-03-16T08:21:31.956171Z",
     "start_time": "2021-03-16T08:21:31.854928Z"
    }
   },
   "outputs": [
    {
     "data": {
      "text/html": [
       "<div>\n",
       "<style scoped>\n",
       "    .dataframe tbody tr th:only-of-type {\n",
       "        vertical-align: middle;\n",
       "    }\n",
       "\n",
       "    .dataframe tbody tr th {\n",
       "        vertical-align: top;\n",
       "    }\n",
       "\n",
       "    .dataframe thead th {\n",
       "        text-align: right;\n",
       "    }\n",
       "</style>\n",
       "<table border=\"1\" class=\"dataframe\">\n",
       "  <thead>\n",
       "    <tr style=\"text-align: right;\">\n",
       "      <th></th>\n",
       "      <th>max_diff</th>\n",
       "      <th>med_diff</th>\n",
       "    </tr>\n",
       "    <tr>\n",
       "      <th>SKU</th>\n",
       "      <th></th>\n",
       "      <th></th>\n",
       "    </tr>\n",
       "  </thead>\n",
       "  <tbody>\n",
       "    <tr>\n",
       "      <th>78833</th>\n",
       "      <td>21.0</td>\n",
       "      <td>3.0</td>\n",
       "    </tr>\n",
       "    <tr>\n",
       "      <th>32950</th>\n",
       "      <td>10.0</td>\n",
       "      <td>2.0</td>\n",
       "    </tr>\n",
       "    <tr>\n",
       "      <th>49661</th>\n",
       "      <td>10.0</td>\n",
       "      <td>1.0</td>\n",
       "    </tr>\n",
       "    <tr>\n",
       "      <th>36096</th>\n",
       "      <td>7.0</td>\n",
       "      <td>1.0</td>\n",
       "    </tr>\n",
       "    <tr>\n",
       "      <th>98255</th>\n",
       "      <td>6.0</td>\n",
       "      <td>1.0</td>\n",
       "    </tr>\n",
       "  </tbody>\n",
       "</table>\n",
       "</div>"
      ],
      "text/plain": [
       "       max_diff  med_diff\n",
       "SKU                      \n",
       "78833      21.0       3.0\n",
       "32950      10.0       2.0\n",
       "49661      10.0       1.0\n",
       "36096       7.0       1.0\n",
       "98255       6.0       1.0"
      ]
     },
     "execution_count": 22,
     "metadata": {},
     "output_type": "execute_result"
    }
   ],
   "source": [
    "(\n",
    "    df_concated\n",
    "    .groupby('SKU')\n",
    "    .agg(\n",
    "        max_diff=('dates', lambda x: x.sort_values().diff().dt.days.max()),\n",
    "        med_diff=('dates', lambda x: x.sort_values().diff().dt.days.median()),\n",
    "    )\n",
    "    .sort_values('max_diff', ascending=False)\n",
    "    .head(5)\n",
    ")"
   ]
  },
  {
   "cell_type": "code",
   "execution_count": 23,
   "metadata": {
    "ExecuteTime": {
     "end_time": "2021-03-16T08:21:32.048687Z",
     "start_time": "2021-03-16T08:21:31.958687Z"
    }
   },
   "outputs": [
    {
     "data": {
      "text/html": [
       "<div>\n",
       "<style scoped>\n",
       "    .dataframe tbody tr th:only-of-type {\n",
       "        vertical-align: middle;\n",
       "    }\n",
       "\n",
       "    .dataframe tbody tr th {\n",
       "        vertical-align: top;\n",
       "    }\n",
       "\n",
       "    .dataframe thead th {\n",
       "        text-align: right;\n",
       "    }\n",
       "</style>\n",
       "<table border=\"1\" class=\"dataframe\">\n",
       "  <thead>\n",
       "    <tr style=\"text-align: right;\">\n",
       "      <th></th>\n",
       "      <th>max_diff</th>\n",
       "      <th>med_diff</th>\n",
       "    </tr>\n",
       "    <tr>\n",
       "      <th>SKU</th>\n",
       "      <th></th>\n",
       "      <th></th>\n",
       "    </tr>\n",
       "  </thead>\n",
       "  <tbody>\n",
       "    <tr>\n",
       "      <th>98255</th>\n",
       "      <td>4.0</td>\n",
       "      <td>1.0</td>\n",
       "    </tr>\n",
       "    <tr>\n",
       "      <th>69997</th>\n",
       "      <td>4.0</td>\n",
       "      <td>2.0</td>\n",
       "    </tr>\n",
       "    <tr>\n",
       "      <th>43678</th>\n",
       "      <td>4.0</td>\n",
       "      <td>1.5</td>\n",
       "    </tr>\n",
       "    <tr>\n",
       "      <th>57561</th>\n",
       "      <td>4.0</td>\n",
       "      <td>2.0</td>\n",
       "    </tr>\n",
       "    <tr>\n",
       "      <th>78833</th>\n",
       "      <td>4.0</td>\n",
       "      <td>1.5</td>\n",
       "    </tr>\n",
       "  </tbody>\n",
       "</table>\n",
       "</div>"
      ],
      "text/plain": [
       "       max_diff  med_diff\n",
       "SKU                      \n",
       "98255       4.0       1.0\n",
       "69997       4.0       2.0\n",
       "43678       4.0       1.5\n",
       "57561       4.0       2.0\n",
       "78833       4.0       1.5"
      ]
     },
     "execution_count": 23,
     "metadata": {},
     "output_type": "execute_result"
    }
   ],
   "source": [
    "(\n",
    "    df_test\n",
    "    .groupby('SKU')\n",
    "    .agg(\n",
    "        max_diff=('dates', lambda x: x.sort_values().diff().dt.days.max()),\n",
    "        med_diff=('dates', lambda x: x.sort_values().diff().dt.days.median()),\n",
    "    )\n",
    "    .sort_values('max_diff', ascending=False)\n",
    "    .head(5)\n",
    ")"
   ]
  },
  {
   "cell_type": "code",
   "execution_count": 24,
   "metadata": {
    "ExecuteTime": {
     "end_time": "2021-03-16T08:21:32.069913Z",
     "start_time": "2021-03-16T08:21:32.052398Z"
    }
   },
   "outputs": [
    {
     "data": {
      "text/plain": [
       "SKU\n",
       "24125    2 days\n",
       "11050    2 days\n",
       "80308    3 days\n",
       "17812    3 days\n",
       "78833   14 days\n",
       "Name: dates, dtype: timedelta64[ns]"
      ]
     },
     "execution_count": 24,
     "metadata": {},
     "output_type": "execute_result"
    }
   ],
   "source": [
    "(df_test.groupby('SKU')['dates'].min() - df_concated.groupby('SKU')['dates'].max()).sort_values().tail(5)"
   ]
  },
  {
   "cell_type": "code",
   "execution_count": 25,
   "metadata": {
    "ExecuteTime": {
     "end_time": "2021-03-16T08:21:32.333742Z",
     "start_time": "2021-03-16T08:21:32.075171Z"
    }
   },
   "outputs": [
    {
     "data": {
      "text/plain": [
       "<seaborn.axisgrid.FacetGrid at 0x7fc2989982b0>"
      ]
     },
     "execution_count": 25,
     "metadata": {},
     "output_type": "execute_result"
    },
    {
     "data": {
      "image/png": "[encoded data removed]",
      "text/plain": [
       "<Figure size 360x360 with 1 Axes>"
      ]
     },
     "metadata": {
      "needs_background": "light"
     },
     "output_type": "display_data"
    }
   ],
   "source": [
    "sns.displot(df_concated[df_concated['SKU'] == 78833]['dates'].diff().dt.days)"
   ]
  },
  {
   "cell_type": "code",
   "execution_count": 26,
   "metadata": {
    "ExecuteTime": {
     "end_time": "2021-03-16T08:21:32.349458Z",
     "start_time": "2021-03-16T08:21:32.339034Z"
    }
   },
   "outputs": [
    {
     "data": {
      "text/plain": [
       "(2019, 2019)"
      ]
     },
     "execution_count": 26,
     "metadata": {},
     "output_type": "execute_result"
    }
   ],
   "source": [
    "df_promo['year'].max(), df_test['dates'].dt.year.max()"
   ]
  },
  {
   "cell_type": "code",
   "execution_count": 27,
   "metadata": {
    "ExecuteTime": {
     "end_time": "2021-03-16T08:21:32.376074Z",
     "start_time": "2021-03-16T08:21:32.354186Z"
    }
   },
   "outputs": [
    {
     "name": "stderr",
     "output_type": "stream",
     "text": [
      "/opt/tljh/user/lib/python3.7/site-packages/ipykernel_launcher.py:3: FutureWarning: Series.dt.weekofyear and Series.dt.week have been deprecated.  Please use Series.dt.isocalendar().week instead.\n",
      "  This is separate from the ipykernel package so we can avoid doing imports until\n"
     ]
    },
    {
     "data": {
      "text/plain": [
       "(52, 52)"
      ]
     },
     "execution_count": 27,
     "metadata": {},
     "output_type": "execute_result"
    }
   ],
   "source": [
    "(\n",
    "    df_promo[df_promo['year'] == 2019]['week_num'].max(),\n",
    "    df_test[df_test['dates'].dt.year == 2019]['dates'].dt.week.max(),\n",
    ")"
   ]
  },
  {
   "cell_type": "code",
   "execution_count": 28,
   "metadata": {
    "ExecuteTime": {
     "end_time": "2021-03-16T08:21:32.389863Z",
     "start_time": "2021-03-16T08:21:32.379886Z"
    }
   },
   "outputs": [
    {
     "data": {
      "text/plain": [
       "(2019, 2019)"
      ]
     },
     "execution_count": 28,
     "metadata": {},
     "output_type": "execute_result"
    }
   ],
   "source": [
    "df_conc['year'].max(), df_test['dates'].dt.year.max()"
   ]
  },
  {
   "cell_type": "code",
   "execution_count": 29,
   "metadata": {
    "ExecuteTime": {
     "end_time": "2021-03-16T08:21:32.415679Z",
     "start_time": "2021-03-16T08:21:32.395083Z"
    }
   },
   "outputs": [
    {
     "name": "stderr",
     "output_type": "stream",
     "text": [
      "/opt/tljh/user/lib/python3.7/site-packages/ipykernel_launcher.py:3: FutureWarning: Series.dt.weekofyear and Series.dt.week have been deprecated.  Please use Series.dt.isocalendar().week instead.\n",
      "  This is separate from the ipykernel package so we can avoid doing imports until\n"
     ]
    },
    {
     "data": {
      "text/plain": [
       "(52, 52)"
      ]
     },
     "execution_count": 29,
     "metadata": {},
     "output_type": "execute_result"
    }
   ],
   "source": [
    "(\n",
    "    df_conc[df_conc['year'] == 2019]['week_num'].max(),\n",
    "    df_test[df_test['dates'].dt.year == 2019]['dates'].dt.week.max(),\n",
    ")"
   ]
  },
  {
   "cell_type": "code",
   "execution_count": 30,
   "metadata": {
    "ExecuteTime": {
     "end_time": "2021-03-16T08:21:32.426501Z",
     "start_time": "2021-03-16T08:21:32.418856Z"
    }
   },
   "outputs": [
    {
     "data": {
      "text/plain": [
       "46"
      ]
     },
     "execution_count": 30,
     "metadata": {},
     "output_type": "execute_result"
    }
   ],
   "source": [
    "df_sku_dict['ui1_code'].nunique()"
   ]
  },
  {
   "cell_type": "code",
   "execution_count": 31,
   "metadata": {
    "ExecuteTime": {
     "end_time": "2021-03-16T08:21:32.442684Z",
     "start_time": "2021-03-16T08:21:32.431237Z"
    }
   },
   "outputs": [
    {
     "data": {
      "text/plain": [
       "10000"
      ]
     },
     "execution_count": 31,
     "metadata": {},
     "output_type": "execute_result"
    }
   ],
   "source": [
    "df_sku_dict['sku_id'].nunique()"
   ]
  },
  {
   "cell_type": "code",
   "execution_count": 32,
   "metadata": {
    "ExecuteTime": {
     "end_time": "2021-03-16T08:21:32.457826Z",
     "start_time": "2021-03-16T08:21:32.445465Z"
    }
   },
   "outputs": [
    {
     "data": {
      "text/plain": [
       "25"
      ]
     },
     "execution_count": 32,
     "metadata": {},
     "output_type": "execute_result"
    }
   ],
   "source": [
    "len(set(df_sku_dict['sku_id'].unique()).intersection(set(df_concated['SKU'].unique())))"
   ]
  },
  {
   "cell_type": "code",
   "execution_count": 33,
   "metadata": {
    "ExecuteTime": {
     "end_time": "2021-03-16T08:21:32.466822Z",
     "start_time": "2021-03-16T08:21:32.460188Z"
    }
   },
   "outputs": [
    {
     "data": {
      "text/plain": [
       "109"
      ]
     },
     "execution_count": 33,
     "metadata": {},
     "output_type": "execute_result"
    }
   ],
   "source": [
    "df_sku_dict['ui2_code'].nunique()"
   ]
  },
  {
   "cell_type": "code",
   "execution_count": 34,
   "metadata": {
    "ExecuteTime": {
     "end_time": "2021-03-16T08:21:32.474781Z",
     "start_time": "2021-03-16T08:21:32.469158Z"
    }
   },
   "outputs": [
    {
     "data": {
      "text/plain": [
       "804"
      ]
     },
     "execution_count": 34,
     "metadata": {},
     "output_type": "execute_result"
    }
   ],
   "source": [
    "df_sku_dict['ui3_code'].nunique()"
   ]
  },
  {
   "cell_type": "code",
   "execution_count": 35,
   "metadata": {
    "ExecuteTime": {
     "end_time": "2021-03-16T08:21:33.048057Z",
     "start_time": "2021-03-16T08:21:32.477437Z"
    },
    "scrolled": true
   },
   "outputs": [
    {
     "data": {
      "image/png": "[encoded data removed]",
      "text/plain": [
       "<Figure size 1080x360 with 1 Axes>"
      ]
     },
     "metadata": {
      "needs_background": "light"
     },
     "output_type": "display_data"
    }
   ],
   "source": [
    "df_ui_grouped = ( \n",
    "    df_sku_dict\n",
    "    .groupby('ui1_code', as_index=False)\n",
    "    .agg(count_sku=('sku_id', lambda x: x.nunique()))\n",
    ")\n",
    "_ = plt.figure(figsize=(15, 5))\n",
    "sns.barplot(x='ui1_code', y='count_sku', data=df_ui_grouped)\n",
    "_ = plt.xticks(rotation=90)"
   ]
  },
  {
   "cell_type": "code",
   "execution_count": 36,
   "metadata": {
    "ExecuteTime": {
     "end_time": "2021-03-16T08:21:34.395922Z",
     "start_time": "2021-03-16T08:21:33.050428Z"
    },
    "scrolled": true
   },
   "outputs": [
    {
     "data": {
      "image/png": "[encoded data removed]",
      "text/plain": [
       "<Figure size 1296x360 with 1 Axes>"
      ]
     },
     "metadata": {
      "needs_background": "light"
     },
     "output_type": "display_data"
    }
   ],
   "source": [
    "df_ui_grouped = ( \n",
    "    df_sku_dict\n",
    "    .groupby('ui2_code', as_index=False)\n",
    "    .agg(count_sku=('sku_id', lambda x: x.nunique()))\n",
    "    .assign(ui1_code=lambda X: X['ui2_code'].str[:3])\n",
    "    .sort_values('ui2_code')\n",
    ")\n",
    "_ = plt.figure(figsize=(18, 5))\n",
    "sns.barplot(x='ui2_code', y='count_sku', data=df_ui_grouped)\n",
    "_ = plt.xticks(rotation=90)"
   ]
  },
  {
   "cell_type": "code",
   "execution_count": 37,
   "metadata": {
    "ExecuteTime": {
     "end_time": "2021-03-16T08:21:34.408524Z",
     "start_time": "2021-03-16T08:21:34.398060Z"
    }
   },
   "outputs": [
    {
     "data": {
      "text/plain": [
       "(25,\n",
       " array(['A10001', 'BLW9FG', '7I77VL', '4HJSP5', 'JSOSD5', 'VWHZMG',\n",
       "        '2CI2A8', 'GVL335', 'SJP384', 'LDLJFP', 'B4TA32', 'FI3ASO',\n",
       "        'SHL570', '71SM2O', 'TJYT3A', 'UEYMBB', 'T9BUA7', 'H2OK0Z',\n",
       "        'AWD3XQ', 'CHQKSO', 'AO59EQ', '3GFIMK', 'UH2WWF', '4O4WSH',\n",
       "        'VZ44WY'], dtype=object))"
      ]
     },
     "execution_count": 37,
     "metadata": {},
     "output_type": "execute_result"
    }
   ],
   "source": [
    "df_sku_dict['vendor'].nunique(), df_sku_dict['vendor'].unique()"
   ]
  },
  {
   "cell_type": "code",
   "execution_count": 38,
   "metadata": {
    "ExecuteTime": {
     "end_time": "2021-03-16T08:21:34.427160Z",
     "start_time": "2021-03-16T08:21:34.413293Z"
    }
   },
   "outputs": [
    {
     "data": {
      "text/plain": [
       "(63,\n",
       " array(['A1000001', '484JDFU5', 'MMC2P4Y3', '8FYENEWM', 'YTE7JS4H',\n",
       "        'O0Q22TYD', '1VPSWMTF', '52JETVXH', 'FJMH9IG1', '4LU3GS87',\n",
       "        'Z7FUX49S', '5XUYK688', 'HDHOCYPD', 'KU7Q9EM1', 'UEKGPFHF',\n",
       "        'O8WJHL4Q', 'F87SIC0N', 'LNOTDGF7', '3P2I0S6S', 'THSTSG81',\n",
       "        '4WL34OA2', '9XGMSC3X', 'VMB2NPY2', '8QJHUA65', '38HT8FNL',\n",
       "        'J8XKU94W', '9J3MMTSQ', '8TMVJREA', '25T5WNRI', 'WKXRWTP7',\n",
       "        'H0PQ4U24', '5QQF7PWJ', 'YZ7ES5HU', 'XF98E5PI', 'R36KIEMV',\n",
       "        '5IEJMU4O', 'UWKPEFCJ', '6VU0IOUP', '1F5HYT5P', 'M2LFH9WE',\n",
       "        '3FAIRJ4W', '2XSAI69H', 'W581KQD3', '4P277OU8', 'JXS1Z5D7',\n",
       "        'H01VAI1S', 'G6OB30M4', '02Q78ADY', 'VCZNKWIS', 'SKXXW8V9',\n",
       "        'UJWSTGEH', '72PNE8FJ', '20SL2XLU', 'Z4ZXJ8UY', 'GS4NPH2K',\n",
       "        'N2CAIPJF', 'JK4UKBI2', '28V0149U', 'AXB8H17D', 'Q6NGRHUA',\n",
       "        '79VL731U', '74CKJ9XQ', 'H1BWFJRN'], dtype=object))"
      ]
     },
     "execution_count": 38,
     "metadata": {},
     "output_type": "execute_result"
    }
   ],
   "source": [
    "df_sku_dict['brand_code'].nunique(), df_sku_dict['brand_code'].unique()"
   ]
  },
  {
   "cell_type": "markdown",
   "metadata": {},
   "source": [
    "# Готовим данные"
   ]
  },
  {
   "cell_type": "code",
   "execution_count": 39,
   "metadata": {
    "ExecuteTime": {
     "end_time": "2021-03-16T08:21:34.455750Z",
     "start_time": "2021-03-16T08:21:34.430579Z"
    }
   },
   "outputs": [
    {
     "name": "stdout",
     "output_type": "stream",
     "text": [
      "<class 'pandas.core.frame.DataFrame'>\n",
      "Int64Index: 6950 entries, 583 to 6781\n",
      "Data columns (total 6 columns):\n",
      " #   Column         Non-Null Count  Dtype         \n",
      "---  ------         --------------  -----         \n",
      " 0   dates          6950 non-null   datetime64[ns]\n",
      " 1   SKU            6950 non-null   int64         \n",
      " 2   price_per_sku  6699 non-null   float64       \n",
      " 3   num_purchases  6775 non-null   float64       \n",
      " 4   group          6775 non-null   object        \n",
      " 5   sample         6950 non-null   object        \n",
      "dtypes: datetime64[ns](1), float64(2), int64(1), object(2)\n",
      "memory usage: 380.1+ KB\n"
     ]
    }
   ],
   "source": [
    "df_whole = pd.concat(\n",
    "    [\n",
    "        df_concated.assign(sample='train'),\n",
    "        df_test.assign(sample='test'),\n",
    "    ],\n",
    "    ignore_index=True,\n",
    ")\n",
    "df_whole = df_whole.sort_values(['SKU', 'price_per_sku'])\n",
    "df_whole.info()"
   ]
  },
  {
   "cell_type": "code",
   "execution_count": 40,
   "metadata": {
    "ExecuteTime": {
     "end_time": "2021-03-16T08:21:34.471376Z",
     "start_time": "2021-03-16T08:21:34.459552Z"
    }
   },
   "outputs": [],
   "source": [
    "mask = df_whole['sample'] == 'train'\n",
    "df_whole.loc[mask, 'price_per_sku'] = df_whole.loc[mask, 'price_per_sku'].fillna(method='ffill')"
   ]
  },
  {
   "cell_type": "code",
   "execution_count": 41,
   "metadata": {
    "ExecuteTime": {
     "end_time": "2021-03-16T08:21:34.482173Z",
     "start_time": "2021-03-16T08:21:34.474532Z"
    }
   },
   "outputs": [
    {
     "data": {
      "text/plain": [
       "0"
      ]
     },
     "execution_count": 41,
     "metadata": {},
     "output_type": "execute_result"
    }
   ],
   "source": [
    "df_whole.loc[mask, 'price_per_sku'].isna().sum()"
   ]
  },
  {
   "cell_type": "code",
   "execution_count": 42,
   "metadata": {
    "ExecuteTime": {
     "end_time": "2021-03-16T08:21:34.524501Z",
     "start_time": "2021-03-16T08:21:34.484573Z"
    }
   },
   "outputs": [
    {
     "data": {
      "text/html": [
       "<div>\n",
       "<style scoped>\n",
       "    .dataframe tbody tr th:only-of-type {\n",
       "        vertical-align: middle;\n",
       "    }\n",
       "\n",
       "    .dataframe tbody tr th {\n",
       "        vertical-align: top;\n",
       "    }\n",
       "\n",
       "    .dataframe thead th {\n",
       "        text-align: right;\n",
       "    }\n",
       "</style>\n",
       "<table border=\"1\" class=\"dataframe\">\n",
       "  <thead>\n",
       "    <tr style=\"text-align: right;\">\n",
       "      <th></th>\n",
       "      <th>dates</th>\n",
       "      <th>SKU</th>\n",
       "      <th>price_per_sku</th>\n",
       "      <th>num_purchases</th>\n",
       "      <th>group</th>\n",
       "      <th>sample</th>\n",
       "      <th>lag_1_price_per_sku</th>\n",
       "      <th>lag_2_price_per_sku</th>\n",
       "      <th>lag_3_price_per_sku</th>\n",
       "      <th>lag_4_price_per_sku</th>\n",
       "      <th>lag_5_price_per_sku</th>\n",
       "      <th>lag_6_price_per_sku</th>\n",
       "      <th>lag_7_price_per_sku</th>\n",
       "      <th>lag_8_price_per_sku</th>\n",
       "      <th>lag_9_price_per_sku</th>\n",
       "      <th>lag_10_price_per_sku</th>\n",
       "      <th>lag_11_price_per_sku</th>\n",
       "    </tr>\n",
       "  </thead>\n",
       "  <tbody>\n",
       "    <tr>\n",
       "      <th>583</th>\n",
       "      <td>2019-07-22</td>\n",
       "      <td>10334</td>\n",
       "      <td>79.1504</td>\n",
       "      <td>14.0</td>\n",
       "      <td>second</td>\n",
       "      <td>train</td>\n",
       "      <td>NaN</td>\n",
       "      <td>NaN</td>\n",
       "      <td>NaN</td>\n",
       "      <td>NaN</td>\n",
       "      <td>NaN</td>\n",
       "      <td>NaN</td>\n",
       "      <td>NaN</td>\n",
       "      <td>NaN</td>\n",
       "      <td>NaN</td>\n",
       "      <td>NaN</td>\n",
       "      <td>NaN</td>\n",
       "    </tr>\n",
       "    <tr>\n",
       "      <th>584</th>\n",
       "      <td>2019-07-23</td>\n",
       "      <td>10334</td>\n",
       "      <td>79.1504</td>\n",
       "      <td>12.0</td>\n",
       "      <td>second</td>\n",
       "      <td>train</td>\n",
       "      <td>79.1504</td>\n",
       "      <td>NaN</td>\n",
       "      <td>NaN</td>\n",
       "      <td>NaN</td>\n",
       "      <td>NaN</td>\n",
       "      <td>NaN</td>\n",
       "      <td>NaN</td>\n",
       "      <td>NaN</td>\n",
       "      <td>NaN</td>\n",
       "      <td>NaN</td>\n",
       "      <td>NaN</td>\n",
       "    </tr>\n",
       "    <tr>\n",
       "      <th>585</th>\n",
       "      <td>2019-07-24</td>\n",
       "      <td>10334</td>\n",
       "      <td>79.1504</td>\n",
       "      <td>14.0</td>\n",
       "      <td>second</td>\n",
       "      <td>train</td>\n",
       "      <td>79.1504</td>\n",
       "      <td>79.1504</td>\n",
       "      <td>NaN</td>\n",
       "      <td>NaN</td>\n",
       "      <td>NaN</td>\n",
       "      <td>NaN</td>\n",
       "      <td>NaN</td>\n",
       "      <td>NaN</td>\n",
       "      <td>NaN</td>\n",
       "      <td>NaN</td>\n",
       "      <td>NaN</td>\n",
       "    </tr>\n",
       "    <tr>\n",
       "      <th>586</th>\n",
       "      <td>2019-07-25</td>\n",
       "      <td>10334</td>\n",
       "      <td>79.1504</td>\n",
       "      <td>12.0</td>\n",
       "      <td>second</td>\n",
       "      <td>train</td>\n",
       "      <td>79.1504</td>\n",
       "      <td>79.1504</td>\n",
       "      <td>79.1504</td>\n",
       "      <td>NaN</td>\n",
       "      <td>NaN</td>\n",
       "      <td>NaN</td>\n",
       "      <td>NaN</td>\n",
       "      <td>NaN</td>\n",
       "      <td>NaN</td>\n",
       "      <td>NaN</td>\n",
       "      <td>NaN</td>\n",
       "    </tr>\n",
       "    <tr>\n",
       "      <th>587</th>\n",
       "      <td>2019-07-28</td>\n",
       "      <td>10334</td>\n",
       "      <td>79.1504</td>\n",
       "      <td>15.0</td>\n",
       "      <td>second</td>\n",
       "      <td>train</td>\n",
       "      <td>79.1504</td>\n",
       "      <td>79.1504</td>\n",
       "      <td>79.1504</td>\n",
       "      <td>79.1504</td>\n",
       "      <td>NaN</td>\n",
       "      <td>NaN</td>\n",
       "      <td>NaN</td>\n",
       "      <td>NaN</td>\n",
       "      <td>NaN</td>\n",
       "      <td>NaN</td>\n",
       "      <td>NaN</td>\n",
       "    </tr>\n",
       "  </tbody>\n",
       "</table>\n",
       "</div>"
      ],
      "text/plain": [
       "         dates    SKU  price_per_sku  num_purchases   group sample  \\\n",
       "583 2019-07-22  10334        79.1504           14.0  second  train   \n",
       "584 2019-07-23  10334        79.1504           12.0  second  train   \n",
       "585 2019-07-24  10334        79.1504           14.0  second  train   \n",
       "586 2019-07-25  10334        79.1504           12.0  second  train   \n",
       "587 2019-07-28  10334        79.1504           15.0  second  train   \n",
       "\n",
       "     lag_1_price_per_sku  lag_2_price_per_sku  lag_3_price_per_sku  \\\n",
       "583                  NaN                  NaN                  NaN   \n",
       "584              79.1504                  NaN                  NaN   \n",
       "585              79.1504              79.1504                  NaN   \n",
       "586              79.1504              79.1504              79.1504   \n",
       "587              79.1504              79.1504              79.1504   \n",
       "\n",
       "     lag_4_price_per_sku  lag_5_price_per_sku  lag_6_price_per_sku  \\\n",
       "583                  NaN                  NaN                  NaN   \n",
       "584                  NaN                  NaN                  NaN   \n",
       "585                  NaN                  NaN                  NaN   \n",
       "586                  NaN                  NaN                  NaN   \n",
       "587              79.1504                  NaN                  NaN   \n",
       "\n",
       "     lag_7_price_per_sku  lag_8_price_per_sku  lag_9_price_per_sku  \\\n",
       "583                  NaN                  NaN                  NaN   \n",
       "584                  NaN                  NaN                  NaN   \n",
       "585                  NaN                  NaN                  NaN   \n",
       "586                  NaN                  NaN                  NaN   \n",
       "587                  NaN                  NaN                  NaN   \n",
       "\n",
       "     lag_10_price_per_sku  lag_11_price_per_sku  \n",
       "583                   NaN                   NaN  \n",
       "584                   NaN                   NaN  \n",
       "585                   NaN                   NaN  \n",
       "586                   NaN                   NaN  \n",
       "587                   NaN                   NaN  "
      ]
     },
     "execution_count": 42,
     "metadata": {},
     "output_type": "execute_result"
    }
   ],
   "source": [
    "for n_lag in range(1, 12):\n",
    "    df_whole[f'lag_{n_lag}_price_per_sku'] = df_whole.groupby('SKU')['price_per_sku'].shift(n_lag)\n",
    "df_whole.head()"
   ]
  },
  {
   "cell_type": "code",
   "execution_count": 43,
   "metadata": {
    "ExecuteTime": {
     "end_time": "2021-03-16T08:21:34.557039Z",
     "start_time": "2021-03-16T08:21:34.527763Z"
    }
   },
   "outputs": [
    {
     "data": {
      "text/html": [
       "<div>\n",
       "<style scoped>\n",
       "    .dataframe tbody tr th:only-of-type {\n",
       "        vertical-align: middle;\n",
       "    }\n",
       "\n",
       "    .dataframe tbody tr th {\n",
       "        vertical-align: top;\n",
       "    }\n",
       "\n",
       "    .dataframe thead th {\n",
       "        text-align: right;\n",
       "    }\n",
       "</style>\n",
       "<table border=\"1\" class=\"dataframe\">\n",
       "  <thead>\n",
       "    <tr style=\"text-align: right;\">\n",
       "      <th></th>\n",
       "      <th>dates</th>\n",
       "      <th>SKU</th>\n",
       "      <th>price_per_sku</th>\n",
       "      <th>num_purchases</th>\n",
       "      <th>group</th>\n",
       "      <th>sample</th>\n",
       "      <th>lag_1_price_per_sku</th>\n",
       "      <th>lag_2_price_per_sku</th>\n",
       "      <th>lag_3_price_per_sku</th>\n",
       "      <th>lag_4_price_per_sku</th>\n",
       "      <th>lag_5_price_per_sku</th>\n",
       "      <th>lag_6_price_per_sku</th>\n",
       "      <th>lag_7_price_per_sku</th>\n",
       "      <th>lag_8_price_per_sku</th>\n",
       "      <th>lag_9_price_per_sku</th>\n",
       "      <th>lag_10_price_per_sku</th>\n",
       "      <th>lag_11_price_per_sku</th>\n",
       "    </tr>\n",
       "  </thead>\n",
       "  <tbody>\n",
       "    <tr>\n",
       "      <th>583</th>\n",
       "      <td>2019-07-22</td>\n",
       "      <td>10334</td>\n",
       "      <td>79.1504</td>\n",
       "      <td>14.0</td>\n",
       "      <td>second</td>\n",
       "      <td>train</td>\n",
       "      <td>NaN</td>\n",
       "      <td>NaN</td>\n",
       "      <td>NaN</td>\n",
       "      <td>NaN</td>\n",
       "      <td>NaN</td>\n",
       "      <td>NaN</td>\n",
       "      <td>NaN</td>\n",
       "      <td>NaN</td>\n",
       "      <td>NaN</td>\n",
       "      <td>NaN</td>\n",
       "      <td>NaN</td>\n",
       "    </tr>\n",
       "    <tr>\n",
       "      <th>584</th>\n",
       "      <td>2019-07-23</td>\n",
       "      <td>10334</td>\n",
       "      <td>79.1504</td>\n",
       "      <td>12.0</td>\n",
       "      <td>second</td>\n",
       "      <td>train</td>\n",
       "      <td>79.1504</td>\n",
       "      <td>NaN</td>\n",
       "      <td>NaN</td>\n",
       "      <td>NaN</td>\n",
       "      <td>NaN</td>\n",
       "      <td>NaN</td>\n",
       "      <td>NaN</td>\n",
       "      <td>NaN</td>\n",
       "      <td>NaN</td>\n",
       "      <td>NaN</td>\n",
       "      <td>NaN</td>\n",
       "    </tr>\n",
       "    <tr>\n",
       "      <th>585</th>\n",
       "      <td>2019-07-24</td>\n",
       "      <td>10334</td>\n",
       "      <td>79.1504</td>\n",
       "      <td>14.0</td>\n",
       "      <td>second</td>\n",
       "      <td>train</td>\n",
       "      <td>79.1504</td>\n",
       "      <td>79.1504</td>\n",
       "      <td>NaN</td>\n",
       "      <td>NaN</td>\n",
       "      <td>NaN</td>\n",
       "      <td>NaN</td>\n",
       "      <td>NaN</td>\n",
       "      <td>NaN</td>\n",
       "      <td>NaN</td>\n",
       "      <td>NaN</td>\n",
       "      <td>NaN</td>\n",
       "    </tr>\n",
       "    <tr>\n",
       "      <th>586</th>\n",
       "      <td>2019-07-25</td>\n",
       "      <td>10334</td>\n",
       "      <td>79.1504</td>\n",
       "      <td>12.0</td>\n",
       "      <td>second</td>\n",
       "      <td>train</td>\n",
       "      <td>79.1504</td>\n",
       "      <td>79.1504</td>\n",
       "      <td>79.1504</td>\n",
       "      <td>NaN</td>\n",
       "      <td>NaN</td>\n",
       "      <td>NaN</td>\n",
       "      <td>NaN</td>\n",
       "      <td>NaN</td>\n",
       "      <td>NaN</td>\n",
       "      <td>NaN</td>\n",
       "      <td>NaN</td>\n",
       "    </tr>\n",
       "    <tr>\n",
       "      <th>587</th>\n",
       "      <td>2019-07-28</td>\n",
       "      <td>10334</td>\n",
       "      <td>79.1504</td>\n",
       "      <td>15.0</td>\n",
       "      <td>second</td>\n",
       "      <td>train</td>\n",
       "      <td>79.1504</td>\n",
       "      <td>79.1504</td>\n",
       "      <td>79.1504</td>\n",
       "      <td>79.1504</td>\n",
       "      <td>NaN</td>\n",
       "      <td>NaN</td>\n",
       "      <td>NaN</td>\n",
       "      <td>NaN</td>\n",
       "      <td>NaN</td>\n",
       "      <td>NaN</td>\n",
       "      <td>NaN</td>\n",
       "    </tr>\n",
       "  </tbody>\n",
       "</table>\n",
       "</div>"
      ],
      "text/plain": [
       "         dates    SKU  price_per_sku  num_purchases   group sample  \\\n",
       "583 2019-07-22  10334        79.1504           14.0  second  train   \n",
       "584 2019-07-23  10334        79.1504           12.0  second  train   \n",
       "585 2019-07-24  10334        79.1504           14.0  second  train   \n",
       "586 2019-07-25  10334        79.1504           12.0  second  train   \n",
       "587 2019-07-28  10334        79.1504           15.0  second  train   \n",
       "\n",
       "     lag_1_price_per_sku  lag_2_price_per_sku  lag_3_price_per_sku  \\\n",
       "583                  NaN                  NaN                  NaN   \n",
       "584              79.1504                  NaN                  NaN   \n",
       "585              79.1504              79.1504                  NaN   \n",
       "586              79.1504              79.1504              79.1504   \n",
       "587              79.1504              79.1504              79.1504   \n",
       "\n",
       "     lag_4_price_per_sku  lag_5_price_per_sku  lag_6_price_per_sku  \\\n",
       "583                  NaN                  NaN                  NaN   \n",
       "584                  NaN                  NaN                  NaN   \n",
       "585                  NaN                  NaN                  NaN   \n",
       "586                  NaN                  NaN                  NaN   \n",
       "587              79.1504                  NaN                  NaN   \n",
       "\n",
       "     lag_7_price_per_sku  lag_8_price_per_sku  lag_9_price_per_sku  \\\n",
       "583                  NaN                  NaN                  NaN   \n",
       "584                  NaN                  NaN                  NaN   \n",
       "585                  NaN                  NaN                  NaN   \n",
       "586                  NaN                  NaN                  NaN   \n",
       "587                  NaN                  NaN                  NaN   \n",
       "\n",
       "     lag_10_price_per_sku  lag_11_price_per_sku  \n",
       "583                   NaN                   NaN  \n",
       "584                   NaN                   NaN  \n",
       "585                   NaN                   NaN  \n",
       "586                   NaN                   NaN  \n",
       "587                   NaN                   NaN  "
      ]
     },
     "execution_count": 43,
     "metadata": {},
     "output_type": "execute_result"
    }
   ],
   "source": [
    "df_whole[df_whole['SKU'] == 10334].head()"
   ]
  },
  {
   "cell_type": "code",
   "execution_count": 44,
   "metadata": {
    "ExecuteTime": {
     "end_time": "2021-03-16T08:21:34.599838Z",
     "start_time": "2021-03-16T08:21:34.563051Z"
    }
   },
   "outputs": [
    {
     "data": {
      "text/html": [
       "<div>\n",
       "<style scoped>\n",
       "    .dataframe tbody tr th:only-of-type {\n",
       "        vertical-align: middle;\n",
       "    }\n",
       "\n",
       "    .dataframe tbody tr th {\n",
       "        vertical-align: top;\n",
       "    }\n",
       "\n",
       "    .dataframe thead th {\n",
       "        text-align: right;\n",
       "    }\n",
       "</style>\n",
       "<table border=\"1\" class=\"dataframe\">\n",
       "  <thead>\n",
       "    <tr style=\"text-align: right;\">\n",
       "      <th></th>\n",
       "      <th>dates</th>\n",
       "      <th>SKU</th>\n",
       "      <th>price_per_sku</th>\n",
       "      <th>num_purchases</th>\n",
       "      <th>group</th>\n",
       "      <th>sample</th>\n",
       "      <th>lag_1_price_per_sku</th>\n",
       "      <th>lag_2_price_per_sku</th>\n",
       "      <th>lag_3_price_per_sku</th>\n",
       "      <th>lag_4_price_per_sku</th>\n",
       "      <th>lag_5_price_per_sku</th>\n",
       "      <th>lag_6_price_per_sku</th>\n",
       "      <th>lag_7_price_per_sku</th>\n",
       "      <th>lag_8_price_per_sku</th>\n",
       "      <th>lag_9_price_per_sku</th>\n",
       "      <th>lag_10_price_per_sku</th>\n",
       "      <th>lag_11_price_per_sku</th>\n",
       "    </tr>\n",
       "  </thead>\n",
       "  <tbody>\n",
       "    <tr>\n",
       "      <th>6864</th>\n",
       "      <td>2019-12-25</td>\n",
       "      <td>10334</td>\n",
       "      <td>NaN</td>\n",
       "      <td>NaN</td>\n",
       "      <td>NaN</td>\n",
       "      <td>test</td>\n",
       "      <td>102.781</td>\n",
       "      <td>102.781</td>\n",
       "      <td>102.781</td>\n",
       "      <td>102.781</td>\n",
       "      <td>102.214</td>\n",
       "      <td>102.214</td>\n",
       "      <td>102.214</td>\n",
       "      <td>102.214</td>\n",
       "      <td>101.976</td>\n",
       "      <td>101.976</td>\n",
       "      <td>101.976</td>\n",
       "    </tr>\n",
       "    <tr>\n",
       "      <th>6871</th>\n",
       "      <td>2019-12-26</td>\n",
       "      <td>10334</td>\n",
       "      <td>NaN</td>\n",
       "      <td>NaN</td>\n",
       "      <td>NaN</td>\n",
       "      <td>test</td>\n",
       "      <td>NaN</td>\n",
       "      <td>102.781</td>\n",
       "      <td>102.781</td>\n",
       "      <td>102.781</td>\n",
       "      <td>102.781</td>\n",
       "      <td>102.214</td>\n",
       "      <td>102.214</td>\n",
       "      <td>102.214</td>\n",
       "      <td>102.214</td>\n",
       "      <td>101.976</td>\n",
       "      <td>101.976</td>\n",
       "    </tr>\n",
       "    <tr>\n",
       "      <th>6894</th>\n",
       "      <td>2019-12-27</td>\n",
       "      <td>10334</td>\n",
       "      <td>NaN</td>\n",
       "      <td>NaN</td>\n",
       "      <td>NaN</td>\n",
       "      <td>test</td>\n",
       "      <td>NaN</td>\n",
       "      <td>NaN</td>\n",
       "      <td>102.781</td>\n",
       "      <td>102.781</td>\n",
       "      <td>102.781</td>\n",
       "      <td>102.781</td>\n",
       "      <td>102.214</td>\n",
       "      <td>102.214</td>\n",
       "      <td>102.214</td>\n",
       "      <td>102.214</td>\n",
       "      <td>101.976</td>\n",
       "    </tr>\n",
       "    <tr>\n",
       "      <th>6905</th>\n",
       "      <td>2019-12-28</td>\n",
       "      <td>10334</td>\n",
       "      <td>NaN</td>\n",
       "      <td>NaN</td>\n",
       "      <td>NaN</td>\n",
       "      <td>test</td>\n",
       "      <td>NaN</td>\n",
       "      <td>NaN</td>\n",
       "      <td>NaN</td>\n",
       "      <td>102.781</td>\n",
       "      <td>102.781</td>\n",
       "      <td>102.781</td>\n",
       "      <td>102.781</td>\n",
       "      <td>102.214</td>\n",
       "      <td>102.214</td>\n",
       "      <td>102.214</td>\n",
       "      <td>102.214</td>\n",
       "    </tr>\n",
       "    <tr>\n",
       "      <th>6916</th>\n",
       "      <td>2019-12-29</td>\n",
       "      <td>10334</td>\n",
       "      <td>NaN</td>\n",
       "      <td>NaN</td>\n",
       "      <td>NaN</td>\n",
       "      <td>test</td>\n",
       "      <td>NaN</td>\n",
       "      <td>NaN</td>\n",
       "      <td>NaN</td>\n",
       "      <td>NaN</td>\n",
       "      <td>102.781</td>\n",
       "      <td>102.781</td>\n",
       "      <td>102.781</td>\n",
       "      <td>102.781</td>\n",
       "      <td>102.214</td>\n",
       "      <td>102.214</td>\n",
       "      <td>102.214</td>\n",
       "    </tr>\n",
       "    <tr>\n",
       "      <th>6929</th>\n",
       "      <td>2019-12-30</td>\n",
       "      <td>10334</td>\n",
       "      <td>NaN</td>\n",
       "      <td>NaN</td>\n",
       "      <td>NaN</td>\n",
       "      <td>test</td>\n",
       "      <td>NaN</td>\n",
       "      <td>NaN</td>\n",
       "      <td>NaN</td>\n",
       "      <td>NaN</td>\n",
       "      <td>NaN</td>\n",
       "      <td>102.781</td>\n",
       "      <td>102.781</td>\n",
       "      <td>102.781</td>\n",
       "      <td>102.781</td>\n",
       "      <td>102.214</td>\n",
       "      <td>102.214</td>\n",
       "    </tr>\n",
       "    <tr>\n",
       "      <th>6943</th>\n",
       "      <td>2019-12-31</td>\n",
       "      <td>10334</td>\n",
       "      <td>NaN</td>\n",
       "      <td>NaN</td>\n",
       "      <td>NaN</td>\n",
       "      <td>test</td>\n",
       "      <td>NaN</td>\n",
       "      <td>NaN</td>\n",
       "      <td>NaN</td>\n",
       "      <td>NaN</td>\n",
       "      <td>NaN</td>\n",
       "      <td>NaN</td>\n",
       "      <td>102.781</td>\n",
       "      <td>102.781</td>\n",
       "      <td>102.781</td>\n",
       "      <td>102.781</td>\n",
       "      <td>102.214</td>\n",
       "    </tr>\n",
       "  </tbody>\n",
       "</table>\n",
       "</div>"
      ],
      "text/plain": [
       "          dates    SKU  price_per_sku  num_purchases group sample  \\\n",
       "6864 2019-12-25  10334            NaN            NaN   NaN   test   \n",
       "6871 2019-12-26  10334            NaN            NaN   NaN   test   \n",
       "6894 2019-12-27  10334            NaN            NaN   NaN   test   \n",
       "6905 2019-12-28  10334            NaN            NaN   NaN   test   \n",
       "6916 2019-12-29  10334            NaN            NaN   NaN   test   \n",
       "6929 2019-12-30  10334            NaN            NaN   NaN   test   \n",
       "6943 2019-12-31  10334            NaN            NaN   NaN   test   \n",
       "\n",
       "      lag_1_price_per_sku  lag_2_price_per_sku  lag_3_price_per_sku  \\\n",
       "6864              102.781              102.781              102.781   \n",
       "6871                  NaN              102.781              102.781   \n",
       "6894                  NaN                  NaN              102.781   \n",
       "6905                  NaN                  NaN                  NaN   \n",
       "6916                  NaN                  NaN                  NaN   \n",
       "6929                  NaN                  NaN                  NaN   \n",
       "6943                  NaN                  NaN                  NaN   \n",
       "\n",
       "      lag_4_price_per_sku  lag_5_price_per_sku  lag_6_price_per_sku  \\\n",
       "6864              102.781              102.214              102.214   \n",
       "6871              102.781              102.781              102.214   \n",
       "6894              102.781              102.781              102.781   \n",
       "6905              102.781              102.781              102.781   \n",
       "6916                  NaN              102.781              102.781   \n",
       "6929                  NaN                  NaN              102.781   \n",
       "6943                  NaN                  NaN                  NaN   \n",
       "\n",
       "      lag_7_price_per_sku  lag_8_price_per_sku  lag_9_price_per_sku  \\\n",
       "6864              102.214              102.214              101.976   \n",
       "6871              102.214              102.214              102.214   \n",
       "6894              102.214              102.214              102.214   \n",
       "6905              102.781              102.214              102.214   \n",
       "6916              102.781              102.781              102.214   \n",
       "6929              102.781              102.781              102.781   \n",
       "6943              102.781              102.781              102.781   \n",
       "\n",
       "      lag_10_price_per_sku  lag_11_price_per_sku  \n",
       "6864               101.976               101.976  \n",
       "6871               101.976               101.976  \n",
       "6894               102.214               101.976  \n",
       "6905               102.214               102.214  \n",
       "6916               102.214               102.214  \n",
       "6929               102.214               102.214  \n",
       "6943               102.781               102.214  "
      ]
     },
     "execution_count": 44,
     "metadata": {},
     "output_type": "execute_result"
    }
   ],
   "source": [
    "df_whole[df_whole['SKU'] == 10334].tail(7)"
   ]
  },
  {
   "cell_type": "code",
   "execution_count": 45,
   "metadata": {
    "ExecuteTime": {
     "end_time": "2021-03-16T08:21:34.622271Z",
     "start_time": "2021-03-16T08:21:34.602552Z"
    }
   },
   "outputs": [
    {
     "data": {
      "text/plain": [
       "SKU\n",
       "10334    second\n",
       "11050     third\n",
       "17812    second\n",
       "19632     third\n",
       "24125     third\n",
       "Name: map_, dtype: object"
      ]
     },
     "execution_count": 45,
     "metadata": {},
     "output_type": "execute_result"
    }
   ],
   "source": [
    "ss_mapping = (\n",
    "    df_whole\n",
    "    .groupby('SKU')\n",
    "    .agg(map_=('group', lambda x: list(x.unique())[0]))\n",
    "    .loc[:, 'map_']\n",
    ")\n",
    "ss_mapping.head()"
   ]
  },
  {
   "cell_type": "code",
   "execution_count": 46,
   "metadata": {
    "ExecuteTime": {
     "end_time": "2021-03-16T08:21:34.635781Z",
     "start_time": "2021-03-16T08:21:34.624369Z"
    }
   },
   "outputs": [
    {
     "data": {
      "text/plain": [
       "second    91\n",
       "third     70\n",
       "first     14\n",
       "Name: group, dtype: int64"
      ]
     },
     "execution_count": 46,
     "metadata": {},
     "output_type": "execute_result"
    }
   ],
   "source": [
    "mask = df_whole['sample'] == 'test'\n",
    "df_whole.loc[mask, 'group'] = df_whole.loc[mask, 'SKU'].map(ss_mapping)\n",
    "df_whole.loc[mask, 'group'].value_counts(dropna=False)"
   ]
  },
  {
   "cell_type": "code",
   "execution_count": 47,
   "metadata": {
    "ExecuteTime": {
     "end_time": "2021-03-16T08:21:34.646517Z",
     "start_time": "2021-03-16T08:21:34.638338Z"
    }
   },
   "outputs": [],
   "source": [
    "df_whole['SKU'] = df_whole['SKU'].astype('category')\n",
    "df_whole['group'] = df_whole['group'].astype('category')\n",
    "df_whole['sample'] = df_whole['sample'].astype('category')"
   ]
  },
  {
   "cell_type": "markdown",
   "metadata": {},
   "source": [
    "# Строим бэйзлайн"
   ]
  },
  {
   "cell_type": "code",
   "execution_count": 48,
   "metadata": {
    "ExecuteTime": {
     "end_time": "2021-03-16T08:21:34.660569Z",
     "start_time": "2021-03-16T08:21:34.648581Z"
    }
   },
   "outputs": [
    {
     "data": {
      "text/plain": [
       "(6775, 11)"
      ]
     },
     "execution_count": 48,
     "metadata": {},
     "output_type": "execute_result"
    }
   ],
   "source": [
    "list_drop_columns = [\n",
    "    'dates',\n",
    "    'SKU',\n",
    "    'price_per_sku',\n",
    "    'num_purchases',\n",
    "    'group',\n",
    "    'sample',\n",
    "]\n",
    "mask = df_whole['sample'] == 'train'\n",
    "X = df_whole.loc[mask, :].drop(columns=list_drop_columns)\n",
    "y = df_whole.loc[mask, 'price_per_sku']\n",
    "X.shape"
   ]
  },
  {
   "cell_type": "code",
   "execution_count": 49,
   "metadata": {
    "ExecuteTime": {
     "end_time": "2021-03-16T08:21:34.720807Z",
     "start_time": "2021-03-16T08:21:34.662728Z"
    },
    "scrolled": true
   },
   "outputs": [
    {
     "data": {
      "text/html": [
       "<div>\n",
       "<style scoped>\n",
       "    .dataframe tbody tr th:only-of-type {\n",
       "        vertical-align: middle;\n",
       "    }\n",
       "\n",
       "    .dataframe tbody tr th {\n",
       "        vertical-align: top;\n",
       "    }\n",
       "\n",
       "    .dataframe thead th {\n",
       "        text-align: right;\n",
       "    }\n",
       "</style>\n",
       "<table border=\"1\" class=\"dataframe\">\n",
       "  <thead>\n",
       "    <tr style=\"text-align: right;\">\n",
       "      <th></th>\n",
       "      <th>dates</th>\n",
       "      <th>SKU</th>\n",
       "      <th>price_per_sku</th>\n",
       "      <th>num_purchases</th>\n",
       "      <th>group</th>\n",
       "      <th>sample</th>\n",
       "      <th>lag_1_price_per_sku</th>\n",
       "      <th>lag_2_price_per_sku</th>\n",
       "      <th>lag_3_price_per_sku</th>\n",
       "      <th>lag_4_price_per_sku</th>\n",
       "      <th>lag_5_price_per_sku</th>\n",
       "      <th>lag_6_price_per_sku</th>\n",
       "      <th>lag_7_price_per_sku</th>\n",
       "      <th>lag_8_price_per_sku</th>\n",
       "      <th>lag_9_price_per_sku</th>\n",
       "      <th>lag_10_price_per_sku</th>\n",
       "      <th>lag_11_price_per_sku</th>\n",
       "      <th>q_for_split</th>\n",
       "    </tr>\n",
       "  </thead>\n",
       "  <tbody>\n",
       "    <tr>\n",
       "      <th>583</th>\n",
       "      <td>2019-07-22</td>\n",
       "      <td>10334</td>\n",
       "      <td>79.1504</td>\n",
       "      <td>14.0</td>\n",
       "      <td>second</td>\n",
       "      <td>train</td>\n",
       "      <td>NaN</td>\n",
       "      <td>NaN</td>\n",
       "      <td>NaN</td>\n",
       "      <td>NaN</td>\n",
       "      <td>NaN</td>\n",
       "      <td>NaN</td>\n",
       "      <td>NaN</td>\n",
       "      <td>NaN</td>\n",
       "      <td>NaN</td>\n",
       "      <td>NaN</td>\n",
       "      <td>NaN</td>\n",
       "      <td>2019-06-24 19:12:00</td>\n",
       "    </tr>\n",
       "    <tr>\n",
       "      <th>584</th>\n",
       "      <td>2019-07-23</td>\n",
       "      <td>10334</td>\n",
       "      <td>79.1504</td>\n",
       "      <td>12.0</td>\n",
       "      <td>second</td>\n",
       "      <td>train</td>\n",
       "      <td>79.1504</td>\n",
       "      <td>NaN</td>\n",
       "      <td>NaN</td>\n",
       "      <td>NaN</td>\n",
       "      <td>NaN</td>\n",
       "      <td>NaN</td>\n",
       "      <td>NaN</td>\n",
       "      <td>NaN</td>\n",
       "      <td>NaN</td>\n",
       "      <td>NaN</td>\n",
       "      <td>NaN</td>\n",
       "      <td>2019-06-24 19:12:00</td>\n",
       "    </tr>\n",
       "    <tr>\n",
       "      <th>585</th>\n",
       "      <td>2019-07-24</td>\n",
       "      <td>10334</td>\n",
       "      <td>79.1504</td>\n",
       "      <td>14.0</td>\n",
       "      <td>second</td>\n",
       "      <td>train</td>\n",
       "      <td>79.1504</td>\n",
       "      <td>79.1504</td>\n",
       "      <td>NaN</td>\n",
       "      <td>NaN</td>\n",
       "      <td>NaN</td>\n",
       "      <td>NaN</td>\n",
       "      <td>NaN</td>\n",
       "      <td>NaN</td>\n",
       "      <td>NaN</td>\n",
       "      <td>NaN</td>\n",
       "      <td>NaN</td>\n",
       "      <td>2019-06-24 19:12:00</td>\n",
       "    </tr>\n",
       "    <tr>\n",
       "      <th>586</th>\n",
       "      <td>2019-07-25</td>\n",
       "      <td>10334</td>\n",
       "      <td>79.1504</td>\n",
       "      <td>12.0</td>\n",
       "      <td>second</td>\n",
       "      <td>train</td>\n",
       "      <td>79.1504</td>\n",
       "      <td>79.1504</td>\n",
       "      <td>79.1504</td>\n",
       "      <td>NaN</td>\n",
       "      <td>NaN</td>\n",
       "      <td>NaN</td>\n",
       "      <td>NaN</td>\n",
       "      <td>NaN</td>\n",
       "      <td>NaN</td>\n",
       "      <td>NaN</td>\n",
       "      <td>NaN</td>\n",
       "      <td>2019-06-24 19:12:00</td>\n",
       "    </tr>\n",
       "    <tr>\n",
       "      <th>587</th>\n",
       "      <td>2019-07-28</td>\n",
       "      <td>10334</td>\n",
       "      <td>79.1504</td>\n",
       "      <td>15.0</td>\n",
       "      <td>second</td>\n",
       "      <td>train</td>\n",
       "      <td>79.1504</td>\n",
       "      <td>79.1504</td>\n",
       "      <td>79.1504</td>\n",
       "      <td>79.1504</td>\n",
       "      <td>NaN</td>\n",
       "      <td>NaN</td>\n",
       "      <td>NaN</td>\n",
       "      <td>NaN</td>\n",
       "      <td>NaN</td>\n",
       "      <td>NaN</td>\n",
       "      <td>NaN</td>\n",
       "      <td>2019-06-24 19:12:00</td>\n",
       "    </tr>\n",
       "  </tbody>\n",
       "</table>\n",
       "</div>"
      ],
      "text/plain": [
       "         dates    SKU  price_per_sku  num_purchases   group sample  \\\n",
       "583 2019-07-22  10334        79.1504           14.0  second  train   \n",
       "584 2019-07-23  10334        79.1504           12.0  second  train   \n",
       "585 2019-07-24  10334        79.1504           14.0  second  train   \n",
       "586 2019-07-25  10334        79.1504           12.0  second  train   \n",
       "587 2019-07-28  10334        79.1504           15.0  second  train   \n",
       "\n",
       "     lag_1_price_per_sku  lag_2_price_per_sku  lag_3_price_per_sku  \\\n",
       "583                  NaN                  NaN                  NaN   \n",
       "584              79.1504                  NaN                  NaN   \n",
       "585              79.1504              79.1504                  NaN   \n",
       "586              79.1504              79.1504              79.1504   \n",
       "587              79.1504              79.1504              79.1504   \n",
       "\n",
       "     lag_4_price_per_sku  lag_5_price_per_sku  lag_6_price_per_sku  \\\n",
       "583                  NaN                  NaN                  NaN   \n",
       "584                  NaN                  NaN                  NaN   \n",
       "585                  NaN                  NaN                  NaN   \n",
       "586                  NaN                  NaN                  NaN   \n",
       "587              79.1504                  NaN                  NaN   \n",
       "\n",
       "     lag_7_price_per_sku  lag_8_price_per_sku  lag_9_price_per_sku  \\\n",
       "583                  NaN                  NaN                  NaN   \n",
       "584                  NaN                  NaN                  NaN   \n",
       "585                  NaN                  NaN                  NaN   \n",
       "586                  NaN                  NaN                  NaN   \n",
       "587                  NaN                  NaN                  NaN   \n",
       "\n",
       "     lag_10_price_per_sku  lag_11_price_per_sku         q_for_split  \n",
       "583                   NaN                   NaN 2019-06-24 19:12:00  \n",
       "584                   NaN                   NaN 2019-06-24 19:12:00  \n",
       "585                   NaN                   NaN 2019-06-24 19:12:00  \n",
       "586                   NaN                   NaN 2019-06-24 19:12:00  \n",
       "587                   NaN                   NaN 2019-06-24 19:12:00  "
      ]
     },
     "execution_count": 49,
     "metadata": {},
     "output_type": "execute_result"
    }
   ],
   "source": [
    "ss_q_for_split = (\n",
    "    df_whole\n",
    "    .groupby('SKU')\n",
    "    .agg(q=('dates', lambda x: x.quantile(0.70)))\n",
    "    .loc[:, 'q']\n",
    ")\n",
    "df_whole['q_for_split'] = df_whole['SKU'].map(ss_q_for_split)\n",
    "df_whole.head()"
   ]
  },
  {
   "cell_type": "code",
   "execution_count": 50,
   "metadata": {
    "ExecuteTime": {
     "end_time": "2021-03-16T08:21:34.746506Z",
     "start_time": "2021-03-16T08:21:34.724720Z"
    }
   },
   "outputs": [
    {
     "data": {
      "text/plain": [
       "((4860, 11), (1915, 11))"
      ]
     },
     "execution_count": 50,
     "metadata": {},
     "output_type": "execute_result"
    }
   ],
   "source": [
    "mask = df_whole['dates'] <= df_whole['q_for_split']\n",
    "X_train, y_train = X.loc[mask, :], y[mask]\n",
    "X_valid, y_valid = X.loc[~mask, :], y[~mask]\n",
    "X_train.shape, X_valid.shape"
   ]
  },
  {
   "cell_type": "code",
   "execution_count": 51,
   "metadata": {
    "ExecuteTime": {
     "end_time": "2021-03-16T08:21:34.755975Z",
     "start_time": "2021-03-16T08:21:34.749921Z"
    }
   },
   "outputs": [],
   "source": [
    "del df_whole['q_for_split']"
   ]
  },
  {
   "cell_type": "code",
   "execution_count": 52,
   "metadata": {
    "ExecuteTime": {
     "end_time": "2021-03-16T08:21:35.529492Z",
     "start_time": "2021-03-16T08:21:34.760057Z"
    }
   },
   "outputs": [
    {
     "name": "stdout",
     "output_type": "stream",
     "text": [
      "Training until validation scores don't improve for 100 rounds\n",
      "[100]\ttrain's rmse: 5.43125\tvalid's rmse: 5.474\n",
      "[200]\ttrain's rmse: 5.3616\tvalid's rmse: 3.77325\n",
      "[300]\ttrain's rmse: 5.33948\tvalid's rmse: 3.43559\n",
      "[400]\ttrain's rmse: 5.33334\tvalid's rmse: 3.3986\n",
      "Early stopping, best iteration is:\n",
      "[370]\ttrain's rmse: 5.33468\tvalid's rmse: 3.39436\n"
     ]
    }
   ],
   "source": [
    "lgb_train = Dataset(X_train, y_train)\n",
    "lgb_valid = Dataset(X_valid, y_valid, reference=lgb_train)\n",
    "lgb_model = train(\n",
    "    params={\n",
    "        'objective': 'regression',\n",
    "        'metric': 'rmse',\n",
    "        'seed': seed,\n",
    "        'verbosity': -1,\n",
    "    },\n",
    "    train_set=lgb_train,\n",
    "    num_boost_round=100_000,\n",
    "    valid_sets=[lgb_train, lgb_valid],\n",
    "    valid_names=['train', 'valid'],\n",
    "    early_stopping_rounds=100,\n",
    "    verbose_eval=100,\n",
    ")"
   ]
  },
  {
   "cell_type": "code",
   "execution_count": 53,
   "metadata": {
    "ExecuteTime": {
     "end_time": "2021-03-16T08:21:35.537841Z",
     "start_time": "2021-03-16T08:21:35.531695Z"
    }
   },
   "outputs": [],
   "source": [
    "def predict_one_model(data, model):\n",
    "    data_ = data.copy()\n",
    "    for i in range(7):\n",
    "        mask = (\n",
    "            (data_['sample'] == 'test')\n",
    "            & data_['lag_1_price_per_sku'].notna()\n",
    "        )\n",
    "        X_test = data_.loc[mask, :].drop(columns=list_drop_columns)\n",
    "        data_.loc[mask, 'price_per_sku'] = lgb_model.predict(X_test)\n",
    "        for n_lag in range(1, 12):\n",
    "            data_[f'lag_{n_lag}_price_per_sku'] = data_.groupby('SKU')['price_per_sku'].shift(n_lag)\n",
    "    return data_.loc[data_['sample'] == 'test', ['dates', 'SKU', 'price_per_sku']]"
   ]
  },
  {
   "cell_type": "code",
   "execution_count": 56,
   "metadata": {
    "ExecuteTime": {
     "end_time": "2021-03-16T08:22:01.993922Z",
     "start_time": "2021-03-16T08:22:01.833892Z"
    }
   },
   "outputs": [
    {
     "data": {
      "text/html": [
       "<div>\n",
       "<style scoped>\n",
       "    .dataframe tbody tr th:only-of-type {\n",
       "        vertical-align: middle;\n",
       "    }\n",
       "\n",
       "    .dataframe tbody tr th {\n",
       "        vertical-align: top;\n",
       "    }\n",
       "\n",
       "    .dataframe thead th {\n",
       "        text-align: right;\n",
       "    }\n",
       "</style>\n",
       "<table border=\"1\" class=\"dataframe\">\n",
       "  <thead>\n",
       "    <tr style=\"text-align: right;\">\n",
       "      <th></th>\n",
       "      <th>dates</th>\n",
       "      <th>SKU</th>\n",
       "      <th>price_per_sku</th>\n",
       "    </tr>\n",
       "  </thead>\n",
       "  <tbody>\n",
       "    <tr>\n",
       "      <th>6864</th>\n",
       "      <td>2019-12-25</td>\n",
       "      <td>10334</td>\n",
       "      <td>102.612128</td>\n",
       "    </tr>\n",
       "    <tr>\n",
       "      <th>6871</th>\n",
       "      <td>2019-12-26</td>\n",
       "      <td>10334</td>\n",
       "      <td>102.627619</td>\n",
       "    </tr>\n",
       "    <tr>\n",
       "      <th>6894</th>\n",
       "      <td>2019-12-27</td>\n",
       "      <td>10334</td>\n",
       "      <td>102.793488</td>\n",
       "    </tr>\n",
       "    <tr>\n",
       "      <th>6905</th>\n",
       "      <td>2019-12-28</td>\n",
       "      <td>10334</td>\n",
       "      <td>102.793488</td>\n",
       "    </tr>\n",
       "    <tr>\n",
       "      <th>6916</th>\n",
       "      <td>2019-12-29</td>\n",
       "      <td>10334</td>\n",
       "      <td>102.793488</td>\n",
       "    </tr>\n",
       "  </tbody>\n",
       "</table>\n",
       "</div>"
      ],
      "text/plain": [
       "          dates    SKU  price_per_sku\n",
       "6864 2019-12-25  10334     102.612128\n",
       "6871 2019-12-26  10334     102.627619\n",
       "6894 2019-12-27  10334     102.793488\n",
       "6905 2019-12-28  10334     102.793488\n",
       "6916 2019-12-29  10334     102.793488"
      ]
     },
     "execution_count": 56,
     "metadata": {},
     "output_type": "execute_result"
    }
   ],
   "source": [
    "df_predict = predict_one_model(df_whole, lgb_model)\n",
    "assert df_predict['price_per_sku'].isna().sum() == 0\n",
    "assert df_predict.shape[0] == df_test.shape[0]\n",
    "df_predict.head()"
   ]
  },
  {
   "cell_type": "code",
   "execution_count": 57,
   "metadata": {
    "ExecuteTime": {
     "end_time": "2021-03-16T08:22:58.327462Z",
     "start_time": "2021-03-16T08:22:58.307724Z"
    }
   },
   "outputs": [],
   "source": [
    "df_predict.to_csv(path_.join(submit_path, 'prediction_baseline.csv'), index=False)"
   ]
  }
 ],
 "metadata": {
  "kernelspec": {
   "display_name": "Python 3",
   "language": "python",
   "name": "python3"
  },
  "language_info": {
   "codemirror_mode": {
    "name": "ipython",
    "version": 3
   },
   "file_extension": ".py",
   "mimetype": "text/x-python",
   "name": "python",
   "nbconvert_exporter": "python",
   "pygments_lexer": "ipython3",
   "version": "3.7.3"
  }
 },
 "nbformat": 4,
 "nbformat_minor": 4
}
