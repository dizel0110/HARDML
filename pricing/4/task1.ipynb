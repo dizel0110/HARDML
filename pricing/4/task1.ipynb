{
 "cells": [
  {
   "cell_type": "code",
   "execution_count": 1,
   "metadata": {
    "ExecuteTime": {
     "end_time": "2021-03-13T19:05:00.302496Z",
     "start_time": "2021-03-13T19:05:00.298484Z"
    }
   },
   "outputs": [],
   "source": [
    "import os.path as path_"
   ]
  },
  {
   "cell_type": "code",
   "execution_count": 2,
   "metadata": {
    "ExecuteTime": {
     "end_time": "2021-03-13T19:05:00.657589Z",
     "start_time": "2021-03-13T19:05:00.309101Z"
    }
   },
   "outputs": [],
   "source": [
    "import numpy as np\n",
    "import pandas as pd"
   ]
  },
  {
   "cell_type": "code",
   "execution_count": 3,
   "metadata": {
    "ExecuteTime": {
     "end_time": "2021-03-13T19:05:00.666302Z",
     "start_time": "2021-03-13T19:05:00.660788Z"
    }
   },
   "outputs": [],
   "source": [
    "data_path = 'data'\n",
    "submit_path = 'submits'\n",
    "seed = 110894"
   ]
  },
  {
   "cell_type": "code",
   "execution_count": 4,
   "metadata": {
    "ExecuteTime": {
     "end_time": "2021-03-13T19:05:00.715364Z",
     "start_time": "2021-03-13T19:05:00.670468Z"
    }
   },
   "outputs": [
    {
     "name": "stdout",
     "output_type": "stream",
     "text": [
      "<class 'pandas.core.frame.DataFrame'>\n",
      "RangeIndex: 10000 entries, 0 to 9999\n",
      "Data columns (total 9 columns):\n",
      " #   Column           Non-Null Count  Dtype \n",
      "---  ------           --------------  ----- \n",
      " 0   sku_id           10000 non-null  int64 \n",
      " 1   fincode          10000 non-null  object\n",
      " 2   ui1_code         10000 non-null  object\n",
      " 3   ui2_code         10000 non-null  object\n",
      " 4   ui3_code         10000 non-null  object\n",
      " 5   vendor           10000 non-null  object\n",
      " 6   brand_code       10000 non-null  object\n",
      " 7   creation_date    10000 non-null  object\n",
      " 8   expiration_date  10000 non-null  object\n",
      "dtypes: int64(1), object(8)\n",
      "memory usage: 703.2+ KB\n"
     ]
    }
   ],
   "source": [
    "df_sku_dict = pd.read_csv(path_.join(data_path, 'sku_dict.csv'))\n",
    "df_sku_dict.info()"
   ]
  },
  {
   "cell_type": "code",
   "execution_count": 5,
   "metadata": {
    "ExecuteTime": {
     "end_time": "2021-03-13T19:05:00.787690Z",
     "start_time": "2021-03-13T19:05:00.720998Z"
    }
   },
   "outputs": [
    {
     "data": {
      "text/plain": [
       "([['first_group_sku', 2, 1],\n",
       "  ['second_group_sku', 9, 1],\n",
       "  ['third_group_sku', 8, 1]],\n",
       " [[32950, 422.975, 486.325],\n",
       "  [78833, 295.83, 324.4500000000001],\n",
       "  [10334, 79.15039999999998, 102.781],\n",
       "  [17812, 61.06399999999999, 78.19200000000002],\n",
       "  [36096, 120.67200000000001, 135.312],\n",
       "  [38767, 62.9118, 75.852],\n",
       "  [43678, 116.5312, 151.474],\n",
       "  [57561, 77.9744, 101.829],\n",
       "  [64619, 142.8534, 153.704],\n",
       "  [68211, 147.7683, 166.05599999999995],\n",
       "  [69997, 111.86, 142.401],\n",
       "  [72784, 103.904, 134.976],\n",
       "  [83329, 75.0321, 90.6],\n",
       "  [90611, 73.2368, 96.47399999999999],\n",
       "  [98255, 65.639, 68.593],\n",
       "  [11050, 100.0, 112.47399999999999],\n",
       "  [19632, 154.826, 159.852],\n",
       "  [24125, 108.124, 112.044],\n",
       "  [49661, 158.208, 165.97799999999995],\n",
       "  [54404, 76.0, 86.75200000000002],\n",
       "  [60870, 109.182, 117.064],\n",
       "  [80308, 113.604, 123.90100000000001],\n",
       "  [80631, 85.929, 92.47399999999999],\n",
       "  [84395, 131.26, 142.019],\n",
       "  [89272, 116.26, 127.726]])"
      ]
     },
     "execution_count": 5,
     "metadata": {},
     "output_type": "execute_result"
    }
   ],
   "source": [
    "result1 = []\n",
    "result2 = []\n",
    "for fn in ['first_group_sku', 'second_group_sku', 'third_group_sku']:\n",
    "    df_group = pd.read_csv(path_.join(data_path, f'{fn}.csv'))\n",
    "    df_joined = df_sku_dict.merge(df_group, left_on='sku_id', right_on='SKU', how='inner')\n",
    "    result1.append([fn, df_joined['vendor'].nunique(), df_joined['brand_code'].nunique()])\n",
    "    \n",
    "    df_grouped = df_joined.groupby('sku_id').agg({'price_per_sku': ['min', 'max']})\n",
    "    result2.extend([list(row) for row in df_grouped.itertuples()])\n",
    "    \n",
    "result1, result2"
   ]
  },
  {
   "cell_type": "code",
   "execution_count": 6,
   "metadata": {
    "ExecuteTime": {
     "end_time": "2021-03-13T19:05:00.808012Z",
     "start_time": "2021-03-13T19:05:00.796030Z"
    }
   },
   "outputs": [],
   "source": [
    "(\n",
    "    pd.DataFrame(\n",
    "        result1,\n",
    "        columns=['file', 'vendor_unique_number', 'brand_unique_number'],\n",
    "    )\n",
    "    .to_csv(\n",
    "        path_.join(submit_path, 'unique_vendor_brand.csv'),\n",
    "        index=False,\n",
    "    )\n",
    ")"
   ]
  },
  {
   "cell_type": "code",
   "execution_count": 7,
   "metadata": {
    "ExecuteTime": {
     "end_time": "2021-03-13T19:05:00.864169Z",
     "start_time": "2021-03-13T19:05:00.811290Z"
    }
   },
   "outputs": [],
   "source": [
    "(\n",
    "    pd.DataFrame(\n",
    "        result2,\n",
    "        columns=['SKU', 'min_price', 'max_price'],\n",
    "    )\n",
    "    .to_csv(\n",
    "        path_.join(submit_path, 'sku_min_max_prices.csv'),\n",
    "        index=False,\n",
    "    )\n",
    ")"
   ]
  }
 ],
 "metadata": {
  "kernelspec": {
   "display_name": "Python 3",
   "language": "python",
   "name": "python3"
  },
  "language_info": {
   "codemirror_mode": {
    "name": "ipython",
    "version": 3
   },
   "file_extension": ".py",
   "mimetype": "text/x-python",
   "name": "python",
   "nbconvert_exporter": "python",
   "pygments_lexer": "ipython3",
   "version": "3.7.3"
  }
 },
 "nbformat": 4,
 "nbformat_minor": 4
}
