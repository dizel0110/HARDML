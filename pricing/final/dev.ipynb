{
 "cells": [
  {
   "cell_type": "markdown",
   "metadata": {},
   "source": [
    "# Импорт"
   ]
  },
  {
   "cell_type": "code",
   "execution_count": 1,
   "metadata": {
    "ExecuteTime": {
     "end_time": "2021-04-08T15:19:58.475176Z",
     "start_time": "2021-04-08T15:19:57.196567Z"
    }
   },
   "outputs": [],
   "source": [
    "import requests\n",
    "import pandas as pd\n",
    "import numpy as np\n",
    "import pickle\n",
    "import json\n",
    "from concurrent.futures import ThreadPoolExecutor, ProcessPoolExecutor, as_completed\n",
    "from fbprophet import Prophet\n",
    "from fbprophet.serialize import model_to_json, model_from_json\n",
    "import logging\n",
    "logging.getLogger('fbprophet').setLevel(logging.WARNING)\n",
    "from sklearn.model_selection import train_test_split\n",
    "from sklearn.linear_model import Lasso\n",
    "from sklearn.metrics import mean_squared_error\n",
    "from lightgbm import Dataset, train\n",
    "from tqdm import tqdm"
   ]
  },
  {
   "cell_type": "markdown",
   "metadata": {},
   "source": [
    "# Глобальные определения и функции"
   ]
  },
  {
   "cell_type": "code",
   "execution_count": 2,
   "metadata": {
    "ExecuteTime": {
     "end_time": "2021-04-08T15:19:58.487379Z",
     "start_time": "2021-04-08T15:19:58.481661Z"
    }
   },
   "outputs": [],
   "source": [
    "seed = 110894"
   ]
  },
  {
   "cell_type": "code",
   "execution_count": 3,
   "metadata": {
    "ExecuteTime": {
     "end_time": "2021-04-08T15:19:58.503314Z",
     "start_time": "2021-04-08T15:19:58.490603Z"
    }
   },
   "outputs": [
    {
     "data": {
      "text/plain": [
       "'91344b932974425eba12ac7112e4ea4e'"
      ]
     },
     "execution_count": 3,
     "metadata": {},
     "output_type": "execute_result"
    }
   ],
   "source": [
    "UUID = open('uuid.txt').read()\n",
    "UUID"
   ]
  },
  {
   "cell_type": "code",
   "execution_count": 4,
   "metadata": {
    "ExecuteTime": {
     "end_time": "2021-04-08T15:19:58.515039Z",
     "start_time": "2021-04-08T15:19:58.508245Z"
    }
   },
   "outputs": [],
   "source": [
    "class Model(object):\n",
    "    def predict(self, data: pd.DataFrame) -> pd.DataFrame:\n",
    "        raise NotImplementedError\n",
    "    \n",
    "    def feedback(self, feedback: pd.DataFrame):\n",
    "        raise NotImplementedError"
   ]
  },
  {
   "cell_type": "markdown",
   "metadata": {},
   "source": [
    "###### Функции для работы с сервером"
   ]
  },
  {
   "cell_type": "code",
   "execution_count": 5,
   "metadata": {
    "ExecuteTime": {
     "end_time": "2021-04-08T15:19:58.815680Z",
     "start_time": "2021-04-08T15:19:58.791972Z"
    }
   },
   "outputs": [],
   "source": [
    "def server_start():\n",
    "    URL_BEGIN_DATA = 'https://lab.karpov.courses/hardml-api/project-1/task/{uuid}/begin'\n",
    "    req = requests.post(URL_BEGIN_DATA.format(uuid=UUID))\n",
    "    return req.json()\n",
    "\n",
    "def get_batch():\n",
    "    URL_TASK_DATA_GET = 'https://lab.karpov.courses/hardml-api/project-1/task/{uuid}/data'\n",
    "    response = requests.get(URL_TASK_DATA_GET.format(uuid=UUID))\n",
    "    return response.json()\n",
    "    \n",
    "def send_submit(df_submit):\n",
    "    df_submit['dates'] = df_submit['dates'].apply(str)\n",
    "    df_submit = (\n",
    "        df_submit\n",
    "        .astype({\n",
    "            'SKU': np.int64,\n",
    "            'user_id': np.int64,\n",
    "            'price': np.float64,\n",
    "        })\n",
    "    )\n",
    "    URL_TASK_RESULT_POST = 'https://lab.karpov.courses/hardml-api/project-1/task/{uuid}/result/'\n",
    "    req = requests.post(\n",
    "        URL_TASK_RESULT_POST.format(uuid=UUID),\n",
    "        data=df_submit.to_json(orient='records')\n",
    "    )\n",
    "    return req.json()\n",
    "\n",
    "def get_result():\n",
    "    URL_TASK_RESULT_GET = 'https://lab.karpov.courses/hardml-api/project-1/task/{uuid}/result'\n",
    "    response = requests.get(URL_TASK_RESULT_GET.format(uuid=UUID))\n",
    "    return response.json()\n",
    "\n",
    "def submit(model: Model):\n",
    "    assert server_start()['status'] == 'ok'\n",
    "    i = 0\n",
    "    while True:\n",
    "        response = get_batch()\n",
    "        if (\n",
    "            isinstance(response, dict) \n",
    "            and response['status'] == 'batch processing finished'\n",
    "        ):\n",
    "            break\n",
    "\n",
    "        print(f'Batch #{i}')\n",
    "        df_batch = pd.read_json(response)\n",
    "        df_batch['dates'] = pd.to_datetime(df_batch['dates'])\n",
    "\n",
    "        df_submit = model.predict(df_batch.copy())\n",
    "\n",
    "        response = send_submit(df_submit)\n",
    "        if response['status'] == 'ok':\n",
    "            df_result = pd.read_json(get_result())\n",
    "            model.feedback(df_result)\n",
    "        i += 1\n",
    "\n",
    "    print('Done!')"
   ]
  },
  {
   "cell_type": "markdown",
   "metadata": {},
   "source": [
    "# Prophet + LightGBM"
   ]
  },
  {
   "cell_type": "code",
   "execution_count": 6,
   "metadata": {
    "ExecuteTime": {
     "end_time": "2021-04-08T15:20:00.490869Z",
     "start_time": "2021-04-08T15:19:59.633193Z"
    }
   },
   "outputs": [
    {
     "data": {
      "text/html": [
       "<div>\n",
       "<style scoped>\n",
       "    .dataframe tbody tr th:only-of-type {\n",
       "        vertical-align: middle;\n",
       "    }\n",
       "\n",
       "    .dataframe tbody tr th {\n",
       "        vertical-align: top;\n",
       "    }\n",
       "\n",
       "    .dataframe thead th {\n",
       "        text-align: right;\n",
       "    }\n",
       "</style>\n",
       "<table border=\"1\" class=\"dataframe\">\n",
       "  <thead>\n",
       "    <tr style=\"text-align: right;\">\n",
       "      <th></th>\n",
       "      <th>dates</th>\n",
       "      <th>SKU</th>\n",
       "      <th>user</th>\n",
       "      <th>price</th>\n",
       "    </tr>\n",
       "  </thead>\n",
       "  <tbody>\n",
       "    <tr>\n",
       "      <th>0</th>\n",
       "      <td>2018-11-09</td>\n",
       "      <td>16019</td>\n",
       "      <td>44796</td>\n",
       "      <td>1252.0</td>\n",
       "    </tr>\n",
       "    <tr>\n",
       "      <th>1</th>\n",
       "      <td>2018-11-09</td>\n",
       "      <td>16019</td>\n",
       "      <td>44510</td>\n",
       "      <td>1252.0</td>\n",
       "    </tr>\n",
       "    <tr>\n",
       "      <th>2</th>\n",
       "      <td>2018-11-09</td>\n",
       "      <td>16019</td>\n",
       "      <td>19074</td>\n",
       "      <td>1252.0</td>\n",
       "    </tr>\n",
       "    <tr>\n",
       "      <th>3</th>\n",
       "      <td>2018-11-09</td>\n",
       "      <td>16019</td>\n",
       "      <td>34472</td>\n",
       "      <td>1252.0</td>\n",
       "    </tr>\n",
       "    <tr>\n",
       "      <th>4</th>\n",
       "      <td>2018-11-10</td>\n",
       "      <td>16019</td>\n",
       "      <td>48407</td>\n",
       "      <td>1252.0</td>\n",
       "    </tr>\n",
       "  </tbody>\n",
       "</table>\n",
       "</div>"
      ],
      "text/plain": [
       "       dates    SKU   user   price\n",
       "0 2018-11-09  16019  44796  1252.0\n",
       "1 2018-11-09  16019  44510  1252.0\n",
       "2 2018-11-09  16019  19074  1252.0\n",
       "3 2018-11-09  16019  34472  1252.0\n",
       "4 2018-11-10  16019  48407  1252.0"
      ]
     },
     "execution_count": 6,
     "metadata": {},
     "output_type": "execute_result"
    }
   ],
   "source": [
    "df_transactions = pd.read_csv('data/transactions.csv')\n",
    "df_transactions['dates'] = pd.to_datetime(df_transactions['dates'])\n",
    "df_transactions.head()"
   ]
  },
  {
   "cell_type": "code",
   "execution_count": 7,
   "metadata": {
    "ExecuteTime": {
     "end_time": "2021-04-08T15:20:00.556985Z",
     "start_time": "2021-04-08T15:20:00.526685Z"
    }
   },
   "outputs": [
    {
     "data": {
      "text/html": [
       "<div>\n",
       "<style scoped>\n",
       "    .dataframe tbody tr th:only-of-type {\n",
       "        vertical-align: middle;\n",
       "    }\n",
       "\n",
       "    .dataframe tbody tr th {\n",
       "        vertical-align: top;\n",
       "    }\n",
       "\n",
       "    .dataframe thead th {\n",
       "        text-align: right;\n",
       "    }\n",
       "</style>\n",
       "<table border=\"1\" class=\"dataframe\">\n",
       "  <thead>\n",
       "    <tr style=\"text-align: right;\">\n",
       "      <th></th>\n",
       "      <th>SKU</th>\n",
       "      <th>week_num</th>\n",
       "      <th>year</th>\n",
       "      <th>discount</th>\n",
       "    </tr>\n",
       "  </thead>\n",
       "  <tbody>\n",
       "    <tr>\n",
       "      <th>0</th>\n",
       "      <td>74430</td>\n",
       "      <td>1</td>\n",
       "      <td>2018</td>\n",
       "      <td>0.15</td>\n",
       "    </tr>\n",
       "    <tr>\n",
       "      <th>1</th>\n",
       "      <td>69978</td>\n",
       "      <td>1</td>\n",
       "      <td>2018</td>\n",
       "      <td>0.05</td>\n",
       "    </tr>\n",
       "    <tr>\n",
       "      <th>2</th>\n",
       "      <td>81955</td>\n",
       "      <td>1</td>\n",
       "      <td>2018</td>\n",
       "      <td>0.15</td>\n",
       "    </tr>\n",
       "    <tr>\n",
       "      <th>3</th>\n",
       "      <td>78953</td>\n",
       "      <td>1</td>\n",
       "      <td>2018</td>\n",
       "      <td>0.10</td>\n",
       "    </tr>\n",
       "    <tr>\n",
       "      <th>4</th>\n",
       "      <td>43034</td>\n",
       "      <td>1</td>\n",
       "      <td>2018</td>\n",
       "      <td>0.05</td>\n",
       "    </tr>\n",
       "  </tbody>\n",
       "</table>\n",
       "</div>"
      ],
      "text/plain": [
       "     SKU  week_num  year  discount\n",
       "0  74430         1  2018      0.15\n",
       "1  69978         1  2018      0.05\n",
       "2  81955         1  2018      0.15\n",
       "3  78953         1  2018      0.10\n",
       "4  43034         1  2018      0.05"
      ]
     },
     "execution_count": 7,
     "metadata": {},
     "output_type": "execute_result"
    }
   ],
   "source": [
    "df_promo = pd.read_csv('data/promo_df.csv')\n",
    "df_promo.head()"
   ]
  },
  {
   "cell_type": "code",
   "execution_count": 8,
   "metadata": {
    "ExecuteTime": {
     "end_time": "2021-04-08T15:20:00.556985Z",
     "start_time": "2021-04-08T15:20:00.526685Z"
    }
   },
   "outputs": [
    {
     "data": {
      "text/html": [
       "<div>\n",
       "<style scoped>\n",
       "    .dataframe tbody tr th:only-of-type {\n",
       "        vertical-align: middle;\n",
       "    }\n",
       "\n",
       "    .dataframe tbody tr th {\n",
       "        vertical-align: top;\n",
       "    }\n",
       "\n",
       "    .dataframe thead th {\n",
       "        text-align: right;\n",
       "    }\n",
       "</style>\n",
       "<table border=\"1\" class=\"dataframe\">\n",
       "  <thead>\n",
       "    <tr style=\"text-align: right;\">\n",
       "      <th></th>\n",
       "      <th>year</th>\n",
       "      <th>week_num</th>\n",
       "      <th>SKU</th>\n",
       "      <th>ret_net_1_price</th>\n",
       "      <th>ret_net_2_price</th>\n",
       "      <th>ret_net_3_price</th>\n",
       "    </tr>\n",
       "  </thead>\n",
       "  <tbody>\n",
       "    <tr>\n",
       "      <th>0</th>\n",
       "      <td>2019</td>\n",
       "      <td>1</td>\n",
       "      <td>10121</td>\n",
       "      <td>2945.681342</td>\n",
       "      <td>2965.743797</td>\n",
       "      <td>2917.394830</td>\n",
       "    </tr>\n",
       "    <tr>\n",
       "      <th>1</th>\n",
       "      <td>2019</td>\n",
       "      <td>1</td>\n",
       "      <td>10290</td>\n",
       "      <td>949.466060</td>\n",
       "      <td>942.301292</td>\n",
       "      <td>962.799009</td>\n",
       "    </tr>\n",
       "    <tr>\n",
       "      <th>2</th>\n",
       "      <td>2019</td>\n",
       "      <td>1</td>\n",
       "      <td>10973</td>\n",
       "      <td>3751.515022</td>\n",
       "      <td>3735.814981</td>\n",
       "      <td>3709.586540</td>\n",
       "    </tr>\n",
       "    <tr>\n",
       "      <th>3</th>\n",
       "      <td>2019</td>\n",
       "      <td>1</td>\n",
       "      <td>11179</td>\n",
       "      <td>3717.042306</td>\n",
       "      <td>3638.799082</td>\n",
       "      <td>3695.090121</td>\n",
       "    </tr>\n",
       "    <tr>\n",
       "      <th>4</th>\n",
       "      <td>2019</td>\n",
       "      <td>1</td>\n",
       "      <td>11680</td>\n",
       "      <td>1378.797669</td>\n",
       "      <td>1325.251312</td>\n",
       "      <td>1363.707489</td>\n",
       "    </tr>\n",
       "  </tbody>\n",
       "</table>\n",
       "</div>"
      ],
      "text/plain": [
       "   year  week_num    SKU  ret_net_1_price  ret_net_2_price  ret_net_3_price\n",
       "0  2019         1  10121      2945.681342      2965.743797      2917.394830\n",
       "1  2019         1  10290       949.466060       942.301292       962.799009\n",
       "2  2019         1  10973      3751.515022      3735.814981      3709.586540\n",
       "3  2019         1  11179      3717.042306      3638.799082      3695.090121\n",
       "4  2019         1  11680      1378.797669      1325.251312      1363.707489"
      ]
     },
     "execution_count": 8,
     "metadata": {},
     "output_type": "execute_result"
    }
   ],
   "source": [
    "df_canc = pd.read_csv('data/canc_df.csv')\n",
    "df_canc.head()"
   ]
  },
  {
   "cell_type": "code",
   "execution_count": 9,
   "metadata": {
    "ExecuteTime": {
     "end_time": "2021-04-08T15:20:01.414928Z",
     "start_time": "2021-04-08T15:20:00.622376Z"
    }
   },
   "outputs": [
    {
     "data": {
      "text/html": [
       "<div>\n",
       "<style scoped>\n",
       "    .dataframe tbody tr th:only-of-type {\n",
       "        vertical-align: middle;\n",
       "    }\n",
       "\n",
       "    .dataframe tbody tr th {\n",
       "        vertical-align: top;\n",
       "    }\n",
       "\n",
       "    .dataframe thead th {\n",
       "        text-align: right;\n",
       "    }\n",
       "</style>\n",
       "<table border=\"1\" class=\"dataframe\">\n",
       "  <thead>\n",
       "    <tr style=\"text-align: right;\">\n",
       "      <th></th>\n",
       "      <th>dates</th>\n",
       "      <th>SKU</th>\n",
       "      <th>user</th>\n",
       "      <th>price</th>\n",
       "      <th>week_num</th>\n",
       "      <th>year</th>\n",
       "      <th>discount</th>\n",
       "    </tr>\n",
       "  </thead>\n",
       "  <tbody>\n",
       "    <tr>\n",
       "      <th>0</th>\n",
       "      <td>2018-11-09</td>\n",
       "      <td>16019</td>\n",
       "      <td>44796</td>\n",
       "      <td>1252.0</td>\n",
       "      <td>45</td>\n",
       "      <td>2018</td>\n",
       "      <td>0.05</td>\n",
       "    </tr>\n",
       "    <tr>\n",
       "      <th>1</th>\n",
       "      <td>2018-11-09</td>\n",
       "      <td>16019</td>\n",
       "      <td>44510</td>\n",
       "      <td>1252.0</td>\n",
       "      <td>45</td>\n",
       "      <td>2018</td>\n",
       "      <td>0.05</td>\n",
       "    </tr>\n",
       "    <tr>\n",
       "      <th>2</th>\n",
       "      <td>2018-11-09</td>\n",
       "      <td>16019</td>\n",
       "      <td>19074</td>\n",
       "      <td>1252.0</td>\n",
       "      <td>45</td>\n",
       "      <td>2018</td>\n",
       "      <td>0.05</td>\n",
       "    </tr>\n",
       "    <tr>\n",
       "      <th>3</th>\n",
       "      <td>2018-11-09</td>\n",
       "      <td>16019</td>\n",
       "      <td>34472</td>\n",
       "      <td>1252.0</td>\n",
       "      <td>45</td>\n",
       "      <td>2018</td>\n",
       "      <td>0.05</td>\n",
       "    </tr>\n",
       "    <tr>\n",
       "      <th>4</th>\n",
       "      <td>2018-11-10</td>\n",
       "      <td>16019</td>\n",
       "      <td>48407</td>\n",
       "      <td>1252.0</td>\n",
       "      <td>45</td>\n",
       "      <td>2018</td>\n",
       "      <td>0.05</td>\n",
       "    </tr>\n",
       "  </tbody>\n",
       "</table>\n",
       "</div>"
      ],
      "text/plain": [
       "       dates    SKU   user   price week_num  year  discount\n",
       "0 2018-11-09  16019  44796  1252.0       45  2018      0.05\n",
       "1 2018-11-09  16019  44510  1252.0       45  2018      0.05\n",
       "2 2018-11-09  16019  19074  1252.0       45  2018      0.05\n",
       "3 2018-11-09  16019  34472  1252.0       45  2018      0.05\n",
       "4 2018-11-10  16019  48407  1252.0       45  2018      0.05"
      ]
     },
     "execution_count": 9,
     "metadata": {},
     "output_type": "execute_result"
    }
   ],
   "source": [
    "df_transactions_cor = (\n",
    "    df_transactions\n",
    "    .merge(\n",
    "        df_promo,\n",
    "        how='left',\n",
    "        left_on=[\n",
    "            'SKU',\n",
    "            df_transactions['dates'].dt.year.values,\n",
    "            df_transactions['dates'].dt.isocalendar().week.values,\n",
    "        ],\n",
    "        right_on=['SKU', 'year', 'week_num'],\n",
    "        validate='m:1',\n",
    "    )\n",
    ")\n",
    "df_transactions_cor.head()"
   ]
  },
  {
   "cell_type": "code",
   "execution_count": 10,
   "metadata": {
    "ExecuteTime": {
     "end_time": "2021-04-08T15:20:01.444539Z",
     "start_time": "2021-04-08T15:20:01.417751Z"
    }
   },
   "outputs": [],
   "source": [
    "df_transactions_cor['discount'] = df_transactions_cor['discount'].fillna(0.0)\n",
    "df_transactions_cor['true_price'] = df_transactions_cor['price'] / (1.0 - df_transactions_cor['discount'])\n",
    "assert df_transactions_cor['true_price'].notna().all()"
   ]
  },
  {
   "cell_type": "code",
   "execution_count": 11,
   "metadata": {
    "ExecuteTime": {
     "end_time": "2021-04-08T15:20:02.113000Z",
     "start_time": "2021-04-08T15:20:01.528071Z"
    }
   },
   "outputs": [
    {
     "data": {
      "text/html": [
       "<div>\n",
       "<style scoped>\n",
       "    .dataframe tbody tr th:only-of-type {\n",
       "        vertical-align: middle;\n",
       "    }\n",
       "\n",
       "    .dataframe tbody tr th {\n",
       "        vertical-align: top;\n",
       "    }\n",
       "\n",
       "    .dataframe thead th {\n",
       "        text-align: right;\n",
       "    }\n",
       "</style>\n",
       "<table border=\"1\" class=\"dataframe\">\n",
       "  <thead>\n",
       "    <tr style=\"text-align: right;\">\n",
       "      <th></th>\n",
       "      <th>dates</th>\n",
       "      <th>SKU</th>\n",
       "      <th>max_true_price</th>\n",
       "      <th>avg_true_price</th>\n",
       "      <th>min_true_price</th>\n",
       "      <th>max_price</th>\n",
       "      <th>avg_price</th>\n",
       "      <th>min_price</th>\n",
       "    </tr>\n",
       "  </thead>\n",
       "  <tbody>\n",
       "    <tr>\n",
       "      <th>0</th>\n",
       "      <td>2018-01-01</td>\n",
       "      <td>67369</td>\n",
       "      <td>3607.0</td>\n",
       "      <td>3607.0</td>\n",
       "      <td>3607.0</td>\n",
       "      <td>3607.0</td>\n",
       "      <td>3607.0</td>\n",
       "      <td>3607.0</td>\n",
       "    </tr>\n",
       "    <tr>\n",
       "      <th>1</th>\n",
       "      <td>2018-01-02</td>\n",
       "      <td>67369</td>\n",
       "      <td>3607.0</td>\n",
       "      <td>3607.0</td>\n",
       "      <td>3607.0</td>\n",
       "      <td>3607.0</td>\n",
       "      <td>3607.0</td>\n",
       "      <td>3607.0</td>\n",
       "    </tr>\n",
       "    <tr>\n",
       "      <th>2</th>\n",
       "      <td>2018-01-03</td>\n",
       "      <td>26629</td>\n",
       "      <td>1126.0</td>\n",
       "      <td>1126.0</td>\n",
       "      <td>1126.0</td>\n",
       "      <td>1126.0</td>\n",
       "      <td>1126.0</td>\n",
       "      <td>1126.0</td>\n",
       "    </tr>\n",
       "    <tr>\n",
       "      <th>3</th>\n",
       "      <td>2018-01-03</td>\n",
       "      <td>41262</td>\n",
       "      <td>3473.0</td>\n",
       "      <td>3473.0</td>\n",
       "      <td>3473.0</td>\n",
       "      <td>3473.0</td>\n",
       "      <td>3473.0</td>\n",
       "      <td>3473.0</td>\n",
       "    </tr>\n",
       "    <tr>\n",
       "      <th>4</th>\n",
       "      <td>2018-01-03</td>\n",
       "      <td>67369</td>\n",
       "      <td>3607.0</td>\n",
       "      <td>3607.0</td>\n",
       "      <td>3607.0</td>\n",
       "      <td>3607.0</td>\n",
       "      <td>3607.0</td>\n",
       "      <td>3607.0</td>\n",
       "    </tr>\n",
       "  </tbody>\n",
       "</table>\n",
       "</div>"
      ],
      "text/plain": [
       "       dates    SKU  max_true_price  avg_true_price  min_true_price  \\\n",
       "0 2018-01-01  67369          3607.0          3607.0          3607.0   \n",
       "1 2018-01-02  67369          3607.0          3607.0          3607.0   \n",
       "2 2018-01-03  26629          1126.0          1126.0          1126.0   \n",
       "3 2018-01-03  41262          3473.0          3473.0          3473.0   \n",
       "4 2018-01-03  67369          3607.0          3607.0          3607.0   \n",
       "\n",
       "   max_price  avg_price  min_price  \n",
       "0     3607.0     3607.0     3607.0  \n",
       "1     3607.0     3607.0     3607.0  \n",
       "2     1126.0     1126.0     1126.0  \n",
       "3     3473.0     3473.0     3473.0  \n",
       "4     3607.0     3607.0     3607.0  "
      ]
     },
     "execution_count": 11,
     "metadata": {},
     "output_type": "execute_result"
    }
   ],
   "source": [
    "df_transactions_agg = (\n",
    "    df_transactions_cor\n",
    "    .groupby(['dates', 'SKU'], as_index=False)\n",
    "    .agg(\n",
    "        max_true_price=('true_price', 'max'),\n",
    "        avg_true_price=('true_price', 'mean'),\n",
    "        min_true_price=('true_price', 'min'),\n",
    "        max_price=('price', 'max'),\n",
    "        avg_price=('price', 'mean'),\n",
    "        min_price=('price', 'min'),\n",
    "    )\n",
    ")\n",
    "df_transactions_agg.head()"
   ]
  },
  {
   "cell_type": "code",
   "execution_count": 12,
   "metadata": {
    "ExecuteTime": {
     "end_time": "2021-04-08T15:20:02.203118Z",
     "start_time": "2021-04-08T15:20:02.186664Z"
    }
   },
   "outputs": [
    {
     "data": {
      "text/plain": [
       "1000"
      ]
     },
     "execution_count": 12,
     "metadata": {},
     "output_type": "execute_result"
    }
   ],
   "source": [
    "list_sku = list(df_transactions['SKU'].unique())\n",
    "len(list_sku)"
   ]
  },
  {
   "cell_type": "code",
   "execution_count": 13,
   "metadata": {
    "ExecuteTime": {
     "end_time": "2021-04-08T15:20:02.669840Z",
     "start_time": "2021-04-08T15:20:02.651872Z"
    }
   },
   "outputs": [],
   "source": [
    "def process_sku(sku: int):\n",
    "    df = (\n",
    "        df_transactions_agg\n",
    "        .loc[df_transactions_agg['SKU'] == sku, ['dates', 'avg_true_price']]\n",
    "        .rename(columns={'dates': 'ds', 'avg_true_price': 'y'})\n",
    "        .sort_values('ds')\n",
    "    )\n",
    "    \n",
    "    mask = df['ds'] <= df['ds'].quantile(0.7)\n",
    "    df_train = df.loc[mask]\n",
    "    df_test = df.loc[~mask, ['ds']]\n",
    "    \n",
    "    prothet_model = (\n",
    "        Prophet(\n",
    "            daily_seasonality=False,\n",
    "            weekly_seasonality=False,\n",
    "            yearly_seasonality=False,\n",
    "            interval_width=0.5,\n",
    "        )\n",
    "        .add_country_holidays('RU')\n",
    "        .add_seasonality(\n",
    "            name='quarter',\n",
    "            period=362.25/4,\n",
    "            fourier_order=5,\n",
    "            prior_scale=15,\n",
    "        )\n",
    "    )\n",
    "    prothet_model.fit(df_train)\n",
    "    return prothet_model.predict(df_test)"
   ]
  },
  {
   "cell_type": "code",
   "execution_count": 14,
   "metadata": {
    "ExecuteTime": {
     "end_time": "2021-04-08T15:28:13.615840Z",
     "start_time": "2021-04-08T15:20:04.109169Z"
    }
   },
   "outputs": [
    {
     "name": "stdout",
     "output_type": "stream",
     "text": [
      "CPU times: user 3.47 s, sys: 610 ms, total: 4.08 s\n",
      "Wall time: 8min 9s\n"
     ]
    }
   ],
   "source": [
    "%%time\n",
    "results = {}\n",
    "with ProcessPoolExecutor(max_workers=5) as executor:\n",
    "    futures = {executor.submit(process_sku, sku): sku for sku in list_sku}\n",
    "    for future in as_completed(futures):\n",
    "        sku = futures[future]\n",
    "        try:\n",
    "            results[sku] = future.result()\n",
    "        except Exception as exc:\n",
    "            print(f'{sku} generated an exception: {exc}')"
   ]
  },
  {
   "cell_type": "code",
   "execution_count": 15,
   "metadata": {
    "ExecuteTime": {
     "end_time": "2021-04-08T15:28:15.003516Z",
     "start_time": "2021-04-08T15:28:13.624825Z"
    }
   },
   "outputs": [
    {
     "data": {
      "text/html": [
       "<div>\n",
       "<style scoped>\n",
       "    .dataframe tbody tr th:only-of-type {\n",
       "        vertical-align: middle;\n",
       "    }\n",
       "\n",
       "    .dataframe tbody tr th {\n",
       "        vertical-align: top;\n",
       "    }\n",
       "\n",
       "    .dataframe thead th {\n",
       "        text-align: right;\n",
       "    }\n",
       "</style>\n",
       "<table border=\"1\" class=\"dataframe\">\n",
       "  <thead>\n",
       "    <tr style=\"text-align: right;\">\n",
       "      <th></th>\n",
       "      <th>ds</th>\n",
       "      <th>trend</th>\n",
       "      <th>yhat_lower</th>\n",
       "      <th>yhat_upper</th>\n",
       "      <th>trend_lower</th>\n",
       "      <th>trend_upper</th>\n",
       "      <th>Christmas Day</th>\n",
       "      <th>Christmas Day_lower</th>\n",
       "      <th>Christmas Day_upper</th>\n",
       "      <th>Defender of the Fatherland Day</th>\n",
       "      <th>...</th>\n",
       "      <th>holidays_lower</th>\n",
       "      <th>holidays_upper</th>\n",
       "      <th>quarter</th>\n",
       "      <th>quarter_lower</th>\n",
       "      <th>quarter_upper</th>\n",
       "      <th>multiplicative_terms</th>\n",
       "      <th>multiplicative_terms_lower</th>\n",
       "      <th>multiplicative_terms_upper</th>\n",
       "      <th>yhat</th>\n",
       "      <th>SKU</th>\n",
       "    </tr>\n",
       "  </thead>\n",
       "  <tbody>\n",
       "    <tr>\n",
       "      <th>0</th>\n",
       "      <td>2019-09-15</td>\n",
       "      <td>4151.285421</td>\n",
       "      <td>4111.851313</td>\n",
       "      <td>4149.706143</td>\n",
       "      <td>4151.285421</td>\n",
       "      <td>4151.285421</td>\n",
       "      <td>0.0</td>\n",
       "      <td>0.0</td>\n",
       "      <td>0.0</td>\n",
       "      <td>0.0</td>\n",
       "      <td>...</td>\n",
       "      <td>0.0</td>\n",
       "      <td>0.0</td>\n",
       "      <td>-21.502318</td>\n",
       "      <td>-21.502318</td>\n",
       "      <td>-21.502318</td>\n",
       "      <td>0.0</td>\n",
       "      <td>0.0</td>\n",
       "      <td>0.0</td>\n",
       "      <td>4129.783104</td>\n",
       "      <td>30482</td>\n",
       "    </tr>\n",
       "    <tr>\n",
       "      <th>1</th>\n",
       "      <td>2019-09-16</td>\n",
       "      <td>4151.008058</td>\n",
       "      <td>4110.034047</td>\n",
       "      <td>4149.405235</td>\n",
       "      <td>4151.008058</td>\n",
       "      <td>4151.008058</td>\n",
       "      <td>0.0</td>\n",
       "      <td>0.0</td>\n",
       "      <td>0.0</td>\n",
       "      <td>0.0</td>\n",
       "      <td>...</td>\n",
       "      <td>0.0</td>\n",
       "      <td>0.0</td>\n",
       "      <td>-19.621155</td>\n",
       "      <td>-19.621155</td>\n",
       "      <td>-19.621155</td>\n",
       "      <td>0.0</td>\n",
       "      <td>0.0</td>\n",
       "      <td>0.0</td>\n",
       "      <td>4131.386903</td>\n",
       "      <td>30482</td>\n",
       "    </tr>\n",
       "    <tr>\n",
       "      <th>2</th>\n",
       "      <td>2019-09-17</td>\n",
       "      <td>4150.730695</td>\n",
       "      <td>4110.737304</td>\n",
       "      <td>4150.233703</td>\n",
       "      <td>4150.730695</td>\n",
       "      <td>4150.730695</td>\n",
       "      <td>0.0</td>\n",
       "      <td>0.0</td>\n",
       "      <td>0.0</td>\n",
       "      <td>0.0</td>\n",
       "      <td>...</td>\n",
       "      <td>0.0</td>\n",
       "      <td>0.0</td>\n",
       "      <td>-18.258446</td>\n",
       "      <td>-18.258446</td>\n",
       "      <td>-18.258446</td>\n",
       "      <td>0.0</td>\n",
       "      <td>0.0</td>\n",
       "      <td>0.0</td>\n",
       "      <td>4132.472248</td>\n",
       "      <td>30482</td>\n",
       "    </tr>\n",
       "    <tr>\n",
       "      <th>3</th>\n",
       "      <td>2019-09-18</td>\n",
       "      <td>4150.453331</td>\n",
       "      <td>4110.485368</td>\n",
       "      <td>4153.510525</td>\n",
       "      <td>4150.453331</td>\n",
       "      <td>4150.453331</td>\n",
       "      <td>0.0</td>\n",
       "      <td>0.0</td>\n",
       "      <td>0.0</td>\n",
       "      <td>0.0</td>\n",
       "      <td>...</td>\n",
       "      <td>0.0</td>\n",
       "      <td>0.0</td>\n",
       "      <td>-17.733114</td>\n",
       "      <td>-17.733114</td>\n",
       "      <td>-17.733114</td>\n",
       "      <td>0.0</td>\n",
       "      <td>0.0</td>\n",
       "      <td>0.0</td>\n",
       "      <td>4132.720217</td>\n",
       "      <td>30482</td>\n",
       "    </tr>\n",
       "    <tr>\n",
       "      <th>4</th>\n",
       "      <td>2019-09-19</td>\n",
       "      <td>4150.175968</td>\n",
       "      <td>4110.673267</td>\n",
       "      <td>4152.241507</td>\n",
       "      <td>4150.175964</td>\n",
       "      <td>4150.175968</td>\n",
       "      <td>0.0</td>\n",
       "      <td>0.0</td>\n",
       "      <td>0.0</td>\n",
       "      <td>0.0</td>\n",
       "      <td>...</td>\n",
       "      <td>0.0</td>\n",
       "      <td>0.0</td>\n",
       "      <td>-18.251925</td>\n",
       "      <td>-18.251925</td>\n",
       "      <td>-18.251925</td>\n",
       "      <td>0.0</td>\n",
       "      <td>0.0</td>\n",
       "      <td>0.0</td>\n",
       "      <td>4131.924043</td>\n",
       "      <td>30482</td>\n",
       "    </tr>\n",
       "  </tbody>\n",
       "</table>\n",
       "<p>5 rows × 50 columns</p>\n",
       "</div>"
      ],
      "text/plain": [
       "          ds        trend   yhat_lower   yhat_upper  trend_lower  trend_upper  \\\n",
       "0 2019-09-15  4151.285421  4111.851313  4149.706143  4151.285421  4151.285421   \n",
       "1 2019-09-16  4151.008058  4110.034047  4149.405235  4151.008058  4151.008058   \n",
       "2 2019-09-17  4150.730695  4110.737304  4150.233703  4150.730695  4150.730695   \n",
       "3 2019-09-18  4150.453331  4110.485368  4153.510525  4150.453331  4150.453331   \n",
       "4 2019-09-19  4150.175968  4110.673267  4152.241507  4150.175964  4150.175968   \n",
       "\n",
       "   Christmas Day  Christmas Day_lower  Christmas Day_upper  \\\n",
       "0            0.0                  0.0                  0.0   \n",
       "1            0.0                  0.0                  0.0   \n",
       "2            0.0                  0.0                  0.0   \n",
       "3            0.0                  0.0                  0.0   \n",
       "4            0.0                  0.0                  0.0   \n",
       "\n",
       "   Defender of the Fatherland Day  ...  holidays_lower  holidays_upper  \\\n",
       "0                             0.0  ...             0.0             0.0   \n",
       "1                             0.0  ...             0.0             0.0   \n",
       "2                             0.0  ...             0.0             0.0   \n",
       "3                             0.0  ...             0.0             0.0   \n",
       "4                             0.0  ...             0.0             0.0   \n",
       "\n",
       "     quarter  quarter_lower  quarter_upper  multiplicative_terms  \\\n",
       "0 -21.502318     -21.502318     -21.502318                   0.0   \n",
       "1 -19.621155     -19.621155     -19.621155                   0.0   \n",
       "2 -18.258446     -18.258446     -18.258446                   0.0   \n",
       "3 -17.733114     -17.733114     -17.733114                   0.0   \n",
       "4 -18.251925     -18.251925     -18.251925                   0.0   \n",
       "\n",
       "   multiplicative_terms_lower  multiplicative_terms_upper         yhat    SKU  \n",
       "0                         0.0                         0.0  4129.783104  30482  \n",
       "1                         0.0                         0.0  4131.386903  30482  \n",
       "2                         0.0                         0.0  4132.472248  30482  \n",
       "3                         0.0                         0.0  4132.720217  30482  \n",
       "4                         0.0                         0.0  4131.924043  30482  \n",
       "\n",
       "[5 rows x 50 columns]"
      ]
     },
     "execution_count": 15,
     "metadata": {},
     "output_type": "execute_result"
    }
   ],
   "source": [
    "df_prophets_features = pd.concat(\n",
    "    [results[sku].assign(SKU=sku) for sku in results],\n",
    "    ignore_index=True,\n",
    ")\n",
    "df_prophets_features.head()"
   ]
  },
  {
   "cell_type": "code",
   "execution_count": 16,
   "metadata": {
    "ExecuteTime": {
     "end_time": "2021-04-08T15:28:15.040824Z",
     "start_time": "2021-04-08T15:28:15.009388Z"
    }
   },
   "outputs": [
    {
     "data": {
      "text/html": [
       "<div>\n",
       "<style scoped>\n",
       "    .dataframe tbody tr th:only-of-type {\n",
       "        vertical-align: middle;\n",
       "    }\n",
       "\n",
       "    .dataframe tbody tr th {\n",
       "        vertical-align: top;\n",
       "    }\n",
       "\n",
       "    .dataframe thead th {\n",
       "        text-align: right;\n",
       "    }\n",
       "</style>\n",
       "<table border=\"1\" class=\"dataframe\">\n",
       "  <thead>\n",
       "    <tr style=\"text-align: right;\">\n",
       "      <th></th>\n",
       "      <th>dates</th>\n",
       "      <th>SKU</th>\n",
       "      <th>prophet_price</th>\n",
       "    </tr>\n",
       "  </thead>\n",
       "  <tbody>\n",
       "    <tr>\n",
       "      <th>0</th>\n",
       "      <td>2019-09-15</td>\n",
       "      <td>30482</td>\n",
       "      <td>4129.783104</td>\n",
       "    </tr>\n",
       "    <tr>\n",
       "      <th>1</th>\n",
       "      <td>2019-09-16</td>\n",
       "      <td>30482</td>\n",
       "      <td>4131.386903</td>\n",
       "    </tr>\n",
       "    <tr>\n",
       "      <th>2</th>\n",
       "      <td>2019-09-17</td>\n",
       "      <td>30482</td>\n",
       "      <td>4132.472248</td>\n",
       "    </tr>\n",
       "    <tr>\n",
       "      <th>3</th>\n",
       "      <td>2019-09-18</td>\n",
       "      <td>30482</td>\n",
       "      <td>4132.720217</td>\n",
       "    </tr>\n",
       "    <tr>\n",
       "      <th>4</th>\n",
       "      <td>2019-09-19</td>\n",
       "      <td>30482</td>\n",
       "      <td>4131.924043</td>\n",
       "    </tr>\n",
       "  </tbody>\n",
       "</table>\n",
       "</div>"
      ],
      "text/plain": [
       "       dates    SKU  prophet_price\n",
       "0 2019-09-15  30482    4129.783104\n",
       "1 2019-09-16  30482    4131.386903\n",
       "2 2019-09-17  30482    4132.472248\n",
       "3 2019-09-18  30482    4132.720217\n",
       "4 2019-09-19  30482    4131.924043"
      ]
     },
     "execution_count": 16,
     "metadata": {},
     "output_type": "execute_result"
    }
   ],
   "source": [
    "df_prophets_features = df_prophets_features.loc[:, ['ds', 'SKU', 'yhat']]\n",
    "df_prophets_features = df_prophets_features.rename(columns={'ds': 'dates', 'yhat': 'prophet_price'})\n",
    "df_prophets_features.head()"
   ]
  },
  {
   "cell_type": "code",
   "execution_count": 17,
   "metadata": {
    "ExecuteTime": {
     "end_time": "2021-04-08T15:28:15.131096Z",
     "start_time": "2021-04-08T15:28:15.043590Z"
    }
   },
   "outputs": [
    {
     "data": {
      "text/html": [
       "<div>\n",
       "<style scoped>\n",
       "    .dataframe tbody tr th:only-of-type {\n",
       "        vertical-align: middle;\n",
       "    }\n",
       "\n",
       "    .dataframe tbody tr th {\n",
       "        vertical-align: top;\n",
       "    }\n",
       "\n",
       "    .dataframe thead th {\n",
       "        text-align: right;\n",
       "    }\n",
       "</style>\n",
       "<table border=\"1\" class=\"dataframe\">\n",
       "  <thead>\n",
       "    <tr style=\"text-align: right;\">\n",
       "      <th></th>\n",
       "      <th>dates</th>\n",
       "      <th>SKU</th>\n",
       "      <th>avg_price</th>\n",
       "      <th>prophet_price</th>\n",
       "    </tr>\n",
       "  </thead>\n",
       "  <tbody>\n",
       "    <tr>\n",
       "      <th>0</th>\n",
       "      <td>2018-02-24</td>\n",
       "      <td>76032</td>\n",
       "      <td>4350.0</td>\n",
       "      <td>4387.229297</td>\n",
       "    </tr>\n",
       "    <tr>\n",
       "      <th>1</th>\n",
       "      <td>2018-02-25</td>\n",
       "      <td>76032</td>\n",
       "      <td>4350.0</td>\n",
       "      <td>4400.371964</td>\n",
       "    </tr>\n",
       "    <tr>\n",
       "      <th>2</th>\n",
       "      <td>2018-02-26</td>\n",
       "      <td>76032</td>\n",
       "      <td>4361.0</td>\n",
       "      <td>4392.387516</td>\n",
       "    </tr>\n",
       "    <tr>\n",
       "      <th>3</th>\n",
       "      <td>2018-02-27</td>\n",
       "      <td>76032</td>\n",
       "      <td>4361.0</td>\n",
       "      <td>4342.460691</td>\n",
       "    </tr>\n",
       "    <tr>\n",
       "      <th>4</th>\n",
       "      <td>2018-02-28</td>\n",
       "      <td>76032</td>\n",
       "      <td>4361.0</td>\n",
       "      <td>4224.837461</td>\n",
       "    </tr>\n",
       "  </tbody>\n",
       "</table>\n",
       "</div>"
      ],
      "text/plain": [
       "       dates    SKU  avg_price  prophet_price\n",
       "0 2018-02-24  76032     4350.0    4387.229297\n",
       "1 2018-02-25  76032     4350.0    4400.371964\n",
       "2 2018-02-26  76032     4361.0    4392.387516\n",
       "3 2018-02-27  76032     4361.0    4342.460691\n",
       "4 2018-02-28  76032     4361.0    4224.837461"
      ]
     },
     "execution_count": 17,
     "metadata": {},
     "output_type": "execute_result"
    }
   ],
   "source": [
    "df_data = (\n",
    "    df_transactions_agg\n",
    "    .loc[:, ['dates', 'SKU', 'avg_price']]\n",
    "    .merge(df_prophets_features, how='inner', on=['dates', 'SKU'])\n",
    ")\n",
    "df_data.head()"
   ]
  },
  {
   "cell_type": "code",
   "execution_count": 18,
   "metadata": {
    "ExecuteTime": {
     "end_time": "2021-04-08T15:28:15.176423Z",
     "start_time": "2021-04-08T15:28:15.138693Z"
    }
   },
   "outputs": [],
   "source": [
    "df_data['year'] = df_data['dates'].dt.year\n",
    "df_data['week_num'] = df_data['dates'].dt.isocalendar().week"
   ]
  },
  {
   "cell_type": "code",
   "execution_count": 19,
   "metadata": {
    "ExecuteTime": {
     "end_time": "2021-04-08T15:28:15.194885Z",
     "start_time": "2021-04-08T15:28:15.181998Z"
    }
   },
   "outputs": [],
   "source": [
    "df_canc['max_canc_price'] = (\n",
    "    np.stack(\n",
    "        [\n",
    "            df_canc['ret_net_1_price'],\n",
    "            df_canc['ret_net_2_price'],\n",
    "            df_canc['ret_net_3_price']\n",
    "        ],\n",
    "        axis=1,\n",
    "    )\n",
    "    .max(axis=1)\n",
    ")"
   ]
  },
  {
   "cell_type": "code",
   "execution_count": 20,
   "metadata": {
    "ExecuteTime": {
     "end_time": "2021-04-08T15:28:15.280503Z",
     "start_time": "2021-04-08T15:28:15.197701Z"
    }
   },
   "outputs": [
    {
     "data": {
      "text/html": [
       "<div>\n",
       "<style scoped>\n",
       "    .dataframe tbody tr th:only-of-type {\n",
       "        vertical-align: middle;\n",
       "    }\n",
       "\n",
       "    .dataframe tbody tr th {\n",
       "        vertical-align: top;\n",
       "    }\n",
       "\n",
       "    .dataframe thead th {\n",
       "        text-align: right;\n",
       "    }\n",
       "</style>\n",
       "<table border=\"1\" class=\"dataframe\">\n",
       "  <thead>\n",
       "    <tr style=\"text-align: right;\">\n",
       "      <th></th>\n",
       "      <th>dates</th>\n",
       "      <th>SKU</th>\n",
       "      <th>avg_price</th>\n",
       "      <th>prophet_price</th>\n",
       "      <th>year</th>\n",
       "      <th>week_num</th>\n",
       "      <th>discount</th>\n",
       "      <th>ret_net_1_price</th>\n",
       "      <th>ret_net_2_price</th>\n",
       "      <th>ret_net_3_price</th>\n",
       "      <th>max_canc_price</th>\n",
       "    </tr>\n",
       "  </thead>\n",
       "  <tbody>\n",
       "    <tr>\n",
       "      <th>0</th>\n",
       "      <td>2018-02-24</td>\n",
       "      <td>76032</td>\n",
       "      <td>4350.0</td>\n",
       "      <td>4387.229297</td>\n",
       "      <td>2018</td>\n",
       "      <td>8</td>\n",
       "      <td>NaN</td>\n",
       "      <td>NaN</td>\n",
       "      <td>NaN</td>\n",
       "      <td>NaN</td>\n",
       "      <td>NaN</td>\n",
       "    </tr>\n",
       "    <tr>\n",
       "      <th>1</th>\n",
       "      <td>2018-02-25</td>\n",
       "      <td>76032</td>\n",
       "      <td>4350.0</td>\n",
       "      <td>4400.371964</td>\n",
       "      <td>2018</td>\n",
       "      <td>8</td>\n",
       "      <td>NaN</td>\n",
       "      <td>NaN</td>\n",
       "      <td>NaN</td>\n",
       "      <td>NaN</td>\n",
       "      <td>NaN</td>\n",
       "    </tr>\n",
       "    <tr>\n",
       "      <th>2</th>\n",
       "      <td>2018-02-26</td>\n",
       "      <td>76032</td>\n",
       "      <td>4361.0</td>\n",
       "      <td>4392.387516</td>\n",
       "      <td>2018</td>\n",
       "      <td>9</td>\n",
       "      <td>NaN</td>\n",
       "      <td>NaN</td>\n",
       "      <td>NaN</td>\n",
       "      <td>NaN</td>\n",
       "      <td>NaN</td>\n",
       "    </tr>\n",
       "    <tr>\n",
       "      <th>3</th>\n",
       "      <td>2018-02-27</td>\n",
       "      <td>76032</td>\n",
       "      <td>4361.0</td>\n",
       "      <td>4342.460691</td>\n",
       "      <td>2018</td>\n",
       "      <td>9</td>\n",
       "      <td>NaN</td>\n",
       "      <td>NaN</td>\n",
       "      <td>NaN</td>\n",
       "      <td>NaN</td>\n",
       "      <td>NaN</td>\n",
       "    </tr>\n",
       "    <tr>\n",
       "      <th>4</th>\n",
       "      <td>2018-02-28</td>\n",
       "      <td>76032</td>\n",
       "      <td>4361.0</td>\n",
       "      <td>4224.837461</td>\n",
       "      <td>2018</td>\n",
       "      <td>9</td>\n",
       "      <td>NaN</td>\n",
       "      <td>NaN</td>\n",
       "      <td>NaN</td>\n",
       "      <td>NaN</td>\n",
       "      <td>NaN</td>\n",
       "    </tr>\n",
       "  </tbody>\n",
       "</table>\n",
       "</div>"
      ],
      "text/plain": [
       "       dates    SKU  avg_price  prophet_price  year  week_num  discount  \\\n",
       "0 2018-02-24  76032     4350.0    4387.229297  2018         8       NaN   \n",
       "1 2018-02-25  76032     4350.0    4400.371964  2018         8       NaN   \n",
       "2 2018-02-26  76032     4361.0    4392.387516  2018         9       NaN   \n",
       "3 2018-02-27  76032     4361.0    4342.460691  2018         9       NaN   \n",
       "4 2018-02-28  76032     4361.0    4224.837461  2018         9       NaN   \n",
       "\n",
       "   ret_net_1_price  ret_net_2_price  ret_net_3_price  max_canc_price  \n",
       "0              NaN              NaN              NaN             NaN  \n",
       "1              NaN              NaN              NaN             NaN  \n",
       "2              NaN              NaN              NaN             NaN  \n",
       "3              NaN              NaN              NaN             NaN  \n",
       "4              NaN              NaN              NaN             NaN  "
      ]
     },
     "execution_count": 20,
     "metadata": {},
     "output_type": "execute_result"
    }
   ],
   "source": [
    "df_data = (\n",
    "    df_data\n",
    "    .merge(\n",
    "        df_promo,\n",
    "        how='left',\n",
    "        on=['SKU', 'year', 'week_num'],\n",
    "        validate='m:1',\n",
    "    )\n",
    "    .merge(\n",
    "        df_canc,\n",
    "        how='left',\n",
    "        on=['SKU', 'year', 'week_num'],\n",
    "        validate='m:1',\n",
    "    )\n",
    ")\n",
    "df_data.head()"
   ]
  },
  {
   "cell_type": "code",
   "execution_count": 21,
   "metadata": {
    "ExecuteTime": {
     "end_time": "2021-04-08T15:28:15.291584Z",
     "start_time": "2021-04-08T15:28:15.282462Z"
    }
   },
   "outputs": [],
   "source": [
    "df_data = df_data.fillna(0.0)"
   ]
  },
  {
   "cell_type": "code",
   "execution_count": 22,
   "metadata": {
    "ExecuteTime": {
     "end_time": "2021-04-08T15:28:15.302297Z",
     "start_time": "2021-04-08T15:28:15.295560Z"
    }
   },
   "outputs": [],
   "source": [
    "list_features = [\n",
    "    'prophet_price',\n",
    "    'discount',\n",
    "    'max_canc_price',\n",
    "]"
   ]
  },
  {
   "cell_type": "code",
   "execution_count": 23,
   "metadata": {
    "ExecuteTime": {
     "end_time": "2021-04-08T15:28:15.319958Z",
     "start_time": "2021-04-08T15:28:15.307799Z"
    }
   },
   "outputs": [],
   "source": [
    "X = df_data.loc[:, list_features]\n",
    "y = df_data.loc[:, 'avg_price']"
   ]
  },
  {
   "cell_type": "code",
   "execution_count": 24,
   "metadata": {
    "ExecuteTime": {
     "end_time": "2021-04-08T15:28:15.342709Z",
     "start_time": "2021-04-08T15:28:15.322763Z"
    }
   },
   "outputs": [
    {
     "data": {
      "text/plain": [
       "((62295, 3), (16772, 3), (16772, 3))"
      ]
     },
     "execution_count": 24,
     "metadata": {},
     "output_type": "execute_result"
    }
   ],
   "source": [
    "(\n",
    "    X_train, X_tmp,\n",
    "    y_train, y_tmp,\n",
    ") = train_test_split(\n",
    "    X, y,\n",
    "    test_size=0.35,\n",
    "    random_state=seed,\n",
    ")\n",
    "(\n",
    "    X_valid, X_test,\n",
    "    y_valid, y_test,\n",
    ") = train_test_split(\n",
    "    X_tmp, y_tmp,\n",
    "    test_size=0.5,\n",
    "    random_state=seed,\n",
    ")\n",
    "X_train.shape, X_valid.shape, X_test.shape"
   ]
  },
  {
   "cell_type": "code",
   "execution_count": 25,
   "metadata": {
    "ExecuteTime": {
     "end_time": "2021-04-08T15:28:17.833511Z",
     "start_time": "2021-04-08T15:28:15.346878Z"
    }
   },
   "outputs": [
    {
     "name": "stdout",
     "output_type": "stream",
     "text": [
      "Training until validation scores don't improve for 100 rounds\n",
      "[100]\ttrain's rmse: 213.771\tvalid's rmse: 214.412\n",
      "[200]\ttrain's rmse: 212.871\tvalid's rmse: 213.315\n",
      "[300]\ttrain's rmse: 212.535\tvalid's rmse: 212.889\n",
      "[400]\ttrain's rmse: 212.371\tvalid's rmse: 212.671\n",
      "[500]\ttrain's rmse: 212.246\tvalid's rmse: 212.525\n",
      "[600]\ttrain's rmse: 212.155\tvalid's rmse: 212.421\n",
      "[700]\ttrain's rmse: 212.09\tvalid's rmse: 212.356\n",
      "[800]\ttrain's rmse: 212.041\tvalid's rmse: 212.318\n",
      "[900]\ttrain's rmse: 212.006\tvalid's rmse: 212.275\n",
      "[1000]\ttrain's rmse: 211.97\tvalid's rmse: 212.255\n",
      "Early stopping, best iteration is:\n",
      "[976]\ttrain's rmse: 211.981\tvalid's rmse: 212.249\n"
     ]
    }
   ],
   "source": [
    "lgb_train = Dataset(data=X_train, label=y_train)\n",
    "lgb_valid = Dataset(data=X_test, label=y_test, reference=lgb_train)\n",
    "lgb_model = train(\n",
    "    params={\n",
    "        'objective': 'regression',\n",
    "        'metric': 'rmse',\n",
    "        'seed': seed,\n",
    "        'verbosity': -1,\n",
    "    },\n",
    "    train_set=lgb_train,\n",
    "    num_boost_round=100_000,\n",
    "    valid_sets=[lgb_train, lgb_valid],\n",
    "    valid_names=['train', 'valid'],\n",
    "    early_stopping_rounds=100,\n",
    "    verbose_eval=100,\n",
    ")"
   ]
  },
  {
   "cell_type": "code",
   "execution_count": 26,
   "metadata": {
    "ExecuteTime": {
     "end_time": "2021-04-08T15:28:18.233296Z",
     "start_time": "2021-04-08T15:28:17.836502Z"
    }
   },
   "outputs": [
    {
     "data": {
      "text/html": [
       "<div>\n",
       "<style scoped>\n",
       "    .dataframe tbody tr th:only-of-type {\n",
       "        vertical-align: middle;\n",
       "    }\n",
       "\n",
       "    .dataframe tbody tr th {\n",
       "        vertical-align: top;\n",
       "    }\n",
       "\n",
       "    .dataframe thead th {\n",
       "        text-align: right;\n",
       "    }\n",
       "</style>\n",
       "<table border=\"1\" class=\"dataframe\">\n",
       "  <thead>\n",
       "    <tr style=\"text-align: right;\">\n",
       "      <th></th>\n",
       "      <th>dates</th>\n",
       "      <th>SKU</th>\n",
       "      <th>avg_price</th>\n",
       "      <th>prophet_price</th>\n",
       "      <th>lgb_price</th>\n",
       "    </tr>\n",
       "  </thead>\n",
       "  <tbody>\n",
       "    <tr>\n",
       "      <th>88591</th>\n",
       "      <td>2019-11-21</td>\n",
       "      <td>89727</td>\n",
       "      <td>4366.0</td>\n",
       "      <td>4482.651919</td>\n",
       "      <td>4329.273631</td>\n",
       "    </tr>\n",
       "    <tr>\n",
       "      <th>28350</th>\n",
       "      <td>2019-08-11</td>\n",
       "      <td>74578</td>\n",
       "      <td>1746.0</td>\n",
       "      <td>1746.973269</td>\n",
       "      <td>1735.665077</td>\n",
       "    </tr>\n",
       "    <tr>\n",
       "      <th>26538</th>\n",
       "      <td>2019-08-06</td>\n",
       "      <td>92847</td>\n",
       "      <td>925.0</td>\n",
       "      <td>1100.499398</td>\n",
       "      <td>1173.515685</td>\n",
       "    </tr>\n",
       "    <tr>\n",
       "      <th>56478</th>\n",
       "      <td>2019-10-07</td>\n",
       "      <td>46354</td>\n",
       "      <td>4410.0</td>\n",
       "      <td>4502.797202</td>\n",
       "      <td>4407.368323</td>\n",
       "    </tr>\n",
       "    <tr>\n",
       "      <th>93591</th>\n",
       "      <td>2019-11-28</td>\n",
       "      <td>25684</td>\n",
       "      <td>2335.0</td>\n",
       "      <td>1487.484515</td>\n",
       "      <td>2267.388560</td>\n",
       "    </tr>\n",
       "  </tbody>\n",
       "</table>\n",
       "</div>"
      ],
      "text/plain": [
       "           dates    SKU  avg_price  prophet_price    lgb_price\n",
       "88591 2019-11-21  89727     4366.0    4482.651919  4329.273631\n",
       "28350 2019-08-11  74578     1746.0    1746.973269  1735.665077\n",
       "26538 2019-08-06  92847      925.0    1100.499398  1173.515685\n",
       "56478 2019-10-07  46354     4410.0    4502.797202  4407.368323\n",
       "93591 2019-11-28  25684     2335.0    1487.484515  2267.388560"
      ]
     },
     "execution_count": 26,
     "metadata": {},
     "output_type": "execute_result"
    }
   ],
   "source": [
    "df_pred = df_data.loc[X_test.index, ['dates', 'SKU', 'avg_price', 'prophet_price']]\n",
    "df_pred['lgb_price'] = lgb_model.predict(X_test)\n",
    "df_pred.head()"
   ]
  },
  {
   "cell_type": "code",
   "execution_count": 27,
   "metadata": {
    "ExecuteTime": {
     "end_time": "2021-04-08T15:28:18.505344Z",
     "start_time": "2021-04-08T15:28:18.237540Z"
    }
   },
   "outputs": [
    {
     "data": {
      "text/plain": [
       "<matplotlib.axes._subplots.AxesSubplot at 0x7f3031181fd0>"
      ]
     },
     "execution_count": 27,
     "metadata": {},
     "output_type": "execute_result"
    },
    {
     "data": {
      "image/png": "[encoded data removed]",
      "text/plain": [
       "<Figure size 432x288 with 1 Axes>"
      ]
     },
     "metadata": {
      "needs_background": "light"
     },
     "output_type": "display_data"
    }
   ],
   "source": [
    "df_pred[df_pred['SKU'] == 26677].pivot(index='dates', columns='SKU', values=df_pred.columns[2:]).plot()"
   ]
  },
  {
   "cell_type": "code",
   "execution_count": null,
   "metadata": {},
   "outputs": [],
   "source": []
  },
  {
   "cell_type": "code",
   "execution_count": 28,
   "metadata": {
    "ExecuteTime": {
     "end_time": "2021-04-08T15:28:18.511205Z",
     "start_time": "2021-04-08T15:28:18.507725Z"
    }
   },
   "outputs": [],
   "source": [
    "batches = {}"
   ]
  },
  {
   "cell_type": "code",
   "execution_count": 29,
   "metadata": {
    "ExecuteTime": {
     "end_time": "2021-04-08T15:28:18.522885Z",
     "start_time": "2021-04-08T15:28:18.513872Z"
    }
   },
   "outputs": [],
   "source": [
    "def prophet_predict(df_batch: pd.DataFrame, sku: int) -> pd.DataFrame:\n",
    "    df_train = (\n",
    "        df_transactions_agg\n",
    "        .loc[df_transactions_agg['SKU'] == sku, ['dates', 'avg_true_price']]\n",
    "        .rename(columns={'dates': 'ds', 'avg_true_price': 'y'})\n",
    "        .sort_values('ds')\n",
    "    )\n",
    "    \n",
    "    df_test = df_batch.loc[df_batch['SKU'] == sku, ['dates']]\n",
    "    df_test.columns = ['ds']\n",
    "    \n",
    "    prothet_model = (\n",
    "        Prophet(\n",
    "            daily_seasonality=False,\n",
    "            weekly_seasonality=False,\n",
    "            yearly_seasonality=False,\n",
    "            interval_width=0.5,\n",
    "        )\n",
    "        .add_country_holidays('RU')\n",
    "        .add_seasonality(\n",
    "            name='quarter',\n",
    "            period=362.25/4,\n",
    "            fourier_order=5,\n",
    "            prior_scale=15,\n",
    "        )\n",
    "    )\n",
    "    prothet_model.fit(df_train)\n",
    "    return prothet_model.predict(df_test)"
   ]
  },
  {
   "cell_type": "code",
   "execution_count": 35,
   "metadata": {
    "ExecuteTime": {
     "end_time": "2021-04-08T19:39:29.685609Z",
     "start_time": "2021-04-08T16:29:06.834257Z"
    },
    "scrolled": true
   },
   "outputs": [
    {
     "name": "stdout",
     "output_type": "stream",
     "text": [
      "Batch #0\n",
      "(9737, 3)\n",
      "(826, 2)\n",
      "(826, 10)\n",
      "(9737, 4)\n",
      "Batch #1\n",
      "(9738, 3)\n",
      "(826, 2)\n",
      "(826, 10)\n",
      "(9738, 4)\n",
      "Batch #2\n",
      "(9735, 3)\n",
      "(826, 2)\n",
      "(826, 10)\n",
      "(9735, 4)\n",
      "Batch #3\n",
      "(9738, 3)\n",
      "(826, 2)\n",
      "(826, 10)\n",
      "(9738, 4)\n",
      "Batch #4\n",
      "(9738, 3)\n",
      "(826, 2)\n",
      "(826, 10)\n",
      "(9738, 4)\n",
      "Batch #5\n",
      "(9739, 3)\n",
      "(826, 2)\n",
      "(826, 10)\n",
      "(9739, 4)\n",
      "Batch #6\n",
      "(9739, 3)\n",
      "(826, 2)\n",
      "(826, 10)\n",
      "(9739, 4)\n",
      "Batch #7\n",
      "(9720, 3)\n",
      "(824, 2)\n",
      "(824, 10)\n",
      "(9720, 4)\n",
      "Batch #8\n",
      "(9697, 3)\n",
      "(822, 2)\n",
      "(822, 10)\n",
      "(9697, 4)\n",
      "Batch #9\n",
      "(9698, 3)\n",
      "(822, 2)\n",
      "(822, 10)\n",
      "(9698, 4)\n",
      "Batch #10\n",
      "(9694, 3)\n",
      "(822, 2)\n",
      "(822, 10)\n",
      "(9694, 4)\n",
      "Batch #11\n",
      "(9686, 3)\n",
      "(820, 2)\n",
      "(820, 10)\n",
      "(9686, 4)\n",
      "Batch #12\n",
      "(9668, 3)\n",
      "(819, 2)\n",
      "(819, 10)\n",
      "(9668, 4)\n",
      "Batch #13\n",
      "(9673, 3)\n",
      "(819, 2)\n",
      "(819, 10)\n",
      "(9673, 4)\n",
      "Batch #14\n",
      "(9669, 3)\n",
      "(819, 2)\n",
      "(819, 10)\n",
      "(9669, 4)\n",
      "Batch #15\n",
      "(9655, 3)\n",
      "(818, 2)\n",
      "(818, 10)\n",
      "(9655, 4)\n",
      "Batch #16\n",
      "(9658, 3)\n",
      "(818, 2)\n",
      "(818, 10)\n",
      "(9658, 4)\n",
      "Batch #17\n",
      "(9658, 3)\n",
      "(818, 2)\n",
      "(818, 10)\n",
      "(9658, 4)\n",
      "Batch #18\n",
      "(9656, 3)\n",
      "(818, 2)\n",
      "(818, 10)\n",
      "(9656, 4)\n",
      "Batch #19\n",
      "(9631, 3)\n",
      "(816, 2)\n",
      "(816, 10)\n",
      "(9631, 4)\n",
      "Batch #20\n",
      "(9634, 3)\n",
      "(816, 2)\n",
      "(816, 10)\n",
      "(9634, 4)\n",
      "Batch #21\n",
      "(9615, 3)\n",
      "(814, 2)\n",
      "(814, 10)\n",
      "(9615, 4)\n",
      "Batch #22\n",
      "(9613, 3)\n",
      "(814, 2)\n",
      "(814, 10)\n",
      "(9613, 4)\n",
      "Batch #23\n",
      "(9614, 3)\n",
      "(814, 2)\n",
      "(814, 10)\n",
      "(9614, 4)\n",
      "Batch #24\n",
      "(9615, 3)\n",
      "(814, 2)\n",
      "(814, 10)\n",
      "(9615, 4)\n",
      "Batch #25\n",
      "(9616, 3)\n",
      "(814, 2)\n",
      "(814, 10)\n",
      "(9616, 4)\n",
      "Batch #26\n",
      "(9607, 3)\n",
      "(813, 2)\n",
      "(813, 10)\n",
      "(9607, 4)\n",
      "Batch #27\n",
      "(9606, 3)\n",
      "(813, 2)\n",
      "(813, 10)\n",
      "(9606, 4)\n",
      "Batch #28\n",
      "(9592, 3)\n",
      "(812, 2)\n",
      "(812, 10)\n",
      "(9592, 4)\n",
      "Batch #29\n",
      "(9584, 3)\n",
      "(811, 2)\n",
      "(811, 10)\n",
      "(9584, 4)\n",
      "Done!\n"
     ]
    }
   ],
   "source": [
    "assert server_start()['status'] == 'ok'\n",
    "i = 0\n",
    "while True:\n",
    "    response = get_batch()\n",
    "    if (\n",
    "        isinstance(response, dict) \n",
    "        and response['status'] == 'batch processing finished'\n",
    "    ):\n",
    "        break\n",
    "    print(f'Batch #{i}')\n",
    "    df_batch = pd.read_json(response)\n",
    "    df_batch['dates'] = pd.to_datetime(df_batch['dates'])\n",
    "    print(df_batch.shape)\n",
    "    \n",
    "    df_data = df_batch[['dates', 'SKU']].drop_duplicates(['dates', 'SKU'])\n",
    "    print(df_data.shape)\n",
    "    \n",
    "    list_sku = list(df_data['SKU'].unique())    \n",
    "    results = {}\n",
    "    with ProcessPoolExecutor(max_workers=5) as executor:\n",
    "        futures = {executor.submit(prophet_predict, df_data, sku): sku for sku in list_sku}\n",
    "        for future in as_completed(futures):\n",
    "            sku = futures[future]\n",
    "            try:\n",
    "                results[sku] = future.result()\n",
    "            except Exception as exc:\n",
    "                print(f'{sku} generated an exception: {exc}')\n",
    "    \n",
    "    df_prophets_features = pd.concat(\n",
    "        [results[sku].assign(SKU=sku) for sku in results],\n",
    "        ignore_index=True,\n",
    "    )\n",
    "    df_prophets_features = df_prophets_features.loc[:, ['ds', 'SKU', 'yhat']]\n",
    "    df_prophets_features = df_prophets_features.rename(columns={'ds': 'dates', 'yhat': 'prophet_price'})\n",
    "    del results\n",
    "    \n",
    "    df_data = (\n",
    "        df_data\n",
    "        .merge(df_prophets_features, how='inner', on=['dates', 'SKU'])\n",
    "    )\n",
    "    df_data['year'] = df_data['dates'].dt.year\n",
    "    df_data['week_num'] = df_data['dates'].dt.isocalendar().week    \n",
    "    df_data = (\n",
    "        df_data\n",
    "        .merge(\n",
    "            df_promo,\n",
    "            how='left',\n",
    "            on=['SKU', 'year', 'week_num'],\n",
    "            validate='m:1',\n",
    "        )\n",
    "        .merge(\n",
    "            df_canc,\n",
    "            how='left',\n",
    "            on=['SKU', 'year', 'week_num'],\n",
    "            validate='m:1',\n",
    "        )\n",
    "    )\n",
    "    df_data = df_data.fillna(0.0)\n",
    "    print(df_data.shape)\n",
    "    \n",
    "    df_data['price'] = lgb_model.predict(df_data[list_features])\n",
    "    \n",
    "    df_batch = df_batch.merge(df_data[['dates', 'SKU', 'price']], how='inner', on=['dates', 'SKU'])\n",
    "    del df_data\n",
    "    print(df_batch.shape)\n",
    "    \n",
    "    response = send_submit(df_batch)\n",
    "    if response['status'] == 'ok':\n",
    "        df_result = pd.read_json(get_result())\n",
    "    i += 1\n",
    "print('Done!')"
   ]
  },
  {
   "cell_type": "markdown",
   "metadata": {},
   "source": [
    "# Базовый подход"
   ]
  },
  {
   "cell_type": "markdown",
   "metadata": {},
   "source": [
    "## Готовим данные"
   ]
  },
  {
   "cell_type": "code",
   "execution_count": 7,
   "metadata": {
    "ExecuteTime": {
     "end_time": "2021-04-06T13:44:23.869625Z",
     "start_time": "2021-04-06T13:44:23.186093Z"
    }
   },
   "outputs": [
    {
     "name": "stdout",
     "output_type": "stream",
     "text": [
      "<class 'pandas.core.frame.DataFrame'>\n",
      "RangeIndex: 1334260 entries, 0 to 1334259\n",
      "Data columns (total 4 columns):\n",
      " #   Column  Non-Null Count    Dtype  \n",
      "---  ------  --------------    -----  \n",
      " 0   dates   1334260 non-null  object \n",
      " 1   SKU     1334260 non-null  int64  \n",
      " 2   user    1334260 non-null  int64  \n",
      " 3   price   1334260 non-null  float64\n",
      "dtypes: float64(1), int64(2), object(1)\n",
      "memory usage: 40.7+ MB\n"
     ]
    }
   ],
   "source": [
    "df_transactions = pd.read_csv('data/transactions.csv')\n",
    "df_transactions.info()"
   ]
  },
  {
   "cell_type": "code",
   "execution_count": 8,
   "metadata": {
    "ExecuteTime": {
     "end_time": "2021-04-06T13:44:24.070153Z",
     "start_time": "2021-04-06T13:44:23.872355Z"
    }
   },
   "outputs": [
    {
     "data": {
      "text/html": [
       "<div>\n",
       "<style scoped>\n",
       "    .dataframe tbody tr th:only-of-type {\n",
       "        vertical-align: middle;\n",
       "    }\n",
       "\n",
       "    .dataframe tbody tr th {\n",
       "        vertical-align: top;\n",
       "    }\n",
       "\n",
       "    .dataframe thead th {\n",
       "        text-align: right;\n",
       "    }\n",
       "</style>\n",
       "<table border=\"1\" class=\"dataframe\">\n",
       "  <thead>\n",
       "    <tr style=\"text-align: right;\">\n",
       "      <th></th>\n",
       "      <th>dates</th>\n",
       "      <th>SKU</th>\n",
       "      <th>user</th>\n",
       "      <th>price</th>\n",
       "    </tr>\n",
       "  </thead>\n",
       "  <tbody>\n",
       "    <tr>\n",
       "      <th>0</th>\n",
       "      <td>2018-11-09</td>\n",
       "      <td>16019</td>\n",
       "      <td>44796</td>\n",
       "      <td>1252.0</td>\n",
       "    </tr>\n",
       "    <tr>\n",
       "      <th>1</th>\n",
       "      <td>2018-11-09</td>\n",
       "      <td>16019</td>\n",
       "      <td>44510</td>\n",
       "      <td>1252.0</td>\n",
       "    </tr>\n",
       "    <tr>\n",
       "      <th>2</th>\n",
       "      <td>2018-11-09</td>\n",
       "      <td>16019</td>\n",
       "      <td>19074</td>\n",
       "      <td>1252.0</td>\n",
       "    </tr>\n",
       "    <tr>\n",
       "      <th>3</th>\n",
       "      <td>2018-11-09</td>\n",
       "      <td>16019</td>\n",
       "      <td>34472</td>\n",
       "      <td>1252.0</td>\n",
       "    </tr>\n",
       "    <tr>\n",
       "      <th>4</th>\n",
       "      <td>2018-11-10</td>\n",
       "      <td>16019</td>\n",
       "      <td>48407</td>\n",
       "      <td>1252.0</td>\n",
       "    </tr>\n",
       "  </tbody>\n",
       "</table>\n",
       "</div>"
      ],
      "text/plain": [
       "       dates    SKU   user   price\n",
       "0 2018-11-09  16019  44796  1252.0\n",
       "1 2018-11-09  16019  44510  1252.0\n",
       "2 2018-11-09  16019  19074  1252.0\n",
       "3 2018-11-09  16019  34472  1252.0\n",
       "4 2018-11-10  16019  48407  1252.0"
      ]
     },
     "execution_count": 8,
     "metadata": {},
     "output_type": "execute_result"
    }
   ],
   "source": [
    "df_transactions['dates'] = pd.to_datetime(df_transactions['dates'])\n",
    "df_transactions.head()"
   ]
  },
  {
   "cell_type": "code",
   "execution_count": 9,
   "metadata": {
    "ExecuteTime": {
     "end_time": "2021-04-06T13:44:24.468207Z",
     "start_time": "2021-04-06T13:44:24.165794Z"
    }
   },
   "outputs": [
    {
     "data": {
      "text/html": [
       "<div>\n",
       "<style scoped>\n",
       "    .dataframe tbody tr th:only-of-type {\n",
       "        vertical-align: middle;\n",
       "    }\n",
       "\n",
       "    .dataframe tbody tr th {\n",
       "        vertical-align: top;\n",
       "    }\n",
       "\n",
       "    .dataframe thead th {\n",
       "        text-align: right;\n",
       "    }\n",
       "</style>\n",
       "<table border=\"1\" class=\"dataframe\">\n",
       "  <thead>\n",
       "    <tr style=\"text-align: right;\">\n",
       "      <th></th>\n",
       "      <th>dates</th>\n",
       "      <th>SKU</th>\n",
       "      <th>price</th>\n",
       "    </tr>\n",
       "  </thead>\n",
       "  <tbody>\n",
       "    <tr>\n",
       "      <th>0</th>\n",
       "      <td>2018-01-01</td>\n",
       "      <td>67369</td>\n",
       "      <td>3607.0</td>\n",
       "    </tr>\n",
       "    <tr>\n",
       "      <th>1</th>\n",
       "      <td>2018-01-02</td>\n",
       "      <td>67369</td>\n",
       "      <td>3607.0</td>\n",
       "    </tr>\n",
       "    <tr>\n",
       "      <th>2</th>\n",
       "      <td>2018-01-03</td>\n",
       "      <td>26629</td>\n",
       "      <td>1126.0</td>\n",
       "    </tr>\n",
       "    <tr>\n",
       "      <th>3</th>\n",
       "      <td>2018-01-03</td>\n",
       "      <td>41262</td>\n",
       "      <td>3473.0</td>\n",
       "    </tr>\n",
       "    <tr>\n",
       "      <th>4</th>\n",
       "      <td>2018-01-03</td>\n",
       "      <td>67369</td>\n",
       "      <td>3607.0</td>\n",
       "    </tr>\n",
       "  </tbody>\n",
       "</table>\n",
       "</div>"
      ],
      "text/plain": [
       "       dates    SKU   price\n",
       "0 2018-01-01  67369  3607.0\n",
       "1 2018-01-02  67369  3607.0\n",
       "2 2018-01-03  26629  1126.0\n",
       "3 2018-01-03  41262  3473.0\n",
       "4 2018-01-03  67369  3607.0"
      ]
     },
     "execution_count": 9,
     "metadata": {},
     "output_type": "execute_result"
    }
   ],
   "source": [
    "df_transactions_agg = (\n",
    "    df_transactions\n",
    "    .groupby(['dates', 'SKU'], as_index=False)\n",
    "    .agg(\n",
    "        price=('price', 'mean'),\n",
    "    )\n",
    ")\n",
    "df_transactions_agg.head()"
   ]
  },
  {
   "cell_type": "code",
   "execution_count": 10,
   "metadata": {
    "ExecuteTime": {
     "end_time": "2021-04-06T13:44:24.752887Z",
     "start_time": "2021-04-06T13:44:24.746410Z"
    }
   },
   "outputs": [],
   "source": [
    "n_lags = 12"
   ]
  },
  {
   "cell_type": "code",
   "execution_count": 11,
   "metadata": {
    "ExecuteTime": {
     "end_time": "2021-04-06T13:44:25.617254Z",
     "start_time": "2021-04-06T13:44:25.437966Z"
    }
   },
   "outputs": [
    {
     "data": {
      "text/html": [
       "<div>\n",
       "<style scoped>\n",
       "    .dataframe tbody tr th:only-of-type {\n",
       "        vertical-align: middle;\n",
       "    }\n",
       "\n",
       "    .dataframe tbody tr th {\n",
       "        vertical-align: top;\n",
       "    }\n",
       "\n",
       "    .dataframe thead th {\n",
       "        text-align: right;\n",
       "    }\n",
       "</style>\n",
       "<table border=\"1\" class=\"dataframe\">\n",
       "  <thead>\n",
       "    <tr style=\"text-align: right;\">\n",
       "      <th></th>\n",
       "      <th>dates</th>\n",
       "      <th>SKU</th>\n",
       "      <th>price</th>\n",
       "      <th>lag_1_price</th>\n",
       "      <th>lag_2_price</th>\n",
       "      <th>lag_3_price</th>\n",
       "      <th>lag_4_price</th>\n",
       "      <th>lag_5_price</th>\n",
       "      <th>lag_6_price</th>\n",
       "      <th>lag_7_price</th>\n",
       "      <th>lag_8_price</th>\n",
       "      <th>lag_9_price</th>\n",
       "      <th>lag_10_price</th>\n",
       "      <th>lag_11_price</th>\n",
       "    </tr>\n",
       "  </thead>\n",
       "  <tbody>\n",
       "    <tr>\n",
       "      <th>0</th>\n",
       "      <td>2018-01-01</td>\n",
       "      <td>67369</td>\n",
       "      <td>3607.0</td>\n",
       "      <td>NaN</td>\n",
       "      <td>NaN</td>\n",
       "      <td>NaN</td>\n",
       "      <td>NaN</td>\n",
       "      <td>NaN</td>\n",
       "      <td>NaN</td>\n",
       "      <td>NaN</td>\n",
       "      <td>NaN</td>\n",
       "      <td>NaN</td>\n",
       "      <td>NaN</td>\n",
       "      <td>NaN</td>\n",
       "    </tr>\n",
       "    <tr>\n",
       "      <th>1</th>\n",
       "      <td>2018-01-02</td>\n",
       "      <td>67369</td>\n",
       "      <td>3607.0</td>\n",
       "      <td>3607.0</td>\n",
       "      <td>NaN</td>\n",
       "      <td>NaN</td>\n",
       "      <td>NaN</td>\n",
       "      <td>NaN</td>\n",
       "      <td>NaN</td>\n",
       "      <td>NaN</td>\n",
       "      <td>NaN</td>\n",
       "      <td>NaN</td>\n",
       "      <td>NaN</td>\n",
       "      <td>NaN</td>\n",
       "    </tr>\n",
       "    <tr>\n",
       "      <th>2</th>\n",
       "      <td>2018-01-03</td>\n",
       "      <td>26629</td>\n",
       "      <td>1126.0</td>\n",
       "      <td>NaN</td>\n",
       "      <td>NaN</td>\n",
       "      <td>NaN</td>\n",
       "      <td>NaN</td>\n",
       "      <td>NaN</td>\n",
       "      <td>NaN</td>\n",
       "      <td>NaN</td>\n",
       "      <td>NaN</td>\n",
       "      <td>NaN</td>\n",
       "      <td>NaN</td>\n",
       "      <td>NaN</td>\n",
       "    </tr>\n",
       "    <tr>\n",
       "      <th>3</th>\n",
       "      <td>2018-01-03</td>\n",
       "      <td>41262</td>\n",
       "      <td>3473.0</td>\n",
       "      <td>NaN</td>\n",
       "      <td>NaN</td>\n",
       "      <td>NaN</td>\n",
       "      <td>NaN</td>\n",
       "      <td>NaN</td>\n",
       "      <td>NaN</td>\n",
       "      <td>NaN</td>\n",
       "      <td>NaN</td>\n",
       "      <td>NaN</td>\n",
       "      <td>NaN</td>\n",
       "      <td>NaN</td>\n",
       "    </tr>\n",
       "    <tr>\n",
       "      <th>4</th>\n",
       "      <td>2018-01-03</td>\n",
       "      <td>67369</td>\n",
       "      <td>3607.0</td>\n",
       "      <td>3607.0</td>\n",
       "      <td>3607.0</td>\n",
       "      <td>NaN</td>\n",
       "      <td>NaN</td>\n",
       "      <td>NaN</td>\n",
       "      <td>NaN</td>\n",
       "      <td>NaN</td>\n",
       "      <td>NaN</td>\n",
       "      <td>NaN</td>\n",
       "      <td>NaN</td>\n",
       "      <td>NaN</td>\n",
       "    </tr>\n",
       "  </tbody>\n",
       "</table>\n",
       "</div>"
      ],
      "text/plain": [
       "       dates    SKU   price  lag_1_price  lag_2_price  lag_3_price  \\\n",
       "0 2018-01-01  67369  3607.0          NaN          NaN          NaN   \n",
       "1 2018-01-02  67369  3607.0       3607.0          NaN          NaN   \n",
       "2 2018-01-03  26629  1126.0          NaN          NaN          NaN   \n",
       "3 2018-01-03  41262  3473.0          NaN          NaN          NaN   \n",
       "4 2018-01-03  67369  3607.0       3607.0       3607.0          NaN   \n",
       "\n",
       "   lag_4_price  lag_5_price  lag_6_price  lag_7_price  lag_8_price  \\\n",
       "0          NaN          NaN          NaN          NaN          NaN   \n",
       "1          NaN          NaN          NaN          NaN          NaN   \n",
       "2          NaN          NaN          NaN          NaN          NaN   \n",
       "3          NaN          NaN          NaN          NaN          NaN   \n",
       "4          NaN          NaN          NaN          NaN          NaN   \n",
       "\n",
       "   lag_9_price  lag_10_price  lag_11_price  \n",
       "0          NaN           NaN           NaN  \n",
       "1          NaN           NaN           NaN  \n",
       "2          NaN           NaN           NaN  \n",
       "3          NaN           NaN           NaN  \n",
       "4          NaN           NaN           NaN  "
      ]
     },
     "execution_count": 11,
     "metadata": {},
     "output_type": "execute_result"
    }
   ],
   "source": [
    "df_data = df_transactions_agg.copy()\n",
    "for n_lag in range(1, n_lags):\n",
    "    df_data[f'lag_{n_lag}_price'] = df_transactions_agg.groupby('SKU')['price'].shift(n_lag)\n",
    "df_data.head()"
   ]
  },
  {
   "cell_type": "code",
   "execution_count": 12,
   "metadata": {
    "ExecuteTime": {
     "end_time": "2021-04-06T13:44:26.353048Z",
     "start_time": "2021-04-06T13:44:26.271306Z"
    }
   },
   "outputs": [
    {
     "name": "stderr",
     "output_type": "stream",
     "text": [
      "/opt/tljh/user/lib/python3.7/site-packages/ipykernel_launcher.py:1: FutureWarning: Series.dt.weekofyear and Series.dt.week have been deprecated.  Please use Series.dt.isocalendar().week instead.\n",
      "  \"\"\"Entry point for launching an IPython kernel.\n"
     ]
    },
    {
     "data": {
      "text/html": [
       "<div>\n",
       "<style scoped>\n",
       "    .dataframe tbody tr th:only-of-type {\n",
       "        vertical-align: middle;\n",
       "    }\n",
       "\n",
       "    .dataframe tbody tr th {\n",
       "        vertical-align: top;\n",
       "    }\n",
       "\n",
       "    .dataframe thead th {\n",
       "        text-align: right;\n",
       "    }\n",
       "</style>\n",
       "<table border=\"1\" class=\"dataframe\">\n",
       "  <thead>\n",
       "    <tr style=\"text-align: right;\">\n",
       "      <th></th>\n",
       "      <th>dates</th>\n",
       "      <th>SKU</th>\n",
       "      <th>price</th>\n",
       "      <th>lag_1_price</th>\n",
       "      <th>lag_2_price</th>\n",
       "      <th>lag_3_price</th>\n",
       "      <th>lag_4_price</th>\n",
       "      <th>lag_5_price</th>\n",
       "      <th>lag_6_price</th>\n",
       "      <th>lag_7_price</th>\n",
       "      <th>lag_8_price</th>\n",
       "      <th>lag_9_price</th>\n",
       "      <th>lag_10_price</th>\n",
       "      <th>lag_11_price</th>\n",
       "      <th>week_num</th>\n",
       "      <th>dates_int</th>\n",
       "    </tr>\n",
       "  </thead>\n",
       "  <tbody>\n",
       "    <tr>\n",
       "      <th>0</th>\n",
       "      <td>2018-01-01</td>\n",
       "      <td>67369</td>\n",
       "      <td>3607.0</td>\n",
       "      <td>NaN</td>\n",
       "      <td>NaN</td>\n",
       "      <td>NaN</td>\n",
       "      <td>NaN</td>\n",
       "      <td>NaN</td>\n",
       "      <td>NaN</td>\n",
       "      <td>NaN</td>\n",
       "      <td>NaN</td>\n",
       "      <td>NaN</td>\n",
       "      <td>NaN</td>\n",
       "      <td>NaN</td>\n",
       "      <td>1</td>\n",
       "      <td>1514764800000000000</td>\n",
       "    </tr>\n",
       "    <tr>\n",
       "      <th>1</th>\n",
       "      <td>2018-01-02</td>\n",
       "      <td>67369</td>\n",
       "      <td>3607.0</td>\n",
       "      <td>3607.0</td>\n",
       "      <td>NaN</td>\n",
       "      <td>NaN</td>\n",
       "      <td>NaN</td>\n",
       "      <td>NaN</td>\n",
       "      <td>NaN</td>\n",
       "      <td>NaN</td>\n",
       "      <td>NaN</td>\n",
       "      <td>NaN</td>\n",
       "      <td>NaN</td>\n",
       "      <td>NaN</td>\n",
       "      <td>1</td>\n",
       "      <td>1514851200000000000</td>\n",
       "    </tr>\n",
       "    <tr>\n",
       "      <th>2</th>\n",
       "      <td>2018-01-03</td>\n",
       "      <td>26629</td>\n",
       "      <td>1126.0</td>\n",
       "      <td>NaN</td>\n",
       "      <td>NaN</td>\n",
       "      <td>NaN</td>\n",
       "      <td>NaN</td>\n",
       "      <td>NaN</td>\n",
       "      <td>NaN</td>\n",
       "      <td>NaN</td>\n",
       "      <td>NaN</td>\n",
       "      <td>NaN</td>\n",
       "      <td>NaN</td>\n",
       "      <td>NaN</td>\n",
       "      <td>1</td>\n",
       "      <td>1514937600000000000</td>\n",
       "    </tr>\n",
       "    <tr>\n",
       "      <th>3</th>\n",
       "      <td>2018-01-03</td>\n",
       "      <td>41262</td>\n",
       "      <td>3473.0</td>\n",
       "      <td>NaN</td>\n",
       "      <td>NaN</td>\n",
       "      <td>NaN</td>\n",
       "      <td>NaN</td>\n",
       "      <td>NaN</td>\n",
       "      <td>NaN</td>\n",
       "      <td>NaN</td>\n",
       "      <td>NaN</td>\n",
       "      <td>NaN</td>\n",
       "      <td>NaN</td>\n",
       "      <td>NaN</td>\n",
       "      <td>1</td>\n",
       "      <td>1514937600000000000</td>\n",
       "    </tr>\n",
       "    <tr>\n",
       "      <th>4</th>\n",
       "      <td>2018-01-03</td>\n",
       "      <td>67369</td>\n",
       "      <td>3607.0</td>\n",
       "      <td>3607.0</td>\n",
       "      <td>3607.0</td>\n",
       "      <td>NaN</td>\n",
       "      <td>NaN</td>\n",
       "      <td>NaN</td>\n",
       "      <td>NaN</td>\n",
       "      <td>NaN</td>\n",
       "      <td>NaN</td>\n",
       "      <td>NaN</td>\n",
       "      <td>NaN</td>\n",
       "      <td>NaN</td>\n",
       "      <td>1</td>\n",
       "      <td>1514937600000000000</td>\n",
       "    </tr>\n",
       "  </tbody>\n",
       "</table>\n",
       "</div>"
      ],
      "text/plain": [
       "       dates    SKU   price  lag_1_price  lag_2_price  lag_3_price  \\\n",
       "0 2018-01-01  67369  3607.0          NaN          NaN          NaN   \n",
       "1 2018-01-02  67369  3607.0       3607.0          NaN          NaN   \n",
       "2 2018-01-03  26629  1126.0          NaN          NaN          NaN   \n",
       "3 2018-01-03  41262  3473.0          NaN          NaN          NaN   \n",
       "4 2018-01-03  67369  3607.0       3607.0       3607.0          NaN   \n",
       "\n",
       "   lag_4_price  lag_5_price  lag_6_price  lag_7_price  lag_8_price  \\\n",
       "0          NaN          NaN          NaN          NaN          NaN   \n",
       "1          NaN          NaN          NaN          NaN          NaN   \n",
       "2          NaN          NaN          NaN          NaN          NaN   \n",
       "3          NaN          NaN          NaN          NaN          NaN   \n",
       "4          NaN          NaN          NaN          NaN          NaN   \n",
       "\n",
       "   lag_9_price  lag_10_price  lag_11_price week_num            dates_int  \n",
       "0          NaN           NaN           NaN        1  1514764800000000000  \n",
       "1          NaN           NaN           NaN        1  1514851200000000000  \n",
       "2          NaN           NaN           NaN        1  1514937600000000000  \n",
       "3          NaN           NaN           NaN        1  1514937600000000000  \n",
       "4          NaN           NaN           NaN        1  1514937600000000000  "
      ]
     },
     "execution_count": 12,
     "metadata": {},
     "output_type": "execute_result"
    }
   ],
   "source": [
    "df_data['week_num'] = df_data['dates'].dt.week.astype('category')\n",
    "df_data['dates_int'] = df_data['dates'].astype(int)\n",
    "df_data.head()"
   ]
  },
  {
   "cell_type": "code",
   "execution_count": 13,
   "metadata": {
    "ExecuteTime": {
     "end_time": "2021-04-06T13:44:26.845987Z",
     "start_time": "2021-04-06T13:44:26.834842Z"
    }
   },
   "outputs": [
    {
     "data": {
      "text/plain": [
       "(1514764800000000000, 1575072000000000000)"
      ]
     },
     "execution_count": 13,
     "metadata": {},
     "output_type": "execute_result"
    }
   ],
   "source": [
    "df_data['dates_int'].min(), df_data['dates_int'].max()"
   ]
  },
  {
   "cell_type": "code",
   "execution_count": 14,
   "metadata": {
    "ExecuteTime": {
     "end_time": "2021-04-06T13:44:27.426921Z",
     "start_time": "2021-04-06T13:44:27.390406Z"
    }
   },
   "outputs": [
    {
     "data": {
      "text/html": [
       "<div>\n",
       "<style scoped>\n",
       "    .dataframe tbody tr th:only-of-type {\n",
       "        vertical-align: middle;\n",
       "    }\n",
       "\n",
       "    .dataframe tbody tr th {\n",
       "        vertical-align: top;\n",
       "    }\n",
       "\n",
       "    .dataframe thead th {\n",
       "        text-align: right;\n",
       "    }\n",
       "</style>\n",
       "<table border=\"1\" class=\"dataframe\">\n",
       "  <thead>\n",
       "    <tr style=\"text-align: right;\">\n",
       "      <th></th>\n",
       "      <th>dates</th>\n",
       "      <th>SKU</th>\n",
       "      <th>price</th>\n",
       "      <th>lag_1_price</th>\n",
       "      <th>lag_2_price</th>\n",
       "      <th>lag_3_price</th>\n",
       "      <th>lag_4_price</th>\n",
       "      <th>lag_5_price</th>\n",
       "      <th>lag_6_price</th>\n",
       "      <th>lag_7_price</th>\n",
       "      <th>lag_8_price</th>\n",
       "      <th>lag_9_price</th>\n",
       "      <th>lag_10_price</th>\n",
       "      <th>lag_11_price</th>\n",
       "      <th>week_num</th>\n",
       "      <th>dates_int</th>\n",
       "    </tr>\n",
       "  </thead>\n",
       "  <tbody>\n",
       "    <tr>\n",
       "      <th>0</th>\n",
       "      <td>2018-01-01</td>\n",
       "      <td>67369</td>\n",
       "      <td>3607.0</td>\n",
       "      <td>NaN</td>\n",
       "      <td>NaN</td>\n",
       "      <td>NaN</td>\n",
       "      <td>NaN</td>\n",
       "      <td>NaN</td>\n",
       "      <td>NaN</td>\n",
       "      <td>NaN</td>\n",
       "      <td>NaN</td>\n",
       "      <td>NaN</td>\n",
       "      <td>NaN</td>\n",
       "      <td>NaN</td>\n",
       "      <td>1</td>\n",
       "      <td>0.000000</td>\n",
       "    </tr>\n",
       "    <tr>\n",
       "      <th>1</th>\n",
       "      <td>2018-01-02</td>\n",
       "      <td>67369</td>\n",
       "      <td>3607.0</td>\n",
       "      <td>3607.0</td>\n",
       "      <td>NaN</td>\n",
       "      <td>NaN</td>\n",
       "      <td>NaN</td>\n",
       "      <td>NaN</td>\n",
       "      <td>NaN</td>\n",
       "      <td>NaN</td>\n",
       "      <td>NaN</td>\n",
       "      <td>NaN</td>\n",
       "      <td>NaN</td>\n",
       "      <td>NaN</td>\n",
       "      <td>1</td>\n",
       "      <td>0.001433</td>\n",
       "    </tr>\n",
       "    <tr>\n",
       "      <th>2</th>\n",
       "      <td>2018-01-03</td>\n",
       "      <td>26629</td>\n",
       "      <td>1126.0</td>\n",
       "      <td>NaN</td>\n",
       "      <td>NaN</td>\n",
       "      <td>NaN</td>\n",
       "      <td>NaN</td>\n",
       "      <td>NaN</td>\n",
       "      <td>NaN</td>\n",
       "      <td>NaN</td>\n",
       "      <td>NaN</td>\n",
       "      <td>NaN</td>\n",
       "      <td>NaN</td>\n",
       "      <td>NaN</td>\n",
       "      <td>1</td>\n",
       "      <td>0.002865</td>\n",
       "    </tr>\n",
       "    <tr>\n",
       "      <th>3</th>\n",
       "      <td>2018-01-03</td>\n",
       "      <td>41262</td>\n",
       "      <td>3473.0</td>\n",
       "      <td>NaN</td>\n",
       "      <td>NaN</td>\n",
       "      <td>NaN</td>\n",
       "      <td>NaN</td>\n",
       "      <td>NaN</td>\n",
       "      <td>NaN</td>\n",
       "      <td>NaN</td>\n",
       "      <td>NaN</td>\n",
       "      <td>NaN</td>\n",
       "      <td>NaN</td>\n",
       "      <td>NaN</td>\n",
       "      <td>1</td>\n",
       "      <td>0.002865</td>\n",
       "    </tr>\n",
       "    <tr>\n",
       "      <th>4</th>\n",
       "      <td>2018-01-03</td>\n",
       "      <td>67369</td>\n",
       "      <td>3607.0</td>\n",
       "      <td>3607.0</td>\n",
       "      <td>3607.0</td>\n",
       "      <td>NaN</td>\n",
       "      <td>NaN</td>\n",
       "      <td>NaN</td>\n",
       "      <td>NaN</td>\n",
       "      <td>NaN</td>\n",
       "      <td>NaN</td>\n",
       "      <td>NaN</td>\n",
       "      <td>NaN</td>\n",
       "      <td>NaN</td>\n",
       "      <td>1</td>\n",
       "      <td>0.002865</td>\n",
       "    </tr>\n",
       "  </tbody>\n",
       "</table>\n",
       "</div>"
      ],
      "text/plain": [
       "       dates    SKU   price  lag_1_price  lag_2_price  lag_3_price  \\\n",
       "0 2018-01-01  67369  3607.0          NaN          NaN          NaN   \n",
       "1 2018-01-02  67369  3607.0       3607.0          NaN          NaN   \n",
       "2 2018-01-03  26629  1126.0          NaN          NaN          NaN   \n",
       "3 2018-01-03  41262  3473.0          NaN          NaN          NaN   \n",
       "4 2018-01-03  67369  3607.0       3607.0       3607.0          NaN   \n",
       "\n",
       "   lag_4_price  lag_5_price  lag_6_price  lag_7_price  lag_8_price  \\\n",
       "0          NaN          NaN          NaN          NaN          NaN   \n",
       "1          NaN          NaN          NaN          NaN          NaN   \n",
       "2          NaN          NaN          NaN          NaN          NaN   \n",
       "3          NaN          NaN          NaN          NaN          NaN   \n",
       "4          NaN          NaN          NaN          NaN          NaN   \n",
       "\n",
       "   lag_9_price  lag_10_price  lag_11_price week_num  dates_int  \n",
       "0          NaN           NaN           NaN        1   0.000000  \n",
       "1          NaN           NaN           NaN        1   0.001433  \n",
       "2          NaN           NaN           NaN        1   0.002865  \n",
       "3          NaN           NaN           NaN        1   0.002865  \n",
       "4          NaN           NaN           NaN        1   0.002865  "
      ]
     },
     "execution_count": 14,
     "metadata": {},
     "output_type": "execute_result"
    }
   ],
   "source": [
    "df_data['dates_int'] = (df_data['dates_int'] - 1514764800000000000) / (1575072000000000000 - 1514764800000000000)\n",
    "df_data.head()"
   ]
  },
  {
   "cell_type": "code",
   "execution_count": 15,
   "metadata": {
    "ExecuteTime": {
     "end_time": "2021-04-06T13:44:29.005512Z",
     "start_time": "2021-04-06T13:44:28.130125Z"
    }
   },
   "outputs": [
    {
     "data": {
      "text/html": [
       "<div>\n",
       "<style scoped>\n",
       "    .dataframe tbody tr th:only-of-type {\n",
       "        vertical-align: middle;\n",
       "    }\n",
       "\n",
       "    .dataframe tbody tr th {\n",
       "        vertical-align: top;\n",
       "    }\n",
       "\n",
       "    .dataframe thead th {\n",
       "        text-align: right;\n",
       "    }\n",
       "</style>\n",
       "<table border=\"1\" class=\"dataframe\">\n",
       "  <thead>\n",
       "    <tr style=\"text-align: right;\">\n",
       "      <th></th>\n",
       "      <th>dates</th>\n",
       "      <th>SKU</th>\n",
       "      <th>price</th>\n",
       "      <th>lag_1_price</th>\n",
       "      <th>lag_2_price</th>\n",
       "      <th>lag_3_price</th>\n",
       "      <th>lag_4_price</th>\n",
       "      <th>lag_5_price</th>\n",
       "      <th>lag_6_price</th>\n",
       "      <th>lag_7_price</th>\n",
       "      <th>lag_8_price</th>\n",
       "      <th>lag_9_price</th>\n",
       "      <th>lag_10_price</th>\n",
       "      <th>lag_11_price</th>\n",
       "      <th>week_num</th>\n",
       "      <th>dates_int</th>\n",
       "      <th>q</th>\n",
       "    </tr>\n",
       "  </thead>\n",
       "  <tbody>\n",
       "    <tr>\n",
       "      <th>0</th>\n",
       "      <td>2018-01-01</td>\n",
       "      <td>67369</td>\n",
       "      <td>3607.0</td>\n",
       "      <td>NaN</td>\n",
       "      <td>NaN</td>\n",
       "      <td>NaN</td>\n",
       "      <td>NaN</td>\n",
       "      <td>NaN</td>\n",
       "      <td>NaN</td>\n",
       "      <td>NaN</td>\n",
       "      <td>NaN</td>\n",
       "      <td>NaN</td>\n",
       "      <td>NaN</td>\n",
       "      <td>NaN</td>\n",
       "      <td>1</td>\n",
       "      <td>0.000000</td>\n",
       "      <td>2019-05-04 14:24:00</td>\n",
       "    </tr>\n",
       "    <tr>\n",
       "      <th>1</th>\n",
       "      <td>2018-01-02</td>\n",
       "      <td>67369</td>\n",
       "      <td>3607.0</td>\n",
       "      <td>3607.0</td>\n",
       "      <td>NaN</td>\n",
       "      <td>NaN</td>\n",
       "      <td>NaN</td>\n",
       "      <td>NaN</td>\n",
       "      <td>NaN</td>\n",
       "      <td>NaN</td>\n",
       "      <td>NaN</td>\n",
       "      <td>NaN</td>\n",
       "      <td>NaN</td>\n",
       "      <td>NaN</td>\n",
       "      <td>1</td>\n",
       "      <td>0.001433</td>\n",
       "      <td>2019-05-04 14:24:00</td>\n",
       "    </tr>\n",
       "    <tr>\n",
       "      <th>2</th>\n",
       "      <td>2018-01-03</td>\n",
       "      <td>26629</td>\n",
       "      <td>1126.0</td>\n",
       "      <td>NaN</td>\n",
       "      <td>NaN</td>\n",
       "      <td>NaN</td>\n",
       "      <td>NaN</td>\n",
       "      <td>NaN</td>\n",
       "      <td>NaN</td>\n",
       "      <td>NaN</td>\n",
       "      <td>NaN</td>\n",
       "      <td>NaN</td>\n",
       "      <td>NaN</td>\n",
       "      <td>NaN</td>\n",
       "      <td>1</td>\n",
       "      <td>0.002865</td>\n",
       "      <td>2018-03-12 14:24:00</td>\n",
       "    </tr>\n",
       "    <tr>\n",
       "      <th>3</th>\n",
       "      <td>2018-01-03</td>\n",
       "      <td>41262</td>\n",
       "      <td>3473.0</td>\n",
       "      <td>NaN</td>\n",
       "      <td>NaN</td>\n",
       "      <td>NaN</td>\n",
       "      <td>NaN</td>\n",
       "      <td>NaN</td>\n",
       "      <td>NaN</td>\n",
       "      <td>NaN</td>\n",
       "      <td>NaN</td>\n",
       "      <td>NaN</td>\n",
       "      <td>NaN</td>\n",
       "      <td>NaN</td>\n",
       "      <td>1</td>\n",
       "      <td>0.002865</td>\n",
       "      <td>2019-05-05 04:48:00</td>\n",
       "    </tr>\n",
       "    <tr>\n",
       "      <th>4</th>\n",
       "      <td>2018-01-03</td>\n",
       "      <td>67369</td>\n",
       "      <td>3607.0</td>\n",
       "      <td>3607.0</td>\n",
       "      <td>3607.0</td>\n",
       "      <td>NaN</td>\n",
       "      <td>NaN</td>\n",
       "      <td>NaN</td>\n",
       "      <td>NaN</td>\n",
       "      <td>NaN</td>\n",
       "      <td>NaN</td>\n",
       "      <td>NaN</td>\n",
       "      <td>NaN</td>\n",
       "      <td>NaN</td>\n",
       "      <td>1</td>\n",
       "      <td>0.002865</td>\n",
       "      <td>2019-05-04 14:24:00</td>\n",
       "    </tr>\n",
       "  </tbody>\n",
       "</table>\n",
       "</div>"
      ],
      "text/plain": [
       "       dates    SKU   price  lag_1_price  lag_2_price  lag_3_price  \\\n",
       "0 2018-01-01  67369  3607.0          NaN          NaN          NaN   \n",
       "1 2018-01-02  67369  3607.0       3607.0          NaN          NaN   \n",
       "2 2018-01-03  26629  1126.0          NaN          NaN          NaN   \n",
       "3 2018-01-03  41262  3473.0          NaN          NaN          NaN   \n",
       "4 2018-01-03  67369  3607.0       3607.0       3607.0          NaN   \n",
       "\n",
       "   lag_4_price  lag_5_price  lag_6_price  lag_7_price  lag_8_price  \\\n",
       "0          NaN          NaN          NaN          NaN          NaN   \n",
       "1          NaN          NaN          NaN          NaN          NaN   \n",
       "2          NaN          NaN          NaN          NaN          NaN   \n",
       "3          NaN          NaN          NaN          NaN          NaN   \n",
       "4          NaN          NaN          NaN          NaN          NaN   \n",
       "\n",
       "   lag_9_price  lag_10_price  lag_11_price week_num  dates_int  \\\n",
       "0          NaN           NaN           NaN        1   0.000000   \n",
       "1          NaN           NaN           NaN        1   0.001433   \n",
       "2          NaN           NaN           NaN        1   0.002865   \n",
       "3          NaN           NaN           NaN        1   0.002865   \n",
       "4          NaN           NaN           NaN        1   0.002865   \n",
       "\n",
       "                    q  \n",
       "0 2019-05-04 14:24:00  \n",
       "1 2019-05-04 14:24:00  \n",
       "2 2018-03-12 14:24:00  \n",
       "3 2019-05-05 04:48:00  \n",
       "4 2019-05-04 14:24:00  "
      ]
     },
     "execution_count": 15,
     "metadata": {},
     "output_type": "execute_result"
    }
   ],
   "source": [
    "df_data['q'] = df_data['SKU'].map(df_data.groupby('SKU').agg(q=('dates', lambda x: x.quantile(0.70)))['q'])\n",
    "df_data.head()"
   ]
  },
  {
   "cell_type": "code",
   "execution_count": 16,
   "metadata": {
    "ExecuteTime": {
     "end_time": "2021-04-06T13:44:29.057809Z",
     "start_time": "2021-04-06T13:44:29.045975Z"
    }
   },
   "outputs": [
    {
     "data": {
      "text/plain": [
       "['week_num',\n",
       " 'dates_int',\n",
       " 'lag_1_price',\n",
       " 'lag_2_price',\n",
       " 'lag_3_price',\n",
       " 'lag_4_price',\n",
       " 'lag_5_price',\n",
       " 'lag_6_price',\n",
       " 'lag_7_price',\n",
       " 'lag_8_price',\n",
       " 'lag_9_price',\n",
       " 'lag_10_price',\n",
       " 'lag_11_price']"
      ]
     },
     "execution_count": 16,
     "metadata": {},
     "output_type": "execute_result"
    }
   ],
   "source": [
    "list_features = [\n",
    "    'week_num',\n",
    "    'dates_int',\n",
    "]\n",
    "list_features += [f'lag_{i}_price' for i in range(1, n_lags)]\n",
    "list_features"
   ]
  },
  {
   "cell_type": "code",
   "execution_count": 17,
   "metadata": {
    "ExecuteTime": {
     "end_time": "2021-04-06T13:44:29.995138Z",
     "start_time": "2021-04-06T13:44:29.988393Z"
    }
   },
   "outputs": [],
   "source": [
    "mask = df_data['dates'] <= df_data['q']"
   ]
  },
  {
   "cell_type": "code",
   "execution_count": 18,
   "metadata": {
    "ExecuteTime": {
     "end_time": "2021-04-06T13:44:31.028512Z",
     "start_time": "2021-04-06T13:44:30.928341Z"
    }
   },
   "outputs": [
    {
     "data": {
      "text/plain": [
       "((223117, 13), (95839, 13))"
      ]
     },
     "execution_count": 18,
     "metadata": {},
     "output_type": "execute_result"
    }
   ],
   "source": [
    "X_train = df_data.loc[mask, list_features]\n",
    "y_train = df_data.loc[mask, 'price']\n",
    "X_valid = df_data.loc[~mask, list_features]\n",
    "y_valid = df_data.loc[~mask, 'price']\n",
    "X_train.shape, X_valid.shape"
   ]
  },
  {
   "cell_type": "code",
   "execution_count": 19,
   "metadata": {
    "ExecuteTime": {
     "end_time": "2021-04-06T13:44:33.647569Z",
     "start_time": "2021-04-06T13:44:31.747968Z"
    }
   },
   "outputs": [
    {
     "name": "stderr",
     "output_type": "stream",
     "text": [
      "/home/jupyter-v.pashentsev-2/.local/lib/python3.7/site-packages/lightgbm/basic.py:1286: UserWarning: Overriding the parameters from Reference Dataset.\n",
      "  warnings.warn('Overriding the parameters from Reference Dataset.')\n",
      "/home/jupyter-v.pashentsev-2/.local/lib/python3.7/site-packages/lightgbm/basic.py:1098: UserWarning: categorical_column in param dict is overridden.\n",
      "  warnings.warn('{} in param dict is overridden.'.format(cat_alias))\n"
     ]
    },
    {
     "name": "stdout",
     "output_type": "stream",
     "text": [
      "Training until validation scores don't improve for 100 rounds\n",
      "[100]\ttrain's rmse: 81.3176\tvalid's rmse: 24.8508\n",
      "[200]\ttrain's rmse: 78.6273\tvalid's rmse: 24.996\n",
      "Early stopping, best iteration is:\n",
      "[116]\ttrain's rmse: 80.9202\tvalid's rmse: 24.8169\n"
     ]
    }
   ],
   "source": [
    "lgb_train = Dataset(data=X_train, label=y_train)\n",
    "lgb_valid = Dataset(data=X_valid, label=y_valid, reference=lgb_train)\n",
    "lgb_model = train(\n",
    "    params={\n",
    "        'objective': 'regression',\n",
    "        'metric': 'rmse',\n",
    "        'seed': seed,\n",
    "        'verbosity': -1,\n",
    "    },\n",
    "    train_set=lgb_train,\n",
    "    num_boost_round=100_000,\n",
    "    valid_sets=[lgb_train, lgb_valid],\n",
    "    valid_names=['train', 'valid'],\n",
    "    early_stopping_rounds=100,\n",
    "    verbose_eval=100,\n",
    ")"
   ]
  },
  {
   "cell_type": "markdown",
   "metadata": {},
   "source": [
    "## Тестируем"
   ]
  },
  {
   "cell_type": "code",
   "execution_count": 20,
   "metadata": {
    "ExecuteTime": {
     "end_time": "2021-04-06T13:44:36.453244Z",
     "start_time": "2021-04-06T13:44:36.440036Z"
    }
   },
   "outputs": [],
   "source": [
    "df_base = df_transactions_agg.copy()\n",
    "df_work = df_base.copy()"
   ]
  },
  {
   "cell_type": "code",
   "execution_count": 21,
   "metadata": {
    "ExecuteTime": {
     "end_time": "2021-04-06T13:44:43.989761Z",
     "start_time": "2021-04-06T13:44:37.756328Z"
    }
   },
   "outputs": [
    {
     "data": {
      "text/plain": [
       "{'status': 'ok'}"
      ]
     },
     "execution_count": 21,
     "metadata": {},
     "output_type": "execute_result"
    }
   ],
   "source": [
    "server_start()"
   ]
  },
  {
   "cell_type": "code",
   "execution_count": 29,
   "metadata": {
    "ExecuteTime": {
     "end_time": "2021-04-06T13:45:37.110712Z",
     "start_time": "2021-04-06T13:45:29.444848Z"
    }
   },
   "outputs": [
    {
     "data": {
      "text/html": [
       "<div>\n",
       "<style scoped>\n",
       "    .dataframe tbody tr th:only-of-type {\n",
       "        vertical-align: middle;\n",
       "    }\n",
       "\n",
       "    .dataframe tbody tr th {\n",
       "        vertical-align: top;\n",
       "    }\n",
       "\n",
       "    .dataframe thead th {\n",
       "        text-align: right;\n",
       "    }\n",
       "</style>\n",
       "<table border=\"1\" class=\"dataframe\">\n",
       "  <thead>\n",
       "    <tr style=\"text-align: right;\">\n",
       "      <th></th>\n",
       "      <th>dates</th>\n",
       "      <th>SKU</th>\n",
       "      <th>user_id</th>\n",
       "    </tr>\n",
       "  </thead>\n",
       "  <tbody>\n",
       "    <tr>\n",
       "      <th>0</th>\n",
       "      <td>2019-12-02</td>\n",
       "      <td>30482</td>\n",
       "      <td>45542</td>\n",
       "    </tr>\n",
       "    <tr>\n",
       "      <th>1</th>\n",
       "      <td>2019-12-02</td>\n",
       "      <td>16390</td>\n",
       "      <td>44335</td>\n",
       "    </tr>\n",
       "    <tr>\n",
       "      <th>2</th>\n",
       "      <td>2019-12-02</td>\n",
       "      <td>32801</td>\n",
       "      <td>32957</td>\n",
       "    </tr>\n",
       "    <tr>\n",
       "      <th>3</th>\n",
       "      <td>2019-12-02</td>\n",
       "      <td>56252</td>\n",
       "      <td>14196</td>\n",
       "    </tr>\n",
       "    <tr>\n",
       "      <th>4</th>\n",
       "      <td>2019-12-02</td>\n",
       "      <td>11801</td>\n",
       "      <td>16227</td>\n",
       "    </tr>\n",
       "  </tbody>\n",
       "</table>\n",
       "</div>"
      ],
      "text/plain": [
       "        dates    SKU  user_id\n",
       "0  2019-12-02  30482    45542\n",
       "1  2019-12-02  16390    44335\n",
       "2  2019-12-02  32801    32957\n",
       "3  2019-12-02  56252    14196\n",
       "4  2019-12-02  11801    16227"
      ]
     },
     "execution_count": 29,
     "metadata": {},
     "output_type": "execute_result"
    }
   ],
   "source": [
    "df_batch = pd.read_json(get_batch())\n",
    "df_batch.head()"
   ]
  },
  {
   "cell_type": "code",
   "execution_count": 30,
   "metadata": {
    "ExecuteTime": {
     "end_time": "2021-04-06T13:45:40.746975Z",
     "start_time": "2021-04-06T13:45:40.732610Z"
    }
   },
   "outputs": [],
   "source": [
    "df_batch['dates'] = pd.to_datetime(df_batch['dates'])"
   ]
  },
  {
   "cell_type": "code",
   "execution_count": 31,
   "metadata": {
    "ExecuteTime": {
     "end_time": "2021-04-06T13:45:51.620480Z",
     "start_time": "2021-04-06T13:45:51.368359Z"
    }
   },
   "outputs": [
    {
     "name": "stderr",
     "output_type": "stream",
     "text": [
      "/opt/tljh/user/lib/python3.7/site-packages/ipykernel_launcher.py:6: FutureWarning: Series.dt.weekofyear and Series.dt.week have been deprecated.  Please use Series.dt.isocalendar().week instead.\n",
      "  \n"
     ]
    },
    {
     "data": {
      "text/html": [
       "<div>\n",
       "<style scoped>\n",
       "    .dataframe tbody tr th:only-of-type {\n",
       "        vertical-align: middle;\n",
       "    }\n",
       "\n",
       "    .dataframe tbody tr th {\n",
       "        vertical-align: top;\n",
       "    }\n",
       "\n",
       "    .dataframe thead th {\n",
       "        text-align: right;\n",
       "    }\n",
       "</style>\n",
       "<table border=\"1\" class=\"dataframe\">\n",
       "  <thead>\n",
       "    <tr style=\"text-align: right;\">\n",
       "      <th></th>\n",
       "      <th>dates</th>\n",
       "      <th>SKU</th>\n",
       "      <th>price</th>\n",
       "      <th>user_id</th>\n",
       "      <th>lag_1_price</th>\n",
       "      <th>lag_2_price</th>\n",
       "      <th>lag_3_price</th>\n",
       "      <th>lag_4_price</th>\n",
       "      <th>lag_5_price</th>\n",
       "      <th>lag_6_price</th>\n",
       "      <th>lag_7_price</th>\n",
       "      <th>lag_8_price</th>\n",
       "      <th>lag_9_price</th>\n",
       "      <th>lag_10_price</th>\n",
       "      <th>lag_11_price</th>\n",
       "      <th>week_num</th>\n",
       "      <th>dates_int</th>\n",
       "    </tr>\n",
       "  </thead>\n",
       "  <tbody>\n",
       "    <tr>\n",
       "      <th>0</th>\n",
       "      <td>2018-01-01</td>\n",
       "      <td>67369</td>\n",
       "      <td>3607.0</td>\n",
       "      <td>NaN</td>\n",
       "      <td>NaN</td>\n",
       "      <td>NaN</td>\n",
       "      <td>NaN</td>\n",
       "      <td>NaN</td>\n",
       "      <td>NaN</td>\n",
       "      <td>NaN</td>\n",
       "      <td>NaN</td>\n",
       "      <td>NaN</td>\n",
       "      <td>NaN</td>\n",
       "      <td>NaN</td>\n",
       "      <td>NaN</td>\n",
       "      <td>1</td>\n",
       "      <td>0.000000</td>\n",
       "    </tr>\n",
       "    <tr>\n",
       "      <th>1</th>\n",
       "      <td>2018-01-02</td>\n",
       "      <td>67369</td>\n",
       "      <td>3607.0</td>\n",
       "      <td>NaN</td>\n",
       "      <td>3607.0</td>\n",
       "      <td>NaN</td>\n",
       "      <td>NaN</td>\n",
       "      <td>NaN</td>\n",
       "      <td>NaN</td>\n",
       "      <td>NaN</td>\n",
       "      <td>NaN</td>\n",
       "      <td>NaN</td>\n",
       "      <td>NaN</td>\n",
       "      <td>NaN</td>\n",
       "      <td>NaN</td>\n",
       "      <td>1</td>\n",
       "      <td>0.001433</td>\n",
       "    </tr>\n",
       "    <tr>\n",
       "      <th>2</th>\n",
       "      <td>2018-01-03</td>\n",
       "      <td>26629</td>\n",
       "      <td>1126.0</td>\n",
       "      <td>NaN</td>\n",
       "      <td>NaN</td>\n",
       "      <td>NaN</td>\n",
       "      <td>NaN</td>\n",
       "      <td>NaN</td>\n",
       "      <td>NaN</td>\n",
       "      <td>NaN</td>\n",
       "      <td>NaN</td>\n",
       "      <td>NaN</td>\n",
       "      <td>NaN</td>\n",
       "      <td>NaN</td>\n",
       "      <td>NaN</td>\n",
       "      <td>1</td>\n",
       "      <td>0.002865</td>\n",
       "    </tr>\n",
       "    <tr>\n",
       "      <th>3</th>\n",
       "      <td>2018-01-03</td>\n",
       "      <td>41262</td>\n",
       "      <td>3473.0</td>\n",
       "      <td>NaN</td>\n",
       "      <td>NaN</td>\n",
       "      <td>NaN</td>\n",
       "      <td>NaN</td>\n",
       "      <td>NaN</td>\n",
       "      <td>NaN</td>\n",
       "      <td>NaN</td>\n",
       "      <td>NaN</td>\n",
       "      <td>NaN</td>\n",
       "      <td>NaN</td>\n",
       "      <td>NaN</td>\n",
       "      <td>NaN</td>\n",
       "      <td>1</td>\n",
       "      <td>0.002865</td>\n",
       "    </tr>\n",
       "    <tr>\n",
       "      <th>4</th>\n",
       "      <td>2018-01-03</td>\n",
       "      <td>67369</td>\n",
       "      <td>3607.0</td>\n",
       "      <td>NaN</td>\n",
       "      <td>3607.0</td>\n",
       "      <td>3607.0</td>\n",
       "      <td>NaN</td>\n",
       "      <td>NaN</td>\n",
       "      <td>NaN</td>\n",
       "      <td>NaN</td>\n",
       "      <td>NaN</td>\n",
       "      <td>NaN</td>\n",
       "      <td>NaN</td>\n",
       "      <td>NaN</td>\n",
       "      <td>NaN</td>\n",
       "      <td>1</td>\n",
       "      <td>0.002865</td>\n",
       "    </tr>\n",
       "  </tbody>\n",
       "</table>\n",
       "</div>"
      ],
      "text/plain": [
       "       dates    SKU   price  user_id  lag_1_price  lag_2_price  lag_3_price  \\\n",
       "0 2018-01-01  67369  3607.0      NaN          NaN          NaN          NaN   \n",
       "1 2018-01-02  67369  3607.0      NaN       3607.0          NaN          NaN   \n",
       "2 2018-01-03  26629  1126.0      NaN          NaN          NaN          NaN   \n",
       "3 2018-01-03  41262  3473.0      NaN          NaN          NaN          NaN   \n",
       "4 2018-01-03  67369  3607.0      NaN       3607.0       3607.0          NaN   \n",
       "\n",
       "   lag_4_price  lag_5_price  lag_6_price  lag_7_price  lag_8_price  \\\n",
       "0          NaN          NaN          NaN          NaN          NaN   \n",
       "1          NaN          NaN          NaN          NaN          NaN   \n",
       "2          NaN          NaN          NaN          NaN          NaN   \n",
       "3          NaN          NaN          NaN          NaN          NaN   \n",
       "4          NaN          NaN          NaN          NaN          NaN   \n",
       "\n",
       "   lag_9_price  lag_10_price  lag_11_price week_num  dates_int  \n",
       "0          NaN           NaN           NaN        1   0.000000  \n",
       "1          NaN           NaN           NaN        1   0.001433  \n",
       "2          NaN           NaN           NaN        1   0.002865  \n",
       "3          NaN           NaN           NaN        1   0.002865  \n",
       "4          NaN           NaN           NaN        1   0.002865  "
      ]
     },
     "execution_count": 31,
     "metadata": {},
     "output_type": "execute_result"
    }
   ],
   "source": [
    "df_work = pd.concat([df_work[['dates', 'SKU', 'price']], df_batch.drop_duplicates(['dates', 'SKU'])], ignore_index=True)\n",
    "\n",
    "for n_lag in range(1, n_lags):\n",
    "    df_work[f'lag_{n_lag}_price'] = df_work.groupby('SKU')['price'].shift(n_lag)\n",
    "\n",
    "df_work['week_num'] = df_work['dates'].dt.week.astype('category')\n",
    "df_work['dates_int'] = df_work['dates'].astype(int)\n",
    "df_work['dates_int'] = (df_work['dates_int'] - 1514764800000000000) / (1575072000000000000 - 1514764800000000000)\n",
    "\n",
    "df_work.head()"
   ]
  },
  {
   "cell_type": "code",
   "execution_count": 32,
   "metadata": {
    "ExecuteTime": {
     "end_time": "2021-04-06T13:46:00.252779Z",
     "start_time": "2021-04-06T13:46:00.204348Z"
    }
   },
   "outputs": [],
   "source": [
    "mask = df_work['price'].isna()\n",
    "df_work.loc[mask, 'price'] = lgb_model.predict(df_work.loc[mask, list_features])"
   ]
  },
  {
   "cell_type": "code",
   "execution_count": 33,
   "metadata": {
    "ExecuteTime": {
     "end_time": "2021-04-06T13:46:09.959628Z",
     "start_time": "2021-04-06T13:46:09.879693Z"
    }
   },
   "outputs": [
    {
     "data": {
      "text/html": [
       "<div>\n",
       "<style scoped>\n",
       "    .dataframe tbody tr th:only-of-type {\n",
       "        vertical-align: middle;\n",
       "    }\n",
       "\n",
       "    .dataframe tbody tr th {\n",
       "        vertical-align: top;\n",
       "    }\n",
       "\n",
       "    .dataframe thead th {\n",
       "        text-align: right;\n",
       "    }\n",
       "</style>\n",
       "<table border=\"1\" class=\"dataframe\">\n",
       "  <thead>\n",
       "    <tr style=\"text-align: right;\">\n",
       "      <th></th>\n",
       "      <th>dates</th>\n",
       "      <th>SKU</th>\n",
       "      <th>user_id</th>\n",
       "      <th>price</th>\n",
       "    </tr>\n",
       "  </thead>\n",
       "  <tbody>\n",
       "    <tr>\n",
       "      <th>0</th>\n",
       "      <td>2019-12-02</td>\n",
       "      <td>30482</td>\n",
       "      <td>45542</td>\n",
       "      <td>4179.691503</td>\n",
       "    </tr>\n",
       "    <tr>\n",
       "      <th>1</th>\n",
       "      <td>2019-12-02</td>\n",
       "      <td>16390</td>\n",
       "      <td>44335</td>\n",
       "      <td>1289.946778</td>\n",
       "    </tr>\n",
       "    <tr>\n",
       "      <th>2</th>\n",
       "      <td>2019-12-02</td>\n",
       "      <td>32801</td>\n",
       "      <td>32957</td>\n",
       "      <td>928.902737</td>\n",
       "    </tr>\n",
       "    <tr>\n",
       "      <th>3</th>\n",
       "      <td>2019-12-02</td>\n",
       "      <td>56252</td>\n",
       "      <td>14196</td>\n",
       "      <td>4093.492456</td>\n",
       "    </tr>\n",
       "    <tr>\n",
       "      <th>4</th>\n",
       "      <td>2019-12-02</td>\n",
       "      <td>11801</td>\n",
       "      <td>16227</td>\n",
       "      <td>1727.463117</td>\n",
       "    </tr>\n",
       "  </tbody>\n",
       "</table>\n",
       "</div>"
      ],
      "text/plain": [
       "       dates    SKU  user_id        price\n",
       "0 2019-12-02  30482    45542  4179.691503\n",
       "1 2019-12-02  16390    44335  1289.946778\n",
       "2 2019-12-02  32801    32957   928.902737\n",
       "3 2019-12-02  56252    14196  4093.492456\n",
       "4 2019-12-02  11801    16227  1727.463117"
      ]
     },
     "execution_count": 33,
     "metadata": {},
     "output_type": "execute_result"
    }
   ],
   "source": [
    "df_submit = df_batch.merge(df_work[['dates', 'SKU', 'price']], how='left', on=['dates', 'SKU'])\n",
    "df_submit.head()"
   ]
  },
  {
   "cell_type": "code",
   "execution_count": 34,
   "metadata": {
    "ExecuteTime": {
     "end_time": "2021-04-06T13:46:17.809576Z",
     "start_time": "2021-04-06T13:46:13.365353Z"
    }
   },
   "outputs": [
    {
     "data": {
      "text/plain": [
       "{'status': 'ok'}"
      ]
     },
     "execution_count": 34,
     "metadata": {},
     "output_type": "execute_result"
    }
   ],
   "source": [
    "send_submit(df_submit)"
   ]
  },
  {
   "cell_type": "code",
   "execution_count": 35,
   "metadata": {
    "ExecuteTime": {
     "end_time": "2021-04-06T13:46:19.383067Z",
     "start_time": "2021-04-06T13:46:19.006578Z"
    }
   },
   "outputs": [
    {
     "data": {
      "text/html": [
       "<div>\n",
       "<style scoped>\n",
       "    .dataframe tbody tr th:only-of-type {\n",
       "        vertical-align: middle;\n",
       "    }\n",
       "\n",
       "    .dataframe tbody tr th {\n",
       "        vertical-align: top;\n",
       "    }\n",
       "\n",
       "    .dataframe thead th {\n",
       "        text-align: right;\n",
       "    }\n",
       "</style>\n",
       "<table border=\"1\" class=\"dataframe\">\n",
       "  <thead>\n",
       "    <tr style=\"text-align: right;\">\n",
       "      <th></th>\n",
       "      <th>dates</th>\n",
       "      <th>SKU</th>\n",
       "      <th>user_id</th>\n",
       "      <th>price</th>\n",
       "      <th>bought</th>\n",
       "    </tr>\n",
       "  </thead>\n",
       "  <tbody>\n",
       "    <tr>\n",
       "      <th>0</th>\n",
       "      <td>2019-12-01</td>\n",
       "      <td>16019</td>\n",
       "      <td>20585</td>\n",
       "      <td>1135.723941</td>\n",
       "      <td>1</td>\n",
       "    </tr>\n",
       "    <tr>\n",
       "      <th>1</th>\n",
       "      <td>2019-12-01</td>\n",
       "      <td>93657</td>\n",
       "      <td>38019</td>\n",
       "      <td>2491.039644</td>\n",
       "      <td>0</td>\n",
       "    </tr>\n",
       "    <tr>\n",
       "      <th>2</th>\n",
       "      <td>2019-12-01</td>\n",
       "      <td>84011</td>\n",
       "      <td>27418</td>\n",
       "      <td>4522.426890</td>\n",
       "      <td>1</td>\n",
       "    </tr>\n",
       "    <tr>\n",
       "      <th>3</th>\n",
       "      <td>2019-12-01</td>\n",
       "      <td>84011</td>\n",
       "      <td>44258</td>\n",
       "      <td>4522.426890</td>\n",
       "      <td>0</td>\n",
       "    </tr>\n",
       "    <tr>\n",
       "      <th>4</th>\n",
       "      <td>2019-12-01</td>\n",
       "      <td>29011</td>\n",
       "      <td>63229</td>\n",
       "      <td>2547.653548</td>\n",
       "      <td>0</td>\n",
       "    </tr>\n",
       "  </tbody>\n",
       "</table>\n",
       "</div>"
      ],
      "text/plain": [
       "        dates    SKU  user_id        price  bought\n",
       "0  2019-12-01  16019    20585  1135.723941       1\n",
       "1  2019-12-01  93657    38019  2491.039644       0\n",
       "2  2019-12-01  84011    27418  4522.426890       1\n",
       "3  2019-12-01  84011    44258  4522.426890       0\n",
       "4  2019-12-01  29011    63229  2547.653548       0"
      ]
     },
     "execution_count": 35,
     "metadata": {},
     "output_type": "execute_result"
    }
   ],
   "source": [
    "df_result = pd.read_json(get_result())\n",
    "df_result.head()"
   ]
  },
  {
   "cell_type": "markdown",
   "metadata": {},
   "source": [
    "## Отправляем результат"
   ]
  },
  {
   "cell_type": "code",
   "execution_count": 37,
   "metadata": {
    "ExecuteTime": {
     "end_time": "2021-04-06T13:52:37.579880Z",
     "start_time": "2021-04-06T13:52:37.561169Z"
    }
   },
   "outputs": [],
   "source": [
    "class BaselineModel(Model):\n",
    "    def __init__(self, df_work: pd.DataFrame, list_features, lgb_model):\n",
    "        self.df_work = df_work.copy()\n",
    "        self.list_features = list_features\n",
    "        self.lgb_model = lgb_model\n",
    "        \n",
    "    def predict(self, data: pd.DataFrame) -> pd.DataFrame:\n",
    "        \n",
    "        self.df_work = (\n",
    "            pd.concat(\n",
    "                [\n",
    "                    self.df_work[['dates', 'SKU', 'price']],\n",
    "                    data.drop_duplicates(['dates', 'SKU']),\n",
    "                ],\n",
    "                ignore_index=True,\n",
    "            )\n",
    "        )\n",
    "\n",
    "        for n_lag in range(1, n_lags):\n",
    "            self.df_work[f'lag_{n_lag}_price'] = self.df_work.groupby('SKU')['price'].shift(n_lag)\n",
    "\n",
    "        self.df_work['week_num'] = self.df_work['dates'].dt.week.astype('category')\n",
    "        self.df_work['dates_int'] = self.df_work['dates'].astype(int)\n",
    "        self.df_work['dates_int'] = (self.df_work['dates_int'] - 1514764800000000000) / (1575072000000000000 - 1514764800000000000)\n",
    "\n",
    "        mask = self.df_work['price'].isna()\n",
    "        self.df_work.loc[mask, 'price'] = self.lgb_model.predict(self.df_work.loc[mask, self.list_features])\n",
    "        \n",
    "        return data.merge(self.df_work[['dates', 'SKU', 'price']], how='left', on=['dates', 'SKU'])"
   ]
  },
  {
   "cell_type": "code",
   "execution_count": 38,
   "metadata": {
    "ExecuteTime": {
     "end_time": "2021-04-06T14:00:03.374082Z",
     "start_time": "2021-04-06T13:52:53.362163Z"
    },
    "scrolled": true
   },
   "outputs": [
    {
     "name": "stdout",
     "output_type": "stream",
     "text": [
      "Batch #0\n"
     ]
    },
    {
     "name": "stderr",
     "output_type": "stream",
     "text": [
      "/opt/tljh/user/lib/python3.7/site-packages/ipykernel_launcher.py:22: FutureWarning: Series.dt.weekofyear and Series.dt.week have been deprecated.  Please use Series.dt.isocalendar().week instead.\n"
     ]
    },
    {
     "name": "stdout",
     "output_type": "stream",
     "text": [
      "Batch #1\n"
     ]
    },
    {
     "name": "stderr",
     "output_type": "stream",
     "text": [
      "/opt/tljh/user/lib/python3.7/site-packages/ipykernel_launcher.py:22: FutureWarning: Series.dt.weekofyear and Series.dt.week have been deprecated.  Please use Series.dt.isocalendar().week instead.\n"
     ]
    },
    {
     "name": "stdout",
     "output_type": "stream",
     "text": [
      "Batch #2\n"
     ]
    },
    {
     "name": "stderr",
     "output_type": "stream",
     "text": [
      "/opt/tljh/user/lib/python3.7/site-packages/ipykernel_launcher.py:22: FutureWarning: Series.dt.weekofyear and Series.dt.week have been deprecated.  Please use Series.dt.isocalendar().week instead.\n"
     ]
    },
    {
     "name": "stdout",
     "output_type": "stream",
     "text": [
      "Batch #3\n"
     ]
    },
    {
     "name": "stderr",
     "output_type": "stream",
     "text": [
      "/opt/tljh/user/lib/python3.7/site-packages/ipykernel_launcher.py:22: FutureWarning: Series.dt.weekofyear and Series.dt.week have been deprecated.  Please use Series.dt.isocalendar().week instead.\n"
     ]
    },
    {
     "name": "stdout",
     "output_type": "stream",
     "text": [
      "Batch #4\n"
     ]
    },
    {
     "name": "stderr",
     "output_type": "stream",
     "text": [
      "/opt/tljh/user/lib/python3.7/site-packages/ipykernel_launcher.py:22: FutureWarning: Series.dt.weekofyear and Series.dt.week have been deprecated.  Please use Series.dt.isocalendar().week instead.\n"
     ]
    },
    {
     "name": "stdout",
     "output_type": "stream",
     "text": [
      "Batch #5\n"
     ]
    },
    {
     "name": "stderr",
     "output_type": "stream",
     "text": [
      "/opt/tljh/user/lib/python3.7/site-packages/ipykernel_launcher.py:22: FutureWarning: Series.dt.weekofyear and Series.dt.week have been deprecated.  Please use Series.dt.isocalendar().week instead.\n"
     ]
    },
    {
     "name": "stdout",
     "output_type": "stream",
     "text": [
      "Batch #6\n"
     ]
    },
    {
     "name": "stderr",
     "output_type": "stream",
     "text": [
      "/opt/tljh/user/lib/python3.7/site-packages/ipykernel_launcher.py:22: FutureWarning: Series.dt.weekofyear and Series.dt.week have been deprecated.  Please use Series.dt.isocalendar().week instead.\n"
     ]
    },
    {
     "name": "stdout",
     "output_type": "stream",
     "text": [
      "Batch #7\n"
     ]
    },
    {
     "name": "stderr",
     "output_type": "stream",
     "text": [
      "/opt/tljh/user/lib/python3.7/site-packages/ipykernel_launcher.py:22: FutureWarning: Series.dt.weekofyear and Series.dt.week have been deprecated.  Please use Series.dt.isocalendar().week instead.\n"
     ]
    },
    {
     "name": "stdout",
     "output_type": "stream",
     "text": [
      "Batch #8\n"
     ]
    },
    {
     "name": "stderr",
     "output_type": "stream",
     "text": [
      "/opt/tljh/user/lib/python3.7/site-packages/ipykernel_launcher.py:22: FutureWarning: Series.dt.weekofyear and Series.dt.week have been deprecated.  Please use Series.dt.isocalendar().week instead.\n"
     ]
    },
    {
     "name": "stdout",
     "output_type": "stream",
     "text": [
      "Batch #9\n"
     ]
    },
    {
     "name": "stderr",
     "output_type": "stream",
     "text": [
      "/opt/tljh/user/lib/python3.7/site-packages/ipykernel_launcher.py:22: FutureWarning: Series.dt.weekofyear and Series.dt.week have been deprecated.  Please use Series.dt.isocalendar().week instead.\n"
     ]
    },
    {
     "name": "stdout",
     "output_type": "stream",
     "text": [
      "Batch #10\n"
     ]
    },
    {
     "name": "stderr",
     "output_type": "stream",
     "text": [
      "/opt/tljh/user/lib/python3.7/site-packages/ipykernel_launcher.py:22: FutureWarning: Series.dt.weekofyear and Series.dt.week have been deprecated.  Please use Series.dt.isocalendar().week instead.\n"
     ]
    },
    {
     "name": "stdout",
     "output_type": "stream",
     "text": [
      "Batch #11\n"
     ]
    },
    {
     "name": "stderr",
     "output_type": "stream",
     "text": [
      "/opt/tljh/user/lib/python3.7/site-packages/ipykernel_launcher.py:22: FutureWarning: Series.dt.weekofyear and Series.dt.week have been deprecated.  Please use Series.dt.isocalendar().week instead.\n"
     ]
    },
    {
     "name": "stdout",
     "output_type": "stream",
     "text": [
      "Batch #12\n"
     ]
    },
    {
     "name": "stderr",
     "output_type": "stream",
     "text": [
      "/opt/tljh/user/lib/python3.7/site-packages/ipykernel_launcher.py:22: FutureWarning: Series.dt.weekofyear and Series.dt.week have been deprecated.  Please use Series.dt.isocalendar().week instead.\n"
     ]
    },
    {
     "name": "stdout",
     "output_type": "stream",
     "text": [
      "Batch #13\n"
     ]
    },
    {
     "name": "stderr",
     "output_type": "stream",
     "text": [
      "/opt/tljh/user/lib/python3.7/site-packages/ipykernel_launcher.py:22: FutureWarning: Series.dt.weekofyear and Series.dt.week have been deprecated.  Please use Series.dt.isocalendar().week instead.\n"
     ]
    },
    {
     "name": "stdout",
     "output_type": "stream",
     "text": [
      "Batch #14\n"
     ]
    },
    {
     "name": "stderr",
     "output_type": "stream",
     "text": [
      "/opt/tljh/user/lib/python3.7/site-packages/ipykernel_launcher.py:22: FutureWarning: Series.dt.weekofyear and Series.dt.week have been deprecated.  Please use Series.dt.isocalendar().week instead.\n"
     ]
    },
    {
     "name": "stdout",
     "output_type": "stream",
     "text": [
      "Batch #15\n"
     ]
    },
    {
     "name": "stderr",
     "output_type": "stream",
     "text": [
      "/opt/tljh/user/lib/python3.7/site-packages/ipykernel_launcher.py:22: FutureWarning: Series.dt.weekofyear and Series.dt.week have been deprecated.  Please use Series.dt.isocalendar().week instead.\n"
     ]
    },
    {
     "name": "stdout",
     "output_type": "stream",
     "text": [
      "Batch #16\n"
     ]
    },
    {
     "name": "stderr",
     "output_type": "stream",
     "text": [
      "/opt/tljh/user/lib/python3.7/site-packages/ipykernel_launcher.py:22: FutureWarning: Series.dt.weekofyear and Series.dt.week have been deprecated.  Please use Series.dt.isocalendar().week instead.\n"
     ]
    },
    {
     "name": "stdout",
     "output_type": "stream",
     "text": [
      "Batch #17\n"
     ]
    },
    {
     "name": "stderr",
     "output_type": "stream",
     "text": [
      "/opt/tljh/user/lib/python3.7/site-packages/ipykernel_launcher.py:22: FutureWarning: Series.dt.weekofyear and Series.dt.week have been deprecated.  Please use Series.dt.isocalendar().week instead.\n"
     ]
    },
    {
     "name": "stdout",
     "output_type": "stream",
     "text": [
      "Batch #18\n"
     ]
    },
    {
     "name": "stderr",
     "output_type": "stream",
     "text": [
      "/opt/tljh/user/lib/python3.7/site-packages/ipykernel_launcher.py:22: FutureWarning: Series.dt.weekofyear and Series.dt.week have been deprecated.  Please use Series.dt.isocalendar().week instead.\n"
     ]
    },
    {
     "name": "stdout",
     "output_type": "stream",
     "text": [
      "Batch #19\n"
     ]
    },
    {
     "name": "stderr",
     "output_type": "stream",
     "text": [
      "/opt/tljh/user/lib/python3.7/site-packages/ipykernel_launcher.py:22: FutureWarning: Series.dt.weekofyear and Series.dt.week have been deprecated.  Please use Series.dt.isocalendar().week instead.\n"
     ]
    },
    {
     "name": "stdout",
     "output_type": "stream",
     "text": [
      "Batch #20\n"
     ]
    },
    {
     "name": "stderr",
     "output_type": "stream",
     "text": [
      "/opt/tljh/user/lib/python3.7/site-packages/ipykernel_launcher.py:22: FutureWarning: Series.dt.weekofyear and Series.dt.week have been deprecated.  Please use Series.dt.isocalendar().week instead.\n"
     ]
    },
    {
     "name": "stdout",
     "output_type": "stream",
     "text": [
      "Batch #21\n"
     ]
    },
    {
     "name": "stderr",
     "output_type": "stream",
     "text": [
      "/opt/tljh/user/lib/python3.7/site-packages/ipykernel_launcher.py:22: FutureWarning: Series.dt.weekofyear and Series.dt.week have been deprecated.  Please use Series.dt.isocalendar().week instead.\n"
     ]
    },
    {
     "name": "stdout",
     "output_type": "stream",
     "text": [
      "Batch #22\n"
     ]
    },
    {
     "name": "stderr",
     "output_type": "stream",
     "text": [
      "/opt/tljh/user/lib/python3.7/site-packages/ipykernel_launcher.py:22: FutureWarning: Series.dt.weekofyear and Series.dt.week have been deprecated.  Please use Series.dt.isocalendar().week instead.\n"
     ]
    },
    {
     "name": "stdout",
     "output_type": "stream",
     "text": [
      "Batch #23\n"
     ]
    },
    {
     "name": "stderr",
     "output_type": "stream",
     "text": [
      "/opt/tljh/user/lib/python3.7/site-packages/ipykernel_launcher.py:22: FutureWarning: Series.dt.weekofyear and Series.dt.week have been deprecated.  Please use Series.dt.isocalendar().week instead.\n"
     ]
    },
    {
     "name": "stdout",
     "output_type": "stream",
     "text": [
      "Batch #24\n"
     ]
    },
    {
     "name": "stderr",
     "output_type": "stream",
     "text": [
      "/opt/tljh/user/lib/python3.7/site-packages/ipykernel_launcher.py:22: FutureWarning: Series.dt.weekofyear and Series.dt.week have been deprecated.  Please use Series.dt.isocalendar().week instead.\n"
     ]
    },
    {
     "name": "stdout",
     "output_type": "stream",
     "text": [
      "Batch #25\n"
     ]
    },
    {
     "name": "stderr",
     "output_type": "stream",
     "text": [
      "/opt/tljh/user/lib/python3.7/site-packages/ipykernel_launcher.py:22: FutureWarning: Series.dt.weekofyear and Series.dt.week have been deprecated.  Please use Series.dt.isocalendar().week instead.\n"
     ]
    },
    {
     "name": "stdout",
     "output_type": "stream",
     "text": [
      "Batch #26\n"
     ]
    },
    {
     "name": "stderr",
     "output_type": "stream",
     "text": [
      "/opt/tljh/user/lib/python3.7/site-packages/ipykernel_launcher.py:22: FutureWarning: Series.dt.weekofyear and Series.dt.week have been deprecated.  Please use Series.dt.isocalendar().week instead.\n"
     ]
    },
    {
     "name": "stdout",
     "output_type": "stream",
     "text": [
      "Batch #27\n"
     ]
    },
    {
     "name": "stderr",
     "output_type": "stream",
     "text": [
      "/opt/tljh/user/lib/python3.7/site-packages/ipykernel_launcher.py:22: FutureWarning: Series.dt.weekofyear and Series.dt.week have been deprecated.  Please use Series.dt.isocalendar().week instead.\n"
     ]
    },
    {
     "name": "stdout",
     "output_type": "stream",
     "text": [
      "Batch #28\n"
     ]
    },
    {
     "name": "stderr",
     "output_type": "stream",
     "text": [
      "/opt/tljh/user/lib/python3.7/site-packages/ipykernel_launcher.py:22: FutureWarning: Series.dt.weekofyear and Series.dt.week have been deprecated.  Please use Series.dt.isocalendar().week instead.\n"
     ]
    },
    {
     "name": "stdout",
     "output_type": "stream",
     "text": [
      "Batch #29\n"
     ]
    },
    {
     "name": "stderr",
     "output_type": "stream",
     "text": [
      "/opt/tljh/user/lib/python3.7/site-packages/ipykernel_launcher.py:22: FutureWarning: Series.dt.weekofyear and Series.dt.week have been deprecated.  Please use Series.dt.isocalendar().week instead.\n"
     ]
    },
    {
     "name": "stdout",
     "output_type": "stream",
     "text": [
      "Done!\n"
     ]
    }
   ],
   "source": [
    "submit(BaselineModel(df_transactions_agg, list_features, lgb_model))"
   ]
  },
  {
   "cell_type": "markdown",
   "metadata": {},
   "source": [
    "# Добавляем фичи по пользователям, промо и конкурентам"
   ]
  },
  {
   "cell_type": "markdown",
   "metadata": {},
   "source": [
    "## Готовим данные"
   ]
  },
  {
   "cell_type": "code",
   "execution_count": 61,
   "metadata": {
    "ExecuteTime": {
     "end_time": "2021-04-07T19:39:33.767275Z",
     "start_time": "2021-04-07T19:39:33.095501Z"
    }
   },
   "outputs": [],
   "source": [
    "df_transactions = pd.read_csv('data/transactions.csv')\n",
    "df_transactions['dates'] = pd.to_datetime(df_transactions['dates'])\n",
    "df_promo = pd.read_csv('data/promo_df.csv')\n",
    "df_canc = pd.read_csv('data/canc_df.csv')"
   ]
  },
  {
   "cell_type": "code",
   "execution_count": 62,
   "metadata": {
    "ExecuteTime": {
     "end_time": "2021-04-07T19:39:33.803920Z",
     "start_time": "2021-04-07T19:39:33.770302Z"
    }
   },
   "outputs": [
    {
     "data": {
      "text/html": [
       "<div>\n",
       "<style scoped>\n",
       "    .dataframe tbody tr th:only-of-type {\n",
       "        vertical-align: middle;\n",
       "    }\n",
       "\n",
       "    .dataframe tbody tr th {\n",
       "        vertical-align: top;\n",
       "    }\n",
       "\n",
       "    .dataframe thead th {\n",
       "        text-align: right;\n",
       "    }\n",
       "</style>\n",
       "<table border=\"1\" class=\"dataframe\">\n",
       "  <thead>\n",
       "    <tr style=\"text-align: right;\">\n",
       "      <th></th>\n",
       "      <th>dates</th>\n",
       "      <th>SKU</th>\n",
       "      <th>user</th>\n",
       "    </tr>\n",
       "  </thead>\n",
       "  <tbody>\n",
       "    <tr>\n",
       "      <th>0</th>\n",
       "      <td>2018-11-09</td>\n",
       "      <td>16019</td>\n",
       "      <td>44796</td>\n",
       "    </tr>\n",
       "    <tr>\n",
       "      <th>1</th>\n",
       "      <td>2018-11-09</td>\n",
       "      <td>16019</td>\n",
       "      <td>44510</td>\n",
       "    </tr>\n",
       "    <tr>\n",
       "      <th>2</th>\n",
       "      <td>2018-11-09</td>\n",
       "      <td>16019</td>\n",
       "      <td>19074</td>\n",
       "    </tr>\n",
       "    <tr>\n",
       "      <th>3</th>\n",
       "      <td>2018-11-09</td>\n",
       "      <td>16019</td>\n",
       "      <td>34472</td>\n",
       "    </tr>\n",
       "    <tr>\n",
       "      <th>4</th>\n",
       "      <td>2018-11-10</td>\n",
       "      <td>16019</td>\n",
       "      <td>48407</td>\n",
       "    </tr>\n",
       "  </tbody>\n",
       "</table>\n",
       "</div>"
      ],
      "text/plain": [
       "       dates    SKU   user\n",
       "0 2018-11-09  16019  44796\n",
       "1 2018-11-09  16019  44510\n",
       "2 2018-11-09  16019  19074\n",
       "3 2018-11-09  16019  34472\n",
       "4 2018-11-10  16019  48407"
      ]
     },
     "execution_count": 62,
     "metadata": {},
     "output_type": "execute_result"
    }
   ],
   "source": [
    "df_data = df_transactions.loc[:, ['dates', 'SKU', 'user']]\n",
    "df_data.head()"
   ]
  },
  {
   "cell_type": "code",
   "execution_count": 63,
   "metadata": {
    "ExecuteTime": {
     "end_time": "2021-04-07T19:40:20.161861Z",
     "start_time": "2021-04-07T19:39:33.973051Z"
    }
   },
   "outputs": [
    {
     "data": {
      "text/html": [
       "<div>\n",
       "<style scoped>\n",
       "    .dataframe tbody tr th:only-of-type {\n",
       "        vertical-align: middle;\n",
       "    }\n",
       "\n",
       "    .dataframe tbody tr th {\n",
       "        vertical-align: top;\n",
       "    }\n",
       "\n",
       "    .dataframe thead th {\n",
       "        text-align: right;\n",
       "    }\n",
       "</style>\n",
       "<table border=\"1\" class=\"dataframe\">\n",
       "  <thead>\n",
       "    <tr style=\"text-align: right;\">\n",
       "      <th></th>\n",
       "      <th>user</th>\n",
       "      <th>dates</th>\n",
       "      <th>max_price</th>\n",
       "      <th>min_price</th>\n",
       "      <th>mean_price</th>\n",
       "    </tr>\n",
       "  </thead>\n",
       "  <tbody>\n",
       "    <tr>\n",
       "      <th>0</th>\n",
       "      <td>10002</td>\n",
       "      <td>2018-03-22</td>\n",
       "      <td>691.0</td>\n",
       "      <td>691.0</td>\n",
       "      <td>691.0</td>\n",
       "    </tr>\n",
       "    <tr>\n",
       "      <th>1</th>\n",
       "      <td>10002</td>\n",
       "      <td>2018-04-19</td>\n",
       "      <td>2014.0</td>\n",
       "      <td>691.0</td>\n",
       "      <td>1352.5</td>\n",
       "    </tr>\n",
       "    <tr>\n",
       "      <th>2</th>\n",
       "      <td>10002</td>\n",
       "      <td>2018-06-15</td>\n",
       "      <td>2014.0</td>\n",
       "      <td>301.0</td>\n",
       "      <td>1002.0</td>\n",
       "    </tr>\n",
       "    <tr>\n",
       "      <th>3</th>\n",
       "      <td>10002</td>\n",
       "      <td>2018-06-25</td>\n",
       "      <td>2014.0</td>\n",
       "      <td>301.0</td>\n",
       "      <td>1138.5</td>\n",
       "    </tr>\n",
       "    <tr>\n",
       "      <th>4</th>\n",
       "      <td>10002</td>\n",
       "      <td>2018-07-08</td>\n",
       "      <td>3494.0</td>\n",
       "      <td>301.0</td>\n",
       "      <td>1609.6</td>\n",
       "    </tr>\n",
       "  </tbody>\n",
       "</table>\n",
       "</div>"
      ],
      "text/plain": [
       "    user      dates  max_price  min_price  mean_price\n",
       "0  10002 2018-03-22      691.0      691.0       691.0\n",
       "1  10002 2018-04-19     2014.0      691.0      1352.5\n",
       "2  10002 2018-06-15     2014.0      301.0      1002.0\n",
       "3  10002 2018-06-25     2014.0      301.0      1138.5\n",
       "4  10002 2018-07-08     3494.0      301.0      1609.6"
      ]
     },
     "execution_count": 63,
     "metadata": {},
     "output_type": "execute_result"
    }
   ],
   "source": [
    "df_grouped = (\n",
    "    df_transactions\n",
    "    .groupby(['dates', 'user'], as_index=False)\n",
    "    .agg(price=('price', 'mean'))\n",
    "    .sort_values(['dates', 'user'])\n",
    "    .groupby('user')\n",
    ")\n",
    "df_window_6 = df_grouped.rolling(6, min_periods=1, on='dates')\n",
    "\n",
    "df_users_agg = pd.concat(\n",
    "    [\n",
    "        df_window_6['price'].max(),\n",
    "        df_window_6['price'].min(),\n",
    "        df_window_6['price'].mean(),\n",
    "    ],\n",
    "    axis=1,\n",
    ")\n",
    "df_users_agg.columns = ['max_price', 'min_price', 'mean_price']\n",
    "df_users_agg = df_users_agg.reset_index()\n",
    "df_users_agg.head()"
   ]
  },
  {
   "cell_type": "code",
   "execution_count": 64,
   "metadata": {
    "ExecuteTime": {
     "end_time": "2021-04-07T19:40:20.520713Z",
     "start_time": "2021-04-07T19:40:20.169016Z"
    }
   },
   "outputs": [
    {
     "data": {
      "text/html": [
       "<div>\n",
       "<style scoped>\n",
       "    .dataframe tbody tr th:only-of-type {\n",
       "        vertical-align: middle;\n",
       "    }\n",
       "\n",
       "    .dataframe tbody tr th {\n",
       "        vertical-align: top;\n",
       "    }\n",
       "\n",
       "    .dataframe thead th {\n",
       "        text-align: right;\n",
       "    }\n",
       "</style>\n",
       "<table border=\"1\" class=\"dataframe\">\n",
       "  <thead>\n",
       "    <tr style=\"text-align: right;\">\n",
       "      <th></th>\n",
       "      <th>dates</th>\n",
       "      <th>SKU</th>\n",
       "      <th>price</th>\n",
       "      <th>lag_1_price</th>\n",
       "      <th>lag_2_price</th>\n",
       "      <th>lag_3_price</th>\n",
       "      <th>lag_4_price</th>\n",
       "      <th>lag_5_price</th>\n",
       "      <th>lag_6_price</th>\n",
       "      <th>lag_7_price</th>\n",
       "      <th>lag_8_price</th>\n",
       "      <th>lag_9_price</th>\n",
       "      <th>lag_10_price</th>\n",
       "      <th>lag_11_price</th>\n",
       "      <th>lag_12_price</th>\n",
       "    </tr>\n",
       "  </thead>\n",
       "  <tbody>\n",
       "    <tr>\n",
       "      <th>0</th>\n",
       "      <td>2018-01-01</td>\n",
       "      <td>67369</td>\n",
       "      <td>3607.0</td>\n",
       "      <td>NaN</td>\n",
       "      <td>NaN</td>\n",
       "      <td>NaN</td>\n",
       "      <td>NaN</td>\n",
       "      <td>NaN</td>\n",
       "      <td>NaN</td>\n",
       "      <td>NaN</td>\n",
       "      <td>NaN</td>\n",
       "      <td>NaN</td>\n",
       "      <td>NaN</td>\n",
       "      <td>NaN</td>\n",
       "      <td>NaN</td>\n",
       "    </tr>\n",
       "    <tr>\n",
       "      <th>1</th>\n",
       "      <td>2018-01-02</td>\n",
       "      <td>67369</td>\n",
       "      <td>3607.0</td>\n",
       "      <td>3607.0</td>\n",
       "      <td>NaN</td>\n",
       "      <td>NaN</td>\n",
       "      <td>NaN</td>\n",
       "      <td>NaN</td>\n",
       "      <td>NaN</td>\n",
       "      <td>NaN</td>\n",
       "      <td>NaN</td>\n",
       "      <td>NaN</td>\n",
       "      <td>NaN</td>\n",
       "      <td>NaN</td>\n",
       "      <td>NaN</td>\n",
       "    </tr>\n",
       "    <tr>\n",
       "      <th>2</th>\n",
       "      <td>2018-01-03</td>\n",
       "      <td>26629</td>\n",
       "      <td>1126.0</td>\n",
       "      <td>NaN</td>\n",
       "      <td>NaN</td>\n",
       "      <td>NaN</td>\n",
       "      <td>NaN</td>\n",
       "      <td>NaN</td>\n",
       "      <td>NaN</td>\n",
       "      <td>NaN</td>\n",
       "      <td>NaN</td>\n",
       "      <td>NaN</td>\n",
       "      <td>NaN</td>\n",
       "      <td>NaN</td>\n",
       "      <td>NaN</td>\n",
       "    </tr>\n",
       "    <tr>\n",
       "      <th>3</th>\n",
       "      <td>2018-01-03</td>\n",
       "      <td>41262</td>\n",
       "      <td>3473.0</td>\n",
       "      <td>NaN</td>\n",
       "      <td>NaN</td>\n",
       "      <td>NaN</td>\n",
       "      <td>NaN</td>\n",
       "      <td>NaN</td>\n",
       "      <td>NaN</td>\n",
       "      <td>NaN</td>\n",
       "      <td>NaN</td>\n",
       "      <td>NaN</td>\n",
       "      <td>NaN</td>\n",
       "      <td>NaN</td>\n",
       "      <td>NaN</td>\n",
       "    </tr>\n",
       "    <tr>\n",
       "      <th>4</th>\n",
       "      <td>2018-01-03</td>\n",
       "      <td>67369</td>\n",
       "      <td>3607.0</td>\n",
       "      <td>3607.0</td>\n",
       "      <td>3607.0</td>\n",
       "      <td>NaN</td>\n",
       "      <td>NaN</td>\n",
       "      <td>NaN</td>\n",
       "      <td>NaN</td>\n",
       "      <td>NaN</td>\n",
       "      <td>NaN</td>\n",
       "      <td>NaN</td>\n",
       "      <td>NaN</td>\n",
       "      <td>NaN</td>\n",
       "      <td>NaN</td>\n",
       "    </tr>\n",
       "  </tbody>\n",
       "</table>\n",
       "</div>"
      ],
      "text/plain": [
       "       dates    SKU   price  lag_1_price  lag_2_price  lag_3_price  \\\n",
       "0 2018-01-01  67369  3607.0          NaN          NaN          NaN   \n",
       "1 2018-01-02  67369  3607.0       3607.0          NaN          NaN   \n",
       "2 2018-01-03  26629  1126.0          NaN          NaN          NaN   \n",
       "3 2018-01-03  41262  3473.0          NaN          NaN          NaN   \n",
       "4 2018-01-03  67369  3607.0       3607.0       3607.0          NaN   \n",
       "\n",
       "   lag_4_price  lag_5_price  lag_6_price  lag_7_price  lag_8_price  \\\n",
       "0          NaN          NaN          NaN          NaN          NaN   \n",
       "1          NaN          NaN          NaN          NaN          NaN   \n",
       "2          NaN          NaN          NaN          NaN          NaN   \n",
       "3          NaN          NaN          NaN          NaN          NaN   \n",
       "4          NaN          NaN          NaN          NaN          NaN   \n",
       "\n",
       "   lag_9_price  lag_10_price  lag_11_price  lag_12_price  \n",
       "0          NaN           NaN           NaN           NaN  \n",
       "1          NaN           NaN           NaN           NaN  \n",
       "2          NaN           NaN           NaN           NaN  \n",
       "3          NaN           NaN           NaN           NaN  \n",
       "4          NaN           NaN           NaN           NaN  "
      ]
     },
     "execution_count": 64,
     "metadata": {},
     "output_type": "execute_result"
    }
   ],
   "source": [
    "df_sku_agg = (\n",
    "    df_transactions\n",
    "    .groupby(['dates', 'SKU'], as_index=False)\n",
    "    .agg(\n",
    "        price=('price', 'mean'),\n",
    "    )\n",
    ")\n",
    "for i in range(0, 12):\n",
    "    n_lag = i+1\n",
    "    df_sku_agg[f'lag_{n_lag}_price'] = df_sku_agg.groupby('SKU')['price'].shift(n_lag)\n",
    "df_sku_agg.head()"
   ]
  },
  {
   "cell_type": "code",
   "execution_count": 65,
   "metadata": {
    "ExecuteTime": {
     "end_time": "2021-04-07T19:40:20.836574Z",
     "start_time": "2021-04-07T19:40:20.522671Z"
    }
   },
   "outputs": [
    {
     "name": "stderr",
     "output_type": "stream",
     "text": [
      "/opt/tljh/user/lib/python3.7/site-packages/ipykernel_launcher.py:2: FutureWarning: Series.dt.weekofyear and Series.dt.week have been deprecated.  Please use Series.dt.isocalendar().week instead.\n",
      "  \n"
     ]
    },
    {
     "data": {
      "text/html": [
       "<div>\n",
       "<style scoped>\n",
       "    .dataframe tbody tr th:only-of-type {\n",
       "        vertical-align: middle;\n",
       "    }\n",
       "\n",
       "    .dataframe tbody tr th {\n",
       "        vertical-align: top;\n",
       "    }\n",
       "\n",
       "    .dataframe thead th {\n",
       "        text-align: right;\n",
       "    }\n",
       "</style>\n",
       "<table border=\"1\" class=\"dataframe\">\n",
       "  <thead>\n",
       "    <tr style=\"text-align: right;\">\n",
       "      <th></th>\n",
       "      <th>dates</th>\n",
       "      <th>SKU</th>\n",
       "      <th>user</th>\n",
       "      <th>year</th>\n",
       "      <th>week_num</th>\n",
       "      <th>dates_int</th>\n",
       "    </tr>\n",
       "  </thead>\n",
       "  <tbody>\n",
       "    <tr>\n",
       "      <th>0</th>\n",
       "      <td>2018-11-09</td>\n",
       "      <td>16019</td>\n",
       "      <td>44796</td>\n",
       "      <td>2018</td>\n",
       "      <td>45</td>\n",
       "      <td>1541721600000000000</td>\n",
       "    </tr>\n",
       "    <tr>\n",
       "      <th>1</th>\n",
       "      <td>2018-11-09</td>\n",
       "      <td>16019</td>\n",
       "      <td>44510</td>\n",
       "      <td>2018</td>\n",
       "      <td>45</td>\n",
       "      <td>1541721600000000000</td>\n",
       "    </tr>\n",
       "    <tr>\n",
       "      <th>2</th>\n",
       "      <td>2018-11-09</td>\n",
       "      <td>16019</td>\n",
       "      <td>19074</td>\n",
       "      <td>2018</td>\n",
       "      <td>45</td>\n",
       "      <td>1541721600000000000</td>\n",
       "    </tr>\n",
       "    <tr>\n",
       "      <th>3</th>\n",
       "      <td>2018-11-09</td>\n",
       "      <td>16019</td>\n",
       "      <td>34472</td>\n",
       "      <td>2018</td>\n",
       "      <td>45</td>\n",
       "      <td>1541721600000000000</td>\n",
       "    </tr>\n",
       "    <tr>\n",
       "      <th>4</th>\n",
       "      <td>2018-11-10</td>\n",
       "      <td>16019</td>\n",
       "      <td>48407</td>\n",
       "      <td>2018</td>\n",
       "      <td>45</td>\n",
       "      <td>1541808000000000000</td>\n",
       "    </tr>\n",
       "  </tbody>\n",
       "</table>\n",
       "</div>"
      ],
      "text/plain": [
       "       dates    SKU   user  year week_num            dates_int\n",
       "0 2018-11-09  16019  44796  2018       45  1541721600000000000\n",
       "1 2018-11-09  16019  44510  2018       45  1541721600000000000\n",
       "2 2018-11-09  16019  19074  2018       45  1541721600000000000\n",
       "3 2018-11-09  16019  34472  2018       45  1541721600000000000\n",
       "4 2018-11-10  16019  48407  2018       45  1541808000000000000"
      ]
     },
     "execution_count": 65,
     "metadata": {},
     "output_type": "execute_result"
    }
   ],
   "source": [
    "df_data['year'] = df_data['dates'].dt.year.astype('category')\n",
    "df_data['week_num'] = df_data['dates'].dt.week.astype('category')\n",
    "df_data['dates_int'] = df_data['dates'].astype(int)\n",
    "df_data.head()"
   ]
  },
  {
   "cell_type": "code",
   "execution_count": 66,
   "metadata": {
    "ExecuteTime": {
     "end_time": "2021-04-07T19:40:22.652769Z",
     "start_time": "2021-04-07T19:40:20.838402Z"
    }
   },
   "outputs": [
    {
     "data": {
      "text/html": [
       "<div>\n",
       "<style scoped>\n",
       "    .dataframe tbody tr th:only-of-type {\n",
       "        vertical-align: middle;\n",
       "    }\n",
       "\n",
       "    .dataframe tbody tr th {\n",
       "        vertical-align: top;\n",
       "    }\n",
       "\n",
       "    .dataframe thead th {\n",
       "        text-align: right;\n",
       "    }\n",
       "</style>\n",
       "<table border=\"1\" class=\"dataframe\">\n",
       "  <thead>\n",
       "    <tr style=\"text-align: right;\">\n",
       "      <th></th>\n",
       "      <th>dates</th>\n",
       "      <th>SKU</th>\n",
       "      <th>user</th>\n",
       "      <th>year</th>\n",
       "      <th>week_num</th>\n",
       "      <th>dates_int</th>\n",
       "      <th>max_price</th>\n",
       "      <th>min_price</th>\n",
       "      <th>mean_price</th>\n",
       "      <th>price</th>\n",
       "      <th>...</th>\n",
       "      <th>lag_7_price</th>\n",
       "      <th>lag_8_price</th>\n",
       "      <th>lag_9_price</th>\n",
       "      <th>lag_10_price</th>\n",
       "      <th>lag_11_price</th>\n",
       "      <th>lag_12_price</th>\n",
       "      <th>discount</th>\n",
       "      <th>ret_net_1_price</th>\n",
       "      <th>ret_net_2_price</th>\n",
       "      <th>ret_net_3_price</th>\n",
       "    </tr>\n",
       "  </thead>\n",
       "  <tbody>\n",
       "    <tr>\n",
       "      <th>0</th>\n",
       "      <td>2018-11-09</td>\n",
       "      <td>16019</td>\n",
       "      <td>44796</td>\n",
       "      <td>2018</td>\n",
       "      <td>45</td>\n",
       "      <td>1541721600000000000</td>\n",
       "      <td>3431.0</td>\n",
       "      <td>1252.0</td>\n",
       "      <td>2120.500000</td>\n",
       "      <td>1252.0</td>\n",
       "      <td>...</td>\n",
       "      <td>NaN</td>\n",
       "      <td>NaN</td>\n",
       "      <td>NaN</td>\n",
       "      <td>NaN</td>\n",
       "      <td>NaN</td>\n",
       "      <td>NaN</td>\n",
       "      <td>0.05</td>\n",
       "      <td>NaN</td>\n",
       "      <td>NaN</td>\n",
       "      <td>NaN</td>\n",
       "    </tr>\n",
       "    <tr>\n",
       "      <th>1</th>\n",
       "      <td>2018-11-09</td>\n",
       "      <td>16019</td>\n",
       "      <td>44510</td>\n",
       "      <td>2018</td>\n",
       "      <td>45</td>\n",
       "      <td>1541721600000000000</td>\n",
       "      <td>3392.0</td>\n",
       "      <td>401.0</td>\n",
       "      <td>2046.000000</td>\n",
       "      <td>1252.0</td>\n",
       "      <td>...</td>\n",
       "      <td>NaN</td>\n",
       "      <td>NaN</td>\n",
       "      <td>NaN</td>\n",
       "      <td>NaN</td>\n",
       "      <td>NaN</td>\n",
       "      <td>NaN</td>\n",
       "      <td>0.05</td>\n",
       "      <td>NaN</td>\n",
       "      <td>NaN</td>\n",
       "      <td>NaN</td>\n",
       "    </tr>\n",
       "    <tr>\n",
       "      <th>2</th>\n",
       "      <td>2018-11-09</td>\n",
       "      <td>16019</td>\n",
       "      <td>19074</td>\n",
       "      <td>2018</td>\n",
       "      <td>45</td>\n",
       "      <td>1541721600000000000</td>\n",
       "      <td>3399.0</td>\n",
       "      <td>429.0</td>\n",
       "      <td>1950.611111</td>\n",
       "      <td>1252.0</td>\n",
       "      <td>...</td>\n",
       "      <td>NaN</td>\n",
       "      <td>NaN</td>\n",
       "      <td>NaN</td>\n",
       "      <td>NaN</td>\n",
       "      <td>NaN</td>\n",
       "      <td>NaN</td>\n",
       "      <td>0.05</td>\n",
       "      <td>NaN</td>\n",
       "      <td>NaN</td>\n",
       "      <td>NaN</td>\n",
       "    </tr>\n",
       "    <tr>\n",
       "      <th>3</th>\n",
       "      <td>2018-11-09</td>\n",
       "      <td>16019</td>\n",
       "      <td>34472</td>\n",
       "      <td>2018</td>\n",
       "      <td>45</td>\n",
       "      <td>1541721600000000000</td>\n",
       "      <td>4225.0</td>\n",
       "      <td>1252.0</td>\n",
       "      <td>2731.666667</td>\n",
       "      <td>1252.0</td>\n",
       "      <td>...</td>\n",
       "      <td>NaN</td>\n",
       "      <td>NaN</td>\n",
       "      <td>NaN</td>\n",
       "      <td>NaN</td>\n",
       "      <td>NaN</td>\n",
       "      <td>NaN</td>\n",
       "      <td>0.05</td>\n",
       "      <td>NaN</td>\n",
       "      <td>NaN</td>\n",
       "      <td>NaN</td>\n",
       "    </tr>\n",
       "    <tr>\n",
       "      <th>4</th>\n",
       "      <td>2018-11-10</td>\n",
       "      <td>16019</td>\n",
       "      <td>48407</td>\n",
       "      <td>2018</td>\n",
       "      <td>45</td>\n",
       "      <td>1541808000000000000</td>\n",
       "      <td>3907.0</td>\n",
       "      <td>1252.0</td>\n",
       "      <td>2347.000000</td>\n",
       "      <td>1252.0</td>\n",
       "      <td>...</td>\n",
       "      <td>NaN</td>\n",
       "      <td>NaN</td>\n",
       "      <td>NaN</td>\n",
       "      <td>NaN</td>\n",
       "      <td>NaN</td>\n",
       "      <td>NaN</td>\n",
       "      <td>0.05</td>\n",
       "      <td>NaN</td>\n",
       "      <td>NaN</td>\n",
       "      <td>NaN</td>\n",
       "    </tr>\n",
       "  </tbody>\n",
       "</table>\n",
       "<p>5 rows × 26 columns</p>\n",
       "</div>"
      ],
      "text/plain": [
       "       dates    SKU   user  year  week_num            dates_int  max_price  \\\n",
       "0 2018-11-09  16019  44796  2018        45  1541721600000000000     3431.0   \n",
       "1 2018-11-09  16019  44510  2018        45  1541721600000000000     3392.0   \n",
       "2 2018-11-09  16019  19074  2018        45  1541721600000000000     3399.0   \n",
       "3 2018-11-09  16019  34472  2018        45  1541721600000000000     4225.0   \n",
       "4 2018-11-10  16019  48407  2018        45  1541808000000000000     3907.0   \n",
       "\n",
       "   min_price   mean_price   price  ...  lag_7_price  lag_8_price  lag_9_price  \\\n",
       "0     1252.0  2120.500000  1252.0  ...          NaN          NaN          NaN   \n",
       "1      401.0  2046.000000  1252.0  ...          NaN          NaN          NaN   \n",
       "2      429.0  1950.611111  1252.0  ...          NaN          NaN          NaN   \n",
       "3     1252.0  2731.666667  1252.0  ...          NaN          NaN          NaN   \n",
       "4     1252.0  2347.000000  1252.0  ...          NaN          NaN          NaN   \n",
       "\n",
       "   lag_10_price  lag_11_price  lag_12_price  discount  ret_net_1_price  \\\n",
       "0           NaN           NaN           NaN      0.05              NaN   \n",
       "1           NaN           NaN           NaN      0.05              NaN   \n",
       "2           NaN           NaN           NaN      0.05              NaN   \n",
       "3           NaN           NaN           NaN      0.05              NaN   \n",
       "4           NaN           NaN           NaN      0.05              NaN   \n",
       "\n",
       "   ret_net_2_price  ret_net_3_price  \n",
       "0              NaN              NaN  \n",
       "1              NaN              NaN  \n",
       "2              NaN              NaN  \n",
       "3              NaN              NaN  \n",
       "4              NaN              NaN  \n",
       "\n",
       "[5 rows x 26 columns]"
      ]
     },
     "execution_count": 66,
     "metadata": {},
     "output_type": "execute_result"
    }
   ],
   "source": [
    "df_data = (\n",
    "    df_data\n",
    "    .merge(\n",
    "        df_users_agg,\n",
    "        how='left',\n",
    "        on=['dates', 'user'],\n",
    "    )\n",
    "    .merge(\n",
    "        df_sku_agg,\n",
    "        how='left',\n",
    "        on=['dates', 'SKU'],\n",
    "    )\n",
    "    .merge(\n",
    "        df_promo,\n",
    "        how='left',\n",
    "        on=['year', 'week_num', 'SKU'],\n",
    "    )\n",
    "    .merge(\n",
    "        df_canc,\n",
    "        how='left',\n",
    "        on=['year', 'week_num', 'SKU'],\n",
    "    )\n",
    ")\n",
    "df_data.head()"
   ]
  },
  {
   "cell_type": "code",
   "execution_count": 67,
   "metadata": {
    "ExecuteTime": {
     "end_time": "2021-04-07T19:40:22.666193Z",
     "start_time": "2021-04-07T19:40:22.658797Z"
    }
   },
   "outputs": [
    {
     "data": {
      "text/plain": [
       "(1334260, 26)"
      ]
     },
     "execution_count": 67,
     "metadata": {},
     "output_type": "execute_result"
    }
   ],
   "source": [
    "df_data.shape"
   ]
  },
  {
   "cell_type": "code",
   "execution_count": 68,
   "metadata": {
    "ExecuteTime": {
     "end_time": "2021-04-07T19:40:22.682102Z",
     "start_time": "2021-04-07T19:40:22.669766Z"
    }
   },
   "outputs": [
    {
     "data": {
      "text/plain": [
       "(1514764800000000000, 1575072000000000000)"
      ]
     },
     "execution_count": 68,
     "metadata": {},
     "output_type": "execute_result"
    }
   ],
   "source": [
    "df_data['dates_int'].min(), df_data['dates_int'].max()"
   ]
  },
  {
   "cell_type": "code",
   "execution_count": 69,
   "metadata": {
    "ExecuteTime": {
     "end_time": "2021-04-07T19:40:22.715480Z",
     "start_time": "2021-04-07T19:40:22.684159Z"
    }
   },
   "outputs": [
    {
     "data": {
      "text/html": [
       "<div>\n",
       "<style scoped>\n",
       "    .dataframe tbody tr th:only-of-type {\n",
       "        vertical-align: middle;\n",
       "    }\n",
       "\n",
       "    .dataframe tbody tr th {\n",
       "        vertical-align: top;\n",
       "    }\n",
       "\n",
       "    .dataframe thead th {\n",
       "        text-align: right;\n",
       "    }\n",
       "</style>\n",
       "<table border=\"1\" class=\"dataframe\">\n",
       "  <thead>\n",
       "    <tr style=\"text-align: right;\">\n",
       "      <th></th>\n",
       "      <th>dates</th>\n",
       "      <th>SKU</th>\n",
       "      <th>user</th>\n",
       "      <th>year</th>\n",
       "      <th>week_num</th>\n",
       "      <th>dates_int</th>\n",
       "      <th>max_price</th>\n",
       "      <th>min_price</th>\n",
       "      <th>mean_price</th>\n",
       "      <th>price</th>\n",
       "      <th>...</th>\n",
       "      <th>lag_7_price</th>\n",
       "      <th>lag_8_price</th>\n",
       "      <th>lag_9_price</th>\n",
       "      <th>lag_10_price</th>\n",
       "      <th>lag_11_price</th>\n",
       "      <th>lag_12_price</th>\n",
       "      <th>discount</th>\n",
       "      <th>ret_net_1_price</th>\n",
       "      <th>ret_net_2_price</th>\n",
       "      <th>ret_net_3_price</th>\n",
       "    </tr>\n",
       "  </thead>\n",
       "  <tbody>\n",
       "    <tr>\n",
       "      <th>0</th>\n",
       "      <td>2018-11-09</td>\n",
       "      <td>16019</td>\n",
       "      <td>44796</td>\n",
       "      <td>2018</td>\n",
       "      <td>45</td>\n",
       "      <td>0.446991</td>\n",
       "      <td>3431.0</td>\n",
       "      <td>1252.0</td>\n",
       "      <td>2120.500000</td>\n",
       "      <td>1252.0</td>\n",
       "      <td>...</td>\n",
       "      <td>NaN</td>\n",
       "      <td>NaN</td>\n",
       "      <td>NaN</td>\n",
       "      <td>NaN</td>\n",
       "      <td>NaN</td>\n",
       "      <td>NaN</td>\n",
       "      <td>0.05</td>\n",
       "      <td>NaN</td>\n",
       "      <td>NaN</td>\n",
       "      <td>NaN</td>\n",
       "    </tr>\n",
       "    <tr>\n",
       "      <th>1</th>\n",
       "      <td>2018-11-09</td>\n",
       "      <td>16019</td>\n",
       "      <td>44510</td>\n",
       "      <td>2018</td>\n",
       "      <td>45</td>\n",
       "      <td>0.446991</td>\n",
       "      <td>3392.0</td>\n",
       "      <td>401.0</td>\n",
       "      <td>2046.000000</td>\n",
       "      <td>1252.0</td>\n",
       "      <td>...</td>\n",
       "      <td>NaN</td>\n",
       "      <td>NaN</td>\n",
       "      <td>NaN</td>\n",
       "      <td>NaN</td>\n",
       "      <td>NaN</td>\n",
       "      <td>NaN</td>\n",
       "      <td>0.05</td>\n",
       "      <td>NaN</td>\n",
       "      <td>NaN</td>\n",
       "      <td>NaN</td>\n",
       "    </tr>\n",
       "    <tr>\n",
       "      <th>2</th>\n",
       "      <td>2018-11-09</td>\n",
       "      <td>16019</td>\n",
       "      <td>19074</td>\n",
       "      <td>2018</td>\n",
       "      <td>45</td>\n",
       "      <td>0.446991</td>\n",
       "      <td>3399.0</td>\n",
       "      <td>429.0</td>\n",
       "      <td>1950.611111</td>\n",
       "      <td>1252.0</td>\n",
       "      <td>...</td>\n",
       "      <td>NaN</td>\n",
       "      <td>NaN</td>\n",
       "      <td>NaN</td>\n",
       "      <td>NaN</td>\n",
       "      <td>NaN</td>\n",
       "      <td>NaN</td>\n",
       "      <td>0.05</td>\n",
       "      <td>NaN</td>\n",
       "      <td>NaN</td>\n",
       "      <td>NaN</td>\n",
       "    </tr>\n",
       "    <tr>\n",
       "      <th>3</th>\n",
       "      <td>2018-11-09</td>\n",
       "      <td>16019</td>\n",
       "      <td>34472</td>\n",
       "      <td>2018</td>\n",
       "      <td>45</td>\n",
       "      <td>0.446991</td>\n",
       "      <td>4225.0</td>\n",
       "      <td>1252.0</td>\n",
       "      <td>2731.666667</td>\n",
       "      <td>1252.0</td>\n",
       "      <td>...</td>\n",
       "      <td>NaN</td>\n",
       "      <td>NaN</td>\n",
       "      <td>NaN</td>\n",
       "      <td>NaN</td>\n",
       "      <td>NaN</td>\n",
       "      <td>NaN</td>\n",
       "      <td>0.05</td>\n",
       "      <td>NaN</td>\n",
       "      <td>NaN</td>\n",
       "      <td>NaN</td>\n",
       "    </tr>\n",
       "    <tr>\n",
       "      <th>4</th>\n",
       "      <td>2018-11-10</td>\n",
       "      <td>16019</td>\n",
       "      <td>48407</td>\n",
       "      <td>2018</td>\n",
       "      <td>45</td>\n",
       "      <td>0.448424</td>\n",
       "      <td>3907.0</td>\n",
       "      <td>1252.0</td>\n",
       "      <td>2347.000000</td>\n",
       "      <td>1252.0</td>\n",
       "      <td>...</td>\n",
       "      <td>NaN</td>\n",
       "      <td>NaN</td>\n",
       "      <td>NaN</td>\n",
       "      <td>NaN</td>\n",
       "      <td>NaN</td>\n",
       "      <td>NaN</td>\n",
       "      <td>0.05</td>\n",
       "      <td>NaN</td>\n",
       "      <td>NaN</td>\n",
       "      <td>NaN</td>\n",
       "    </tr>\n",
       "  </tbody>\n",
       "</table>\n",
       "<p>5 rows × 26 columns</p>\n",
       "</div>"
      ],
      "text/plain": [
       "       dates    SKU   user  year  week_num  dates_int  max_price  min_price  \\\n",
       "0 2018-11-09  16019  44796  2018        45   0.446991     3431.0     1252.0   \n",
       "1 2018-11-09  16019  44510  2018        45   0.446991     3392.0      401.0   \n",
       "2 2018-11-09  16019  19074  2018        45   0.446991     3399.0      429.0   \n",
       "3 2018-11-09  16019  34472  2018        45   0.446991     4225.0     1252.0   \n",
       "4 2018-11-10  16019  48407  2018        45   0.448424     3907.0     1252.0   \n",
       "\n",
       "    mean_price   price  ...  lag_7_price  lag_8_price  lag_9_price  \\\n",
       "0  2120.500000  1252.0  ...          NaN          NaN          NaN   \n",
       "1  2046.000000  1252.0  ...          NaN          NaN          NaN   \n",
       "2  1950.611111  1252.0  ...          NaN          NaN          NaN   \n",
       "3  2731.666667  1252.0  ...          NaN          NaN          NaN   \n",
       "4  2347.000000  1252.0  ...          NaN          NaN          NaN   \n",
       "\n",
       "   lag_10_price  lag_11_price  lag_12_price  discount  ret_net_1_price  \\\n",
       "0           NaN           NaN           NaN      0.05              NaN   \n",
       "1           NaN           NaN           NaN      0.05              NaN   \n",
       "2           NaN           NaN           NaN      0.05              NaN   \n",
       "3           NaN           NaN           NaN      0.05              NaN   \n",
       "4           NaN           NaN           NaN      0.05              NaN   \n",
       "\n",
       "   ret_net_2_price  ret_net_3_price  \n",
       "0              NaN              NaN  \n",
       "1              NaN              NaN  \n",
       "2              NaN              NaN  \n",
       "3              NaN              NaN  \n",
       "4              NaN              NaN  \n",
       "\n",
       "[5 rows x 26 columns]"
      ]
     },
     "execution_count": 69,
     "metadata": {},
     "output_type": "execute_result"
    }
   ],
   "source": [
    "df_data['dates_int'] = (df_data['dates_int'] - 1514764800000000000) / (1575072000000000000 - 1514764800000000000)\n",
    "df_data.head()"
   ]
  },
  {
   "cell_type": "code",
   "execution_count": 70,
   "metadata": {
    "ExecuteTime": {
     "end_time": "2021-04-07T19:40:23.609124Z",
     "start_time": "2021-04-07T19:40:22.717531Z"
    }
   },
   "outputs": [
    {
     "data": {
      "text/html": [
       "<div>\n",
       "<style scoped>\n",
       "    .dataframe tbody tr th:only-of-type {\n",
       "        vertical-align: middle;\n",
       "    }\n",
       "\n",
       "    .dataframe tbody tr th {\n",
       "        vertical-align: top;\n",
       "    }\n",
       "\n",
       "    .dataframe thead th {\n",
       "        text-align: right;\n",
       "    }\n",
       "</style>\n",
       "<table border=\"1\" class=\"dataframe\">\n",
       "  <thead>\n",
       "    <tr style=\"text-align: right;\">\n",
       "      <th></th>\n",
       "      <th>dates</th>\n",
       "      <th>SKU</th>\n",
       "      <th>user</th>\n",
       "      <th>year</th>\n",
       "      <th>week_num</th>\n",
       "      <th>dates_int</th>\n",
       "      <th>max_price</th>\n",
       "      <th>min_price</th>\n",
       "      <th>mean_price</th>\n",
       "      <th>price</th>\n",
       "      <th>...</th>\n",
       "      <th>lag_8_price</th>\n",
       "      <th>lag_9_price</th>\n",
       "      <th>lag_10_price</th>\n",
       "      <th>lag_11_price</th>\n",
       "      <th>lag_12_price</th>\n",
       "      <th>discount</th>\n",
       "      <th>ret_net_1_price</th>\n",
       "      <th>ret_net_2_price</th>\n",
       "      <th>ret_net_3_price</th>\n",
       "      <th>q</th>\n",
       "    </tr>\n",
       "  </thead>\n",
       "  <tbody>\n",
       "    <tr>\n",
       "      <th>0</th>\n",
       "      <td>2018-11-09</td>\n",
       "      <td>16019</td>\n",
       "      <td>44796</td>\n",
       "      <td>2018</td>\n",
       "      <td>45</td>\n",
       "      <td>0.446991</td>\n",
       "      <td>3431.0</td>\n",
       "      <td>1252.0</td>\n",
       "      <td>2120.500000</td>\n",
       "      <td>1252.0</td>\n",
       "      <td>...</td>\n",
       "      <td>NaN</td>\n",
       "      <td>NaN</td>\n",
       "      <td>NaN</td>\n",
       "      <td>NaN</td>\n",
       "      <td>NaN</td>\n",
       "      <td>0.05</td>\n",
       "      <td>NaN</td>\n",
       "      <td>NaN</td>\n",
       "      <td>NaN</td>\n",
       "      <td>2019-07-31</td>\n",
       "    </tr>\n",
       "    <tr>\n",
       "      <th>1</th>\n",
       "      <td>2018-11-09</td>\n",
       "      <td>16019</td>\n",
       "      <td>44510</td>\n",
       "      <td>2018</td>\n",
       "      <td>45</td>\n",
       "      <td>0.446991</td>\n",
       "      <td>3392.0</td>\n",
       "      <td>401.0</td>\n",
       "      <td>2046.000000</td>\n",
       "      <td>1252.0</td>\n",
       "      <td>...</td>\n",
       "      <td>NaN</td>\n",
       "      <td>NaN</td>\n",
       "      <td>NaN</td>\n",
       "      <td>NaN</td>\n",
       "      <td>NaN</td>\n",
       "      <td>0.05</td>\n",
       "      <td>NaN</td>\n",
       "      <td>NaN</td>\n",
       "      <td>NaN</td>\n",
       "      <td>2019-07-31</td>\n",
       "    </tr>\n",
       "    <tr>\n",
       "      <th>2</th>\n",
       "      <td>2018-11-09</td>\n",
       "      <td>16019</td>\n",
       "      <td>19074</td>\n",
       "      <td>2018</td>\n",
       "      <td>45</td>\n",
       "      <td>0.446991</td>\n",
       "      <td>3399.0</td>\n",
       "      <td>429.0</td>\n",
       "      <td>1950.611111</td>\n",
       "      <td>1252.0</td>\n",
       "      <td>...</td>\n",
       "      <td>NaN</td>\n",
       "      <td>NaN</td>\n",
       "      <td>NaN</td>\n",
       "      <td>NaN</td>\n",
       "      <td>NaN</td>\n",
       "      <td>0.05</td>\n",
       "      <td>NaN</td>\n",
       "      <td>NaN</td>\n",
       "      <td>NaN</td>\n",
       "      <td>2019-07-31</td>\n",
       "    </tr>\n",
       "    <tr>\n",
       "      <th>3</th>\n",
       "      <td>2018-11-09</td>\n",
       "      <td>16019</td>\n",
       "      <td>34472</td>\n",
       "      <td>2018</td>\n",
       "      <td>45</td>\n",
       "      <td>0.446991</td>\n",
       "      <td>4225.0</td>\n",
       "      <td>1252.0</td>\n",
       "      <td>2731.666667</td>\n",
       "      <td>1252.0</td>\n",
       "      <td>...</td>\n",
       "      <td>NaN</td>\n",
       "      <td>NaN</td>\n",
       "      <td>NaN</td>\n",
       "      <td>NaN</td>\n",
       "      <td>NaN</td>\n",
       "      <td>0.05</td>\n",
       "      <td>NaN</td>\n",
       "      <td>NaN</td>\n",
       "      <td>NaN</td>\n",
       "      <td>2019-07-31</td>\n",
       "    </tr>\n",
       "    <tr>\n",
       "      <th>4</th>\n",
       "      <td>2018-11-10</td>\n",
       "      <td>16019</td>\n",
       "      <td>48407</td>\n",
       "      <td>2018</td>\n",
       "      <td>45</td>\n",
       "      <td>0.448424</td>\n",
       "      <td>3907.0</td>\n",
       "      <td>1252.0</td>\n",
       "      <td>2347.000000</td>\n",
       "      <td>1252.0</td>\n",
       "      <td>...</td>\n",
       "      <td>NaN</td>\n",
       "      <td>NaN</td>\n",
       "      <td>NaN</td>\n",
       "      <td>NaN</td>\n",
       "      <td>NaN</td>\n",
       "      <td>0.05</td>\n",
       "      <td>NaN</td>\n",
       "      <td>NaN</td>\n",
       "      <td>NaN</td>\n",
       "      <td>2019-07-31</td>\n",
       "    </tr>\n",
       "  </tbody>\n",
       "</table>\n",
       "<p>5 rows × 27 columns</p>\n",
       "</div>"
      ],
      "text/plain": [
       "       dates    SKU   user  year  week_num  dates_int  max_price  min_price  \\\n",
       "0 2018-11-09  16019  44796  2018        45   0.446991     3431.0     1252.0   \n",
       "1 2018-11-09  16019  44510  2018        45   0.446991     3392.0      401.0   \n",
       "2 2018-11-09  16019  19074  2018        45   0.446991     3399.0      429.0   \n",
       "3 2018-11-09  16019  34472  2018        45   0.446991     4225.0     1252.0   \n",
       "4 2018-11-10  16019  48407  2018        45   0.448424     3907.0     1252.0   \n",
       "\n",
       "    mean_price   price  ...  lag_8_price  lag_9_price  lag_10_price  \\\n",
       "0  2120.500000  1252.0  ...          NaN          NaN           NaN   \n",
       "1  2046.000000  1252.0  ...          NaN          NaN           NaN   \n",
       "2  1950.611111  1252.0  ...          NaN          NaN           NaN   \n",
       "3  2731.666667  1252.0  ...          NaN          NaN           NaN   \n",
       "4  2347.000000  1252.0  ...          NaN          NaN           NaN   \n",
       "\n",
       "   lag_11_price  lag_12_price  discount  ret_net_1_price  ret_net_2_price  \\\n",
       "0           NaN           NaN      0.05              NaN              NaN   \n",
       "1           NaN           NaN      0.05              NaN              NaN   \n",
       "2           NaN           NaN      0.05              NaN              NaN   \n",
       "3           NaN           NaN      0.05              NaN              NaN   \n",
       "4           NaN           NaN      0.05              NaN              NaN   \n",
       "\n",
       "   ret_net_3_price          q  \n",
       "0              NaN 2019-07-31  \n",
       "1              NaN 2019-07-31  \n",
       "2              NaN 2019-07-31  \n",
       "3              NaN 2019-07-31  \n",
       "4              NaN 2019-07-31  \n",
       "\n",
       "[5 rows x 27 columns]"
      ]
     },
     "execution_count": 70,
     "metadata": {},
     "output_type": "execute_result"
    }
   ],
   "source": [
    "df_data['q'] = df_data['SKU'].map(df_data.groupby('SKU').agg(q=('dates', lambda x: x.quantile(0.70)))['q'])\n",
    "df_data.head()"
   ]
  },
  {
   "cell_type": "code",
   "execution_count": 71,
   "metadata": {
    "ExecuteTime": {
     "end_time": "2021-04-07T19:40:23.622740Z",
     "start_time": "2021-04-07T19:40:23.613038Z"
    }
   },
   "outputs": [
    {
     "data": {
      "text/plain": [
       "Index(['year', 'week_num', 'dates_int', 'max_price', 'min_price', 'mean_price',\n",
       "       'lag_1_price', 'lag_2_price', 'lag_3_price', 'lag_4_price',\n",
       "       'lag_5_price', 'lag_6_price', 'lag_7_price', 'lag_8_price',\n",
       "       'lag_9_price', 'lag_10_price', 'lag_11_price', 'lag_12_price',\n",
       "       'discount', 'ret_net_1_price', 'ret_net_2_price', 'ret_net_3_price'],\n",
       "      dtype='object')"
      ]
     },
     "execution_count": 71,
     "metadata": {},
     "output_type": "execute_result"
    }
   ],
   "source": [
    "list_features = df_data.columns[~df_data.columns.isin(['dates', 'SKU', 'user', 'price', 'q'])]\n",
    "list_features"
   ]
  },
  {
   "cell_type": "code",
   "execution_count": 72,
   "metadata": {
    "ExecuteTime": {
     "end_time": "2021-04-07T19:40:23.634451Z",
     "start_time": "2021-04-07T19:40:23.625742Z"
    }
   },
   "outputs": [],
   "source": [
    "mask = df_data['dates'] <= df_data['q']"
   ]
  },
  {
   "cell_type": "code",
   "execution_count": 73,
   "metadata": {
    "ExecuteTime": {
     "end_time": "2021-04-07T19:40:24.114414Z",
     "start_time": "2021-04-07T19:40:23.636604Z"
    }
   },
   "outputs": [
    {
     "data": {
      "text/plain": [
       "((935437, 22), (398823, 22))"
      ]
     },
     "execution_count": 73,
     "metadata": {},
     "output_type": "execute_result"
    }
   ],
   "source": [
    "X_train = df_data.loc[mask, list_features]\n",
    "y_train = df_data.loc[mask, 'price']\n",
    "X_valid = df_data.loc[~mask, list_features]\n",
    "y_valid = df_data.loc[~mask, 'price']\n",
    "X_train.shape, X_valid.shape"
   ]
  },
  {
   "cell_type": "code",
   "execution_count": 74,
   "metadata": {
    "ExecuteTime": {
     "end_time": "2021-04-07T19:40:31.158086Z",
     "start_time": "2021-04-07T19:40:24.118564Z"
    }
   },
   "outputs": [
    {
     "name": "stdout",
     "output_type": "stream",
     "text": [
      "Training until validation scores don't improve for 100 rounds\n",
      "[100]\ttrain's rmse: 63.9908\tvalid's rmse: 23.6694\n",
      "[200]\ttrain's rmse: 57.2869\tvalid's rmse: 23.7104\n",
      "Early stopping, best iteration is:\n",
      "[110]\ttrain's rmse: 62.8529\tvalid's rmse: 23.6116\n"
     ]
    }
   ],
   "source": [
    "lgb_train = Dataset(data=X_train, label=y_train)\n",
    "lgb_valid = Dataset(data=X_valid, label=y_valid, reference=lgb_train)\n",
    "lgb_model = train(\n",
    "    params={\n",
    "        'objective': 'regression',\n",
    "        'metric': 'rmse',\n",
    "        'seed': seed,\n",
    "        'verbosity': -1,\n",
    "    },\n",
    "    train_set=lgb_train,\n",
    "    num_boost_round=100_000,\n",
    "    valid_sets=[lgb_train, lgb_valid],\n",
    "    valid_names=['train', 'valid'],\n",
    "    early_stopping_rounds=100,\n",
    "    verbose_eval=100,\n",
    ")"
   ]
  },
  {
   "cell_type": "markdown",
   "metadata": {},
   "source": [
    "## Тестируем"
   ]
  },
  {
   "cell_type": "code",
   "execution_count": 75,
   "metadata": {
    "ExecuteTime": {
     "end_time": "2021-04-07T19:41:05.475479Z",
     "start_time": "2021-04-07T19:41:05.443266Z"
    }
   },
   "outputs": [
    {
     "data": {
      "text/plain": [
       "(1334260, 5)"
      ]
     },
     "execution_count": 75,
     "metadata": {},
     "output_type": "execute_result"
    }
   ],
   "source": [
    "df_base = df_transactions.copy()\n",
    "df_base['bought'] = 1\n",
    "df_base.shape"
   ]
  },
  {
   "cell_type": "code",
   "execution_count": 76,
   "metadata": {
    "ExecuteTime": {
     "end_time": "2021-04-07T19:41:16.416915Z",
     "start_time": "2021-04-07T19:41:05.928642Z"
    }
   },
   "outputs": [
    {
     "data": {
      "text/plain": [
       "{'status': 'ok'}"
      ]
     },
     "execution_count": 76,
     "metadata": {},
     "output_type": "execute_result"
    }
   ],
   "source": [
    "server_start()"
   ]
  },
  {
   "cell_type": "code",
   "execution_count": null,
   "metadata": {},
   "outputs": [],
   "source": []
  },
  {
   "cell_type": "code",
   "execution_count": 77,
   "metadata": {
    "ExecuteTime": {
     "end_time": "2021-04-07T19:41:16.427302Z",
     "start_time": "2021-04-07T19:41:16.421371Z"
    }
   },
   "outputs": [
    {
     "data": {
      "text/plain": [
       "(1334260, 5)"
      ]
     },
     "execution_count": 77,
     "metadata": {},
     "output_type": "execute_result"
    }
   ],
   "source": [
    "df_base.shape"
   ]
  },
  {
   "cell_type": "code",
   "execution_count": 78,
   "metadata": {
    "ExecuteTime": {
     "end_time": "2021-04-07T19:41:28.043868Z",
     "start_time": "2021-04-07T19:41:16.429287Z"
    }
   },
   "outputs": [
    {
     "data": {
      "text/plain": [
       "(9739, 3)"
      ]
     },
     "execution_count": 78,
     "metadata": {},
     "output_type": "execute_result"
    }
   ],
   "source": [
    "df_batch = pd.read_json(get_batch())\n",
    "df_batch['dates'] = pd.to_datetime(df_batch['dates'])\n",
    "df_batch = df_batch.rename(columns={'user_id': 'user'})\n",
    "df_batch.shape"
   ]
  },
  {
   "cell_type": "code",
   "execution_count": 79,
   "metadata": {
    "ExecuteTime": {
     "end_time": "2021-04-07T19:41:28.135679Z",
     "start_time": "2021-04-07T19:41:28.046925Z"
    }
   },
   "outputs": [
    {
     "data": {
      "text/plain": [
       "(1343999, 5)"
      ]
     },
     "execution_count": 79,
     "metadata": {},
     "output_type": "execute_result"
    }
   ],
   "source": [
    "df_data = pd.concat([df_base, df_batch], ignore_index=True)\n",
    "df_data.shape"
   ]
  },
  {
   "cell_type": "code",
   "execution_count": 80,
   "metadata": {
    "ExecuteTime": {
     "end_time": "2021-04-07T19:41:28.559917Z",
     "start_time": "2021-04-07T19:41:28.142590Z"
    }
   },
   "outputs": [
    {
     "data": {
      "text/html": [
       "<div>\n",
       "<style scoped>\n",
       "    .dataframe tbody tr th:only-of-type {\n",
       "        vertical-align: middle;\n",
       "    }\n",
       "\n",
       "    .dataframe tbody tr th {\n",
       "        vertical-align: top;\n",
       "    }\n",
       "\n",
       "    .dataframe thead th {\n",
       "        text-align: right;\n",
       "    }\n",
       "</style>\n",
       "<table border=\"1\" class=\"dataframe\">\n",
       "  <thead>\n",
       "    <tr style=\"text-align: right;\">\n",
       "      <th></th>\n",
       "      <th>dates</th>\n",
       "      <th>SKU</th>\n",
       "      <th>lag_1_price</th>\n",
       "      <th>lag_2_price</th>\n",
       "      <th>lag_3_price</th>\n",
       "      <th>lag_4_price</th>\n",
       "      <th>lag_5_price</th>\n",
       "      <th>lag_6_price</th>\n",
       "      <th>lag_7_price</th>\n",
       "      <th>lag_8_price</th>\n",
       "      <th>lag_9_price</th>\n",
       "      <th>lag_10_price</th>\n",
       "      <th>lag_11_price</th>\n",
       "      <th>lag_12_price</th>\n",
       "    </tr>\n",
       "  </thead>\n",
       "  <tbody>\n",
       "    <tr>\n",
       "      <th>0</th>\n",
       "      <td>2018-01-01</td>\n",
       "      <td>67369</td>\n",
       "      <td>NaN</td>\n",
       "      <td>NaN</td>\n",
       "      <td>NaN</td>\n",
       "      <td>NaN</td>\n",
       "      <td>NaN</td>\n",
       "      <td>NaN</td>\n",
       "      <td>NaN</td>\n",
       "      <td>NaN</td>\n",
       "      <td>NaN</td>\n",
       "      <td>NaN</td>\n",
       "      <td>NaN</td>\n",
       "      <td>NaN</td>\n",
       "    </tr>\n",
       "    <tr>\n",
       "      <th>1</th>\n",
       "      <td>2018-01-02</td>\n",
       "      <td>67369</td>\n",
       "      <td>3607.0</td>\n",
       "      <td>NaN</td>\n",
       "      <td>NaN</td>\n",
       "      <td>NaN</td>\n",
       "      <td>NaN</td>\n",
       "      <td>NaN</td>\n",
       "      <td>NaN</td>\n",
       "      <td>NaN</td>\n",
       "      <td>NaN</td>\n",
       "      <td>NaN</td>\n",
       "      <td>NaN</td>\n",
       "      <td>NaN</td>\n",
       "    </tr>\n",
       "    <tr>\n",
       "      <th>2</th>\n",
       "      <td>2018-01-03</td>\n",
       "      <td>26629</td>\n",
       "      <td>NaN</td>\n",
       "      <td>NaN</td>\n",
       "      <td>NaN</td>\n",
       "      <td>NaN</td>\n",
       "      <td>NaN</td>\n",
       "      <td>NaN</td>\n",
       "      <td>NaN</td>\n",
       "      <td>NaN</td>\n",
       "      <td>NaN</td>\n",
       "      <td>NaN</td>\n",
       "      <td>NaN</td>\n",
       "      <td>NaN</td>\n",
       "    </tr>\n",
       "    <tr>\n",
       "      <th>3</th>\n",
       "      <td>2018-01-03</td>\n",
       "      <td>41262</td>\n",
       "      <td>NaN</td>\n",
       "      <td>NaN</td>\n",
       "      <td>NaN</td>\n",
       "      <td>NaN</td>\n",
       "      <td>NaN</td>\n",
       "      <td>NaN</td>\n",
       "      <td>NaN</td>\n",
       "      <td>NaN</td>\n",
       "      <td>NaN</td>\n",
       "      <td>NaN</td>\n",
       "      <td>NaN</td>\n",
       "      <td>NaN</td>\n",
       "    </tr>\n",
       "    <tr>\n",
       "      <th>4</th>\n",
       "      <td>2018-01-03</td>\n",
       "      <td>67369</td>\n",
       "      <td>3607.0</td>\n",
       "      <td>3607.0</td>\n",
       "      <td>NaN</td>\n",
       "      <td>NaN</td>\n",
       "      <td>NaN</td>\n",
       "      <td>NaN</td>\n",
       "      <td>NaN</td>\n",
       "      <td>NaN</td>\n",
       "      <td>NaN</td>\n",
       "      <td>NaN</td>\n",
       "      <td>NaN</td>\n",
       "      <td>NaN</td>\n",
       "    </tr>\n",
       "  </tbody>\n",
       "</table>\n",
       "</div>"
      ],
      "text/plain": [
       "       dates    SKU  lag_1_price  lag_2_price  lag_3_price  lag_4_price  \\\n",
       "0 2018-01-01  67369          NaN          NaN          NaN          NaN   \n",
       "1 2018-01-02  67369       3607.0          NaN          NaN          NaN   \n",
       "2 2018-01-03  26629          NaN          NaN          NaN          NaN   \n",
       "3 2018-01-03  41262          NaN          NaN          NaN          NaN   \n",
       "4 2018-01-03  67369       3607.0       3607.0          NaN          NaN   \n",
       "\n",
       "   lag_5_price  lag_6_price  lag_7_price  lag_8_price  lag_9_price  \\\n",
       "0          NaN          NaN          NaN          NaN          NaN   \n",
       "1          NaN          NaN          NaN          NaN          NaN   \n",
       "2          NaN          NaN          NaN          NaN          NaN   \n",
       "3          NaN          NaN          NaN          NaN          NaN   \n",
       "4          NaN          NaN          NaN          NaN          NaN   \n",
       "\n",
       "   lag_10_price  lag_11_price  lag_12_price  \n",
       "0           NaN           NaN           NaN  \n",
       "1           NaN           NaN           NaN  \n",
       "2           NaN           NaN           NaN  \n",
       "3           NaN           NaN           NaN  \n",
       "4           NaN           NaN           NaN  "
      ]
     },
     "execution_count": 80,
     "metadata": {},
     "output_type": "execute_result"
    }
   ],
   "source": [
    "df_sku = (\n",
    "    df_data\n",
    "    .groupby(['dates', 'SKU'], as_index=False)\n",
    "    .agg(price=('price', 'mean'))\n",
    ")\n",
    "for i in range(0, 12):\n",
    "    n_lag = i+1\n",
    "    df_sku[f'lag_{n_lag}_price'] = df_sku.groupby('SKU')['price'].shift(n_lag)\n",
    "df_sku = df_sku.drop(columns=['price'])\n",
    "df_sku.head()"
   ]
  },
  {
   "cell_type": "code",
   "execution_count": 81,
   "metadata": {
    "ExecuteTime": {
     "end_time": "2021-04-07T19:42:13.702632Z",
     "start_time": "2021-04-07T19:41:28.562191Z"
    }
   },
   "outputs": [
    {
     "data": {
      "text/html": [
       "<div>\n",
       "<style scoped>\n",
       "    .dataframe tbody tr th:only-of-type {\n",
       "        vertical-align: middle;\n",
       "    }\n",
       "\n",
       "    .dataframe tbody tr th {\n",
       "        vertical-align: top;\n",
       "    }\n",
       "\n",
       "    .dataframe thead th {\n",
       "        text-align: right;\n",
       "    }\n",
       "</style>\n",
       "<table border=\"1\" class=\"dataframe\">\n",
       "  <thead>\n",
       "    <tr style=\"text-align: right;\">\n",
       "      <th></th>\n",
       "      <th>user</th>\n",
       "      <th>dates</th>\n",
       "      <th>max_price</th>\n",
       "      <th>min_price</th>\n",
       "      <th>mean_price</th>\n",
       "    </tr>\n",
       "  </thead>\n",
       "  <tbody>\n",
       "    <tr>\n",
       "      <th>0</th>\n",
       "      <td>10002</td>\n",
       "      <td>2018-03-22</td>\n",
       "      <td>691.0</td>\n",
       "      <td>691.0</td>\n",
       "      <td>691.0</td>\n",
       "    </tr>\n",
       "    <tr>\n",
       "      <th>1</th>\n",
       "      <td>10002</td>\n",
       "      <td>2018-04-19</td>\n",
       "      <td>2014.0</td>\n",
       "      <td>691.0</td>\n",
       "      <td>1352.5</td>\n",
       "    </tr>\n",
       "    <tr>\n",
       "      <th>2</th>\n",
       "      <td>10002</td>\n",
       "      <td>2018-06-15</td>\n",
       "      <td>2014.0</td>\n",
       "      <td>301.0</td>\n",
       "      <td>1002.0</td>\n",
       "    </tr>\n",
       "    <tr>\n",
       "      <th>3</th>\n",
       "      <td>10002</td>\n",
       "      <td>2018-06-25</td>\n",
       "      <td>2014.0</td>\n",
       "      <td>301.0</td>\n",
       "      <td>1138.5</td>\n",
       "    </tr>\n",
       "    <tr>\n",
       "      <th>4</th>\n",
       "      <td>10002</td>\n",
       "      <td>2018-07-08</td>\n",
       "      <td>3494.0</td>\n",
       "      <td>301.0</td>\n",
       "      <td>1609.6</td>\n",
       "    </tr>\n",
       "  </tbody>\n",
       "</table>\n",
       "</div>"
      ],
      "text/plain": [
       "    user      dates  max_price  min_price  mean_price\n",
       "0  10002 2018-03-22      691.0      691.0       691.0\n",
       "1  10002 2018-04-19     2014.0      691.0      1352.5\n",
       "2  10002 2018-06-15     2014.0      301.0      1002.0\n",
       "3  10002 2018-06-25     2014.0      301.0      1138.5\n",
       "4  10002 2018-07-08     3494.0      301.0      1609.6"
      ]
     },
     "execution_count": 81,
     "metadata": {},
     "output_type": "execute_result"
    }
   ],
   "source": [
    "df_grouped = (\n",
    "    df_data\n",
    "    .loc[df_data['bought'] == 1]\n",
    "    .groupby(['dates', 'user'], as_index=False)\n",
    "    .agg(price=('price', 'mean'))\n",
    "    .sort_values(['dates', 'user'])\n",
    "    .groupby('user')\n",
    ")\n",
    "df_window_6 = df_grouped.rolling(6, min_periods=1, on='dates')\n",
    "\n",
    "df_user = pd.concat(\n",
    "    [\n",
    "        df_window_6['price'].max(),\n",
    "        df_window_6['price'].min(),\n",
    "        df_window_6['price'].mean(),\n",
    "    ],\n",
    "    axis=1,\n",
    ")\n",
    "df_user.columns = ['max_price', 'min_price', 'mean_price']\n",
    "df_user = df_user.reset_index()\n",
    "df_user.head()"
   ]
  },
  {
   "cell_type": "code",
   "execution_count": 82,
   "metadata": {
    "ExecuteTime": {
     "end_time": "2021-04-07T19:42:14.064710Z",
     "start_time": "2021-04-07T19:42:13.705370Z"
    }
   },
   "outputs": [
    {
     "name": "stderr",
     "output_type": "stream",
     "text": [
      "/opt/tljh/user/lib/python3.7/site-packages/ipykernel_launcher.py:2: FutureWarning: Series.dt.weekofyear and Series.dt.week have been deprecated.  Please use Series.dt.isocalendar().week instead.\n",
      "  \n"
     ]
    },
    {
     "data": {
      "text/html": [
       "<div>\n",
       "<style scoped>\n",
       "    .dataframe tbody tr th:only-of-type {\n",
       "        vertical-align: middle;\n",
       "    }\n",
       "\n",
       "    .dataframe tbody tr th {\n",
       "        vertical-align: top;\n",
       "    }\n",
       "\n",
       "    .dataframe thead th {\n",
       "        text-align: right;\n",
       "    }\n",
       "</style>\n",
       "<table border=\"1\" class=\"dataframe\">\n",
       "  <thead>\n",
       "    <tr style=\"text-align: right;\">\n",
       "      <th></th>\n",
       "      <th>dates</th>\n",
       "      <th>SKU</th>\n",
       "      <th>user</th>\n",
       "      <th>price</th>\n",
       "      <th>bought</th>\n",
       "      <th>year</th>\n",
       "      <th>week_num</th>\n",
       "      <th>dates_int</th>\n",
       "    </tr>\n",
       "  </thead>\n",
       "  <tbody>\n",
       "    <tr>\n",
       "      <th>0</th>\n",
       "      <td>2018-11-09</td>\n",
       "      <td>16019</td>\n",
       "      <td>44796</td>\n",
       "      <td>1252.0</td>\n",
       "      <td>1.0</td>\n",
       "      <td>2018</td>\n",
       "      <td>45</td>\n",
       "      <td>0.446991</td>\n",
       "    </tr>\n",
       "    <tr>\n",
       "      <th>1</th>\n",
       "      <td>2018-11-09</td>\n",
       "      <td>16019</td>\n",
       "      <td>44510</td>\n",
       "      <td>1252.0</td>\n",
       "      <td>1.0</td>\n",
       "      <td>2018</td>\n",
       "      <td>45</td>\n",
       "      <td>0.446991</td>\n",
       "    </tr>\n",
       "    <tr>\n",
       "      <th>2</th>\n",
       "      <td>2018-11-09</td>\n",
       "      <td>16019</td>\n",
       "      <td>19074</td>\n",
       "      <td>1252.0</td>\n",
       "      <td>1.0</td>\n",
       "      <td>2018</td>\n",
       "      <td>45</td>\n",
       "      <td>0.446991</td>\n",
       "    </tr>\n",
       "    <tr>\n",
       "      <th>3</th>\n",
       "      <td>2018-11-09</td>\n",
       "      <td>16019</td>\n",
       "      <td>34472</td>\n",
       "      <td>1252.0</td>\n",
       "      <td>1.0</td>\n",
       "      <td>2018</td>\n",
       "      <td>45</td>\n",
       "      <td>0.446991</td>\n",
       "    </tr>\n",
       "    <tr>\n",
       "      <th>4</th>\n",
       "      <td>2018-11-10</td>\n",
       "      <td>16019</td>\n",
       "      <td>48407</td>\n",
       "      <td>1252.0</td>\n",
       "      <td>1.0</td>\n",
       "      <td>2018</td>\n",
       "      <td>45</td>\n",
       "      <td>0.448424</td>\n",
       "    </tr>\n",
       "  </tbody>\n",
       "</table>\n",
       "</div>"
      ],
      "text/plain": [
       "       dates    SKU   user   price  bought  year week_num  dates_int\n",
       "0 2018-11-09  16019  44796  1252.0     1.0  2018       45   0.446991\n",
       "1 2018-11-09  16019  44510  1252.0     1.0  2018       45   0.446991\n",
       "2 2018-11-09  16019  19074  1252.0     1.0  2018       45   0.446991\n",
       "3 2018-11-09  16019  34472  1252.0     1.0  2018       45   0.446991\n",
       "4 2018-11-10  16019  48407  1252.0     1.0  2018       45   0.448424"
      ]
     },
     "execution_count": 82,
     "metadata": {},
     "output_type": "execute_result"
    }
   ],
   "source": [
    "df_data['year'] = df_data['dates'].dt.year.astype('category')\n",
    "df_data['week_num'] = df_data['dates'].dt.week.astype('category')\n",
    "df_data['dates_int'] = df_data['dates'].astype(int)\n",
    "df_data['dates_int'] = (df_data['dates_int'] - 1514764800000000000) / (1575072000000000000 - 1514764800000000000)\n",
    "df_data.head()"
   ]
  },
  {
   "cell_type": "code",
   "execution_count": 83,
   "metadata": {
    "ExecuteTime": {
     "end_time": "2021-04-07T19:42:14.161537Z",
     "start_time": "2021-04-07T19:42:14.066415Z"
    }
   },
   "outputs": [
    {
     "data": {
      "text/plain": [
       "True"
      ]
     },
     "execution_count": 83,
     "metadata": {},
     "output_type": "execute_result"
    }
   ],
   "source": [
    "df_user.shape[0] == df_user.drop_duplicates(['dates', 'user']).shape[0]"
   ]
  },
  {
   "cell_type": "code",
   "execution_count": 84,
   "metadata": {
    "ExecuteTime": {
     "end_time": "2021-04-07T19:42:14.197590Z",
     "start_time": "2021-04-07T19:42:14.163642Z"
    }
   },
   "outputs": [
    {
     "data": {
      "text/plain": [
       "True"
      ]
     },
     "execution_count": 84,
     "metadata": {},
     "output_type": "execute_result"
    }
   ],
   "source": [
    "df_sku.shape[0] == df_sku.drop_duplicates(['dates', 'SKU']).shape[0]"
   ]
  },
  {
   "cell_type": "code",
   "execution_count": 85,
   "metadata": {
    "ExecuteTime": {
     "end_time": "2021-04-07T19:42:16.521534Z",
     "start_time": "2021-04-07T19:42:14.204432Z"
    }
   },
   "outputs": [
    {
     "data": {
      "text/plain": [
       "(1343999, 27)"
      ]
     },
     "execution_count": 85,
     "metadata": {},
     "output_type": "execute_result"
    }
   ],
   "source": [
    "df_data = (\n",
    "    df_data\n",
    "    .merge(\n",
    "        df_user,\n",
    "        how='left',\n",
    "        on=['dates', 'user'],\n",
    "    )\n",
    "    .merge(\n",
    "        df_sku,\n",
    "        how='left',\n",
    "        on=['dates', 'SKU'],\n",
    "    )\n",
    "    .merge(\n",
    "        df_promo,\n",
    "        how='left',\n",
    "        on=['year', 'week_num', 'SKU'],\n",
    "    )\n",
    "    .merge(\n",
    "        df_canc,\n",
    "        how='left',\n",
    "        on=['year', 'week_num', 'SKU'],\n",
    "    )\n",
    ")\n",
    "df_data.shape"
   ]
  },
  {
   "cell_type": "code",
   "execution_count": 86,
   "metadata": {
    "ExecuteTime": {
     "end_time": "2021-04-07T19:42:16.533843Z",
     "start_time": "2021-04-07T19:42:16.524916Z"
    }
   },
   "outputs": [
    {
     "data": {
      "text/plain": [
       "True"
      ]
     },
     "execution_count": 86,
     "metadata": {},
     "output_type": "execute_result"
    }
   ],
   "source": [
    "df_data.shape[0] == (df_base.shape[0] + df_batch.shape[0])"
   ]
  },
  {
   "cell_type": "code",
   "execution_count": 87,
   "metadata": {
    "ExecuteTime": {
     "end_time": "2021-04-07T19:42:17.310048Z",
     "start_time": "2021-04-07T19:42:16.537681Z"
    }
   },
   "outputs": [],
   "source": [
    "mask = df_data['price'].isna()\n",
    "df_data.loc[mask, 'price'] = lgb_model.predict(df_data.loc[mask, list_features])"
   ]
  },
  {
   "cell_type": "code",
   "execution_count": 88,
   "metadata": {
    "ExecuteTime": {
     "end_time": "2021-04-07T19:42:17.621097Z",
     "start_time": "2021-04-07T19:42:17.313148Z"
    }
   },
   "outputs": [
    {
     "data": {
      "text/html": [
       "<div>\n",
       "<style scoped>\n",
       "    .dataframe tbody tr th:only-of-type {\n",
       "        vertical-align: middle;\n",
       "    }\n",
       "\n",
       "    .dataframe tbody tr th {\n",
       "        vertical-align: top;\n",
       "    }\n",
       "\n",
       "    .dataframe thead th {\n",
       "        text-align: right;\n",
       "    }\n",
       "</style>\n",
       "<table border=\"1\" class=\"dataframe\">\n",
       "  <thead>\n",
       "    <tr style=\"text-align: right;\">\n",
       "      <th></th>\n",
       "      <th>dates</th>\n",
       "      <th>SKU</th>\n",
       "      <th>user_id</th>\n",
       "      <th>price</th>\n",
       "    </tr>\n",
       "  </thead>\n",
       "  <tbody>\n",
       "    <tr>\n",
       "      <th>0</th>\n",
       "      <td>2019-12-01</td>\n",
       "      <td>16019</td>\n",
       "      <td>27822</td>\n",
       "      <td>1130.440289</td>\n",
       "    </tr>\n",
       "    <tr>\n",
       "      <th>1</th>\n",
       "      <td>2019-12-01</td>\n",
       "      <td>84011</td>\n",
       "      <td>60133</td>\n",
       "      <td>4534.696757</td>\n",
       "    </tr>\n",
       "    <tr>\n",
       "      <th>2</th>\n",
       "      <td>2019-12-01</td>\n",
       "      <td>84011</td>\n",
       "      <td>13021</td>\n",
       "      <td>4534.696757</td>\n",
       "    </tr>\n",
       "    <tr>\n",
       "      <th>3</th>\n",
       "      <td>2019-12-01</td>\n",
       "      <td>29011</td>\n",
       "      <td>36337</td>\n",
       "      <td>2553.717391</td>\n",
       "    </tr>\n",
       "    <tr>\n",
       "      <th>4</th>\n",
       "      <td>2019-12-01</td>\n",
       "      <td>79558</td>\n",
       "      <td>25147</td>\n",
       "      <td>2938.085874</td>\n",
       "    </tr>\n",
       "  </tbody>\n",
       "</table>\n",
       "</div>"
      ],
      "text/plain": [
       "       dates    SKU  user_id        price\n",
       "0 2019-12-01  16019    27822  1130.440289\n",
       "1 2019-12-01  84011    60133  4534.696757\n",
       "2 2019-12-01  84011    13021  4534.696757\n",
       "3 2019-12-01  29011    36337  2553.717391\n",
       "4 2019-12-01  79558    25147  2938.085874"
      ]
     },
     "execution_count": 88,
     "metadata": {},
     "output_type": "execute_result"
    }
   ],
   "source": [
    "df_submit = df_batch.merge(df_data[['dates', 'SKU', 'user', 'price']], how='left', on=['dates', 'SKU', 'user'])\n",
    "df_submit = df_submit.rename(columns={'user': 'user_id'})\n",
    "df_submit.head()"
   ]
  },
  {
   "cell_type": "code",
   "execution_count": 89,
   "metadata": {
    "ExecuteTime": {
     "end_time": "2021-04-07T19:42:26.683928Z",
     "start_time": "2021-04-07T19:42:17.624379Z"
    }
   },
   "outputs": [
    {
     "data": {
      "text/plain": [
       "{'status': 'ok'}"
      ]
     },
     "execution_count": 89,
     "metadata": {},
     "output_type": "execute_result"
    }
   ],
   "source": [
    "send_submit(df_submit)"
   ]
  },
  {
   "cell_type": "code",
   "execution_count": 90,
   "metadata": {
    "ExecuteTime": {
     "end_time": "2021-04-07T19:42:30.972272Z",
     "start_time": "2021-04-07T19:42:26.689947Z"
    }
   },
   "outputs": [
    {
     "data": {
      "text/html": [
       "<div>\n",
       "<style scoped>\n",
       "    .dataframe tbody tr th:only-of-type {\n",
       "        vertical-align: middle;\n",
       "    }\n",
       "\n",
       "    .dataframe tbody tr th {\n",
       "        vertical-align: top;\n",
       "    }\n",
       "\n",
       "    .dataframe thead th {\n",
       "        text-align: right;\n",
       "    }\n",
       "</style>\n",
       "<table border=\"1\" class=\"dataframe\">\n",
       "  <thead>\n",
       "    <tr style=\"text-align: right;\">\n",
       "      <th></th>\n",
       "      <th>dates</th>\n",
       "      <th>SKU</th>\n",
       "      <th>user</th>\n",
       "      <th>price</th>\n",
       "      <th>bought</th>\n",
       "    </tr>\n",
       "  </thead>\n",
       "  <tbody>\n",
       "    <tr>\n",
       "      <th>0</th>\n",
       "      <td>2019-12-01</td>\n",
       "      <td>16019</td>\n",
       "      <td>27822</td>\n",
       "      <td>1130.440289</td>\n",
       "      <td>0</td>\n",
       "    </tr>\n",
       "    <tr>\n",
       "      <th>1</th>\n",
       "      <td>2019-12-01</td>\n",
       "      <td>84011</td>\n",
       "      <td>60133</td>\n",
       "      <td>4534.696757</td>\n",
       "      <td>0</td>\n",
       "    </tr>\n",
       "    <tr>\n",
       "      <th>2</th>\n",
       "      <td>2019-12-01</td>\n",
       "      <td>84011</td>\n",
       "      <td>13021</td>\n",
       "      <td>4534.696757</td>\n",
       "      <td>0</td>\n",
       "    </tr>\n",
       "    <tr>\n",
       "      <th>3</th>\n",
       "      <td>2019-12-01</td>\n",
       "      <td>29011</td>\n",
       "      <td>36337</td>\n",
       "      <td>2553.717391</td>\n",
       "      <td>0</td>\n",
       "    </tr>\n",
       "    <tr>\n",
       "      <th>4</th>\n",
       "      <td>2019-12-01</td>\n",
       "      <td>79558</td>\n",
       "      <td>25147</td>\n",
       "      <td>2938.085874</td>\n",
       "      <td>0</td>\n",
       "    </tr>\n",
       "  </tbody>\n",
       "</table>\n",
       "</div>"
      ],
      "text/plain": [
       "       dates    SKU   user        price  bought\n",
       "0 2019-12-01  16019  27822  1130.440289       0\n",
       "1 2019-12-01  84011  60133  4534.696757       0\n",
       "2 2019-12-01  84011  13021  4534.696757       0\n",
       "3 2019-12-01  29011  36337  2553.717391       0\n",
       "4 2019-12-01  79558  25147  2938.085874       0"
      ]
     },
     "execution_count": 90,
     "metadata": {},
     "output_type": "execute_result"
    }
   ],
   "source": [
    "df_result = pd.read_json(get_result())\n",
    "df_result['dates'] = pd.to_datetime(df_result['dates'])\n",
    "df_result = df_result.rename(columns={'user_id': 'user'})\n",
    "df_result.head()"
   ]
  },
  {
   "cell_type": "code",
   "execution_count": 91,
   "metadata": {
    "ExecuteTime": {
     "end_time": "2021-04-07T19:42:35.422820Z",
     "start_time": "2021-04-07T19:42:30.974166Z"
    },
    "scrolled": true
   },
   "outputs": [
    {
     "data": {
      "text/plain": [
       "5764"
      ]
     },
     "execution_count": 91,
     "metadata": {},
     "output_type": "execute_result"
    }
   ],
   "source": [
    "df_base = (\n",
    "    df_data\n",
    "    .merge(\n",
    "        df_result,\n",
    "        how='left',\n",
    "        on=list(df_result.columns[:-2]),\n",
    "        suffixes=('', '_'),\n",
    "    )\n",
    "    .assign(bought=lambda X: np.where(X['bought'].isna(),X['bought_'], X['bought']))\n",
    "    .loc[:, df_result.columns]\n",
    ")\n",
    "(df_base['bought'] != 1).sum()"
   ]
  },
  {
   "cell_type": "code",
   "execution_count": 92,
   "metadata": {
    "ExecuteTime": {
     "end_time": "2021-04-07T19:42:35.437800Z",
     "start_time": "2021-04-07T19:42:35.427459Z"
    }
   },
   "outputs": [
    {
     "data": {
      "text/plain": [
       "((1343999, 5), (9739, 4))"
      ]
     },
     "execution_count": 92,
     "metadata": {},
     "output_type": "execute_result"
    }
   ],
   "source": [
    "df_base.shape, df_submit.shape"
   ]
  },
  {
   "cell_type": "code",
   "execution_count": 93,
   "metadata": {
    "ExecuteTime": {
     "end_time": "2021-04-07T19:42:35.453535Z",
     "start_time": "2021-04-07T19:42:35.443153Z"
    }
   },
   "outputs": [],
   "source": [
    "del df_user, df_sku, df_data, df_result"
   ]
  },
  {
   "cell_type": "code",
   "execution_count": 94,
   "metadata": {
    "ExecuteTime": {
     "end_time": "2021-04-07T19:42:35.575118Z",
     "start_time": "2021-04-07T19:42:35.456777Z"
    }
   },
   "outputs": [
    {
     "data": {
      "text/plain": [
       "80"
      ]
     },
     "execution_count": 94,
     "metadata": {},
     "output_type": "execute_result"
    }
   ],
   "source": [
    "import gc\n",
    "gc.collect()"
   ]
  },
  {
   "cell_type": "markdown",
   "metadata": {},
   "source": [
    "## Отправляем результат"
   ]
  },
  {
   "cell_type": "code",
   "execution_count": 95,
   "metadata": {
    "ExecuteTime": {
     "end_time": "2021-04-07T19:42:35.613908Z",
     "start_time": "2021-04-07T19:42:35.580199Z"
    }
   },
   "outputs": [],
   "source": [
    "class MoreFeaturesModel(Model):\n",
    "    def __init__(self, df_base: pd.DataFrame, list_features, lgb_model, df_promo, df_canc):\n",
    "        self.df_base = df_base\n",
    "        self.df_base['bought'] = 1\n",
    "        self.df_data = None\n",
    "        self.list_features = list_features\n",
    "        self.lgb_model = lgb_model\n",
    "        self.df_promo = df_promo\n",
    "        self.df_canc = df_canc\n",
    "        \n",
    "    def predict(self, data: pd.DataFrame) -> pd.DataFrame:\n",
    "        data = data.rename(columns={'user_id': 'user'})\n",
    "        self.df_data = pd.concat([self.df_base, data], ignore_index=True)\n",
    "        \n",
    "        df_sku = (\n",
    "            self.df_data\n",
    "            .groupby(['dates', 'SKU'], as_index=False)\n",
    "            .agg(price=('price', 'mean'))\n",
    "        )\n",
    "        for i in range(0, 12):\n",
    "            n_lag = i+1\n",
    "            df_sku[f'lag_{n_lag}_price'] = df_sku.groupby('SKU')['price'].shift(n_lag)\n",
    "        df_sku = df_sku.drop(columns=['price'])   \n",
    "        \n",
    "        df_grouped = (\n",
    "            self.df_data\n",
    "            .loc[self.df_data['bought'] == 1]\n",
    "            .groupby(['dates', 'user'], as_index=False)\n",
    "            .agg(price=('price', 'mean'))\n",
    "            .sort_values(['dates', 'user'])\n",
    "            .groupby('user')\n",
    "        )\n",
    "        df_window_6 = df_grouped.rolling(6, min_periods=1, on='dates')\n",
    "        df_user = pd.concat(\n",
    "            [\n",
    "                df_window_6['price'].max(),\n",
    "                df_window_6['price'].min(),\n",
    "                df_window_6['price'].mean(),\n",
    "            ],\n",
    "            axis=1,\n",
    "        )\n",
    "        df_user.columns = ['max_price', 'min_price', 'mean_price']\n",
    "        df_user = df_user.reset_index()\n",
    "        \n",
    "        self.df_data['year'] = self.df_data['dates'].dt.year.astype('category')\n",
    "        self.df_data['week_num'] = self.df_data['dates'].dt.week.astype('category')\n",
    "        self.df_data['dates_int'] = self.df_data['dates'].astype(int)\n",
    "        self.df_data['dates_int'] = (self.df_data['dates_int'] - 1514764800000000000) / (1575072000000000000 - 1514764800000000000)\n",
    "        \n",
    "        self.df_data = (\n",
    "            self.df_data\n",
    "            .merge(\n",
    "                df_user,\n",
    "                how='left',\n",
    "                on=['dates', 'user'],\n",
    "            )\n",
    "            .merge(\n",
    "                df_sku,\n",
    "                how='left',\n",
    "                on=['dates', 'SKU'],\n",
    "            )\n",
    "            .merge(\n",
    "                self.df_promo,\n",
    "                how='left',\n",
    "                on=['year', 'week_num', 'SKU'],\n",
    "            )\n",
    "            .merge(\n",
    "                self.df_canc,\n",
    "                how='left',\n",
    "                on=['year', 'week_num', 'SKU'],\n",
    "            )\n",
    "        )\n",
    "        \n",
    "        mask = self.df_data['price'].isna()\n",
    "        self.df_data.loc[mask, 'price'] = lgb_model.predict(self.df_data.loc[mask, list_features])\n",
    "        \n",
    "        df_submit = data.merge(self.df_data[['dates', 'SKU', 'user', 'price']], how='left', on=['dates', 'SKU', 'user'])\n",
    "        df_submit = df_submit.rename(columns={'user': 'user_id'})\n",
    "        \n",
    "        del df_user, df_sku\n",
    "        \n",
    "        return df_submit\n",
    "        \n",
    "    def feedback(self, feedback: pd.DataFrame):        \n",
    "        feedback['dates'] = pd.to_datetime(feedback['dates'])\n",
    "        feedback = feedback.rename(columns={'user_id': 'user'})\n",
    "        \n",
    "        self.df_base = (\n",
    "            self.df_data\n",
    "            .merge(\n",
    "                feedback,\n",
    "                how='left',\n",
    "                on=list(feedback.columns[:-2]),\n",
    "                suffixes=('', '_'),\n",
    "            )\n",
    "            .assign(bought=lambda X: np.where(X['bought'].isna(),X['bought_'], X['bought']))\n",
    "            .loc[:, feedback.columns]\n",
    "        )\n",
    "        \n",
    "        self.df_data = None"
   ]
  },
  {
   "cell_type": "code",
   "execution_count": 96,
   "metadata": {
    "ExecuteTime": {
     "end_time": "2021-04-07T20:19:17.183535Z",
     "start_time": "2021-04-07T19:42:35.618241Z"
    },
    "scrolled": true
   },
   "outputs": [
    {
     "name": "stdout",
     "output_type": "stream",
     "text": [
      "Batch #0\n"
     ]
    },
    {
     "name": "stderr",
     "output_type": "stream",
     "text": [
      "/opt/tljh/user/lib/python3.7/site-packages/ipykernel_launcher.py:46: FutureWarning: Series.dt.weekofyear and Series.dt.week have been deprecated.  Please use Series.dt.isocalendar().week instead.\n"
     ]
    },
    {
     "name": "stdout",
     "output_type": "stream",
     "text": [
      "Batch #1\n"
     ]
    },
    {
     "name": "stderr",
     "output_type": "stream",
     "text": [
      "/opt/tljh/user/lib/python3.7/site-packages/ipykernel_launcher.py:46: FutureWarning: Series.dt.weekofyear and Series.dt.week have been deprecated.  Please use Series.dt.isocalendar().week instead.\n"
     ]
    },
    {
     "name": "stdout",
     "output_type": "stream",
     "text": [
      "Batch #2\n"
     ]
    },
    {
     "name": "stderr",
     "output_type": "stream",
     "text": [
      "/opt/tljh/user/lib/python3.7/site-packages/ipykernel_launcher.py:46: FutureWarning: Series.dt.weekofyear and Series.dt.week have been deprecated.  Please use Series.dt.isocalendar().week instead.\n"
     ]
    },
    {
     "name": "stdout",
     "output_type": "stream",
     "text": [
      "Batch #3\n"
     ]
    },
    {
     "name": "stderr",
     "output_type": "stream",
     "text": [
      "/opt/tljh/user/lib/python3.7/site-packages/ipykernel_launcher.py:46: FutureWarning: Series.dt.weekofyear and Series.dt.week have been deprecated.  Please use Series.dt.isocalendar().week instead.\n"
     ]
    },
    {
     "name": "stdout",
     "output_type": "stream",
     "text": [
      "Batch #4\n"
     ]
    },
    {
     "name": "stderr",
     "output_type": "stream",
     "text": [
      "/opt/tljh/user/lib/python3.7/site-packages/ipykernel_launcher.py:46: FutureWarning: Series.dt.weekofyear and Series.dt.week have been deprecated.  Please use Series.dt.isocalendar().week instead.\n"
     ]
    },
    {
     "name": "stdout",
     "output_type": "stream",
     "text": [
      "Batch #5\n"
     ]
    },
    {
     "name": "stderr",
     "output_type": "stream",
     "text": [
      "/opt/tljh/user/lib/python3.7/site-packages/ipykernel_launcher.py:46: FutureWarning: Series.dt.weekofyear and Series.dt.week have been deprecated.  Please use Series.dt.isocalendar().week instead.\n"
     ]
    },
    {
     "name": "stdout",
     "output_type": "stream",
     "text": [
      "Batch #6\n"
     ]
    },
    {
     "name": "stderr",
     "output_type": "stream",
     "text": [
      "/opt/tljh/user/lib/python3.7/site-packages/ipykernel_launcher.py:46: FutureWarning: Series.dt.weekofyear and Series.dt.week have been deprecated.  Please use Series.dt.isocalendar().week instead.\n"
     ]
    },
    {
     "name": "stdout",
     "output_type": "stream",
     "text": [
      "Batch #7\n"
     ]
    },
    {
     "name": "stderr",
     "output_type": "stream",
     "text": [
      "/opt/tljh/user/lib/python3.7/site-packages/ipykernel_launcher.py:46: FutureWarning: Series.dt.weekofyear and Series.dt.week have been deprecated.  Please use Series.dt.isocalendar().week instead.\n"
     ]
    },
    {
     "name": "stdout",
     "output_type": "stream",
     "text": [
      "Batch #8\n"
     ]
    },
    {
     "name": "stderr",
     "output_type": "stream",
     "text": [
      "/opt/tljh/user/lib/python3.7/site-packages/ipykernel_launcher.py:46: FutureWarning: Series.dt.weekofyear and Series.dt.week have been deprecated.  Please use Series.dt.isocalendar().week instead.\n"
     ]
    },
    {
     "name": "stdout",
     "output_type": "stream",
     "text": [
      "Batch #9\n"
     ]
    },
    {
     "name": "stderr",
     "output_type": "stream",
     "text": [
      "/opt/tljh/user/lib/python3.7/site-packages/ipykernel_launcher.py:46: FutureWarning: Series.dt.weekofyear and Series.dt.week have been deprecated.  Please use Series.dt.isocalendar().week instead.\n"
     ]
    },
    {
     "name": "stdout",
     "output_type": "stream",
     "text": [
      "Batch #10\n"
     ]
    },
    {
     "name": "stderr",
     "output_type": "stream",
     "text": [
      "/opt/tljh/user/lib/python3.7/site-packages/ipykernel_launcher.py:46: FutureWarning: Series.dt.weekofyear and Series.dt.week have been deprecated.  Please use Series.dt.isocalendar().week instead.\n"
     ]
    },
    {
     "name": "stdout",
     "output_type": "stream",
     "text": [
      "Batch #11\n"
     ]
    },
    {
     "name": "stderr",
     "output_type": "stream",
     "text": [
      "/opt/tljh/user/lib/python3.7/site-packages/ipykernel_launcher.py:46: FutureWarning: Series.dt.weekofyear and Series.dt.week have been deprecated.  Please use Series.dt.isocalendar().week instead.\n"
     ]
    },
    {
     "name": "stdout",
     "output_type": "stream",
     "text": [
      "Batch #12\n"
     ]
    },
    {
     "name": "stderr",
     "output_type": "stream",
     "text": [
      "/opt/tljh/user/lib/python3.7/site-packages/ipykernel_launcher.py:46: FutureWarning: Series.dt.weekofyear and Series.dt.week have been deprecated.  Please use Series.dt.isocalendar().week instead.\n"
     ]
    },
    {
     "name": "stdout",
     "output_type": "stream",
     "text": [
      "Batch #13\n"
     ]
    },
    {
     "name": "stderr",
     "output_type": "stream",
     "text": [
      "/opt/tljh/user/lib/python3.7/site-packages/ipykernel_launcher.py:46: FutureWarning: Series.dt.weekofyear and Series.dt.week have been deprecated.  Please use Series.dt.isocalendar().week instead.\n"
     ]
    },
    {
     "name": "stdout",
     "output_type": "stream",
     "text": [
      "Batch #14\n"
     ]
    },
    {
     "name": "stderr",
     "output_type": "stream",
     "text": [
      "/opt/tljh/user/lib/python3.7/site-packages/ipykernel_launcher.py:46: FutureWarning: Series.dt.weekofyear and Series.dt.week have been deprecated.  Please use Series.dt.isocalendar().week instead.\n"
     ]
    },
    {
     "name": "stdout",
     "output_type": "stream",
     "text": [
      "Batch #15\n"
     ]
    },
    {
     "name": "stderr",
     "output_type": "stream",
     "text": [
      "/opt/tljh/user/lib/python3.7/site-packages/ipykernel_launcher.py:46: FutureWarning: Series.dt.weekofyear and Series.dt.week have been deprecated.  Please use Series.dt.isocalendar().week instead.\n"
     ]
    },
    {
     "name": "stdout",
     "output_type": "stream",
     "text": [
      "Batch #16\n"
     ]
    },
    {
     "name": "stderr",
     "output_type": "stream",
     "text": [
      "/opt/tljh/user/lib/python3.7/site-packages/ipykernel_launcher.py:46: FutureWarning: Series.dt.weekofyear and Series.dt.week have been deprecated.  Please use Series.dt.isocalendar().week instead.\n"
     ]
    },
    {
     "name": "stdout",
     "output_type": "stream",
     "text": [
      "Batch #17\n"
     ]
    },
    {
     "name": "stderr",
     "output_type": "stream",
     "text": [
      "/opt/tljh/user/lib/python3.7/site-packages/ipykernel_launcher.py:46: FutureWarning: Series.dt.weekofyear and Series.dt.week have been deprecated.  Please use Series.dt.isocalendar().week instead.\n"
     ]
    },
    {
     "name": "stdout",
     "output_type": "stream",
     "text": [
      "Batch #18\n"
     ]
    },
    {
     "name": "stderr",
     "output_type": "stream",
     "text": [
      "/opt/tljh/user/lib/python3.7/site-packages/ipykernel_launcher.py:46: FutureWarning: Series.dt.weekofyear and Series.dt.week have been deprecated.  Please use Series.dt.isocalendar().week instead.\n"
     ]
    },
    {
     "name": "stdout",
     "output_type": "stream",
     "text": [
      "Batch #19\n"
     ]
    },
    {
     "name": "stderr",
     "output_type": "stream",
     "text": [
      "/opt/tljh/user/lib/python3.7/site-packages/ipykernel_launcher.py:46: FutureWarning: Series.dt.weekofyear and Series.dt.week have been deprecated.  Please use Series.dt.isocalendar().week instead.\n"
     ]
    },
    {
     "name": "stdout",
     "output_type": "stream",
     "text": [
      "Batch #20\n"
     ]
    },
    {
     "name": "stderr",
     "output_type": "stream",
     "text": [
      "/opt/tljh/user/lib/python3.7/site-packages/ipykernel_launcher.py:46: FutureWarning: Series.dt.weekofyear and Series.dt.week have been deprecated.  Please use Series.dt.isocalendar().week instead.\n"
     ]
    },
    {
     "name": "stdout",
     "output_type": "stream",
     "text": [
      "Batch #21\n"
     ]
    },
    {
     "name": "stderr",
     "output_type": "stream",
     "text": [
      "/opt/tljh/user/lib/python3.7/site-packages/ipykernel_launcher.py:46: FutureWarning: Series.dt.weekofyear and Series.dt.week have been deprecated.  Please use Series.dt.isocalendar().week instead.\n"
     ]
    },
    {
     "name": "stdout",
     "output_type": "stream",
     "text": [
      "Batch #22\n"
     ]
    },
    {
     "name": "stderr",
     "output_type": "stream",
     "text": [
      "/opt/tljh/user/lib/python3.7/site-packages/ipykernel_launcher.py:46: FutureWarning: Series.dt.weekofyear and Series.dt.week have been deprecated.  Please use Series.dt.isocalendar().week instead.\n"
     ]
    },
    {
     "name": "stdout",
     "output_type": "stream",
     "text": [
      "Batch #23\n"
     ]
    },
    {
     "name": "stderr",
     "output_type": "stream",
     "text": [
      "/opt/tljh/user/lib/python3.7/site-packages/ipykernel_launcher.py:46: FutureWarning: Series.dt.weekofyear and Series.dt.week have been deprecated.  Please use Series.dt.isocalendar().week instead.\n"
     ]
    },
    {
     "name": "stdout",
     "output_type": "stream",
     "text": [
      "Batch #24\n"
     ]
    },
    {
     "name": "stderr",
     "output_type": "stream",
     "text": [
      "/opt/tljh/user/lib/python3.7/site-packages/ipykernel_launcher.py:46: FutureWarning: Series.dt.weekofyear and Series.dt.week have been deprecated.  Please use Series.dt.isocalendar().week instead.\n"
     ]
    },
    {
     "name": "stdout",
     "output_type": "stream",
     "text": [
      "Batch #25\n"
     ]
    },
    {
     "name": "stderr",
     "output_type": "stream",
     "text": [
      "/opt/tljh/user/lib/python3.7/site-packages/ipykernel_launcher.py:46: FutureWarning: Series.dt.weekofyear and Series.dt.week have been deprecated.  Please use Series.dt.isocalendar().week instead.\n"
     ]
    },
    {
     "name": "stdout",
     "output_type": "stream",
     "text": [
      "Batch #26\n"
     ]
    },
    {
     "name": "stderr",
     "output_type": "stream",
     "text": [
      "/opt/tljh/user/lib/python3.7/site-packages/ipykernel_launcher.py:46: FutureWarning: Series.dt.weekofyear and Series.dt.week have been deprecated.  Please use Series.dt.isocalendar().week instead.\n"
     ]
    },
    {
     "name": "stdout",
     "output_type": "stream",
     "text": [
      "Batch #27\n"
     ]
    },
    {
     "name": "stderr",
     "output_type": "stream",
     "text": [
      "/opt/tljh/user/lib/python3.7/site-packages/ipykernel_launcher.py:46: FutureWarning: Series.dt.weekofyear and Series.dt.week have been deprecated.  Please use Series.dt.isocalendar().week instead.\n"
     ]
    },
    {
     "name": "stdout",
     "output_type": "stream",
     "text": [
      "Batch #28\n"
     ]
    },
    {
     "name": "stderr",
     "output_type": "stream",
     "text": [
      "/opt/tljh/user/lib/python3.7/site-packages/ipykernel_launcher.py:46: FutureWarning: Series.dt.weekofyear and Series.dt.week have been deprecated.  Please use Series.dt.isocalendar().week instead.\n"
     ]
    },
    {
     "name": "stdout",
     "output_type": "stream",
     "text": [
      "Batch #29\n"
     ]
    },
    {
     "name": "stderr",
     "output_type": "stream",
     "text": [
      "/opt/tljh/user/lib/python3.7/site-packages/ipykernel_launcher.py:46: FutureWarning: Series.dt.weekofyear and Series.dt.week have been deprecated.  Please use Series.dt.isocalendar().week instead.\n"
     ]
    },
    {
     "name": "stdout",
     "output_type": "stream",
     "text": [
      "Done!\n"
     ]
    }
   ],
   "source": [
    "submit(MoreFeaturesModel(df_transactions.copy(), list_features, lgb_model, df_promo, df_canc))"
   ]
  }
 ],
 "metadata": {
  "kernelspec": {
   "display_name": "Python 3",
   "language": "python",
   "name": "python3"
  },
  "language_info": {
   "codemirror_mode": {
    "name": "ipython",
    "version": 3
   },
   "file_extension": ".py",
   "mimetype": "text/x-python",
   "name": "python",
   "nbconvert_exporter": "python",
   "pygments_lexer": "ipython3",
   "version": "3.7.3"
  }
 },
 "nbformat": 4,
 "nbformat_minor": 4
}
