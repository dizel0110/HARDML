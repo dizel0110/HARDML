{
 "cells": [
  {
   "cell_type": "markdown",
   "metadata": {},
   "source": [
    "# Формируем UUID"
   ]
  },
  {
   "cell_type": "code",
   "execution_count": 4,
   "metadata": {
    "ExecuteTime": {
     "end_time": "2021-04-01T18:14:52.741512Z",
     "start_time": "2021-04-01T18:14:52.730307Z"
    }
   },
   "outputs": [
    {
     "data": {
      "text/plain": [
       "'e94f8cb894b74c209b090ade869a4dde'"
      ]
     },
     "execution_count": 4,
     "metadata": {},
     "output_type": "execute_result"
    }
   ],
   "source": [
    "import uuid\n",
    "UUID = uuid.uuid4().hex\n",
    "UUID"
   ]
  },
  {
   "cell_type": "code",
   "execution_count": 5,
   "metadata": {
    "ExecuteTime": {
     "end_time": "2021-04-01T18:14:53.052805Z",
     "start_time": "2021-04-01T18:14:52.920272Z"
    }
   },
   "outputs": [],
   "source": [
    "!echo -n $UUID > uuid.txt"
   ]
  },
  {
   "cell_type": "code",
   "execution_count": 6,
   "metadata": {
    "ExecuteTime": {
     "end_time": "2021-04-01T18:14:53.310966Z",
     "start_time": "2021-04-01T18:14:53.181427Z"
    }
   },
   "outputs": [
    {
     "name": "stdout",
     "output_type": "stream",
     "text": [
      "e94f8cb894b74c209b090ade869a4dde"
     ]
    }
   ],
   "source": [
    "!cat uuid.txt"
   ]
  }
 ],
 "metadata": {
  "kernelspec": {
   "display_name": "Python 3",
   "language": "python",
   "name": "python3"
  },
  "language_info": {
   "codemirror_mode": {
    "name": "ipython",
    "version": 3
   },
   "file_extension": ".py",
   "mimetype": "text/x-python",
   "name": "python",
   "nbconvert_exporter": "python",
   "pygments_lexer": "ipython3",
   "version": "3.7.3"
  }
 },
 "nbformat": 4,
 "nbformat_minor": 4
}
