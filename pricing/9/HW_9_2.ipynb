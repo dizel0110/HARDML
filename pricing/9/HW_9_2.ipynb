{
 "cells": [
  {
   "cell_type": "code",
   "execution_count": 1,
   "metadata": {
    "ExecuteTime": {
     "end_time": "2021-03-31T11:12:19.841955Z",
     "start_time": "2021-03-31T11:12:16.946303Z"
    }
   },
   "outputs": [
    {
     "name": "stdout",
     "output_type": "stream",
     "text": [
      "Requirement already satisfied: space_bandits in /opt/tljh/user/lib/python3.7/site-packages (0.0.992)\n",
      "Requirement already satisfied: cython in /opt/tljh/user/lib/python3.7/site-packages (from space_bandits) (0.29.21)\n",
      "Requirement already satisfied: scipy in /opt/tljh/user/lib/python3.7/site-packages (from space_bandits) (1.4.1)\n",
      "Requirement already satisfied: scikit-learn in /opt/tljh/user/lib/python3.7/site-packages (from space_bandits) (0.23.1)\n",
      "Requirement already satisfied: numpy in /opt/tljh/user/lib/python3.7/site-packages (from space_bandits) (1.18.4)\n",
      "Requirement already satisfied: pandas in /opt/tljh/user/lib/python3.7/site-packages (from space_bandits) (1.1.2)\n",
      "Requirement already satisfied: torch in /opt/tljh/user/lib/python3.7/site-packages (from space_bandits) (1.8.0)\n",
      "Requirement already satisfied: threadpoolctl>=2.0.0 in /opt/tljh/user/lib/python3.7/site-packages (from scikit-learn->space_bandits) (2.1.0)\n",
      "Requirement already satisfied: joblib>=0.11 in /opt/tljh/user/lib/python3.7/site-packages (from scikit-learn->space_bandits) (0.15.1)\n",
      "Requirement already satisfied: pytz>=2017.2 in /opt/tljh/user/lib/python3.7/site-packages (from pandas->space_bandits) (2020.1)\n",
      "Requirement already satisfied: python-dateutil>=2.7.3 in /opt/tljh/user/lib/python3.7/site-packages (from pandas->space_bandits) (2.8.1)\n",
      "Requirement already satisfied: typing-extensions in /opt/tljh/user/lib/python3.7/site-packages (from torch->space_bandits) (3.7.4.3)\n",
      "Requirement already satisfied: six>=1.5 in /opt/tljh/user/lib/python3.7/site-packages (from python-dateutil>=2.7.3->pandas->space_bandits) (1.12.0)\n"
     ]
    }
   ],
   "source": [
    "!pip install space_bandits"
   ]
  },
  {
   "cell_type": "code",
   "execution_count": 2,
   "metadata": {
    "ExecuteTime": {
     "end_time": "2021-03-31T11:12:20.180831Z",
     "start_time": "2021-03-31T11:12:19.847229Z"
    }
   },
   "outputs": [],
   "source": [
    "import pandas as pd\n",
    "import numpy as np"
   ]
  },
  {
   "cell_type": "code",
   "execution_count": 3,
   "metadata": {
    "ExecuteTime": {
     "end_time": "2021-03-31T11:12:20.227929Z",
     "start_time": "2021-03-31T11:12:20.185458Z"
    }
   },
   "outputs": [],
   "source": [
    "# Загрузим наши данные\n",
    "transactions = pd.read_csv('transactions.csv')\n",
    "action_reward = pd.read_csv('actions_reward_transaction_df.csv')\n",
    "predictions_for_transactions = pd.read_csv('predictions_for_transactions.csv')"
   ]
  },
  {
   "cell_type": "code",
   "execution_count": 4,
   "metadata": {
    "ExecuteTime": {
     "end_time": "2021-03-31T11:12:20.250909Z",
     "start_time": "2021-03-31T11:12:20.230805Z"
    }
   },
   "outputs": [],
   "source": [
    "\n",
    "transactions.dates = pd.to_datetime(transactions.dates)\n",
    "predictions_for_transactions.dates = pd.to_datetime(predictions_for_transactions.dates) \n",
    "action_reward.dates = pd.to_datetime(action_reward.dates)"
   ]
  },
  {
   "cell_type": "code",
   "execution_count": 5,
   "metadata": {
    "ExecuteTime": {
     "end_time": "2021-03-31T11:12:20.289450Z",
     "start_time": "2021-03-31T11:12:20.256274Z"
    }
   },
   "outputs": [
    {
     "data": {
      "text/html": [
       "<div>\n",
       "<style scoped>\n",
       "    .dataframe tbody tr th:only-of-type {\n",
       "        vertical-align: middle;\n",
       "    }\n",
       "\n",
       "    .dataframe tbody tr th {\n",
       "        vertical-align: top;\n",
       "    }\n",
       "\n",
       "    .dataframe thead th {\n",
       "        text-align: right;\n",
       "    }\n",
       "</style>\n",
       "<table border=\"1\" class=\"dataframe\">\n",
       "  <thead>\n",
       "    <tr style=\"text-align: right;\">\n",
       "      <th></th>\n",
       "      <th>tr_id</th>\n",
       "      <th>dates</th>\n",
       "      <th>action</th>\n",
       "      <th>reward</th>\n",
       "    </tr>\n",
       "  </thead>\n",
       "  <tbody>\n",
       "    <tr>\n",
       "      <th>0</th>\n",
       "      <td>1003923</td>\n",
       "      <td>2019-01-01</td>\n",
       "      <td>2</td>\n",
       "      <td>0.000</td>\n",
       "    </tr>\n",
       "    <tr>\n",
       "      <th>1</th>\n",
       "      <td>1018719</td>\n",
       "      <td>2019-01-01</td>\n",
       "      <td>3</td>\n",
       "      <td>96246.080</td>\n",
       "    </tr>\n",
       "    <tr>\n",
       "      <th>2</th>\n",
       "      <td>1028713</td>\n",
       "      <td>2019-01-01</td>\n",
       "      <td>3</td>\n",
       "      <td>98328.150</td>\n",
       "    </tr>\n",
       "    <tr>\n",
       "      <th>3</th>\n",
       "      <td>1030155</td>\n",
       "      <td>2019-01-01</td>\n",
       "      <td>3</td>\n",
       "      <td>96290.195</td>\n",
       "    </tr>\n",
       "    <tr>\n",
       "      <th>4</th>\n",
       "      <td>1047479</td>\n",
       "      <td>2019-01-01</td>\n",
       "      <td>2</td>\n",
       "      <td>0.000</td>\n",
       "    </tr>\n",
       "    <tr>\n",
       "      <th>...</th>\n",
       "      <td>...</td>\n",
       "      <td>...</td>\n",
       "      <td>...</td>\n",
       "      <td>...</td>\n",
       "    </tr>\n",
       "    <tr>\n",
       "      <th>9995</th>\n",
       "      <td>99977644</td>\n",
       "      <td>2019-12-30</td>\n",
       "      <td>3</td>\n",
       "      <td>97569.675</td>\n",
       "    </tr>\n",
       "    <tr>\n",
       "      <th>9996</th>\n",
       "      <td>99979376</td>\n",
       "      <td>2019-12-30</td>\n",
       "      <td>3</td>\n",
       "      <td>98179.700</td>\n",
       "    </tr>\n",
       "    <tr>\n",
       "      <th>9997</th>\n",
       "      <td>99979915</td>\n",
       "      <td>2019-12-30</td>\n",
       "      <td>1</td>\n",
       "      <td>98274.760</td>\n",
       "    </tr>\n",
       "    <tr>\n",
       "      <th>9998</th>\n",
       "      <td>99981943</td>\n",
       "      <td>2019-12-30</td>\n",
       "      <td>1</td>\n",
       "      <td>96469.850</td>\n",
       "    </tr>\n",
       "    <tr>\n",
       "      <th>9999</th>\n",
       "      <td>99983581</td>\n",
       "      <td>2019-12-30</td>\n",
       "      <td>2</td>\n",
       "      <td>0.000</td>\n",
       "    </tr>\n",
       "  </tbody>\n",
       "</table>\n",
       "<p>10000 rows × 4 columns</p>\n",
       "</div>"
      ],
      "text/plain": [
       "         tr_id      dates  action     reward\n",
       "0      1003923 2019-01-01       2      0.000\n",
       "1      1018719 2019-01-01       3  96246.080\n",
       "2      1028713 2019-01-01       3  98328.150\n",
       "3      1030155 2019-01-01       3  96290.195\n",
       "4      1047479 2019-01-01       2      0.000\n",
       "...        ...        ...     ...        ...\n",
       "9995  99977644 2019-12-30       3  97569.675\n",
       "9996  99979376 2019-12-30       3  98179.700\n",
       "9997  99979915 2019-12-30       1  98274.760\n",
       "9998  99981943 2019-12-30       1  96469.850\n",
       "9999  99983581 2019-12-30       2      0.000\n",
       "\n",
       "[10000 rows x 4 columns]"
      ]
     },
     "execution_count": 5,
     "metadata": {},
     "output_type": "execute_result"
    }
   ],
   "source": [
    "action_reward"
   ]
  },
  {
   "cell_type": "code",
   "execution_count": 6,
   "metadata": {
    "ExecuteTime": {
     "end_time": "2021-03-31T11:12:20.309913Z",
     "start_time": "2021-03-31T11:12:20.293202Z"
    }
   },
   "outputs": [
    {
     "data": {
      "text/html": [
       "<div>\n",
       "<style scoped>\n",
       "    .dataframe tbody tr th:only-of-type {\n",
       "        vertical-align: middle;\n",
       "    }\n",
       "\n",
       "    .dataframe tbody tr th {\n",
       "        vertical-align: top;\n",
       "    }\n",
       "\n",
       "    .dataframe thead th {\n",
       "        text-align: right;\n",
       "    }\n",
       "</style>\n",
       "<table border=\"1\" class=\"dataframe\">\n",
       "  <thead>\n",
       "    <tr style=\"text-align: right;\">\n",
       "      <th></th>\n",
       "      <th>tr_id</th>\n",
       "      <th>user_id</th>\n",
       "      <th>dates</th>\n",
       "      <th>sale_price</th>\n",
       "    </tr>\n",
       "  </thead>\n",
       "  <tbody>\n",
       "    <tr>\n",
       "      <th>0</th>\n",
       "      <td>1018719</td>\n",
       "      <td>27185</td>\n",
       "      <td>2019-01-01</td>\n",
       "      <td>96246.080</td>\n",
       "    </tr>\n",
       "    <tr>\n",
       "      <th>1</th>\n",
       "      <td>1028713</td>\n",
       "      <td>42513</td>\n",
       "      <td>2019-01-01</td>\n",
       "      <td>98328.150</td>\n",
       "    </tr>\n",
       "    <tr>\n",
       "      <th>2</th>\n",
       "      <td>1030155</td>\n",
       "      <td>33953</td>\n",
       "      <td>2019-01-01</td>\n",
       "      <td>96290.195</td>\n",
       "    </tr>\n",
       "    <tr>\n",
       "      <th>3</th>\n",
       "      <td>1055428</td>\n",
       "      <td>28434</td>\n",
       "      <td>2019-01-01</td>\n",
       "      <td>97184.400</td>\n",
       "    </tr>\n",
       "    <tr>\n",
       "      <th>4</th>\n",
       "      <td>1058208</td>\n",
       "      <td>15628</td>\n",
       "      <td>2019-01-01</td>\n",
       "      <td>96948.420</td>\n",
       "    </tr>\n",
       "    <tr>\n",
       "      <th>...</th>\n",
       "      <td>...</td>\n",
       "      <td>...</td>\n",
       "      <td>...</td>\n",
       "      <td>...</td>\n",
       "    </tr>\n",
       "    <tr>\n",
       "      <th>6325</th>\n",
       "      <td>99949208</td>\n",
       "      <td>19090</td>\n",
       "      <td>2019-12-30</td>\n",
       "      <td>99624.545</td>\n",
       "    </tr>\n",
       "    <tr>\n",
       "      <th>6326</th>\n",
       "      <td>99977644</td>\n",
       "      <td>45377</td>\n",
       "      <td>2019-12-30</td>\n",
       "      <td>97569.675</td>\n",
       "    </tr>\n",
       "    <tr>\n",
       "      <th>6327</th>\n",
       "      <td>99979376</td>\n",
       "      <td>75419</td>\n",
       "      <td>2019-12-30</td>\n",
       "      <td>98179.700</td>\n",
       "    </tr>\n",
       "    <tr>\n",
       "      <th>6328</th>\n",
       "      <td>99979915</td>\n",
       "      <td>13167</td>\n",
       "      <td>2019-12-30</td>\n",
       "      <td>98274.760</td>\n",
       "    </tr>\n",
       "    <tr>\n",
       "      <th>6329</th>\n",
       "      <td>99981943</td>\n",
       "      <td>46652</td>\n",
       "      <td>2019-12-30</td>\n",
       "      <td>96469.850</td>\n",
       "    </tr>\n",
       "  </tbody>\n",
       "</table>\n",
       "<p>6330 rows × 4 columns</p>\n",
       "</div>"
      ],
      "text/plain": [
       "         tr_id  user_id      dates  sale_price\n",
       "0      1018719    27185 2019-01-01   96246.080\n",
       "1      1028713    42513 2019-01-01   98328.150\n",
       "2      1030155    33953 2019-01-01   96290.195\n",
       "3      1055428    28434 2019-01-01   97184.400\n",
       "4      1058208    15628 2019-01-01   96948.420\n",
       "...        ...      ...        ...         ...\n",
       "6325  99949208    19090 2019-12-30   99624.545\n",
       "6326  99977644    45377 2019-12-30   97569.675\n",
       "6327  99979376    75419 2019-12-30   98179.700\n",
       "6328  99979915    13167 2019-12-30   98274.760\n",
       "6329  99981943    46652 2019-12-30   96469.850\n",
       "\n",
       "[6330 rows x 4 columns]"
      ]
     },
     "execution_count": 6,
     "metadata": {},
     "output_type": "execute_result"
    }
   ],
   "source": [
    "transactions"
   ]
  },
  {
   "cell_type": "code",
   "execution_count": 7,
   "metadata": {
    "ExecuteTime": {
     "end_time": "2021-03-31T11:12:20.342024Z",
     "start_time": "2021-03-31T11:12:20.315047Z"
    }
   },
   "outputs": [
    {
     "data": {
      "text/html": [
       "<div>\n",
       "<style scoped>\n",
       "    .dataframe tbody tr th:only-of-type {\n",
       "        vertical-align: middle;\n",
       "    }\n",
       "\n",
       "    .dataframe tbody tr th {\n",
       "        vertical-align: top;\n",
       "    }\n",
       "\n",
       "    .dataframe thead th {\n",
       "        text-align: right;\n",
       "    }\n",
       "</style>\n",
       "<table border=\"1\" class=\"dataframe\">\n",
       "  <thead>\n",
       "    <tr style=\"text-align: right;\">\n",
       "      <th></th>\n",
       "      <th>tr_id</th>\n",
       "      <th>dates</th>\n",
       "      <th>model_1</th>\n",
       "      <th>model_2</th>\n",
       "      <th>model_3</th>\n",
       "    </tr>\n",
       "  </thead>\n",
       "  <tbody>\n",
       "    <tr>\n",
       "      <th>0</th>\n",
       "      <td>1003923</td>\n",
       "      <td>2019-01-01</td>\n",
       "      <td>98073.000</td>\n",
       "      <td>96380.000</td>\n",
       "      <td>96656.000</td>\n",
       "    </tr>\n",
       "    <tr>\n",
       "      <th>1</th>\n",
       "      <td>1018719</td>\n",
       "      <td>2019-01-01</td>\n",
       "      <td>95755.080</td>\n",
       "      <td>95924.080</td>\n",
       "      <td>96246.080</td>\n",
       "    </tr>\n",
       "    <tr>\n",
       "      <th>2</th>\n",
       "      <td>1028713</td>\n",
       "      <td>2019-01-01</td>\n",
       "      <td>96318.150</td>\n",
       "      <td>96729.150</td>\n",
       "      <td>98328.150</td>\n",
       "    </tr>\n",
       "    <tr>\n",
       "      <th>3</th>\n",
       "      <td>1030155</td>\n",
       "      <td>2019-01-01</td>\n",
       "      <td>96636.195</td>\n",
       "      <td>98557.195</td>\n",
       "      <td>96290.195</td>\n",
       "    </tr>\n",
       "    <tr>\n",
       "      <th>4</th>\n",
       "      <td>1047479</td>\n",
       "      <td>2019-01-01</td>\n",
       "      <td>96149.280</td>\n",
       "      <td>96850.280</td>\n",
       "      <td>96170.280</td>\n",
       "    </tr>\n",
       "    <tr>\n",
       "      <th>...</th>\n",
       "      <td>...</td>\n",
       "      <td>...</td>\n",
       "      <td>...</td>\n",
       "      <td>...</td>\n",
       "      <td>...</td>\n",
       "    </tr>\n",
       "    <tr>\n",
       "      <th>9995</th>\n",
       "      <td>99977644</td>\n",
       "      <td>2019-12-30</td>\n",
       "      <td>98539.675</td>\n",
       "      <td>96468.675</td>\n",
       "      <td>97569.675</td>\n",
       "    </tr>\n",
       "    <tr>\n",
       "      <th>9996</th>\n",
       "      <td>99979376</td>\n",
       "      <td>2019-12-30</td>\n",
       "      <td>97875.700</td>\n",
       "      <td>97139.700</td>\n",
       "      <td>98179.700</td>\n",
       "    </tr>\n",
       "    <tr>\n",
       "      <th>9997</th>\n",
       "      <td>99979915</td>\n",
       "      <td>2019-12-30</td>\n",
       "      <td>98274.760</td>\n",
       "      <td>98599.760</td>\n",
       "      <td>97072.760</td>\n",
       "    </tr>\n",
       "    <tr>\n",
       "      <th>9998</th>\n",
       "      <td>99981943</td>\n",
       "      <td>2019-12-30</td>\n",
       "      <td>96469.850</td>\n",
       "      <td>98086.850</td>\n",
       "      <td>99745.850</td>\n",
       "    </tr>\n",
       "    <tr>\n",
       "      <th>9999</th>\n",
       "      <td>99983581</td>\n",
       "      <td>2019-12-30</td>\n",
       "      <td>97481.905</td>\n",
       "      <td>97080.905</td>\n",
       "      <td>98504.905</td>\n",
       "    </tr>\n",
       "  </tbody>\n",
       "</table>\n",
       "<p>10000 rows × 5 columns</p>\n",
       "</div>"
      ],
      "text/plain": [
       "         tr_id      dates    model_1    model_2    model_3\n",
       "0      1003923 2019-01-01  98073.000  96380.000  96656.000\n",
       "1      1018719 2019-01-01  95755.080  95924.080  96246.080\n",
       "2      1028713 2019-01-01  96318.150  96729.150  98328.150\n",
       "3      1030155 2019-01-01  96636.195  98557.195  96290.195\n",
       "4      1047479 2019-01-01  96149.280  96850.280  96170.280\n",
       "...        ...        ...        ...        ...        ...\n",
       "9995  99977644 2019-12-30  98539.675  96468.675  97569.675\n",
       "9996  99979376 2019-12-30  97875.700  97139.700  98179.700\n",
       "9997  99979915 2019-12-30  98274.760  98599.760  97072.760\n",
       "9998  99981943 2019-12-30  96469.850  98086.850  99745.850\n",
       "9999  99983581 2019-12-30  97481.905  97080.905  98504.905\n",
       "\n",
       "[10000 rows x 5 columns]"
      ]
     },
     "execution_count": 7,
     "metadata": {},
     "output_type": "execute_result"
    }
   ],
   "source": [
    "predictions_for_transactions"
   ]
  },
  {
   "cell_type": "code",
   "execution_count": null,
   "metadata": {},
   "outputs": [],
   "source": []
  },
  {
   "cell_type": "code",
   "execution_count": 8,
   "metadata": {
    "ExecuteTime": {
     "end_time": "2021-03-31T11:12:21.315488Z",
     "start_time": "2021-03-31T11:12:20.344055Z"
    }
   },
   "outputs": [],
   "source": [
    "# Построим 1-ую модель\n",
    "from space_bandits import LinearBandits\n",
    "\n",
    "num_actions = 3 # three actions\n",
    "num_features = 2 # two features\n",
    "\n",
    "model = LinearBandits(num_actions, num_features)"
   ]
  },
  {
   "cell_type": "code",
   "execution_count": 9,
   "metadata": {
    "ExecuteTime": {
     "end_time": "2021-03-31T11:12:21.329439Z",
     "start_time": "2021-03-31T11:12:21.319755Z"
    }
   },
   "outputs": [],
   "source": [
    "action_reward['dates_int'] = action_reward.dates.astype(int)"
   ]
  },
  {
   "cell_type": "code",
   "execution_count": 10,
   "metadata": {
    "ExecuteTime": {
     "end_time": "2021-03-31T11:12:39.686430Z",
     "start_time": "2021-03-31T11:12:21.334443Z"
    }
   },
   "outputs": [],
   "source": [
    "# Обучение модели происходит через функцию update()\n",
    "for index, row in action_reward.iterrows():\n",
    "    context = row[['dates_int', 'tr_id']]\n",
    "    action = row['action'] - 1\n",
    "    reward = row['reward']\n",
    "    model.update(context, action,reward)"
   ]
  },
  {
   "cell_type": "code",
   "execution_count": 11,
   "metadata": {
    "ExecuteTime": {
     "end_time": "2021-03-31T11:12:39.691561Z",
     "start_time": "2021-03-31T11:12:39.688945Z"
    }
   },
   "outputs": [],
   "source": [
    "# Чтобы получить рекомендацию по выбору какой именно action, надо выбрать в зависимости от контекста используйте action()\n",
    "# pred_context = action_reward.iloc[-2][['dates_int', 'tr_id']].values\n",
    "# model.action(pred_context)"
   ]
  },
  {
   "cell_type": "code",
   "execution_count": 12,
   "metadata": {
    "ExecuteTime": {
     "end_time": "2021-03-31T11:12:39.699379Z",
     "start_time": "2021-03-31T11:12:39.693538Z"
    }
   },
   "outputs": [],
   "source": [
    "# Сохраните модель\n",
    "model.save('model_1.pkl')"
   ]
  },
  {
   "cell_type": "code",
   "execution_count": 13,
   "metadata": {
    "ExecuteTime": {
     "end_time": "2021-03-31T11:12:39.724528Z",
     "start_time": "2021-03-31T11:12:39.703336Z"
    }
   },
   "outputs": [],
   "source": [
    "# Постройте 2-у модель\n",
    "# Добавим в контекст данные о времени, year/week и данные о user и данные о возможных вариантах\n",
    "full_action_reward = action_reward.merge(predictions_for_transactions, how='left', on=['tr_id', 'dates'])\n",
    "full_action_reward = full_action_reward.merge(transactions, how='left', on=['tr_id', 'dates'])"
   ]
  },
  {
   "cell_type": "code",
   "execution_count": null,
   "metadata": {},
   "outputs": [],
   "source": []
  },
  {
   "cell_type": "code",
   "execution_count": 14,
   "metadata": {
    "ExecuteTime": {
     "end_time": "2021-03-31T11:12:39.735074Z",
     "start_time": "2021-03-31T11:12:39.728822Z"
    }
   },
   "outputs": [],
   "source": [
    "# Заполним пропуски\n",
    "full_action_reward.user_id = full_action_reward.user_id.fillna(-1)\n",
    "full_action_reward.sale_price = full_action_reward.sale_price.fillna(0)"
   ]
  },
  {
   "cell_type": "code",
   "execution_count": 15,
   "metadata": {
    "ExecuteTime": {
     "end_time": "2021-03-31T11:12:39.752237Z",
     "start_time": "2021-03-31T11:12:39.737548Z"
    }
   },
   "outputs": [
    {
     "name": "stderr",
     "output_type": "stream",
     "text": [
      "/opt/tljh/user/lib/python3.7/site-packages/ipykernel_launcher.py:2: FutureWarning: Series.dt.weekofyear and Series.dt.week have been deprecated.  Please use Series.dt.isocalendar().week instead.\n",
      "  \n"
     ]
    }
   ],
   "source": [
    "# Добавим year, week\n",
    "full_action_reward['week'] = full_action_reward.dates.dt.week\n",
    "full_action_reward['year'] = full_action_reward.dates.dt.year"
   ]
  },
  {
   "cell_type": "code",
   "execution_count": 16,
   "metadata": {
    "ExecuteTime": {
     "end_time": "2021-03-31T11:12:39.772526Z",
     "start_time": "2021-03-31T11:12:39.754273Z"
    }
   },
   "outputs": [],
   "source": [
    "# Добавим информацию о последний покупки для user'а\n",
    "full_action_reward['previous purchase'] = full_action_reward.sort_values('dates').groupby('user_id').sale_price.shift(1)\n",
    "full_action_reward['previous purchase'] = full_action_reward['previous purchase'].fillna(0)"
   ]
  },
  {
   "cell_type": "code",
   "execution_count": 17,
   "metadata": {
    "ExecuteTime": {
     "end_time": "2021-03-31T11:12:39.796320Z",
     "start_time": "2021-03-31T11:12:39.777937Z"
    }
   },
   "outputs": [
    {
     "data": {
      "text/html": [
       "<div>\n",
       "<style scoped>\n",
       "    .dataframe tbody tr th:only-of-type {\n",
       "        vertical-align: middle;\n",
       "    }\n",
       "\n",
       "    .dataframe tbody tr th {\n",
       "        vertical-align: top;\n",
       "    }\n",
       "\n",
       "    .dataframe thead th {\n",
       "        text-align: right;\n",
       "    }\n",
       "</style>\n",
       "<table border=\"1\" class=\"dataframe\">\n",
       "  <thead>\n",
       "    <tr style=\"text-align: right;\">\n",
       "      <th></th>\n",
       "      <th>tr_id</th>\n",
       "      <th>dates</th>\n",
       "      <th>action</th>\n",
       "      <th>reward</th>\n",
       "      <th>dates_int</th>\n",
       "      <th>model_1</th>\n",
       "      <th>model_2</th>\n",
       "      <th>model_3</th>\n",
       "      <th>user_id</th>\n",
       "      <th>sale_price</th>\n",
       "      <th>week</th>\n",
       "      <th>year</th>\n",
       "      <th>previous purchase</th>\n",
       "    </tr>\n",
       "  </thead>\n",
       "  <tbody>\n",
       "    <tr>\n",
       "      <th>6297</th>\n",
       "      <td>63820317</td>\n",
       "      <td>2019-08-15</td>\n",
       "      <td>3</td>\n",
       "      <td>98994.73</td>\n",
       "      <td>1565827200000000000</td>\n",
       "      <td>98085.73</td>\n",
       "      <td>97723.73</td>\n",
       "      <td>98994.73</td>\n",
       "      <td>46652.0</td>\n",
       "      <td>98994.73</td>\n",
       "      <td>33</td>\n",
       "      <td>2019</td>\n",
       "      <td>0.00</td>\n",
       "    </tr>\n",
       "    <tr>\n",
       "      <th>9998</th>\n",
       "      <td>99981943</td>\n",
       "      <td>2019-12-30</td>\n",
       "      <td>1</td>\n",
       "      <td>96469.85</td>\n",
       "      <td>1577664000000000000</td>\n",
       "      <td>96469.85</td>\n",
       "      <td>98086.85</td>\n",
       "      <td>99745.85</td>\n",
       "      <td>46652.0</td>\n",
       "      <td>96469.85</td>\n",
       "      <td>1</td>\n",
       "      <td>2019</td>\n",
       "      <td>98994.73</td>\n",
       "    </tr>\n",
       "  </tbody>\n",
       "</table>\n",
       "</div>"
      ],
      "text/plain": [
       "         tr_id      dates  action    reward            dates_int   model_1  \\\n",
       "6297  63820317 2019-08-15       3  98994.73  1565827200000000000  98085.73   \n",
       "9998  99981943 2019-12-30       1  96469.85  1577664000000000000  96469.85   \n",
       "\n",
       "       model_2   model_3  user_id  sale_price  week  year  previous purchase  \n",
       "6297  97723.73  98994.73  46652.0    98994.73    33  2019               0.00  \n",
       "9998  98086.85  99745.85  46652.0    96469.85     1  2019           98994.73  "
      ]
     },
     "execution_count": 17,
     "metadata": {},
     "output_type": "execute_result"
    }
   ],
   "source": [
    "# Проверим что мы действительно добавили информацию о последней покупке\n",
    "full_action_reward[full_action_reward.user_id == 46652]"
   ]
  },
  {
   "cell_type": "code",
   "execution_count": null,
   "metadata": {},
   "outputs": [],
   "source": []
  },
  {
   "cell_type": "code",
   "execution_count": 18,
   "metadata": {
    "ExecuteTime": {
     "end_time": "2021-03-31T11:12:39.823322Z",
     "start_time": "2021-03-31T11:12:39.800095Z"
    }
   },
   "outputs": [
    {
     "data": {
      "text/html": [
       "<div>\n",
       "<style scoped>\n",
       "    .dataframe tbody tr th:only-of-type {\n",
       "        vertical-align: middle;\n",
       "    }\n",
       "\n",
       "    .dataframe tbody tr th {\n",
       "        vertical-align: top;\n",
       "    }\n",
       "\n",
       "    .dataframe thead th {\n",
       "        text-align: right;\n",
       "    }\n",
       "</style>\n",
       "<table border=\"1\" class=\"dataframe\">\n",
       "  <thead>\n",
       "    <tr style=\"text-align: right;\">\n",
       "      <th></th>\n",
       "      <th>tr_id</th>\n",
       "      <th>dates</th>\n",
       "      <th>action</th>\n",
       "      <th>reward</th>\n",
       "      <th>dates_int</th>\n",
       "      <th>model_1</th>\n",
       "      <th>model_2</th>\n",
       "      <th>model_3</th>\n",
       "      <th>user_id</th>\n",
       "      <th>sale_price</th>\n",
       "      <th>week</th>\n",
       "      <th>year</th>\n",
       "      <th>previous purchase</th>\n",
       "    </tr>\n",
       "  </thead>\n",
       "  <tbody>\n",
       "    <tr>\n",
       "      <th>0</th>\n",
       "      <td>1003923</td>\n",
       "      <td>2019-01-01</td>\n",
       "      <td>2</td>\n",
       "      <td>0.000</td>\n",
       "      <td>1546300800000000000</td>\n",
       "      <td>98073.000</td>\n",
       "      <td>96380.000</td>\n",
       "      <td>96656.000</td>\n",
       "      <td>-1.0</td>\n",
       "      <td>0.000</td>\n",
       "      <td>1</td>\n",
       "      <td>2019</td>\n",
       "      <td>0.00</td>\n",
       "    </tr>\n",
       "    <tr>\n",
       "      <th>1</th>\n",
       "      <td>1018719</td>\n",
       "      <td>2019-01-01</td>\n",
       "      <td>3</td>\n",
       "      <td>96246.080</td>\n",
       "      <td>1546300800000000000</td>\n",
       "      <td>95755.080</td>\n",
       "      <td>95924.080</td>\n",
       "      <td>96246.080</td>\n",
       "      <td>27185.0</td>\n",
       "      <td>96246.080</td>\n",
       "      <td>1</td>\n",
       "      <td>2019</td>\n",
       "      <td>0.00</td>\n",
       "    </tr>\n",
       "    <tr>\n",
       "      <th>2</th>\n",
       "      <td>1028713</td>\n",
       "      <td>2019-01-01</td>\n",
       "      <td>3</td>\n",
       "      <td>98328.150</td>\n",
       "      <td>1546300800000000000</td>\n",
       "      <td>96318.150</td>\n",
       "      <td>96729.150</td>\n",
       "      <td>98328.150</td>\n",
       "      <td>42513.0</td>\n",
       "      <td>98328.150</td>\n",
       "      <td>1</td>\n",
       "      <td>2019</td>\n",
       "      <td>0.00</td>\n",
       "    </tr>\n",
       "    <tr>\n",
       "      <th>3</th>\n",
       "      <td>1030155</td>\n",
       "      <td>2019-01-01</td>\n",
       "      <td>3</td>\n",
       "      <td>96290.195</td>\n",
       "      <td>1546300800000000000</td>\n",
       "      <td>96636.195</td>\n",
       "      <td>98557.195</td>\n",
       "      <td>96290.195</td>\n",
       "      <td>33953.0</td>\n",
       "      <td>96290.195</td>\n",
       "      <td>1</td>\n",
       "      <td>2019</td>\n",
       "      <td>0.00</td>\n",
       "    </tr>\n",
       "    <tr>\n",
       "      <th>4</th>\n",
       "      <td>1047479</td>\n",
       "      <td>2019-01-01</td>\n",
       "      <td>2</td>\n",
       "      <td>0.000</td>\n",
       "      <td>1546300800000000000</td>\n",
       "      <td>96149.280</td>\n",
       "      <td>96850.280</td>\n",
       "      <td>96170.280</td>\n",
       "      <td>-1.0</td>\n",
       "      <td>0.000</td>\n",
       "      <td>1</td>\n",
       "      <td>2019</td>\n",
       "      <td>0.00</td>\n",
       "    </tr>\n",
       "    <tr>\n",
       "      <th>...</th>\n",
       "      <td>...</td>\n",
       "      <td>...</td>\n",
       "      <td>...</td>\n",
       "      <td>...</td>\n",
       "      <td>...</td>\n",
       "      <td>...</td>\n",
       "      <td>...</td>\n",
       "      <td>...</td>\n",
       "      <td>...</td>\n",
       "      <td>...</td>\n",
       "      <td>...</td>\n",
       "      <td>...</td>\n",
       "      <td>...</td>\n",
       "    </tr>\n",
       "    <tr>\n",
       "      <th>9995</th>\n",
       "      <td>99977644</td>\n",
       "      <td>2019-12-30</td>\n",
       "      <td>3</td>\n",
       "      <td>97569.675</td>\n",
       "      <td>1577664000000000000</td>\n",
       "      <td>98539.675</td>\n",
       "      <td>96468.675</td>\n",
       "      <td>97569.675</td>\n",
       "      <td>45377.0</td>\n",
       "      <td>97569.675</td>\n",
       "      <td>1</td>\n",
       "      <td>2019</td>\n",
       "      <td>0.00</td>\n",
       "    </tr>\n",
       "    <tr>\n",
       "      <th>9996</th>\n",
       "      <td>99979376</td>\n",
       "      <td>2019-12-30</td>\n",
       "      <td>3</td>\n",
       "      <td>98179.700</td>\n",
       "      <td>1577664000000000000</td>\n",
       "      <td>97875.700</td>\n",
       "      <td>97139.700</td>\n",
       "      <td>98179.700</td>\n",
       "      <td>75419.0</td>\n",
       "      <td>98179.700</td>\n",
       "      <td>1</td>\n",
       "      <td>2019</td>\n",
       "      <td>98347.16</td>\n",
       "    </tr>\n",
       "    <tr>\n",
       "      <th>9997</th>\n",
       "      <td>99979915</td>\n",
       "      <td>2019-12-30</td>\n",
       "      <td>1</td>\n",
       "      <td>98274.760</td>\n",
       "      <td>1577664000000000000</td>\n",
       "      <td>98274.760</td>\n",
       "      <td>98599.760</td>\n",
       "      <td>97072.760</td>\n",
       "      <td>13167.0</td>\n",
       "      <td>98274.760</td>\n",
       "      <td>1</td>\n",
       "      <td>2019</td>\n",
       "      <td>0.00</td>\n",
       "    </tr>\n",
       "    <tr>\n",
       "      <th>9998</th>\n",
       "      <td>99981943</td>\n",
       "      <td>2019-12-30</td>\n",
       "      <td>1</td>\n",
       "      <td>96469.850</td>\n",
       "      <td>1577664000000000000</td>\n",
       "      <td>96469.850</td>\n",
       "      <td>98086.850</td>\n",
       "      <td>99745.850</td>\n",
       "      <td>46652.0</td>\n",
       "      <td>96469.850</td>\n",
       "      <td>1</td>\n",
       "      <td>2019</td>\n",
       "      <td>98994.73</td>\n",
       "    </tr>\n",
       "    <tr>\n",
       "      <th>9999</th>\n",
       "      <td>99983581</td>\n",
       "      <td>2019-12-30</td>\n",
       "      <td>2</td>\n",
       "      <td>0.000</td>\n",
       "      <td>1577664000000000000</td>\n",
       "      <td>97481.905</td>\n",
       "      <td>97080.905</td>\n",
       "      <td>98504.905</td>\n",
       "      <td>-1.0</td>\n",
       "      <td>0.000</td>\n",
       "      <td>1</td>\n",
       "      <td>2019</td>\n",
       "      <td>0.00</td>\n",
       "    </tr>\n",
       "  </tbody>\n",
       "</table>\n",
       "<p>10000 rows × 13 columns</p>\n",
       "</div>"
      ],
      "text/plain": [
       "         tr_id      dates  action     reward            dates_int    model_1  \\\n",
       "0      1003923 2019-01-01       2      0.000  1546300800000000000  98073.000   \n",
       "1      1018719 2019-01-01       3  96246.080  1546300800000000000  95755.080   \n",
       "2      1028713 2019-01-01       3  98328.150  1546300800000000000  96318.150   \n",
       "3      1030155 2019-01-01       3  96290.195  1546300800000000000  96636.195   \n",
       "4      1047479 2019-01-01       2      0.000  1546300800000000000  96149.280   \n",
       "...        ...        ...     ...        ...                  ...        ...   \n",
       "9995  99977644 2019-12-30       3  97569.675  1577664000000000000  98539.675   \n",
       "9996  99979376 2019-12-30       3  98179.700  1577664000000000000  97875.700   \n",
       "9997  99979915 2019-12-30       1  98274.760  1577664000000000000  98274.760   \n",
       "9998  99981943 2019-12-30       1  96469.850  1577664000000000000  96469.850   \n",
       "9999  99983581 2019-12-30       2      0.000  1577664000000000000  97481.905   \n",
       "\n",
       "        model_2    model_3  user_id  sale_price  week  year  previous purchase  \n",
       "0     96380.000  96656.000     -1.0       0.000     1  2019               0.00  \n",
       "1     95924.080  96246.080  27185.0   96246.080     1  2019               0.00  \n",
       "2     96729.150  98328.150  42513.0   98328.150     1  2019               0.00  \n",
       "3     98557.195  96290.195  33953.0   96290.195     1  2019               0.00  \n",
       "4     96850.280  96170.280     -1.0       0.000     1  2019               0.00  \n",
       "...         ...        ...      ...         ...   ...   ...                ...  \n",
       "9995  96468.675  97569.675  45377.0   97569.675     1  2019               0.00  \n",
       "9996  97139.700  98179.700  75419.0   98179.700     1  2019           98347.16  \n",
       "9997  98599.760  97072.760  13167.0   98274.760     1  2019               0.00  \n",
       "9998  98086.850  99745.850  46652.0   96469.850     1  2019           98994.73  \n",
       "9999  97080.905  98504.905     -1.0       0.000     1  2019               0.00  \n",
       "\n",
       "[10000 rows x 13 columns]"
      ]
     },
     "execution_count": 18,
     "metadata": {},
     "output_type": "execute_result"
    }
   ],
   "source": [
    "full_action_reward"
   ]
  },
  {
   "cell_type": "code",
   "execution_count": 19,
   "metadata": {
    "ExecuteTime": {
     "end_time": "2021-03-31T11:12:39.831117Z",
     "start_time": "2021-03-31T11:12:39.825371Z"
    }
   },
   "outputs": [
    {
     "data": {
      "text/plain": [
       "Index(['tr_id', 'dates', 'action', 'reward', 'dates_int', 'model_1', 'model_2',\n",
       "       'model_3', 'user_id', 'sale_price', 'week', 'year',\n",
       "       'previous purchase'],\n",
       "      dtype='object')"
      ]
     },
     "execution_count": 19,
     "metadata": {},
     "output_type": "execute_result"
    }
   ],
   "source": [
    "full_action_reward.columns"
   ]
  },
  {
   "cell_type": "code",
   "execution_count": 20,
   "metadata": {
    "ExecuteTime": {
     "end_time": "2021-03-31T11:12:39.840404Z",
     "start_time": "2021-03-31T11:12:39.834510Z"
    }
   },
   "outputs": [],
   "source": [
    "context_columns = ['tr_id','dates_int', 'model_1', 'model_2',\n",
    "       'model_3', 'user_id', 'sale_price', 'week', 'year',\n",
    "       'previous purchase']"
   ]
  },
  {
   "cell_type": "code",
   "execution_count": 21,
   "metadata": {
    "ExecuteTime": {
     "end_time": "2021-03-31T11:12:39.851307Z",
     "start_time": "2021-03-31T11:12:39.844931Z"
    }
   },
   "outputs": [],
   "source": [
    "# Создадим еще одну модель \n",
    "num_actions = 3 # three actions\n",
    "num_features = 10 # ten features\n",
    "\n",
    "\n",
    "model_2 = LinearBandits(num_actions, num_features)"
   ]
  },
  {
   "cell_type": "code",
   "execution_count": 22,
   "metadata": {
    "ExecuteTime": {
     "end_time": "2021-03-31T11:14:49.868910Z",
     "start_time": "2021-03-31T11:12:39.853964Z"
    }
   },
   "outputs": [],
   "source": [
    "# Обучим еще одну модель\n",
    "for index, row in full_action_reward.iterrows():\n",
    "    context = row[context_columns]\n",
    "    action = row['action'] - 1\n",
    "    reward = row['reward']\n",
    "    model_2.update(context, action,reward)"
   ]
  },
  {
   "cell_type": "code",
   "execution_count": 23,
   "metadata": {
    "ExecuteTime": {
     "end_time": "2021-03-31T11:14:49.873905Z",
     "start_time": "2021-03-31T11:14:49.871458Z"
    }
   },
   "outputs": [],
   "source": [
    "# pred_context = full_action_reward.iloc[-2][context_columns].values\n",
    "# model_2.action(pred_context)"
   ]
  },
  {
   "cell_type": "code",
   "execution_count": 24,
   "metadata": {
    "ExecuteTime": {
     "end_time": "2021-03-31T11:14:49.882386Z",
     "start_time": "2021-03-31T11:14:49.875726Z"
    }
   },
   "outputs": [],
   "source": [
    "# Сохраните модель\n",
    "model_2.save('model_2.pkl')"
   ]
  },
  {
   "cell_type": "code",
   "execution_count": null,
   "metadata": {},
   "outputs": [],
   "source": []
  }
 ],
 "metadata": {
  "kernelspec": {
   "display_name": "Python 3",
   "language": "python",
   "name": "python3"
  },
  "language_info": {
   "codemirror_mode": {
    "name": "ipython",
    "version": 3
   },
   "file_extension": ".py",
   "mimetype": "text/x-python",
   "name": "python",
   "nbconvert_exporter": "python",
   "pygments_lexer": "ipython3",
   "version": "3.7.3"
  }
 },
 "nbformat": 4,
 "nbformat_minor": 4
}
