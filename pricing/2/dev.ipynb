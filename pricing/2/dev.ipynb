{
 "cells": [
  {
   "cell_type": "markdown",
   "metadata": {},
   "source": [
    "# Импорт"
   ]
  },
  {
   "cell_type": "code",
   "execution_count": 1,
   "metadata": {
    "ExecuteTime": {
     "end_time": "2021-03-11T17:19:39.863049Z",
     "start_time": "2021-03-11T17:19:39.855959Z"
    }
   },
   "outputs": [],
   "source": [
    "import os.path as path_\n",
    "from datetime import datetime"
   ]
  },
  {
   "cell_type": "code",
   "execution_count": 2,
   "metadata": {
    "ExecuteTime": {
     "end_time": "2021-03-11T17:19:41.186808Z",
     "start_time": "2021-03-11T17:19:40.047700Z"
    }
   },
   "outputs": [],
   "source": [
    "import numpy as np\n",
    "import pandas as pd\n",
    "import matplotlib.pyplot as plt\n",
    "import seaborn as sns\n",
    "%matplotlib inline\n",
    "from sklearn.model_selection import train_test_split\n",
    "from sklearn.metrics import mean_squared_error\n",
    "from lightgbm import Dataset, train, cv, plot_importance"
   ]
  },
  {
   "cell_type": "markdown",
   "metadata": {},
   "source": [
    "# Глобальные переменные и функции"
   ]
  },
  {
   "cell_type": "code",
   "execution_count": 3,
   "metadata": {
    "ExecuteTime": {
     "end_time": "2021-03-11T17:19:41.196301Z",
     "start_time": "2021-03-11T17:19:41.191344Z"
    }
   },
   "outputs": [],
   "source": [
    "data_path = 'data/'\n",
    "submits_path = 'submits/'\n",
    "seed = 110894"
   ]
  },
  {
   "cell_type": "markdown",
   "metadata": {},
   "source": [
    "# Загружаем данные"
   ]
  },
  {
   "cell_type": "code",
   "execution_count": 4,
   "metadata": {
    "ExecuteTime": {
     "end_time": "2021-03-11T17:19:41.331476Z",
     "start_time": "2021-03-11T17:19:41.199240Z"
    }
   },
   "outputs": [
    {
     "name": "stdout",
     "output_type": "stream",
     "text": [
      "total 3700\r\n",
      "-rw-r--r-- 1 jupyter-v.pashentsev-2 jupyter-v.pashentsev-2   65141 Mar  7 07:52 HW_test_additional_data.csv\r\n",
      "-rw-r--r-- 1 jupyter-v.pashentsev-2 jupyter-v.pashentsev-2   51768 Mar  7 07:52 HW_test_main_data.csv\r\n",
      "-rw-r--r-- 1 jupyter-v.pashentsev-2 jupyter-v.pashentsev-2 1877934 Mar  7 07:52 HW_train_additional_data.csv\r\n",
      "-rw-r--r-- 1 jupyter-v.pashentsev-2 jupyter-v.pashentsev-2 1788320 Mar  7 07:52 HW_train_main_data.csv\r\n"
     ]
    }
   ],
   "source": [
    "!ls -l $data_path"
   ]
  },
  {
   "cell_type": "code",
   "execution_count": 5,
   "metadata": {
    "ExecuteTime": {
     "end_time": "2021-03-11T17:19:41.412395Z",
     "start_time": "2021-03-11T17:19:41.335853Z"
    }
   },
   "outputs": [
    {
     "name": "stdout",
     "output_type": "stream",
     "text": [
      "<class 'pandas.core.frame.DataFrame'>\n",
      "RangeIndex: 29000 entries, 0 to 28999\n",
      "Data columns (total 13 columns):\n",
      " #   Column               Non-Null Count  Dtype  \n",
      "---  ------               --------------  -----  \n",
      " 0   id                   29000 non-null  int64  \n",
      " 1   timestamp            29000 non-null  object \n",
      " 2   full_sq              29000 non-null  int64  \n",
      " 3   life_sq              22935 non-null  float64\n",
      " 4   floor                28843 non-null  float64\n",
      " 5   max_floor            19887 non-null  float64\n",
      " 6   material             19887 non-null  float64\n",
      " 7   build_year           16059 non-null  float64\n",
      " 8   num_room             19887 non-null  float64\n",
      " 9   kitch_sq             19887 non-null  float64\n",
      " 10  apartment condition  16088 non-null  float64\n",
      " 11  sub_area             29000 non-null  int64  \n",
      " 12  price                29000 non-null  float64\n",
      "dtypes: float64(9), int64(3), object(1)\n",
      "memory usage: 2.9+ MB\n"
     ]
    }
   ],
   "source": [
    "df_train = pd.read_csv(path_.join(data_path, 'HW_train_main_data.csv'))\n",
    "df_train.info()"
   ]
  },
  {
   "cell_type": "code",
   "execution_count": 6,
   "metadata": {
    "ExecuteTime": {
     "end_time": "2021-03-11T17:19:41.506257Z",
     "start_time": "2021-03-11T17:19:41.426390Z"
    }
   },
   "outputs": [
    {
     "name": "stdout",
     "output_type": "stream",
     "text": [
      "<class 'pandas.core.frame.DataFrame'>\n",
      "RangeIndex: 29000 entries, 0 to 28999\n",
      "Data columns (total 19 columns):\n",
      " #   Column                           Non-Null Count  Dtype  \n",
      "---  ------                           --------------  -----  \n",
      " 0   id                               29000 non-null  int64  \n",
      " 1   population                       29000 non-null  int64  \n",
      " 2   indust_part                      29000 non-null  float64\n",
      " 3   preschool_facilities             29000 non-null  int64  \n",
      " 4   school_facilities                29000 non-null  int64  \n",
      " 5   hospital_beds_raion              15253 non-null  float64\n",
      " 6   healthcare_facilities            29000 non-null  int64  \n",
      " 7   university_num                   29000 non-null  int64  \n",
      " 8   sport_objects_facilities         29000 non-null  int64  \n",
      " 9   additional_education_facilities  29000 non-null  int64  \n",
      " 10  culture_objects_facilities       29000 non-null  int64  \n",
      " 11  shopping_centers_facilities      29000 non-null  int64  \n",
      " 12  office_num                       29000 non-null  int64  \n",
      " 13  green_part                       29000 non-null  float64\n",
      " 14  prom_part                        29000 non-null  float64\n",
      " 15  cafe_count                       29000 non-null  int64  \n",
      " 16  church_facilities                29000 non-null  int64  \n",
      " 17  mosque                           29000 non-null  int64  \n",
      " 18  leisure_facilities               29000 non-null  int64  \n",
      "dtypes: float64(4), int64(15)\n",
      "memory usage: 4.2 MB\n"
     ]
    }
   ],
   "source": [
    "df_train_add = pd.read_csv(path_.join(data_path, 'HW_train_additional_data.csv'))\n",
    "df_train_add.info()"
   ]
  },
  {
   "cell_type": "code",
   "execution_count": 7,
   "metadata": {
    "ExecuteTime": {
     "end_time": "2021-03-11T17:19:41.635778Z",
     "start_time": "2021-03-11T17:19:41.612668Z"
    }
   },
   "outputs": [
    {
     "name": "stdout",
     "output_type": "stream",
     "text": [
      "<class 'pandas.core.frame.DataFrame'>\n",
      "RangeIndex: 1000 entries, 0 to 999\n",
      "Data columns (total 12 columns):\n",
      " #   Column               Non-Null Count  Dtype  \n",
      "---  ------               --------------  -----  \n",
      " 0   id                   1000 non-null   int64  \n",
      " 1   timestamp            1000 non-null   object \n",
      " 2   full_sq              1000 non-null   int64  \n",
      " 3   life_sq              797 non-null    float64\n",
      " 4   floor                995 non-null    float64\n",
      " 5   max_floor            688 non-null    float64\n",
      " 6   material             688 non-null    float64\n",
      " 7   build_year           559 non-null    float64\n",
      " 8   num_room             688 non-null    float64\n",
      " 9   kitch_sq             688 non-null    float64\n",
      " 10  apartment condition  565 non-null    float64\n",
      " 11  sub_area             1000 non-null   int64  \n",
      "dtypes: float64(8), int64(3), object(1)\n",
      "memory usage: 93.9+ KB\n"
     ]
    }
   ],
   "source": [
    "df_test = pd.read_csv(path_.join(data_path, 'HW_test_main_data.csv'))\n",
    "df_test.info()"
   ]
  },
  {
   "cell_type": "code",
   "execution_count": 8,
   "metadata": {
    "ExecuteTime": {
     "end_time": "2021-03-11T17:19:41.815963Z",
     "start_time": "2021-03-11T17:19:41.786917Z"
    }
   },
   "outputs": [
    {
     "name": "stdout",
     "output_type": "stream",
     "text": [
      "<class 'pandas.core.frame.DataFrame'>\n",
      "RangeIndex: 1000 entries, 0 to 999\n",
      "Data columns (total 19 columns):\n",
      " #   Column                           Non-Null Count  Dtype  \n",
      "---  ------                           --------------  -----  \n",
      " 0   id                               1000 non-null   int64  \n",
      " 1   population                       1000 non-null   int64  \n",
      " 2   indust_part                      1000 non-null   float64\n",
      " 3   preschool_facilities             1000 non-null   int64  \n",
      " 4   school_facilities                1000 non-null   int64  \n",
      " 5   hospital_beds_raion              544 non-null    float64\n",
      " 6   healthcare_facilities            1000 non-null   int64  \n",
      " 7   university_num                   1000 non-null   int64  \n",
      " 8   sport_objects_facilities         1000 non-null   int64  \n",
      " 9   additional_education_facilities  1000 non-null   int64  \n",
      " 10  culture_objects_facilities       1000 non-null   int64  \n",
      " 11  shopping_centers_facilities      1000 non-null   int64  \n",
      " 12  office_num                       1000 non-null   int64  \n",
      " 13  green_part                       1000 non-null   float64\n",
      " 14  prom_part                        1000 non-null   float64\n",
      " 15  cafe_count                       1000 non-null   int64  \n",
      " 16  church_facilities                1000 non-null   int64  \n",
      " 17  mosque                           1000 non-null   int64  \n",
      " 18  leisure_facilities               1000 non-null   int64  \n",
      "dtypes: float64(4), int64(15)\n",
      "memory usage: 148.6 KB\n"
     ]
    }
   ],
   "source": [
    "df_test_add = pd.read_csv(path_.join(data_path, 'HW_test_additional_data.csv'))\n",
    "df_test_add.info()"
   ]
  },
  {
   "cell_type": "markdown",
   "metadata": {},
   "source": [
    "# Смотрим формат submit-ов"
   ]
  },
  {
   "cell_type": "code",
   "execution_count": 9,
   "metadata": {
    "ExecuteTime": {
     "end_time": "2021-03-11T17:19:42.307966Z",
     "start_time": "2021-03-11T17:19:42.152907Z"
    }
   },
   "outputs": [
    {
     "name": "stdout",
     "output_type": "stream",
     "text": [
      "total 480\r\n",
      "-rw-r--r-- 1 jupyter-v.pashentsev-2 jupyter-v.pashentsev-2   245 Mar  7 07:52 submission_example_2_1.txt\r\n",
      "-rw-r--r-- 1 jupyter-v.pashentsev-2 jupyter-v.pashentsev-2 22577 Mar  7 07:52 submission_example_2_2.csv\r\n",
      "-rw-r--r-- 1 jupyter-v.pashentsev-2 jupyter-v.pashentsev-2   459 Mar 11 14:06 submit_1.txt\r\n",
      "-rw-r--r-- 1 jupyter-v.pashentsev-2 jupyter-v.pashentsev-2 28034 Mar 11 14:06 submit_2_baseline.csv\r\n",
      "-rw-r--r-- 1 jupyter-v.pashentsev-2 jupyter-v.pashentsev-2 28031 Mar 11 14:07 submit_2_cv_max.csv\r\n",
      "-rw-r--r-- 1 jupyter-v.pashentsev-2 jupyter-v.pashentsev-2 28027 Mar 11 14:07 submit_2_cv_mean.csv\r\n",
      "-rw-r--r-- 1 jupyter-v.pashentsev-2 jupyter-v.pashentsev-2 28007 Mar 11 14:07 submit_2_cv_min.csv\r\n",
      "-rw-r--r-- 1 jupyter-v.pashentsev-2 jupyter-v.pashentsev-2 28017 Mar 11 14:07 submit_2_fillna_by_frac_life_sq.csv\r\n",
      "-rw-r--r-- 1 jupyter-v.pashentsev-2 jupyter-v.pashentsev-2 28037 Mar 11 14:07 submit_2_fillna_mean_life_sq.csv\r\n",
      "-rw-r--r-- 1 jupyter-v.pashentsev-2 jupyter-v.pashentsev-2 28041 Mar 11 14:07 submit_2_new_features_on_full_sq_and_life_sq.csv\r\n",
      "-rw-r--r-- 1 jupyter-v.pashentsev-2 jupyter-v.pashentsev-2 28023 Mar 11 14:07 submit_2_new_features_on_full_sq_and_life_sq_without_life_sq.csv\r\n",
      "-rw-r--r-- 1 jupyter-v.pashentsev-2 jupyter-v.pashentsev-2 28021 Mar 11 14:07 submit_2_remove_full_sq.csv\r\n",
      "-rw-r--r-- 1 jupyter-v.pashentsev-2 jupyter-v.pashentsev-2 28034 Mar 11 14:07 submit_2_remove_outliers_1_in_full_sq.csv\r\n",
      "-rw-r--r-- 1 jupyter-v.pashentsev-2 jupyter-v.pashentsev-2 28001 Mar 11 14:07 submit_2_remove_outliers_2_in_full_sq.csv\r\n",
      "-rw-r--r-- 1 jupyter-v.pashentsev-2 jupyter-v.pashentsev-2 28046 Mar 11 14:07 submit_2_remove_outliers_3_in_full_sq.csv\r\n",
      "-rw-r--r-- 1 jupyter-v.pashentsev-2 jupyter-v.pashentsev-2 28015 Mar 11 14:07 submit_2_remove_outliers_4_in_full_sq.csv\r\n",
      "-rw-r--r-- 1 jupyter-v.pashentsev-2 jupyter-v.pashentsev-2 28047 Mar 11 14:07 submit_2_replace_outlier_on_full_sq_in_life_sq.csv\r\n",
      "-rw-r--r-- 1 jupyter-v.pashentsev-2 jupyter-v.pashentsev-2 28024 Mar 11 14:07 submit_2_replace_outlier_on_nan_in_life_sq.csv\r\n",
      "-rw-r--r-- 1 jupyter-v.pashentsev-2 jupyter-v.pashentsev-2 28027 Mar 11 14:04 submit_2_test.csv\r\n"
     ]
    }
   ],
   "source": [
    "!ls -l $submits_path"
   ]
  },
  {
   "cell_type": "code",
   "execution_count": 10,
   "metadata": {
    "ExecuteTime": {
     "end_time": "2021-03-11T17:19:42.339677Z",
     "start_time": "2021-03-11T17:19:42.332856Z"
    }
   },
   "outputs": [
    {
     "name": "stdout",
     "output_type": "stream",
     "text": [
      "0000, 1111, 2222, 33333, 4444, 55555, 6666, 7777, 88888, 9999\n",
      "0, 1, 2, 3, 4, 5, 6, 7, 8, 9, 10, 11, 12, 13, 14, 15, 16, 17, 18, 19, 20, 21, 22, 23, 24, 25, 26, 27, 28, 29, 30, ...\n",
      "111, 2222, 3333, 44444, 55555\n",
      "10000\n",
      "0.999999999999999, 0.9999999\n",
      "\n"
     ]
    }
   ],
   "source": [
    "with open(path_.join(submits_path, 'submission_example_2_1.txt')) as file:\n",
    "    str_ex_submit_1 = file.read()\n",
    "print(str_ex_submit_1)"
   ]
  },
  {
   "cell_type": "code",
   "execution_count": 11,
   "metadata": {
    "ExecuteTime": {
     "end_time": "2021-03-11T17:19:42.521370Z",
     "start_time": "2021-03-11T17:19:42.488426Z"
    }
   },
   "outputs": [
    {
     "data": {
      "text/html": [
       "<div>\n",
       "<style scoped>\n",
       "    .dataframe tbody tr th:only-of-type {\n",
       "        vertical-align: middle;\n",
       "    }\n",
       "\n",
       "    .dataframe tbody tr th {\n",
       "        vertical-align: top;\n",
       "    }\n",
       "\n",
       "    .dataframe thead th {\n",
       "        text-align: right;\n",
       "    }\n",
       "</style>\n",
       "<table border=\"1\" class=\"dataframe\">\n",
       "  <thead>\n",
       "    <tr style=\"text-align: right;\">\n",
       "      <th></th>\n",
       "      <th>id</th>\n",
       "      <th>predicted_price</th>\n",
       "    </tr>\n",
       "  </thead>\n",
       "  <tbody>\n",
       "    <tr>\n",
       "      <th>0</th>\n",
       "      <td>10</td>\n",
       "      <td>11.323928</td>\n",
       "    </tr>\n",
       "    <tr>\n",
       "      <th>1</th>\n",
       "      <td>11</td>\n",
       "      <td>10.878658</td>\n",
       "    </tr>\n",
       "    <tr>\n",
       "      <th>2</th>\n",
       "      <td>12</td>\n",
       "      <td>28.242655</td>\n",
       "    </tr>\n",
       "    <tr>\n",
       "      <th>3</th>\n",
       "      <td>13</td>\n",
       "      <td>23.924738</td>\n",
       "    </tr>\n",
       "    <tr>\n",
       "      <th>4</th>\n",
       "      <td>14</td>\n",
       "      <td>13.952347</td>\n",
       "    </tr>\n",
       "  </tbody>\n",
       "</table>\n",
       "</div>"
      ],
      "text/plain": [
       "   id  predicted_price\n",
       "0  10        11.323928\n",
       "1  11        10.878658\n",
       "2  12        28.242655\n",
       "3  13        23.924738\n",
       "4  14        13.952347"
      ]
     },
     "execution_count": 11,
     "metadata": {},
     "output_type": "execute_result"
    }
   ],
   "source": [
    "df_ex_submit_2 = pd.read_csv(path_.join(submits_path, 'submission_example_2_2.csv'))\n",
    "df_ex_submit_2.head()"
   ]
  },
  {
   "cell_type": "markdown",
   "metadata": {},
   "source": [
    "# Решаем первое задание"
   ]
  },
  {
   "cell_type": "markdown",
   "metadata": {},
   "source": [
    "###### Топ-10 дорогих квартир"
   ]
  },
  {
   "cell_type": "code",
   "execution_count": 12,
   "metadata": {
    "ExecuteTime": {
     "end_time": "2021-03-11T17:19:43.356373Z",
     "start_time": "2021-03-11T17:19:43.327844Z"
    }
   },
   "outputs": [
    {
     "data": {
      "text/plain": [
       "'40136, 92747, 63901, 95572, 45584, 91175, 78059, 88100, 14154, 85073'"
      ]
     },
     "execution_count": 12,
     "metadata": {},
     "output_type": "execute_result"
    }
   ],
   "source": [
    "str_top10_price = ', '.join(df_train.sort_values('price').iloc[-10:,0].apply(str))\n",
    "str_top10_price"
   ]
  },
  {
   "cell_type": "markdown",
   "metadata": {},
   "source": [
    "###### Самые дорогие квартиры по месяцам"
   ]
  },
  {
   "cell_type": "code",
   "execution_count": 13,
   "metadata": {
    "ExecuteTime": {
     "end_time": "2021-03-11T17:19:43.954020Z",
     "start_time": "2021-03-11T17:19:43.688351Z"
    }
   },
   "outputs": [
    {
     "data": {
      "text/html": [
       "<div>\n",
       "<style scoped>\n",
       "    .dataframe tbody tr th:only-of-type {\n",
       "        vertical-align: middle;\n",
       "    }\n",
       "\n",
       "    .dataframe tbody tr th {\n",
       "        vertical-align: top;\n",
       "    }\n",
       "\n",
       "    .dataframe thead th {\n",
       "        text-align: right;\n",
       "    }\n",
       "</style>\n",
       "<table border=\"1\" class=\"dataframe\">\n",
       "  <thead>\n",
       "    <tr style=\"text-align: right;\">\n",
       "      <th></th>\n",
       "      <th>price</th>\n",
       "    </tr>\n",
       "    <tr>\n",
       "      <th>timestamp</th>\n",
       "      <th></th>\n",
       "    </tr>\n",
       "  </thead>\n",
       "  <tbody>\n",
       "    <tr>\n",
       "      <th>2011-09</th>\n",
       "      <td>22408</td>\n",
       "    </tr>\n",
       "    <tr>\n",
       "      <th>2011-10</th>\n",
       "      <td>28566</td>\n",
       "    </tr>\n",
       "    <tr>\n",
       "      <th>2011-11</th>\n",
       "      <td>24188</td>\n",
       "    </tr>\n",
       "    <tr>\n",
       "      <th>2011-12</th>\n",
       "      <td>27279</td>\n",
       "    </tr>\n",
       "    <tr>\n",
       "      <th>2012-01</th>\n",
       "      <td>20316</td>\n",
       "    </tr>\n",
       "  </tbody>\n",
       "</table>\n",
       "</div>"
      ],
      "text/plain": [
       "           price\n",
       "timestamp       \n",
       "2011-09    22408\n",
       "2011-10    28566\n",
       "2011-11    24188\n",
       "2011-12    27279\n",
       "2012-01    20316"
      ]
     },
     "execution_count": 13,
     "metadata": {},
     "output_type": "execute_result"
    }
   ],
   "source": [
    "ss_max_price_id_by_mnth = (\n",
    "    df_train\n",
    "    .groupby(\n",
    "        df_train['timestamp']\n",
    "        .astype(np.datetime64)\n",
    "        .dt\n",
    "        .strftime('%Y-%m')\n",
    "    )\n",
    "    .agg({'price': lambda x: x.idxmax()})\n",
    "    .astype(int)\n",
    ")\n",
    "ss_max_price_id_by_mnth.head()"
   ]
  },
  {
   "cell_type": "code",
   "execution_count": 14,
   "metadata": {
    "ExecuteTime": {
     "end_time": "2021-03-11T17:19:44.009922Z",
     "start_time": "2021-03-11T17:19:43.960213Z"
    }
   },
   "outputs": [
    {
     "data": {
      "text/html": [
       "<div>\n",
       "<style scoped>\n",
       "    .dataframe tbody tr th:only-of-type {\n",
       "        vertical-align: middle;\n",
       "    }\n",
       "\n",
       "    .dataframe tbody tr th {\n",
       "        vertical-align: top;\n",
       "    }\n",
       "\n",
       "    .dataframe thead th {\n",
       "        text-align: right;\n",
       "    }\n",
       "</style>\n",
       "<table border=\"1\" class=\"dataframe\">\n",
       "  <thead>\n",
       "    <tr style=\"text-align: right;\">\n",
       "      <th></th>\n",
       "      <th>id</th>\n",
       "      <th>timestamp</th>\n",
       "      <th>full_sq</th>\n",
       "      <th>life_sq</th>\n",
       "      <th>floor</th>\n",
       "      <th>max_floor</th>\n",
       "      <th>material</th>\n",
       "      <th>build_year</th>\n",
       "      <th>num_room</th>\n",
       "      <th>kitch_sq</th>\n",
       "      <th>apartment condition</th>\n",
       "      <th>sub_area</th>\n",
       "      <th>price</th>\n",
       "    </tr>\n",
       "  </thead>\n",
       "  <tbody>\n",
       "    <tr>\n",
       "      <th>28566</th>\n",
       "      <td>39837</td>\n",
       "      <td>2011-10-19</td>\n",
       "      <td>81</td>\n",
       "      <td>46.0</td>\n",
       "      <td>24.0</td>\n",
       "      <td>NaN</td>\n",
       "      <td>NaN</td>\n",
       "      <td>NaN</td>\n",
       "      <td>NaN</td>\n",
       "      <td>NaN</td>\n",
       "      <td>NaN</td>\n",
       "      <td>32</td>\n",
       "      <td>18043800.0</td>\n",
       "    </tr>\n",
       "  </tbody>\n",
       "</table>\n",
       "</div>"
      ],
      "text/plain": [
       "          id   timestamp  full_sq  life_sq  floor  max_floor  material  \\\n",
       "28566  39837  2011-10-19       81     46.0   24.0        NaN       NaN   \n",
       "\n",
       "       build_year  num_room  kitch_sq  apartment condition  sub_area  \\\n",
       "28566         NaN       NaN       NaN                  NaN        32   \n",
       "\n",
       "            price  \n",
       "28566  18043800.0  "
      ]
     },
     "execution_count": 14,
     "metadata": {},
     "output_type": "execute_result"
    }
   ],
   "source": [
    "#Проверка\n",
    "(\n",
    "    df_train\n",
    "    .loc[\n",
    "        (df_train['timestamp'].astype(np.datetime64).dt.year == 2011) \n",
    "        & (df_train['timestamp'].astype(np.datetime64).dt.month == 10), \n",
    "        :\n",
    "    ]\n",
    "    .sort_values('price')\n",
    "    .tail(1)\n",
    ")"
   ]
  },
  {
   "cell_type": "code",
   "execution_count": 15,
   "metadata": {
    "ExecuteTime": {
     "end_time": "2021-03-11T17:19:44.075485Z",
     "start_time": "2021-03-11T17:19:44.062394Z"
    }
   },
   "outputs": [
    {
     "data": {
      "text/plain": [
       "'22408, 28566, 24188, 27279, 20316, 27461, 8417, 26644, 18117, 10035, 26274, 26321, 9030, 16898, 28806, 7537, 15912, 3163, 26225, 3767, 27095, 14807, 24097, 20799, 20649, 10213, 8788, 20082, 6981, 1740, 7055, 12729, 5582, 15217, 18599, 5942, 28868, 25278, 13329, 2526, 9340, 14321, 5829, 6705, 7755, 12483, 2014'"
      ]
     },
     "execution_count": 15,
     "metadata": {},
     "output_type": "execute_result"
    }
   ],
   "source": [
    "str_max_price_id_by_mnth = ', '.join(ss_max_price_id_by_mnth['price'].apply(str))\n",
    "str_max_price_id_by_mnth"
   ]
  },
  {
   "cell_type": "markdown",
   "metadata": {},
   "source": [
    "###### Топ-5 самы больших квартир"
   ]
  },
  {
   "cell_type": "code",
   "execution_count": 16,
   "metadata": {
    "ExecuteTime": {
     "end_time": "2021-03-11T17:19:44.422144Z",
     "start_time": "2021-03-11T17:19:44.398692Z"
    }
   },
   "outputs": [
    {
     "data": {
      "text/plain": [
       "'41202, 49518, 32115, 95936, 95156'"
      ]
     },
     "execution_count": 16,
     "metadata": {},
     "output_type": "execute_result"
    }
   ],
   "source": [
    "str_top5_square = ', '.join(df_train.sort_values('full_sq').iloc[-5:,0].apply(str))\n",
    "str_top5_square"
   ]
  },
  {
   "cell_type": "markdown",
   "metadata": {},
   "source": [
    "###### Кол-во пропусков"
   ]
  },
  {
   "cell_type": "code",
   "execution_count": 17,
   "metadata": {
    "ExecuteTime": {
     "end_time": "2021-03-11T17:19:44.809647Z",
     "start_time": "2021-03-11T17:19:44.802469Z"
    }
   },
   "outputs": [
    {
     "data": {
      "text/plain": [
       "'6065'"
      ]
     },
     "execution_count": 17,
     "metadata": {},
     "output_type": "execute_result"
    }
   ],
   "source": [
    "str_na_cnt = str(df_train['life_sq'].isna().sum())\n",
    "str_na_cnt"
   ]
  },
  {
   "cell_type": "markdown",
   "metadata": {},
   "source": [
    "###### Корреляция"
   ]
  },
  {
   "cell_type": "code",
   "execution_count": 18,
   "metadata": {
    "ExecuteTime": {
     "end_time": "2021-03-11T17:19:45.526126Z",
     "start_time": "2021-03-11T17:19:45.486457Z"
    }
   },
   "outputs": [
    {
     "data": {
      "text/plain": [
       "'0.33711308742057117'"
      ]
     },
     "execution_count": 18,
     "metadata": {},
     "output_type": "execute_result"
    }
   ],
   "source": [
    "str_corr_1 = str(df_train.corr().loc['price', 'full_sq'])\n",
    "str_corr_1"
   ]
  },
  {
   "cell_type": "code",
   "execution_count": 19,
   "metadata": {
    "ExecuteTime": {
     "end_time": "2021-03-11T17:19:46.006893Z",
     "start_time": "2021-03-11T17:19:45.951078Z"
    }
   },
   "outputs": [
    {
     "data": {
      "text/plain": [
       "0.3583523865232129"
      ]
     },
     "execution_count": 19,
     "metadata": {},
     "output_type": "execute_result"
    }
   ],
   "source": [
    "df_train.fillna({'life_sq': 0.0}).corr().loc['price', 'life_sq']"
   ]
  },
  {
   "cell_type": "code",
   "execution_count": 20,
   "metadata": {
    "ExecuteTime": {
     "end_time": "2021-03-11T17:19:46.571806Z",
     "start_time": "2021-03-11T17:19:46.524564Z"
    }
   },
   "outputs": [
    {
     "data": {
      "text/plain": [
       "0.38005124559109627"
      ]
     },
     "execution_count": 20,
     "metadata": {},
     "output_type": "execute_result"
    }
   ],
   "source": [
    "df_train.fillna({'life_sq': df_train['life_sq'].mean()}).corr().loc['price', 'life_sq']"
   ]
  },
  {
   "cell_type": "code",
   "execution_count": 21,
   "metadata": {
    "ExecuteTime": {
     "end_time": "2021-03-11T17:19:46.823555Z",
     "start_time": "2021-03-11T17:19:46.777791Z"
    }
   },
   "outputs": [
    {
     "data": {
      "text/plain": [
       "0.38655858311442803"
      ]
     },
     "execution_count": 21,
     "metadata": {},
     "output_type": "execute_result"
    }
   ],
   "source": [
    "df_train.fillna({'life_sq': df_train['life_sq'].median()}).corr().loc['price', 'life_sq']"
   ]
  },
  {
   "cell_type": "code",
   "execution_count": 22,
   "metadata": {
    "ExecuteTime": {
     "end_time": "2021-03-11T17:19:46.999762Z",
     "start_time": "2021-03-11T17:19:46.950976Z"
    }
   },
   "outputs": [
    {
     "data": {
      "text/plain": [
       "'0.38005124559109627'"
      ]
     },
     "execution_count": 22,
     "metadata": {},
     "output_type": "execute_result"
    }
   ],
   "source": [
    "str_corr_2 = str(df_train.fillna({'life_sq': df_train['life_sq'].mean()}).corr().loc['price', 'life_sq'])\n",
    "str_corr_2"
   ]
  },
  {
   "cell_type": "code",
   "execution_count": 23,
   "metadata": {
    "ExecuteTime": {
     "end_time": "2021-03-11T17:19:47.144840Z",
     "start_time": "2021-03-11T17:19:47.138969Z"
    }
   },
   "outputs": [
    {
     "data": {
      "text/plain": [
       "'0.33711308742057117, 0.38005124559109627'"
      ]
     },
     "execution_count": 23,
     "metadata": {},
     "output_type": "execute_result"
    }
   ],
   "source": [
    "str_corr = str_corr_1 + ', ' + str_corr_2\n",
    "str_corr"
   ]
  },
  {
   "cell_type": "markdown",
   "metadata": {},
   "source": [
    "###### Оформляем ответ на первое задание"
   ]
  },
  {
   "cell_type": "code",
   "execution_count": 24,
   "metadata": {
    "ExecuteTime": {
     "end_time": "2021-03-11T17:19:48.116621Z",
     "start_time": "2021-03-11T17:19:48.110726Z"
    }
   },
   "outputs": [
    {
     "data": {
      "text/plain": [
       "'40136, 92747, 63901, 95572, 45584, 91175, 78059, 88100, 14154, 85073\\n22408, 28566, 24188, 27279, 20316, 27461, 8417, 26644, 18117, 10035, 26274, 26321, 9030, 16898, 28806, 7537, 15912, 3163, 26225, 3767, 27095, 14807, 24097, 20799, 20649, 10213, 8788, 20082, 6981, 1740, 7055, 12729, 5582, 15217, 18599, 5942, 28868, 25278, 13329, 2526, 9340, 14321, 5829, 6705, 7755, 12483, 2014\\n41202, 49518, 32115, 95936, 95156\\n6065\\n0.33711308742057117, 0.38005124559109627'"
      ]
     },
     "execution_count": 24,
     "metadata": {},
     "output_type": "execute_result"
    }
   ],
   "source": [
    "str_submit_1 = '\\n'.join([str_top10_price, str_max_price_id_by_mnth, str_top5_square, str_na_cnt, str_corr])\n",
    "str_submit_1"
   ]
  },
  {
   "cell_type": "code",
   "execution_count": 25,
   "metadata": {
    "ExecuteTime": {
     "end_time": "2021-03-11T17:19:48.338789Z",
     "start_time": "2021-03-11T17:19:48.333473Z"
    }
   },
   "outputs": [],
   "source": [
    "with open(path_.join(submits_path, 'submit_1.txt'), mode='w') as file:\n",
    "    file.write(str_submit_1)"
   ]
  },
  {
   "cell_type": "markdown",
   "metadata": {},
   "source": [
    "# Решаем второе задание"
   ]
  },
  {
   "cell_type": "code",
   "execution_count": 204,
   "metadata": {
    "ExecuteTime": {
     "end_time": "2021-03-11T18:39:16.854676Z",
     "start_time": "2021-03-11T18:39:16.772592Z"
    }
   },
   "outputs": [],
   "source": [
    "df_whole_train = df_train.merge(df_train_add, on='id').rename(columns={'apartment condition': 'apartment_condition'})\n",
    "df_whole_test = df_test.merge(df_test_add, on='id').rename(columns={'apartment condition': 'apartment_condition'})"
   ]
  },
  {
   "cell_type": "code",
   "execution_count": 205,
   "metadata": {
    "ExecuteTime": {
     "end_time": "2021-03-11T18:39:17.237261Z",
     "start_time": "2021-03-11T18:39:17.208925Z"
    }
   },
   "outputs": [],
   "source": [
    "df_whole_train['year_month'] = df_whole_train['timestamp'].str[:7].astype('category')\n",
    "df_whole_test['year_month'] = df_whole_test['timestamp'].str[:7].astype('category')"
   ]
  },
  {
   "cell_type": "markdown",
   "metadata": {},
   "source": [
    "Строим бэйзлайн модель"
   ]
  },
  {
   "cell_type": "code",
   "execution_count": 206,
   "metadata": {
    "ExecuteTime": {
     "end_time": "2021-03-11T18:39:18.229894Z",
     "start_time": "2021-03-11T18:39:18.203161Z"
    }
   },
   "outputs": [],
   "source": [
    "X = df_whole_train.drop(columns=['id', 'timestamp', 'price'])\n",
    "X_test = df_whole_test.drop(columns=['id', 'timestamp'])\n",
    "y = df_whole_train.loc[:, 'price']"
   ]
  },
  {
   "cell_type": "code",
   "execution_count": 207,
   "metadata": {
    "ExecuteTime": {
     "end_time": "2021-03-11T18:39:18.740052Z",
     "start_time": "2021-03-11T18:39:18.717877Z"
    }
   },
   "outputs": [],
   "source": [
    "(\n",
    "    X_train, X_valid,\n",
    "    y_train, y_valid,\n",
    ") = train_test_split(\n",
    "    X, y,\n",
    "    test_size=0.3,\n",
    "    random_state=seed,\n",
    ")"
   ]
  },
  {
   "cell_type": "code",
   "execution_count": 208,
   "metadata": {
    "ExecuteTime": {
     "end_time": "2021-03-11T18:39:19.986853Z",
     "start_time": "2021-03-11T18:39:19.238517Z"
    }
   },
   "outputs": [
    {
     "name": "stderr",
     "output_type": "stream",
     "text": [
      "/home/jupyter-v.pashentsev-2/.local/lib/python3.7/site-packages/lightgbm/basic.py:1286: UserWarning: Overriding the parameters from Reference Dataset.\n",
      "  warnings.warn('Overriding the parameters from Reference Dataset.')\n",
      "/home/jupyter-v.pashentsev-2/.local/lib/python3.7/site-packages/lightgbm/basic.py:1098: UserWarning: categorical_column in param dict is overridden.\n",
      "  warnings.warn('{} in param dict is overridden.'.format(cat_alias))\n"
     ]
    },
    {
     "name": "stdout",
     "output_type": "stream",
     "text": [
      "Training until validation scores don't improve for 100 rounds\n",
      "[100]\ttrain's rmse: 2.06951e+06\tvalid's rmse: 3.00618e+06\n",
      "[200]\ttrain's rmse: 1.80304e+06\tvalid's rmse: 3.00834e+06\n",
      "Early stopping, best iteration is:\n",
      "[126]\ttrain's rmse: 1.98213e+06\tvalid's rmse: 2.99944e+06\n"
     ]
    }
   ],
   "source": [
    "lgb_train = Dataset(X_train, y_train)\n",
    "lgb_valid = Dataset(X_valid, y_valid, reference=lgb_train)\n",
    "lgb_model = train(\n",
    "    params={\n",
    "        'objective': 'regression',\n",
    "        'metric': 'rmse',\n",
    "        'verbosity': -1,\n",
    "        'seed': seed,\n",
    "    },\n",
    "    train_set=lgb_train,\n",
    "    num_boost_round=100_00,\n",
    "    valid_sets=[lgb_train, lgb_valid],\n",
    "    valid_names=['train', 'valid'],\n",
    "    early_stopping_rounds=100,\n",
    "    verbose_eval=100,\n",
    ")"
   ]
  },
  {
   "cell_type": "code",
   "execution_count": 209,
   "metadata": {
    "ExecuteTime": {
     "end_time": "2021-03-11T18:39:20.031556Z",
     "start_time": "2021-03-11T18:39:19.993319Z"
    }
   },
   "outputs": [],
   "source": [
    "df_submit_2 = pd.DataFrame(index=df_whole_test.index)\n",
    "df_submit_2['id'] = df_whole_test['id']\n",
    "df_submit_2['predicted_price'] = lgb_model.predict(X_test)\n",
    "df_submit_2.to_csv(path_.join(submits_path, 'submit_2_baseline.csv'))"
   ]
  },
  {
   "cell_type": "markdown",
   "metadata": {},
   "source": [
    "RMSE = 2681637.1405"
   ]
  },
  {
   "cell_type": "markdown",
   "metadata": {},
   "source": [
    "Попробуем сделать предсказание на n фолдах"
   ]
  },
  {
   "cell_type": "code",
   "execution_count": 210,
   "metadata": {
    "ExecuteTime": {
     "end_time": "2021-03-11T18:39:22.374962Z",
     "start_time": "2021-03-11T18:39:22.349965Z"
    }
   },
   "outputs": [],
   "source": [
    "X = df_whole_train.drop(columns=['id', 'timestamp', 'price'])\n",
    "X_test = df_whole_test.drop(columns=['id', 'timestamp'])\n",
    "y = df_whole_train.loc[:, 'price']"
   ]
  },
  {
   "cell_type": "code",
   "execution_count": 211,
   "metadata": {
    "ExecuteTime": {
     "end_time": "2021-03-11T18:39:28.505966Z",
     "start_time": "2021-03-11T18:39:22.661268Z"
    }
   },
   "outputs": [
    {
     "name": "stdout",
     "output_type": "stream",
     "text": [
      "[100]\tcv_agg's train rmse: 2.16705e+06 + 32906.1\tcv_agg's valid rmse: 2.86231e+06 + 171399\n",
      "[200]\tcv_agg's train rmse: 1.9141e+06 + 34111\tcv_agg's valid rmse: 2.85598e+06 + 173090\n",
      "[300]\tcv_agg's train rmse: 1.72991e+06 + 36183.2\tcv_agg's valid rmse: 2.85729e+06 + 172239\n"
     ]
    }
   ],
   "source": [
    "lgb_train = Dataset(X, y)\n",
    "lgb_cv_res = cv(\n",
    "    params={\n",
    "        'objective': 'regression',\n",
    "        'metric': 'rmse',\n",
    "        'verbosity': -1,\n",
    "        'seed': seed,\n",
    "    },\n",
    "    train_set=lgb_train,\n",
    "    num_boost_round=100_000,\n",
    "    stratified=False,\n",
    "    early_stopping_rounds=100,\n",
    "    verbose_eval=100,\n",
    "    eval_train_metric=True,\n",
    "    return_cvbooster=True,\n",
    ")"
   ]
  },
  {
   "cell_type": "code",
   "execution_count": 212,
   "metadata": {
    "ExecuteTime": {
     "end_time": "2021-03-11T18:39:28.623679Z",
     "start_time": "2021-03-11T18:39:28.508592Z"
    }
   },
   "outputs": [],
   "source": [
    "df_submit_2 = pd.DataFrame(index=df_whole_test.index)\n",
    "df_submit_2['id'] = df_whole_test['id']\n",
    "df_submit_2['predicted_price'] = np.mean([b.predict(X_test) for b in lgb_cv_res['cvbooster'].boosters], axis=0)\n",
    "df_submit_2.to_csv(path_.join(submits_path, 'submit_2_cv_mean.csv'))"
   ]
  },
  {
   "cell_type": "markdown",
   "metadata": {},
   "source": [
    "RMSE = 2479036.0655"
   ]
  },
  {
   "cell_type": "markdown",
   "metadata": {
    "ExecuteTime": {
     "end_time": "2021-03-10T18:19:24.100726Z",
     "start_time": "2021-03-10T18:19:24.090728Z"
    }
   },
   "source": [
    "Смотрим на важность признаков"
   ]
  },
  {
   "cell_type": "code",
   "execution_count": 213,
   "metadata": {
    "ExecuteTime": {
     "end_time": "2021-03-11T18:39:38.330508Z",
     "start_time": "2021-03-11T18:39:37.825628Z"
    }
   },
   "outputs": [
    {
     "data": {
      "text/plain": [
       "<matplotlib.axes._subplots.AxesSubplot at 0x7fe86c362588>"
      ]
     },
     "execution_count": 213,
     "metadata": {},
     "output_type": "execute_result"
    },
    {
     "data": {
      "image/png": "[encoded data removed]",
      "text/plain": [
       "<Figure size 432x720 with 1 Axes>"
      ]
     },
     "metadata": {
      "needs_background": "light"
     },
     "output_type": "display_data"
    }
   ],
   "source": [
    "plot_importance(lgb_cv_res['cvbooster'].boosters[0], figsize=(6, 10))"
   ]
  },
  {
   "cell_type": "markdown",
   "metadata": {},
   "source": [
    "Фича full_sq доминирует. Посмотрим на нее"
   ]
  },
  {
   "cell_type": "code",
   "execution_count": 214,
   "metadata": {
    "ExecuteTime": {
     "end_time": "2021-03-11T18:39:41.278037Z",
     "start_time": "2021-03-11T18:39:41.259944Z"
    }
   },
   "outputs": [
    {
     "data": {
      "text/plain": [
       "count    29000.000000\n",
       "mean        55.235345\n",
       "std         38.781299\n",
       "min          0.000000\n",
       "25%         40.000000\n",
       "50%         50.000000\n",
       "75%         64.000000\n",
       "max       5329.000000\n",
       "Name: full_sq, dtype: float64"
      ]
     },
     "execution_count": 214,
     "metadata": {},
     "output_type": "execute_result"
    }
   ],
   "source": [
    "df_whole_train['full_sq'].describe()"
   ]
  },
  {
   "cell_type": "code",
   "execution_count": 215,
   "metadata": {
    "ExecuteTime": {
     "end_time": "2021-03-11T18:39:41.991089Z",
     "start_time": "2021-03-11T18:39:41.976607Z"
    }
   },
   "outputs": [
    {
     "data": {
      "text/plain": [
       "count    1000.000000\n",
       "mean       54.196000\n",
       "std        18.820728\n",
       "min         2.000000\n",
       "25%        39.000000\n",
       "50%        50.500000\n",
       "75%        65.000000\n",
       "max       151.000000\n",
       "Name: full_sq, dtype: float64"
      ]
     },
     "execution_count": 215,
     "metadata": {},
     "output_type": "execute_result"
    }
   ],
   "source": [
    "df_whole_test['full_sq'].describe()"
   ]
  },
  {
   "cell_type": "markdown",
   "metadata": {},
   "source": [
    "Посмотрим на топ минимальных значений"
   ]
  },
  {
   "cell_type": "code",
   "execution_count": 216,
   "metadata": {
    "ExecuteTime": {
     "end_time": "2021-03-11T18:39:43.085280Z",
     "start_time": "2021-03-11T18:39:43.076044Z"
    }
   },
   "outputs": [
    {
     "data": {
      "text/plain": [
       "array([ 0,  1,  2,  3,  4,  8, 10, 12, 13, 14, 15, 16, 17, 18, 19, 20, 21,\n",
       "       22, 23, 24])"
      ]
     },
     "execution_count": 216,
     "metadata": {},
     "output_type": "execute_result"
    }
   ],
   "source": [
    "np.sort(df_whole_train['full_sq'].unique())[:20]"
   ]
  },
  {
   "cell_type": "markdown",
   "metadata": {},
   "source": [
    "Посмотрим на эти квартиры"
   ]
  },
  {
   "cell_type": "code",
   "execution_count": 217,
   "metadata": {
    "ExecuteTime": {
     "end_time": "2021-03-11T18:39:44.198558Z",
     "start_time": "2021-03-11T18:39:44.152395Z"
    },
    "scrolled": true
   },
   "outputs": [
    {
     "data": {
      "text/html": [
       "<div>\n",
       "<style scoped>\n",
       "    .dataframe tbody tr th:only-of-type {\n",
       "        vertical-align: middle;\n",
       "    }\n",
       "\n",
       "    .dataframe tbody tr th {\n",
       "        vertical-align: top;\n",
       "    }\n",
       "\n",
       "    .dataframe thead th {\n",
       "        text-align: right;\n",
       "    }\n",
       "</style>\n",
       "<table border=\"1\" class=\"dataframe\">\n",
       "  <thead>\n",
       "    <tr style=\"text-align: right;\">\n",
       "      <th></th>\n",
       "      <th>id</th>\n",
       "      <th>timestamp</th>\n",
       "      <th>full_sq</th>\n",
       "      <th>life_sq</th>\n",
       "      <th>floor</th>\n",
       "      <th>max_floor</th>\n",
       "      <th>material</th>\n",
       "      <th>build_year</th>\n",
       "      <th>num_room</th>\n",
       "      <th>kitch_sq</th>\n",
       "      <th>apartment_condition</th>\n",
       "      <th>sub_area</th>\n",
       "      <th>price</th>\n",
       "    </tr>\n",
       "  </thead>\n",
       "  <tbody>\n",
       "    <tr>\n",
       "      <th>72</th>\n",
       "      <td>63720</td>\n",
       "      <td>2014-09-17</td>\n",
       "      <td>4</td>\n",
       "      <td>1.0</td>\n",
       "      <td>1.0</td>\n",
       "      <td>1.0</td>\n",
       "      <td>1.0</td>\n",
       "      <td>1.0</td>\n",
       "      <td>1.0</td>\n",
       "      <td>1.0</td>\n",
       "      <td>1.0</td>\n",
       "      <td>103</td>\n",
       "      <td>6487600.0</td>\n",
       "    </tr>\n",
       "    <tr>\n",
       "      <th>2000</th>\n",
       "      <td>14771</td>\n",
       "      <td>2014-12-09</td>\n",
       "      <td>2</td>\n",
       "      <td>1.0</td>\n",
       "      <td>19.0</td>\n",
       "      <td>4.0</td>\n",
       "      <td>1.0</td>\n",
       "      <td>1.0</td>\n",
       "      <td>1.0</td>\n",
       "      <td>1.0</td>\n",
       "      <td>1.0</td>\n",
       "      <td>65</td>\n",
       "      <td>17582500.0</td>\n",
       "    </tr>\n",
       "    <tr>\n",
       "      <th>3095</th>\n",
       "      <td>16489</td>\n",
       "      <td>2014-06-13</td>\n",
       "      <td>1</td>\n",
       "      <td>1.0</td>\n",
       "      <td>1.0</td>\n",
       "      <td>1.0</td>\n",
       "      <td>1.0</td>\n",
       "      <td>1.0</td>\n",
       "      <td>1.0</td>\n",
       "      <td>1.0</td>\n",
       "      <td>3.0</td>\n",
       "      <td>134</td>\n",
       "      <td>6715700.0</td>\n",
       "    </tr>\n",
       "    <tr>\n",
       "      <th>4150</th>\n",
       "      <td>45451</td>\n",
       "      <td>2014-10-01</td>\n",
       "      <td>4</td>\n",
       "      <td>1.0</td>\n",
       "      <td>7.0</td>\n",
       "      <td>19.0</td>\n",
       "      <td>1.0</td>\n",
       "      <td>2015.0</td>\n",
       "      <td>3.0</td>\n",
       "      <td>1.0</td>\n",
       "      <td>1.0</td>\n",
       "      <td>101</td>\n",
       "      <td>6145300.0</td>\n",
       "    </tr>\n",
       "    <tr>\n",
       "      <th>5142</th>\n",
       "      <td>42761</td>\n",
       "      <td>2014-10-28</td>\n",
       "      <td>2</td>\n",
       "      <td>1.0</td>\n",
       "      <td>1.0</td>\n",
       "      <td>1.0</td>\n",
       "      <td>1.0</td>\n",
       "      <td>1.0</td>\n",
       "      <td>1.0</td>\n",
       "      <td>1.0</td>\n",
       "      <td>1.0</td>\n",
       "      <td>72</td>\n",
       "      <td>4891200.0</td>\n",
       "    </tr>\n",
       "    <tr>\n",
       "      <th>6097</th>\n",
       "      <td>69823</td>\n",
       "      <td>2015-01-12</td>\n",
       "      <td>1</td>\n",
       "      <td>1.0</td>\n",
       "      <td>1.0</td>\n",
       "      <td>1.0</td>\n",
       "      <td>1.0</td>\n",
       "      <td>1.0</td>\n",
       "      <td>1.0</td>\n",
       "      <td>1.0</td>\n",
       "      <td>1.0</td>\n",
       "      <td>71</td>\n",
       "      <td>16529100.0</td>\n",
       "    </tr>\n",
       "    <tr>\n",
       "      <th>6794</th>\n",
       "      <td>81622</td>\n",
       "      <td>2014-12-22</td>\n",
       "      <td>1</td>\n",
       "      <td>64.0</td>\n",
       "      <td>22.0</td>\n",
       "      <td>22.0</td>\n",
       "      <td>1.0</td>\n",
       "      <td>NaN</td>\n",
       "      <td>2.0</td>\n",
       "      <td>1.0</td>\n",
       "      <td>1.0</td>\n",
       "      <td>18</td>\n",
       "      <td>15440100.0</td>\n",
       "    </tr>\n",
       "    <tr>\n",
       "      <th>8028</th>\n",
       "      <td>55095</td>\n",
       "      <td>2014-05-02</td>\n",
       "      <td>1</td>\n",
       "      <td>1.0</td>\n",
       "      <td>1.0</td>\n",
       "      <td>1.0</td>\n",
       "      <td>4.0</td>\n",
       "      <td>1.0</td>\n",
       "      <td>1.0</td>\n",
       "      <td>1.0</td>\n",
       "      <td>3.0</td>\n",
       "      <td>105</td>\n",
       "      <td>8688600.0</td>\n",
       "    </tr>\n",
       "    <tr>\n",
       "      <th>8640</th>\n",
       "      <td>58538</td>\n",
       "      <td>2014-10-07</td>\n",
       "      <td>3</td>\n",
       "      <td>1.0</td>\n",
       "      <td>1.0</td>\n",
       "      <td>1.0</td>\n",
       "      <td>1.0</td>\n",
       "      <td>NaN</td>\n",
       "      <td>1.0</td>\n",
       "      <td>1.0</td>\n",
       "      <td>1.0</td>\n",
       "      <td>30</td>\n",
       "      <td>27668000.0</td>\n",
       "    </tr>\n",
       "    <tr>\n",
       "      <th>9664</th>\n",
       "      <td>47907</td>\n",
       "      <td>2014-06-01</td>\n",
       "      <td>0</td>\n",
       "      <td>0.0</td>\n",
       "      <td>0.0</td>\n",
       "      <td>0.0</td>\n",
       "      <td>1.0</td>\n",
       "      <td>0.0</td>\n",
       "      <td>0.0</td>\n",
       "      <td>0.0</td>\n",
       "      <td>1.0</td>\n",
       "      <td>105</td>\n",
       "      <td>4531200.0</td>\n",
       "    </tr>\n",
       "    <tr>\n",
       "      <th>11004</th>\n",
       "      <td>48383</td>\n",
       "      <td>2014-10-22</td>\n",
       "      <td>2</td>\n",
       "      <td>1.0</td>\n",
       "      <td>1.0</td>\n",
       "      <td>1.0</td>\n",
       "      <td>1.0</td>\n",
       "      <td>2015.0</td>\n",
       "      <td>1.0</td>\n",
       "      <td>1.0</td>\n",
       "      <td>1.0</td>\n",
       "      <td>72</td>\n",
       "      <td>4830000.0</td>\n",
       "    </tr>\n",
       "    <tr>\n",
       "      <th>11571</th>\n",
       "      <td>95272</td>\n",
       "      <td>2014-10-19</td>\n",
       "      <td>4</td>\n",
       "      <td>1.0</td>\n",
       "      <td>1.0</td>\n",
       "      <td>1.0</td>\n",
       "      <td>1.0</td>\n",
       "      <td>1.0</td>\n",
       "      <td>1.0</td>\n",
       "      <td>1.0</td>\n",
       "      <td>1.0</td>\n",
       "      <td>71</td>\n",
       "      <td>12177700.0</td>\n",
       "    </tr>\n",
       "    <tr>\n",
       "      <th>12739</th>\n",
       "      <td>99200</td>\n",
       "      <td>2015-01-10</td>\n",
       "      <td>2</td>\n",
       "      <td>1.0</td>\n",
       "      <td>1.0</td>\n",
       "      <td>1.0</td>\n",
       "      <td>1.0</td>\n",
       "      <td>1.0</td>\n",
       "      <td>1.0</td>\n",
       "      <td>1.0</td>\n",
       "      <td>1.0</td>\n",
       "      <td>71</td>\n",
       "      <td>10531400.0</td>\n",
       "    </tr>\n",
       "    <tr>\n",
       "      <th>13972</th>\n",
       "      <td>27404</td>\n",
       "      <td>2014-04-17</td>\n",
       "      <td>1</td>\n",
       "      <td>1.0</td>\n",
       "      <td>1.0</td>\n",
       "      <td>1.0</td>\n",
       "      <td>4.0</td>\n",
       "      <td>1.0</td>\n",
       "      <td>1.0</td>\n",
       "      <td>1.0</td>\n",
       "      <td>3.0</td>\n",
       "      <td>105</td>\n",
       "      <td>4470700.0</td>\n",
       "    </tr>\n",
       "    <tr>\n",
       "      <th>16114</th>\n",
       "      <td>96340</td>\n",
       "      <td>2014-12-31</td>\n",
       "      <td>1</td>\n",
       "      <td>1.0</td>\n",
       "      <td>1.0</td>\n",
       "      <td>17.0</td>\n",
       "      <td>1.0</td>\n",
       "      <td>1.0</td>\n",
       "      <td>1.0</td>\n",
       "      <td>1.0</td>\n",
       "      <td>1.0</td>\n",
       "      <td>86</td>\n",
       "      <td>4823500.0</td>\n",
       "    </tr>\n",
       "    <tr>\n",
       "      <th>16665</th>\n",
       "      <td>19747</td>\n",
       "      <td>2014-10-10</td>\n",
       "      <td>1</td>\n",
       "      <td>1.0</td>\n",
       "      <td>1.0</td>\n",
       "      <td>25.0</td>\n",
       "      <td>1.0</td>\n",
       "      <td>2014.0</td>\n",
       "      <td>1.0</td>\n",
       "      <td>1.0</td>\n",
       "      <td>1.0</td>\n",
       "      <td>72</td>\n",
       "      <td>4839500.0</td>\n",
       "    </tr>\n",
       "    <tr>\n",
       "      <th>17389</th>\n",
       "      <td>13640</td>\n",
       "      <td>2014-09-29</td>\n",
       "      <td>4</td>\n",
       "      <td>47.0</td>\n",
       "      <td>11.0</td>\n",
       "      <td>17.0</td>\n",
       "      <td>1.0</td>\n",
       "      <td>2014.0</td>\n",
       "      <td>1.0</td>\n",
       "      <td>1.0</td>\n",
       "      <td>1.0</td>\n",
       "      <td>107</td>\n",
       "      <td>16549800.0</td>\n",
       "    </tr>\n",
       "    <tr>\n",
       "      <th>18095</th>\n",
       "      <td>77892</td>\n",
       "      <td>2015-01-08</td>\n",
       "      <td>1</td>\n",
       "      <td>60.0</td>\n",
       "      <td>17.0</td>\n",
       "      <td>17.0</td>\n",
       "      <td>1.0</td>\n",
       "      <td>2014.0</td>\n",
       "      <td>2.0</td>\n",
       "      <td>1.0</td>\n",
       "      <td>1.0</td>\n",
       "      <td>72</td>\n",
       "      <td>6211200.0</td>\n",
       "    </tr>\n",
       "    <tr>\n",
       "      <th>20582</th>\n",
       "      <td>72930</td>\n",
       "      <td>2014-10-17</td>\n",
       "      <td>3</td>\n",
       "      <td>1.0</td>\n",
       "      <td>1.0</td>\n",
       "      <td>1.0</td>\n",
       "      <td>1.0</td>\n",
       "      <td>1.0</td>\n",
       "      <td>1.0</td>\n",
       "      <td>1.0</td>\n",
       "      <td>1.0</td>\n",
       "      <td>70</td>\n",
       "      <td>14743700.0</td>\n",
       "    </tr>\n",
       "    <tr>\n",
       "      <th>21948</th>\n",
       "      <td>31556</td>\n",
       "      <td>2014-04-12</td>\n",
       "      <td>2</td>\n",
       "      <td>1.0</td>\n",
       "      <td>1.0</td>\n",
       "      <td>1.0</td>\n",
       "      <td>1.0</td>\n",
       "      <td>1.0</td>\n",
       "      <td>1.0</td>\n",
       "      <td>1.0</td>\n",
       "      <td>1.0</td>\n",
       "      <td>85</td>\n",
       "      <td>13497100.0</td>\n",
       "    </tr>\n",
       "    <tr>\n",
       "      <th>24104</th>\n",
       "      <td>13185</td>\n",
       "      <td>2014-11-18</td>\n",
       "      <td>2</td>\n",
       "      <td>1.0</td>\n",
       "      <td>1.0</td>\n",
       "      <td>1.0</td>\n",
       "      <td>1.0</td>\n",
       "      <td>1.0</td>\n",
       "      <td>1.0</td>\n",
       "      <td>1.0</td>\n",
       "      <td>1.0</td>\n",
       "      <td>105</td>\n",
       "      <td>5325500.0</td>\n",
       "    </tr>\n",
       "    <tr>\n",
       "      <th>24283</th>\n",
       "      <td>68457</td>\n",
       "      <td>2015-01-03</td>\n",
       "      <td>2</td>\n",
       "      <td>1.0</td>\n",
       "      <td>17.0</td>\n",
       "      <td>1.0</td>\n",
       "      <td>1.0</td>\n",
       "      <td>1.0</td>\n",
       "      <td>1.0</td>\n",
       "      <td>1.0</td>\n",
       "      <td>1.0</td>\n",
       "      <td>86</td>\n",
       "      <td>3767200.0</td>\n",
       "    </tr>\n",
       "    <tr>\n",
       "      <th>25390</th>\n",
       "      <td>86720</td>\n",
       "      <td>2014-11-23</td>\n",
       "      <td>0</td>\n",
       "      <td>77.0</td>\n",
       "      <td>4.0</td>\n",
       "      <td>17.0</td>\n",
       "      <td>1.0</td>\n",
       "      <td>0.0</td>\n",
       "      <td>3.0</td>\n",
       "      <td>0.0</td>\n",
       "      <td>1.0</td>\n",
       "      <td>103</td>\n",
       "      <td>8396100.0</td>\n",
       "    </tr>\n",
       "    <tr>\n",
       "      <th>25548</th>\n",
       "      <td>92091</td>\n",
       "      <td>2013-11-06</td>\n",
       "      <td>1</td>\n",
       "      <td>40.0</td>\n",
       "      <td>10.0</td>\n",
       "      <td>17.0</td>\n",
       "      <td>1.0</td>\n",
       "      <td>2013.0</td>\n",
       "      <td>1.0</td>\n",
       "      <td>1.0</td>\n",
       "      <td>1.0</td>\n",
       "      <td>101</td>\n",
       "      <td>3565900.0</td>\n",
       "    </tr>\n",
       "    <tr>\n",
       "      <th>28922</th>\n",
       "      <td>25157</td>\n",
       "      <td>2015-01-11</td>\n",
       "      <td>1</td>\n",
       "      <td>1.0</td>\n",
       "      <td>1.0</td>\n",
       "      <td>1.0</td>\n",
       "      <td>1.0</td>\n",
       "      <td>1.0</td>\n",
       "      <td>1.0</td>\n",
       "      <td>1.0</td>\n",
       "      <td>1.0</td>\n",
       "      <td>94</td>\n",
       "      <td>5488600.0</td>\n",
       "    </tr>\n",
       "  </tbody>\n",
       "</table>\n",
       "</div>"
      ],
      "text/plain": [
       "          id   timestamp  full_sq  life_sq  floor  max_floor  material  \\\n",
       "72     63720  2014-09-17        4      1.0    1.0        1.0       1.0   \n",
       "2000   14771  2014-12-09        2      1.0   19.0        4.0       1.0   \n",
       "3095   16489  2014-06-13        1      1.0    1.0        1.0       1.0   \n",
       "4150   45451  2014-10-01        4      1.0    7.0       19.0       1.0   \n",
       "5142   42761  2014-10-28        2      1.0    1.0        1.0       1.0   \n",
       "6097   69823  2015-01-12        1      1.0    1.0        1.0       1.0   \n",
       "6794   81622  2014-12-22        1     64.0   22.0       22.0       1.0   \n",
       "8028   55095  2014-05-02        1      1.0    1.0        1.0       4.0   \n",
       "8640   58538  2014-10-07        3      1.0    1.0        1.0       1.0   \n",
       "9664   47907  2014-06-01        0      0.0    0.0        0.0       1.0   \n",
       "11004  48383  2014-10-22        2      1.0    1.0        1.0       1.0   \n",
       "11571  95272  2014-10-19        4      1.0    1.0        1.0       1.0   \n",
       "12739  99200  2015-01-10        2      1.0    1.0        1.0       1.0   \n",
       "13972  27404  2014-04-17        1      1.0    1.0        1.0       4.0   \n",
       "16114  96340  2014-12-31        1      1.0    1.0       17.0       1.0   \n",
       "16665  19747  2014-10-10        1      1.0    1.0       25.0       1.0   \n",
       "17389  13640  2014-09-29        4     47.0   11.0       17.0       1.0   \n",
       "18095  77892  2015-01-08        1     60.0   17.0       17.0       1.0   \n",
       "20582  72930  2014-10-17        3      1.0    1.0        1.0       1.0   \n",
       "21948  31556  2014-04-12        2      1.0    1.0        1.0       1.0   \n",
       "24104  13185  2014-11-18        2      1.0    1.0        1.0       1.0   \n",
       "24283  68457  2015-01-03        2      1.0   17.0        1.0       1.0   \n",
       "25390  86720  2014-11-23        0     77.0    4.0       17.0       1.0   \n",
       "25548  92091  2013-11-06        1     40.0   10.0       17.0       1.0   \n",
       "28922  25157  2015-01-11        1      1.0    1.0        1.0       1.0   \n",
       "\n",
       "       build_year  num_room  kitch_sq  apartment_condition  sub_area  \\\n",
       "72            1.0       1.0       1.0                  1.0       103   \n",
       "2000          1.0       1.0       1.0                  1.0        65   \n",
       "3095          1.0       1.0       1.0                  3.0       134   \n",
       "4150       2015.0       3.0       1.0                  1.0       101   \n",
       "5142          1.0       1.0       1.0                  1.0        72   \n",
       "6097          1.0       1.0       1.0                  1.0        71   \n",
       "6794          NaN       2.0       1.0                  1.0        18   \n",
       "8028          1.0       1.0       1.0                  3.0       105   \n",
       "8640          NaN       1.0       1.0                  1.0        30   \n",
       "9664          0.0       0.0       0.0                  1.0       105   \n",
       "11004      2015.0       1.0       1.0                  1.0        72   \n",
       "11571         1.0       1.0       1.0                  1.0        71   \n",
       "12739         1.0       1.0       1.0                  1.0        71   \n",
       "13972         1.0       1.0       1.0                  3.0       105   \n",
       "16114         1.0       1.0       1.0                  1.0        86   \n",
       "16665      2014.0       1.0       1.0                  1.0        72   \n",
       "17389      2014.0       1.0       1.0                  1.0       107   \n",
       "18095      2014.0       2.0       1.0                  1.0        72   \n",
       "20582         1.0       1.0       1.0                  1.0        70   \n",
       "21948         1.0       1.0       1.0                  1.0        85   \n",
       "24104         1.0       1.0       1.0                  1.0       105   \n",
       "24283         1.0       1.0       1.0                  1.0        86   \n",
       "25390         0.0       3.0       0.0                  1.0       103   \n",
       "25548      2013.0       1.0       1.0                  1.0       101   \n",
       "28922         1.0       1.0       1.0                  1.0        94   \n",
       "\n",
       "            price  \n",
       "72      6487600.0  \n",
       "2000   17582500.0  \n",
       "3095    6715700.0  \n",
       "4150    6145300.0  \n",
       "5142    4891200.0  \n",
       "6097   16529100.0  \n",
       "6794   15440100.0  \n",
       "8028    8688600.0  \n",
       "8640   27668000.0  \n",
       "9664    4531200.0  \n",
       "11004   4830000.0  \n",
       "11571  12177700.0  \n",
       "12739  10531400.0  \n",
       "13972   4470700.0  \n",
       "16114   4823500.0  \n",
       "16665   4839500.0  \n",
       "17389  16549800.0  \n",
       "18095   6211200.0  \n",
       "20582  14743700.0  \n",
       "21948  13497100.0  \n",
       "24104   5325500.0  \n",
       "24283   3767200.0  \n",
       "25390   8396100.0  \n",
       "25548   3565900.0  \n",
       "28922   5488600.0  "
      ]
     },
     "execution_count": 217,
     "metadata": {},
     "output_type": "execute_result"
    }
   ],
   "source": [
    "df_whole_train[df_whole_train['full_sq'] < 8][df_whole_train.columns[:13]]"
   ]
  },
  {
   "cell_type": "code",
   "execution_count": 218,
   "metadata": {
    "ExecuteTime": {
     "end_time": "2021-03-11T18:39:44.639940Z",
     "start_time": "2021-03-11T18:39:44.618194Z"
    },
    "scrolled": true
   },
   "outputs": [
    {
     "data": {
      "text/html": [
       "<div>\n",
       "<style scoped>\n",
       "    .dataframe tbody tr th:only-of-type {\n",
       "        vertical-align: middle;\n",
       "    }\n",
       "\n",
       "    .dataframe tbody tr th {\n",
       "        vertical-align: top;\n",
       "    }\n",
       "\n",
       "    .dataframe thead th {\n",
       "        text-align: right;\n",
       "    }\n",
       "</style>\n",
       "<table border=\"1\" class=\"dataframe\">\n",
       "  <thead>\n",
       "    <tr style=\"text-align: right;\">\n",
       "      <th></th>\n",
       "      <th>id</th>\n",
       "      <th>timestamp</th>\n",
       "      <th>full_sq</th>\n",
       "      <th>life_sq</th>\n",
       "      <th>floor</th>\n",
       "      <th>max_floor</th>\n",
       "      <th>material</th>\n",
       "      <th>build_year</th>\n",
       "      <th>num_room</th>\n",
       "      <th>kitch_sq</th>\n",
       "      <th>apartment_condition</th>\n",
       "      <th>sub_area</th>\n",
       "    </tr>\n",
       "  </thead>\n",
       "  <tbody>\n",
       "    <tr>\n",
       "      <th>997</th>\n",
       "      <td>11218</td>\n",
       "      <td>2014-12-18</td>\n",
       "      <td>2</td>\n",
       "      <td>1.0</td>\n",
       "      <td>26.0</td>\n",
       "      <td>1.0</td>\n",
       "      <td>1.0</td>\n",
       "      <td>1.0</td>\n",
       "      <td>1.0</td>\n",
       "      <td>1.0</td>\n",
       "      <td>1.0</td>\n",
       "      <td>54</td>\n",
       "    </tr>\n",
       "  </tbody>\n",
       "</table>\n",
       "</div>"
      ],
      "text/plain": [
       "        id   timestamp  full_sq  life_sq  floor  max_floor  material  \\\n",
       "997  11218  2014-12-18        2      1.0   26.0        1.0       1.0   \n",
       "\n",
       "     build_year  num_room  kitch_sq  apartment_condition  sub_area  \n",
       "997         1.0       1.0       1.0                  1.0        54  "
      ]
     },
     "execution_count": 218,
     "metadata": {},
     "output_type": "execute_result"
    }
   ],
   "source": [
    "df_whole_test[df_whole_test['full_sq'] < 8][df_whole_test.columns[:12]]"
   ]
  },
  {
   "cell_type": "markdown",
   "metadata": {},
   "source": [
    "Видно что среди минимальных значений присутствуют квартиры с площадью 0 и 1, что невозможно. Удалим их"
   ]
  },
  {
   "cell_type": "code",
   "execution_count": 219,
   "metadata": {
    "ExecuteTime": {
     "end_time": "2021-03-11T18:39:45.815394Z",
     "start_time": "2021-03-11T18:39:45.790424Z"
    }
   },
   "outputs": [],
   "source": [
    "X = df_whole_train.drop(columns=['id', 'timestamp', 'price'])\n",
    "X_test = df_whole_test.drop(columns=['id', 'timestamp'])\n",
    "y = df_whole_train.loc[:, 'price']"
   ]
  },
  {
   "cell_type": "code",
   "execution_count": 220,
   "metadata": {
    "ExecuteTime": {
     "end_time": "2021-03-11T18:39:47.136768Z",
     "start_time": "2021-03-11T18:39:47.119758Z"
    }
   },
   "outputs": [],
   "source": [
    "mask = X['full_sq'] > 1\n",
    "X = X.loc[mask, :]\n",
    "y = y[mask]"
   ]
  },
  {
   "cell_type": "code",
   "execution_count": 221,
   "metadata": {
    "ExecuteTime": {
     "end_time": "2021-03-11T18:39:53.326982Z",
     "start_time": "2021-03-11T18:39:49.050853Z"
    }
   },
   "outputs": [
    {
     "name": "stdout",
     "output_type": "stream",
     "text": [
      "[100]\tcv_agg's train rmse: 2.16103e+06 + 39864.1\tcv_agg's valid rmse: 2.85988e+06 + 220067\n",
      "[200]\tcv_agg's train rmse: 1.90572e+06 + 30557.6\tcv_agg's valid rmse: 2.84952e+06 + 219669\n"
     ]
    }
   ],
   "source": [
    "lgb_train = Dataset(X, y)\n",
    "lgb_cv_res = cv(\n",
    "    params={\n",
    "        'objective': 'regression',\n",
    "        'metric': 'rmse',\n",
    "        'verbosity': -1,\n",
    "        'seed': seed,\n",
    "    },\n",
    "    train_set=lgb_train,\n",
    "    num_boost_round=100_000,\n",
    "    stratified=False,\n",
    "    early_stopping_rounds=100,\n",
    "    verbose_eval=100,\n",
    "    eval_train_metric=True,\n",
    "    return_cvbooster=True,\n",
    ")"
   ]
  },
  {
   "cell_type": "code",
   "execution_count": 222,
   "metadata": {
    "ExecuteTime": {
     "end_time": "2021-03-11T18:39:59.092197Z",
     "start_time": "2021-03-11T18:39:58.978256Z"
    }
   },
   "outputs": [],
   "source": [
    "df_submit_2 = pd.DataFrame(index=df_whole_test.index)\n",
    "df_submit_2['id'] = df_whole_test['id']\n",
    "df_submit_2['predicted_price'] = np.mean([b.predict(X_test) for b in lgb_cv_res['cvbooster'].boosters], axis=0)\n",
    "df_submit_2.to_csv(path_.join(submits_path, 'submit_2_full_sq_remove_0_1.csv'))"
   ]
  },
  {
   "cell_type": "markdown",
   "metadata": {
    "ExecuteTime": {
     "end_time": "2021-03-11T18:21:07.285377Z",
     "start_time": "2021-03-11T18:21:07.280290Z"
    }
   },
   "source": [
    "RMSE = 2472479.0758"
   ]
  },
  {
   "cell_type": "code",
   "execution_count": 223,
   "metadata": {
    "ExecuteTime": {
     "end_time": "2021-03-11T18:40:39.990793Z",
     "start_time": "2021-03-11T18:40:39.973583Z"
    }
   },
   "outputs": [
    {
     "data": {
      "text/plain": [
       "(28988, 32)"
      ]
     },
     "execution_count": 223,
     "metadata": {},
     "output_type": "execute_result"
    }
   ],
   "source": [
    "df_whole_train = df_whole_train.loc[df_whole_train['full_sq'] > 1, :]\n",
    "df_whole_train.shape"
   ]
  },
  {
   "cell_type": "markdown",
   "metadata": {},
   "source": [
    "Посмотрим на топ максимальных значений"
   ]
  },
  {
   "cell_type": "code",
   "execution_count": 224,
   "metadata": {
    "ExecuteTime": {
     "end_time": "2021-03-11T18:40:44.170691Z",
     "start_time": "2021-03-11T18:40:44.160235Z"
    }
   },
   "outputs": [
    {
     "data": {
      "text/plain": [
       "array([ 218,  219,  222,  226,  276,  291,  303,  326,  355,  391,  394,\n",
       "        409,  413,  462,  604,  635,  636,  639,  731, 5329])"
      ]
     },
     "execution_count": 224,
     "metadata": {},
     "output_type": "execute_result"
    }
   ],
   "source": [
    "np.sort(df_whole_train['full_sq'].unique())[-20:]"
   ]
  },
  {
   "cell_type": "code",
   "execution_count": 225,
   "metadata": {
    "ExecuteTime": {
     "end_time": "2021-03-11T18:40:45.159458Z",
     "start_time": "2021-03-11T18:40:45.133487Z"
    },
    "scrolled": true
   },
   "outputs": [
    {
     "data": {
      "text/html": [
       "<div>\n",
       "<style scoped>\n",
       "    .dataframe tbody tr th:only-of-type {\n",
       "        vertical-align: middle;\n",
       "    }\n",
       "\n",
       "    .dataframe tbody tr th {\n",
       "        vertical-align: top;\n",
       "    }\n",
       "\n",
       "    .dataframe thead th {\n",
       "        text-align: right;\n",
       "    }\n",
       "</style>\n",
       "<table border=\"1\" class=\"dataframe\">\n",
       "  <thead>\n",
       "    <tr style=\"text-align: right;\">\n",
       "      <th></th>\n",
       "      <th>id</th>\n",
       "      <th>timestamp</th>\n",
       "      <th>full_sq</th>\n",
       "      <th>life_sq</th>\n",
       "      <th>floor</th>\n",
       "      <th>max_floor</th>\n",
       "      <th>material</th>\n",
       "      <th>build_year</th>\n",
       "      <th>num_room</th>\n",
       "      <th>kitch_sq</th>\n",
       "      <th>apartment_condition</th>\n",
       "      <th>sub_area</th>\n",
       "      <th>price</th>\n",
       "    </tr>\n",
       "  </thead>\n",
       "  <tbody>\n",
       "    <tr>\n",
       "      <th>2750</th>\n",
       "      <td>91769</td>\n",
       "      <td>2014-11-07</td>\n",
       "      <td>604</td>\n",
       "      <td>NaN</td>\n",
       "      <td>16.0</td>\n",
       "      <td>18.0</td>\n",
       "      <td>1.0</td>\n",
       "      <td>NaN</td>\n",
       "      <td>2.0</td>\n",
       "      <td>1.0</td>\n",
       "      <td>NaN</td>\n",
       "      <td>48</td>\n",
       "      <td>6815800.0</td>\n",
       "    </tr>\n",
       "    <tr>\n",
       "      <th>5041</th>\n",
       "      <td>52414</td>\n",
       "      <td>2011-10-20</td>\n",
       "      <td>326</td>\n",
       "      <td>325.0</td>\n",
       "      <td>7.0</td>\n",
       "      <td>NaN</td>\n",
       "      <td>NaN</td>\n",
       "      <td>NaN</td>\n",
       "      <td>NaN</td>\n",
       "      <td>NaN</td>\n",
       "      <td>NaN</td>\n",
       "      <td>33</td>\n",
       "      <td>5285000.0</td>\n",
       "    </tr>\n",
       "    <tr>\n",
       "      <th>6172</th>\n",
       "      <td>32115</td>\n",
       "      <td>2014-10-20</td>\n",
       "      <td>639</td>\n",
       "      <td>637.0</td>\n",
       "      <td>18.0</td>\n",
       "      <td>19.0</td>\n",
       "      <td>4.0</td>\n",
       "      <td>2016.0</td>\n",
       "      <td>2.0</td>\n",
       "      <td>10.0</td>\n",
       "      <td>1.0</td>\n",
       "      <td>134</td>\n",
       "      <td>5150400.0</td>\n",
       "    </tr>\n",
       "    <tr>\n",
       "      <th>9283</th>\n",
       "      <td>49518</td>\n",
       "      <td>2013-02-12</td>\n",
       "      <td>636</td>\n",
       "      <td>38.0</td>\n",
       "      <td>3.0</td>\n",
       "      <td>NaN</td>\n",
       "      <td>NaN</td>\n",
       "      <td>NaN</td>\n",
       "      <td>NaN</td>\n",
       "      <td>NaN</td>\n",
       "      <td>NaN</td>\n",
       "      <td>55</td>\n",
       "      <td>11148600.0</td>\n",
       "    </tr>\n",
       "    <tr>\n",
       "      <th>9423</th>\n",
       "      <td>21211</td>\n",
       "      <td>2012-06-09</td>\n",
       "      <td>413</td>\n",
       "      <td>17.0</td>\n",
       "      <td>6.0</td>\n",
       "      <td>NaN</td>\n",
       "      <td>NaN</td>\n",
       "      <td>NaN</td>\n",
       "      <td>NaN</td>\n",
       "      <td>NaN</td>\n",
       "      <td>NaN</td>\n",
       "      <td>24</td>\n",
       "      <td>6251500.0</td>\n",
       "    </tr>\n",
       "    <tr>\n",
       "      <th>9507</th>\n",
       "      <td>47034</td>\n",
       "      <td>2014-06-14</td>\n",
       "      <td>276</td>\n",
       "      <td>232.0</td>\n",
       "      <td>11.0</td>\n",
       "      <td>37.0</td>\n",
       "      <td>6.0</td>\n",
       "      <td>2009.0</td>\n",
       "      <td>5.0</td>\n",
       "      <td>26.0</td>\n",
       "      <td>1.0</td>\n",
       "      <td>119</td>\n",
       "      <td>17192800.0</td>\n",
       "    </tr>\n",
       "    <tr>\n",
       "      <th>9561</th>\n",
       "      <td>11221</td>\n",
       "      <td>2012-04-01</td>\n",
       "      <td>355</td>\n",
       "      <td>20.0</td>\n",
       "      <td>5.0</td>\n",
       "      <td>NaN</td>\n",
       "      <td>NaN</td>\n",
       "      <td>NaN</td>\n",
       "      <td>NaN</td>\n",
       "      <td>NaN</td>\n",
       "      <td>NaN</td>\n",
       "      <td>124</td>\n",
       "      <td>5073000.0</td>\n",
       "    </tr>\n",
       "    <tr>\n",
       "      <th>12729</th>\n",
       "      <td>43686</td>\n",
       "      <td>2014-04-25</td>\n",
       "      <td>303</td>\n",
       "      <td>NaN</td>\n",
       "      <td>32.0</td>\n",
       "      <td>32.0</td>\n",
       "      <td>1.0</td>\n",
       "      <td>NaN</td>\n",
       "      <td>6.0</td>\n",
       "      <td>0.0</td>\n",
       "      <td>NaN</td>\n",
       "      <td>77</td>\n",
       "      <td>59417300.0</td>\n",
       "    </tr>\n",
       "    <tr>\n",
       "      <th>13473</th>\n",
       "      <td>41202</td>\n",
       "      <td>2014-05-15</td>\n",
       "      <td>635</td>\n",
       "      <td>NaN</td>\n",
       "      <td>3.0</td>\n",
       "      <td>17.0</td>\n",
       "      <td>1.0</td>\n",
       "      <td>NaN</td>\n",
       "      <td>2.0</td>\n",
       "      <td>0.0</td>\n",
       "      <td>NaN</td>\n",
       "      <td>72</td>\n",
       "      <td>6138600.0</td>\n",
       "    </tr>\n",
       "    <tr>\n",
       "      <th>13702</th>\n",
       "      <td>61536</td>\n",
       "      <td>2012-04-07</td>\n",
       "      <td>394</td>\n",
       "      <td>17.0</td>\n",
       "      <td>11.0</td>\n",
       "      <td>NaN</td>\n",
       "      <td>NaN</td>\n",
       "      <td>NaN</td>\n",
       "      <td>NaN</td>\n",
       "      <td>NaN</td>\n",
       "      <td>NaN</td>\n",
       "      <td>56</td>\n",
       "      <td>1073100.0</td>\n",
       "    </tr>\n",
       "    <tr>\n",
       "      <th>15672</th>\n",
       "      <td>11965</td>\n",
       "      <td>2012-09-15</td>\n",
       "      <td>391</td>\n",
       "      <td>NaN</td>\n",
       "      <td>9.0</td>\n",
       "      <td>NaN</td>\n",
       "      <td>NaN</td>\n",
       "      <td>NaN</td>\n",
       "      <td>NaN</td>\n",
       "      <td>NaN</td>\n",
       "      <td>NaN</td>\n",
       "      <td>72</td>\n",
       "      <td>3922700.0</td>\n",
       "    </tr>\n",
       "    <tr>\n",
       "      <th>18260</th>\n",
       "      <td>95936</td>\n",
       "      <td>2012-07-16</td>\n",
       "      <td>731</td>\n",
       "      <td>44.0</td>\n",
       "      <td>12.0</td>\n",
       "      <td>NaN</td>\n",
       "      <td>NaN</td>\n",
       "      <td>NaN</td>\n",
       "      <td>NaN</td>\n",
       "      <td>NaN</td>\n",
       "      <td>NaN</td>\n",
       "      <td>133</td>\n",
       "      <td>13753500.0</td>\n",
       "    </tr>\n",
       "    <tr>\n",
       "      <th>19303</th>\n",
       "      <td>95156</td>\n",
       "      <td>2012-09-19</td>\n",
       "      <td>5329</td>\n",
       "      <td>22.0</td>\n",
       "      <td>13.0</td>\n",
       "      <td>NaN</td>\n",
       "      <td>NaN</td>\n",
       "      <td>NaN</td>\n",
       "      <td>NaN</td>\n",
       "      <td>NaN</td>\n",
       "      <td>NaN</td>\n",
       "      <td>10</td>\n",
       "      <td>6841300.0</td>\n",
       "    </tr>\n",
       "    <tr>\n",
       "      <th>22169</th>\n",
       "      <td>71405</td>\n",
       "      <td>2013-05-14</td>\n",
       "      <td>462</td>\n",
       "      <td>27.0</td>\n",
       "      <td>2.0</td>\n",
       "      <td>NaN</td>\n",
       "      <td>NaN</td>\n",
       "      <td>NaN</td>\n",
       "      <td>NaN</td>\n",
       "      <td>NaN</td>\n",
       "      <td>NaN</td>\n",
       "      <td>141</td>\n",
       "      <td>6267500.0</td>\n",
       "    </tr>\n",
       "    <tr>\n",
       "      <th>23254</th>\n",
       "      <td>20359</td>\n",
       "      <td>2012-03-22</td>\n",
       "      <td>291</td>\n",
       "      <td>189.0</td>\n",
       "      <td>2.0</td>\n",
       "      <td>NaN</td>\n",
       "      <td>NaN</td>\n",
       "      <td>NaN</td>\n",
       "      <td>NaN</td>\n",
       "      <td>NaN</td>\n",
       "      <td>NaN</td>\n",
       "      <td>51</td>\n",
       "      <td>7858500.0</td>\n",
       "    </tr>\n",
       "    <tr>\n",
       "      <th>26966</th>\n",
       "      <td>73754</td>\n",
       "      <td>2015-02-23</td>\n",
       "      <td>409</td>\n",
       "      <td>407.0</td>\n",
       "      <td>4.0</td>\n",
       "      <td>4.0</td>\n",
       "      <td>4.0</td>\n",
       "      <td>2015.0</td>\n",
       "      <td>1.0</td>\n",
       "      <td>10.0</td>\n",
       "      <td>1.0</td>\n",
       "      <td>24</td>\n",
       "      <td>3140300.0</td>\n",
       "    </tr>\n",
       "  </tbody>\n",
       "</table>\n",
       "</div>"
      ],
      "text/plain": [
       "          id   timestamp  full_sq  life_sq  floor  max_floor  material  \\\n",
       "2750   91769  2014-11-07      604      NaN   16.0       18.0       1.0   \n",
       "5041   52414  2011-10-20      326    325.0    7.0        NaN       NaN   \n",
       "6172   32115  2014-10-20      639    637.0   18.0       19.0       4.0   \n",
       "9283   49518  2013-02-12      636     38.0    3.0        NaN       NaN   \n",
       "9423   21211  2012-06-09      413     17.0    6.0        NaN       NaN   \n",
       "9507   47034  2014-06-14      276    232.0   11.0       37.0       6.0   \n",
       "9561   11221  2012-04-01      355     20.0    5.0        NaN       NaN   \n",
       "12729  43686  2014-04-25      303      NaN   32.0       32.0       1.0   \n",
       "13473  41202  2014-05-15      635      NaN    3.0       17.0       1.0   \n",
       "13702  61536  2012-04-07      394     17.0   11.0        NaN       NaN   \n",
       "15672  11965  2012-09-15      391      NaN    9.0        NaN       NaN   \n",
       "18260  95936  2012-07-16      731     44.0   12.0        NaN       NaN   \n",
       "19303  95156  2012-09-19     5329     22.0   13.0        NaN       NaN   \n",
       "22169  71405  2013-05-14      462     27.0    2.0        NaN       NaN   \n",
       "23254  20359  2012-03-22      291    189.0    2.0        NaN       NaN   \n",
       "26966  73754  2015-02-23      409    407.0    4.0        4.0       4.0   \n",
       "\n",
       "       build_year  num_room  kitch_sq  apartment_condition  sub_area  \\\n",
       "2750          NaN       2.0       1.0                  NaN        48   \n",
       "5041          NaN       NaN       NaN                  NaN        33   \n",
       "6172       2016.0       2.0      10.0                  1.0       134   \n",
       "9283          NaN       NaN       NaN                  NaN        55   \n",
       "9423          NaN       NaN       NaN                  NaN        24   \n",
       "9507       2009.0       5.0      26.0                  1.0       119   \n",
       "9561          NaN       NaN       NaN                  NaN       124   \n",
       "12729         NaN       6.0       0.0                  NaN        77   \n",
       "13473         NaN       2.0       0.0                  NaN        72   \n",
       "13702         NaN       NaN       NaN                  NaN        56   \n",
       "15672         NaN       NaN       NaN                  NaN        72   \n",
       "18260         NaN       NaN       NaN                  NaN       133   \n",
       "19303         NaN       NaN       NaN                  NaN        10   \n",
       "22169         NaN       NaN       NaN                  NaN       141   \n",
       "23254         NaN       NaN       NaN                  NaN        51   \n",
       "26966      2015.0       1.0      10.0                  1.0        24   \n",
       "\n",
       "            price  \n",
       "2750    6815800.0  \n",
       "5041    5285000.0  \n",
       "6172    5150400.0  \n",
       "9283   11148600.0  \n",
       "9423    6251500.0  \n",
       "9507   17192800.0  \n",
       "9561    5073000.0  \n",
       "12729  59417300.0  \n",
       "13473   6138600.0  \n",
       "13702   1073100.0  \n",
       "15672   3922700.0  \n",
       "18260  13753500.0  \n",
       "19303   6841300.0  \n",
       "22169   6267500.0  \n",
       "23254   7858500.0  \n",
       "26966   3140300.0  "
      ]
     },
     "execution_count": 225,
     "metadata": {},
     "output_type": "execute_result"
    }
   ],
   "source": [
    "df_whole_train[df_whole_train['full_sq'] > 250][df_whole_train.columns[:13]]"
   ]
  },
  {
   "cell_type": "code",
   "execution_count": 226,
   "metadata": {
    "ExecuteTime": {
     "end_time": "2021-03-11T18:40:46.184673Z",
     "start_time": "2021-03-11T18:40:46.166534Z"
    }
   },
   "outputs": [
    {
     "data": {
      "text/html": [
       "<div>\n",
       "<style scoped>\n",
       "    .dataframe tbody tr th:only-of-type {\n",
       "        vertical-align: middle;\n",
       "    }\n",
       "\n",
       "    .dataframe tbody tr th {\n",
       "        vertical-align: top;\n",
       "    }\n",
       "\n",
       "    .dataframe thead th {\n",
       "        text-align: right;\n",
       "    }\n",
       "</style>\n",
       "<table border=\"1\" class=\"dataframe\">\n",
       "  <thead>\n",
       "    <tr style=\"text-align: right;\">\n",
       "      <th></th>\n",
       "      <th>id</th>\n",
       "      <th>timestamp</th>\n",
       "      <th>full_sq</th>\n",
       "      <th>life_sq</th>\n",
       "      <th>floor</th>\n",
       "      <th>max_floor</th>\n",
       "      <th>material</th>\n",
       "      <th>build_year</th>\n",
       "      <th>num_room</th>\n",
       "      <th>kitch_sq</th>\n",
       "      <th>apartment_condition</th>\n",
       "      <th>sub_area</th>\n",
       "    </tr>\n",
       "  </thead>\n",
       "  <tbody>\n",
       "  </tbody>\n",
       "</table>\n",
       "</div>"
      ],
      "text/plain": [
       "Empty DataFrame\n",
       "Columns: [id, timestamp, full_sq, life_sq, floor, max_floor, material, build_year, num_room, kitch_sq, apartment_condition, sub_area]\n",
       "Index: []"
      ]
     },
     "execution_count": 226,
     "metadata": {},
     "output_type": "execute_result"
    }
   ],
   "source": [
    "df_whole_test[df_whole_test['full_sq'] > 250][df_whole_test.columns[:12]]"
   ]
  },
  {
   "cell_type": "markdown",
   "metadata": {},
   "source": [
    "На трейне есть значения которых нет в тесте. Уберем их"
   ]
  },
  {
   "cell_type": "code",
   "execution_count": 227,
   "metadata": {
    "ExecuteTime": {
     "end_time": "2021-03-11T18:40:51.094075Z",
     "start_time": "2021-03-11T18:40:51.081253Z"
    }
   },
   "outputs": [],
   "source": [
    "X = df_whole_train.drop(columns=['id', 'timestamp', 'price'])\n",
    "X_test = df_whole_test.drop(columns=['id', 'timestamp'])\n",
    "y = df_whole_train.loc[:, 'price']"
   ]
  },
  {
   "cell_type": "code",
   "execution_count": 228,
   "metadata": {
    "ExecuteTime": {
     "end_time": "2021-03-11T18:40:51.497828Z",
     "start_time": "2021-03-11T18:40:51.476873Z"
    }
   },
   "outputs": [],
   "source": [
    "mask = X['full_sq'] <= 250\n",
    "X = X.loc[mask, :]\n",
    "y = y[mask]"
   ]
  },
  {
   "cell_type": "code",
   "execution_count": 229,
   "metadata": {
    "ExecuteTime": {
     "end_time": "2021-03-11T18:40:59.365661Z",
     "start_time": "2021-03-11T18:40:54.920971Z"
    }
   },
   "outputs": [
    {
     "name": "stdout",
     "output_type": "stream",
     "text": [
      "[100]\tcv_agg's train rmse: 2.15713e+06 + 25564.1\tcv_agg's valid rmse: 2.82799e+06 + 102810\n",
      "[200]\tcv_agg's train rmse: 1.90716e+06 + 27471\tcv_agg's valid rmse: 2.8202e+06 + 114126\n"
     ]
    }
   ],
   "source": [
    "lgb_train = Dataset(X, y)\n",
    "lgb_cv_res = cv(\n",
    "    params={\n",
    "        'objective': 'regression',\n",
    "        'metric': 'rmse',\n",
    "        'verbosity': -1,\n",
    "        'seed': seed,\n",
    "    },\n",
    "    train_set=lgb_train,\n",
    "    num_boost_round=100_000,\n",
    "    stratified=False,\n",
    "    early_stopping_rounds=100,\n",
    "    verbose_eval=100,\n",
    "    eval_train_metric=True,\n",
    "    return_cvbooster=True,\n",
    ")"
   ]
  },
  {
   "cell_type": "code",
   "execution_count": 230,
   "metadata": {
    "ExecuteTime": {
     "end_time": "2021-03-11T18:40:59.462578Z",
     "start_time": "2021-03-11T18:40:59.368391Z"
    }
   },
   "outputs": [],
   "source": [
    "df_submit_2 = pd.DataFrame(index=df_whole_test.index)\n",
    "df_submit_2['id'] = df_whole_test['id']\n",
    "df_submit_2['predicted_price'] = np.mean([b.predict(X_test) for b in lgb_cv_res['cvbooster'].boosters], axis=0)\n",
    "df_submit_2.to_csv(path_.join(submits_path, 'submit_2_full_sq_remove_greatest_250.csv'))"
   ]
  },
  {
   "cell_type": "markdown",
   "metadata": {
    "ExecuteTime": {
     "end_time": "2021-03-11T18:27:37.100345Z",
     "start_time": "2021-03-11T18:27:37.092030Z"
    }
   },
   "source": [
    "RMSE = 2519300.0844. Качество просело"
   ]
  },
  {
   "cell_type": "markdown",
   "metadata": {},
   "source": [
    "Посмотрим на зависимость между таргетом и этой фичей"
   ]
  },
  {
   "cell_type": "code",
   "execution_count": 231,
   "metadata": {
    "ExecuteTime": {
     "end_time": "2021-03-11T18:41:02.500322Z",
     "start_time": "2021-03-11T18:41:02.167137Z"
    }
   },
   "outputs": [
    {
     "data": {
      "text/plain": [
       "<seaborn.axisgrid.FacetGrid at 0x7fe8643cbac8>"
      ]
     },
     "execution_count": 231,
     "metadata": {},
     "output_type": "execute_result"
    },
    {
     "data": {
      "image/png": "[encoded data removed]",
      "text/plain": [
       "<Figure size 360x360 with 1 Axes>"
      ]
     },
     "metadata": {
      "needs_background": "light"
     },
     "output_type": "display_data"
    }
   ],
   "source": [
    "sns.relplot(x='full_sq', y='price', data=df_whole_train)"
   ]
  },
  {
   "cell_type": "markdown",
   "metadata": {},
   "source": [
    "Есть выброс справа внизу и слева вверху"
   ]
  },
  {
   "cell_type": "code",
   "execution_count": 232,
   "metadata": {
    "ExecuteTime": {
     "end_time": "2021-03-11T18:41:07.157664Z",
     "start_time": "2021-03-11T18:41:07.136193Z"
    }
   },
   "outputs": [
    {
     "data": {
      "text/html": [
       "<div>\n",
       "<style scoped>\n",
       "    .dataframe tbody tr th:only-of-type {\n",
       "        vertical-align: middle;\n",
       "    }\n",
       "\n",
       "    .dataframe tbody tr th {\n",
       "        vertical-align: top;\n",
       "    }\n",
       "\n",
       "    .dataframe thead th {\n",
       "        text-align: right;\n",
       "    }\n",
       "</style>\n",
       "<table border=\"1\" class=\"dataframe\">\n",
       "  <thead>\n",
       "    <tr style=\"text-align: right;\">\n",
       "      <th></th>\n",
       "      <th>id</th>\n",
       "      <th>timestamp</th>\n",
       "      <th>full_sq</th>\n",
       "      <th>life_sq</th>\n",
       "      <th>floor</th>\n",
       "      <th>max_floor</th>\n",
       "      <th>material</th>\n",
       "      <th>build_year</th>\n",
       "      <th>num_room</th>\n",
       "      <th>kitch_sq</th>\n",
       "      <th>apartment_condition</th>\n",
       "      <th>sub_area</th>\n",
       "      <th>price</th>\n",
       "    </tr>\n",
       "  </thead>\n",
       "  <tbody>\n",
       "    <tr>\n",
       "      <th>18117</th>\n",
       "      <td>85073</td>\n",
       "      <td>2012-05-15</td>\n",
       "      <td>57</td>\n",
       "      <td>31.0</td>\n",
       "      <td>12.0</td>\n",
       "      <td>NaN</td>\n",
       "      <td>NaN</td>\n",
       "      <td>NaN</td>\n",
       "      <td>NaN</td>\n",
       "      <td>NaN</td>\n",
       "      <td>NaN</td>\n",
       "      <td>130</td>\n",
       "      <td>112444400.0</td>\n",
       "    </tr>\n",
       "  </tbody>\n",
       "</table>\n",
       "</div>"
      ],
      "text/plain": [
       "          id   timestamp  full_sq  life_sq  floor  max_floor  material  \\\n",
       "18117  85073  2012-05-15       57     31.0   12.0        NaN       NaN   \n",
       "\n",
       "       build_year  num_room  kitch_sq  apartment_condition  sub_area  \\\n",
       "18117         NaN       NaN       NaN                  NaN       130   \n",
       "\n",
       "             price  \n",
       "18117  112444400.0  "
      ]
     },
     "execution_count": 232,
     "metadata": {},
     "output_type": "execute_result"
    }
   ],
   "source": [
    "df_whole_train[df_whole_train['price'] == df_whole_train['price'].max()][df_whole_train.columns[:13]]"
   ]
  },
  {
   "cell_type": "markdown",
   "metadata": {},
   "source": [
    "Непонятно с чего эта квартира столько стоит"
   ]
  },
  {
   "cell_type": "code",
   "execution_count": 233,
   "metadata": {
    "ExecuteTime": {
     "end_time": "2021-03-11T18:41:10.696348Z",
     "start_time": "2021-03-11T18:41:10.665867Z"
    }
   },
   "outputs": [
    {
     "data": {
      "text/html": [
       "<div>\n",
       "<style scoped>\n",
       "    .dataframe tbody tr th:only-of-type {\n",
       "        vertical-align: middle;\n",
       "    }\n",
       "\n",
       "    .dataframe tbody tr th {\n",
       "        vertical-align: top;\n",
       "    }\n",
       "\n",
       "    .dataframe thead th {\n",
       "        text-align: right;\n",
       "    }\n",
       "</style>\n",
       "<table border=\"1\" class=\"dataframe\">\n",
       "  <thead>\n",
       "    <tr style=\"text-align: right;\">\n",
       "      <th></th>\n",
       "      <th>id</th>\n",
       "      <th>timestamp</th>\n",
       "      <th>full_sq</th>\n",
       "      <th>life_sq</th>\n",
       "      <th>floor</th>\n",
       "      <th>max_floor</th>\n",
       "      <th>material</th>\n",
       "      <th>build_year</th>\n",
       "      <th>num_room</th>\n",
       "      <th>kitch_sq</th>\n",
       "      <th>apartment_condition</th>\n",
       "      <th>sub_area</th>\n",
       "      <th>price</th>\n",
       "    </tr>\n",
       "  </thead>\n",
       "  <tbody>\n",
       "    <tr>\n",
       "      <th>19303</th>\n",
       "      <td>95156</td>\n",
       "      <td>2012-09-19</td>\n",
       "      <td>5329</td>\n",
       "      <td>22.0</td>\n",
       "      <td>13.0</td>\n",
       "      <td>NaN</td>\n",
       "      <td>NaN</td>\n",
       "      <td>NaN</td>\n",
       "      <td>NaN</td>\n",
       "      <td>NaN</td>\n",
       "      <td>NaN</td>\n",
       "      <td>10</td>\n",
       "      <td>6841300.0</td>\n",
       "    </tr>\n",
       "  </tbody>\n",
       "</table>\n",
       "</div>"
      ],
      "text/plain": [
       "          id   timestamp  full_sq  life_sq  floor  max_floor  material  \\\n",
       "19303  95156  2012-09-19     5329     22.0   13.0        NaN       NaN   \n",
       "\n",
       "       build_year  num_room  kitch_sq  apartment_condition  sub_area  \\\n",
       "19303         NaN       NaN       NaN                  NaN        10   \n",
       "\n",
       "           price  \n",
       "19303  6841300.0  "
      ]
     },
     "execution_count": 233,
     "metadata": {},
     "output_type": "execute_result"
    }
   ],
   "source": [
    "df_whole_train[df_whole_train['full_sq'] == df_whole_train['full_sq'].max()][df_whole_train.columns[:13]]"
   ]
  },
  {
   "cell_type": "markdown",
   "metadata": {
    "ExecuteTime": {
     "end_time": "2021-03-11T18:32:46.459619Z",
     "start_time": "2021-03-11T18:32:46.451545Z"
    }
   },
   "source": [
    "А здесь явно ошибочное значение"
   ]
  },
  {
   "cell_type": "markdown",
   "metadata": {},
   "source": [
    "Попробуем первое удалить, а второе заменить"
   ]
  },
  {
   "cell_type": "code",
   "execution_count": 234,
   "metadata": {
    "ExecuteTime": {
     "end_time": "2021-03-11T18:41:19.937377Z",
     "start_time": "2021-03-11T18:41:19.918010Z"
    }
   },
   "outputs": [],
   "source": [
    "X = df_whole_train.drop(columns=['id', 'timestamp', 'price'])\n",
    "X_test = df_whole_test.drop(columns=['id', 'timestamp'])\n",
    "y = df_whole_train.loc[:, 'price']"
   ]
  },
  {
   "cell_type": "code",
   "execution_count": 235,
   "metadata": {
    "ExecuteTime": {
     "end_time": "2021-03-11T18:41:21.071906Z",
     "start_time": "2021-03-11T18:41:21.056307Z"
    }
   },
   "outputs": [],
   "source": [
    "mask = df_whole_train['price'] != 112444400.0\n",
    "X = X.loc[mask, :]\n",
    "X['full_sq'] = X['full_sq'].replace(5329, 53)\n",
    "y = y[mask]"
   ]
  },
  {
   "cell_type": "code",
   "execution_count": 236,
   "metadata": {
    "ExecuteTime": {
     "end_time": "2021-03-11T18:41:27.314251Z",
     "start_time": "2021-03-11T18:41:22.564126Z"
    }
   },
   "outputs": [
    {
     "name": "stdout",
     "output_type": "stream",
     "text": [
      "[100]\tcv_agg's train rmse: 2.09814e+06 + 12206.4\tcv_agg's valid rmse: 2.80794e+06 + 113151\n",
      "[200]\tcv_agg's train rmse: 1.84599e+06 + 8128.96\tcv_agg's valid rmse: 2.79684e+06 + 111664\n"
     ]
    }
   ],
   "source": [
    "lgb_train = Dataset(X, y)\n",
    "lgb_cv_res = cv(\n",
    "    params={\n",
    "        'objective': 'regression',\n",
    "        'metric': 'rmse',\n",
    "        'verbosity': -1,\n",
    "        'seed': seed,\n",
    "    },\n",
    "    train_set=lgb_train,\n",
    "    num_boost_round=100_000,\n",
    "    stratified=False,\n",
    "    early_stopping_rounds=100,\n",
    "    verbose_eval=100,\n",
    "    eval_train_metric=True,\n",
    "    return_cvbooster=True,\n",
    ")"
   ]
  },
  {
   "cell_type": "code",
   "execution_count": 237,
   "metadata": {
    "ExecuteTime": {
     "end_time": "2021-03-11T18:41:45.652079Z",
     "start_time": "2021-03-11T18:41:45.555262Z"
    }
   },
   "outputs": [],
   "source": [
    "df_submit_2 = pd.DataFrame(index=df_whole_test.index)\n",
    "df_submit_2['id'] = df_whole_test['id']\n",
    "df_submit_2['predicted_price'] = np.mean([b.predict(X_test) for b in lgb_cv_res['cvbooster'].boosters], axis=0)\n",
    "df_submit_2.to_csv(path_.join(submits_path, 'submit_2_full_sq_handle_outliers_v1.csv'))"
   ]
  },
  {
   "cell_type": "markdown",
   "metadata": {},
   "source": [
    "RMSE = 2471003.9371"
   ]
  },
  {
   "cell_type": "code",
   "execution_count": 238,
   "metadata": {
    "ExecuteTime": {
     "end_time": "2021-03-11T18:42:33.122954Z",
     "start_time": "2021-03-11T18:42:33.098944Z"
    }
   },
   "outputs": [
    {
     "data": {
      "text/plain": [
       "(28987, 32)"
      ]
     },
     "execution_count": 238,
     "metadata": {},
     "output_type": "execute_result"
    }
   ],
   "source": [
    "df_whole_train = df_whole_train.loc[df_whole_train['price'] != 112444400.0, :]\n",
    "df_whole_train['full_sq'] = df_whole_train['full_sq'].replace(5329, 53)\n",
    "df_whole_train.shape"
   ]
  },
  {
   "cell_type": "markdown",
   "metadata": {},
   "source": [
    "Теперь посмотрим на life_sq"
   ]
  },
  {
   "cell_type": "code",
   "execution_count": 239,
   "metadata": {
    "ExecuteTime": {
     "end_time": "2021-03-11T18:43:20.870501Z",
     "start_time": "2021-03-11T18:43:20.853220Z"
    }
   },
   "outputs": [
    {
     "data": {
      "text/plain": [
       "count    22922.000000\n",
       "mean        34.110418\n",
       "std         20.904443\n",
       "min          0.000000\n",
       "25%         20.000000\n",
       "50%         30.000000\n",
       "75%         43.000000\n",
       "max        802.000000\n",
       "Name: life_sq, dtype: float64"
      ]
     },
     "execution_count": 239,
     "metadata": {},
     "output_type": "execute_result"
    }
   ],
   "source": [
    "df_whole_train['life_sq'].describe()"
   ]
  },
  {
   "cell_type": "code",
   "execution_count": 240,
   "metadata": {
    "ExecuteTime": {
     "end_time": "2021-03-11T18:43:39.647048Z",
     "start_time": "2021-03-11T18:43:39.631675Z"
    }
   },
   "outputs": [
    {
     "data": {
      "text/plain": [
       "count     797.000000\n",
       "mean       43.037641\n",
       "std       264.380486\n",
       "min         1.000000\n",
       "25%        20.000000\n",
       "50%        30.000000\n",
       "75%        43.000000\n",
       "max      7478.000000\n",
       "Name: life_sq, dtype: float64"
      ]
     },
     "execution_count": 240,
     "metadata": {},
     "output_type": "execute_result"
    }
   ],
   "source": [
    "df_whole_test['life_sq'].describe()"
   ]
  },
  {
   "cell_type": "markdown",
   "metadata": {},
   "source": [
    "И на трейне и на тесте есть выбросы посмотрим на них"
   ]
  },
  {
   "cell_type": "code",
   "execution_count": 242,
   "metadata": {
    "ExecuteTime": {
     "end_time": "2021-03-11T18:46:14.015062Z",
     "start_time": "2021-03-11T18:46:14.005767Z"
    }
   },
   "outputs": [
    {
     "data": {
      "text/plain": [
       "array([ 0.,  1.,  7.,  8.,  9., 10., 11., 12., 13., 14.])"
      ]
     },
     "execution_count": 242,
     "metadata": {},
     "output_type": "execute_result"
    }
   ],
   "source": [
    "np.sort(df_whole_train['life_sq'].unique())[:10]"
   ]
  },
  {
   "cell_type": "code",
   "execution_count": 246,
   "metadata": {
    "ExecuteTime": {
     "end_time": "2021-03-11T18:47:40.508163Z",
     "start_time": "2021-03-11T18:47:40.450891Z"
    },
    "scrolled": true
   },
   "outputs": [
    {
     "data": {
      "text/html": [
       "<div>\n",
       "<style scoped>\n",
       "    .dataframe tbody tr th:only-of-type {\n",
       "        vertical-align: middle;\n",
       "    }\n",
       "\n",
       "    .dataframe tbody tr th {\n",
       "        vertical-align: top;\n",
       "    }\n",
       "\n",
       "    .dataframe thead th {\n",
       "        text-align: right;\n",
       "    }\n",
       "</style>\n",
       "<table border=\"1\" class=\"dataframe\">\n",
       "  <thead>\n",
       "    <tr style=\"text-align: right;\">\n",
       "      <th></th>\n",
       "      <th>id</th>\n",
       "      <th>timestamp</th>\n",
       "      <th>full_sq</th>\n",
       "      <th>life_sq</th>\n",
       "      <th>floor</th>\n",
       "      <th>max_floor</th>\n",
       "      <th>material</th>\n",
       "      <th>build_year</th>\n",
       "      <th>num_room</th>\n",
       "      <th>kitch_sq</th>\n",
       "      <th>apartment_condition</th>\n",
       "      <th>sub_area</th>\n",
       "      <th>price</th>\n",
       "    </tr>\n",
       "  </thead>\n",
       "  <tbody>\n",
       "    <tr>\n",
       "      <th>1342</th>\n",
       "      <td>85712</td>\n",
       "      <td>2014-11-04</td>\n",
       "      <td>77</td>\n",
       "      <td>0.0</td>\n",
       "      <td>16.0</td>\n",
       "      <td>22.0</td>\n",
       "      <td>1.0</td>\n",
       "      <td>0.0</td>\n",
       "      <td>3.0</td>\n",
       "      <td>0.0</td>\n",
       "      <td>1.0</td>\n",
       "      <td>101</td>\n",
       "      <td>5857100.0</td>\n",
       "    </tr>\n",
       "    <tr>\n",
       "      <th>1472</th>\n",
       "      <td>93464</td>\n",
       "      <td>2014-12-25</td>\n",
       "      <td>48</td>\n",
       "      <td>0.0</td>\n",
       "      <td>3.0</td>\n",
       "      <td>12.0</td>\n",
       "      <td>4.0</td>\n",
       "      <td>2015.0</td>\n",
       "      <td>1.0</td>\n",
       "      <td>0.0</td>\n",
       "      <td>3.0</td>\n",
       "      <td>102</td>\n",
       "      <td>5272500.0</td>\n",
       "    </tr>\n",
       "    <tr>\n",
       "      <th>1995</th>\n",
       "      <td>48166</td>\n",
       "      <td>2014-11-23</td>\n",
       "      <td>37</td>\n",
       "      <td>0.0</td>\n",
       "      <td>9.0</td>\n",
       "      <td>19.0</td>\n",
       "      <td>1.0</td>\n",
       "      <td>2015.0</td>\n",
       "      <td>1.0</td>\n",
       "      <td>0.0</td>\n",
       "      <td>3.0</td>\n",
       "      <td>101</td>\n",
       "      <td>3833300.0</td>\n",
       "    </tr>\n",
       "    <tr>\n",
       "      <th>2493</th>\n",
       "      <td>40961</td>\n",
       "      <td>2012-07-19</td>\n",
       "      <td>41</td>\n",
       "      <td>0.0</td>\n",
       "      <td>17.0</td>\n",
       "      <td>NaN</td>\n",
       "      <td>NaN</td>\n",
       "      <td>NaN</td>\n",
       "      <td>NaN</td>\n",
       "      <td>NaN</td>\n",
       "      <td>NaN</td>\n",
       "      <td>72</td>\n",
       "      <td>682600.0</td>\n",
       "    </tr>\n",
       "    <tr>\n",
       "      <th>3296</th>\n",
       "      <td>83676</td>\n",
       "      <td>2014-09-06</td>\n",
       "      <td>39</td>\n",
       "      <td>0.0</td>\n",
       "      <td>9.0</td>\n",
       "      <td>0.0</td>\n",
       "      <td>6.0</td>\n",
       "      <td>2016.0</td>\n",
       "      <td>1.0</td>\n",
       "      <td>0.0</td>\n",
       "      <td>1.0</td>\n",
       "      <td>101</td>\n",
       "      <td>3299800.0</td>\n",
       "    </tr>\n",
       "    <tr>\n",
       "      <th>3423</th>\n",
       "      <td>58505</td>\n",
       "      <td>2015-01-17</td>\n",
       "      <td>41</td>\n",
       "      <td>0.0</td>\n",
       "      <td>19.0</td>\n",
       "      <td>22.0</td>\n",
       "      <td>1.0</td>\n",
       "      <td>2016.0</td>\n",
       "      <td>1.0</td>\n",
       "      <td>0.0</td>\n",
       "      <td>1.0</td>\n",
       "      <td>101</td>\n",
       "      <td>4499100.0</td>\n",
       "    </tr>\n",
       "    <tr>\n",
       "      <th>3442</th>\n",
       "      <td>56555</td>\n",
       "      <td>2014-06-11</td>\n",
       "      <td>72</td>\n",
       "      <td>0.0</td>\n",
       "      <td>10.0</td>\n",
       "      <td>0.0</td>\n",
       "      <td>2.0</td>\n",
       "      <td>2016.0</td>\n",
       "      <td>2.0</td>\n",
       "      <td>0.0</td>\n",
       "      <td>2.0</td>\n",
       "      <td>94</td>\n",
       "      <td>8450200.0</td>\n",
       "    </tr>\n",
       "    <tr>\n",
       "      <th>3457</th>\n",
       "      <td>95477</td>\n",
       "      <td>2014-07-30</td>\n",
       "      <td>56</td>\n",
       "      <td>0.0</td>\n",
       "      <td>6.0</td>\n",
       "      <td>0.0</td>\n",
       "      <td>1.0</td>\n",
       "      <td>0.0</td>\n",
       "      <td>2.0</td>\n",
       "      <td>12.0</td>\n",
       "      <td>1.0</td>\n",
       "      <td>102</td>\n",
       "      <td>4881000.0</td>\n",
       "    </tr>\n",
       "    <tr>\n",
       "      <th>3593</th>\n",
       "      <td>12269</td>\n",
       "      <td>2014-06-22</td>\n",
       "      <td>52</td>\n",
       "      <td>0.0</td>\n",
       "      <td>11.0</td>\n",
       "      <td>17.0</td>\n",
       "      <td>1.0</td>\n",
       "      <td>0.0</td>\n",
       "      <td>2.0</td>\n",
       "      <td>0.0</td>\n",
       "      <td>1.0</td>\n",
       "      <td>103</td>\n",
       "      <td>6828600.0</td>\n",
       "    </tr>\n",
       "    <tr>\n",
       "      <th>3886</th>\n",
       "      <td>18912</td>\n",
       "      <td>2014-10-04</td>\n",
       "      <td>80</td>\n",
       "      <td>0.0</td>\n",
       "      <td>10.0</td>\n",
       "      <td>1.0</td>\n",
       "      <td>2.0</td>\n",
       "      <td>2016.0</td>\n",
       "      <td>3.0</td>\n",
       "      <td>0.0</td>\n",
       "      <td>1.0</td>\n",
       "      <td>70</td>\n",
       "      <td>11961400.0</td>\n",
       "    </tr>\n",
       "    <tr>\n",
       "      <th>6084</th>\n",
       "      <td>11362</td>\n",
       "      <td>2012-09-17</td>\n",
       "      <td>71</td>\n",
       "      <td>0.0</td>\n",
       "      <td>3.0</td>\n",
       "      <td>NaN</td>\n",
       "      <td>NaN</td>\n",
       "      <td>NaN</td>\n",
       "      <td>NaN</td>\n",
       "      <td>NaN</td>\n",
       "      <td>NaN</td>\n",
       "      <td>72</td>\n",
       "      <td>1430000.0</td>\n",
       "    </tr>\n",
       "    <tr>\n",
       "      <th>6787</th>\n",
       "      <td>87551</td>\n",
       "      <td>2013-09-25</td>\n",
       "      <td>37</td>\n",
       "      <td>0.0</td>\n",
       "      <td>6.0</td>\n",
       "      <td>17.0</td>\n",
       "      <td>1.0</td>\n",
       "      <td>2013.0</td>\n",
       "      <td>1.0</td>\n",
       "      <td>0.0</td>\n",
       "      <td>1.0</td>\n",
       "      <td>72</td>\n",
       "      <td>3962600.0</td>\n",
       "    </tr>\n",
       "    <tr>\n",
       "      <th>6797</th>\n",
       "      <td>22141</td>\n",
       "      <td>2014-04-25</td>\n",
       "      <td>37</td>\n",
       "      <td>0.0</td>\n",
       "      <td>17.0</td>\n",
       "      <td>17.0</td>\n",
       "      <td>1.0</td>\n",
       "      <td>2014.0</td>\n",
       "      <td>1.0</td>\n",
       "      <td>0.0</td>\n",
       "      <td>3.0</td>\n",
       "      <td>34</td>\n",
       "      <td>3965100.0</td>\n",
       "    </tr>\n",
       "    <tr>\n",
       "      <th>7152</th>\n",
       "      <td>26214</td>\n",
       "      <td>2012-02-08</td>\n",
       "      <td>80</td>\n",
       "      <td>0.0</td>\n",
       "      <td>2.0</td>\n",
       "      <td>NaN</td>\n",
       "      <td>NaN</td>\n",
       "      <td>NaN</td>\n",
       "      <td>NaN</td>\n",
       "      <td>NaN</td>\n",
       "      <td>NaN</td>\n",
       "      <td>72</td>\n",
       "      <td>553900.0</td>\n",
       "    </tr>\n",
       "    <tr>\n",
       "      <th>7747</th>\n",
       "      <td>75894</td>\n",
       "      <td>2015-02-19</td>\n",
       "      <td>78</td>\n",
       "      <td>0.0</td>\n",
       "      <td>4.0</td>\n",
       "      <td>24.0</td>\n",
       "      <td>4.0</td>\n",
       "      <td>2016.0</td>\n",
       "      <td>1.0</td>\n",
       "      <td>1.0</td>\n",
       "      <td>1.0</td>\n",
       "      <td>32</td>\n",
       "      <td>9634200.0</td>\n",
       "    </tr>\n",
       "    <tr>\n",
       "      <th>8295</th>\n",
       "      <td>99523</td>\n",
       "      <td>2012-04-14</td>\n",
       "      <td>62</td>\n",
       "      <td>0.0</td>\n",
       "      <td>5.0</td>\n",
       "      <td>NaN</td>\n",
       "      <td>NaN</td>\n",
       "      <td>NaN</td>\n",
       "      <td>NaN</td>\n",
       "      <td>NaN</td>\n",
       "      <td>NaN</td>\n",
       "      <td>72</td>\n",
       "      <td>363600.0</td>\n",
       "    </tr>\n",
       "    <tr>\n",
       "      <th>8862</th>\n",
       "      <td>58828</td>\n",
       "      <td>2015-07-01</td>\n",
       "      <td>78</td>\n",
       "      <td>0.0</td>\n",
       "      <td>12.0</td>\n",
       "      <td>0.0</td>\n",
       "      <td>1.0</td>\n",
       "      <td>2014.0</td>\n",
       "      <td>3.0</td>\n",
       "      <td>0.0</td>\n",
       "      <td>3.0</td>\n",
       "      <td>18</td>\n",
       "      <td>1209600.0</td>\n",
       "    </tr>\n",
       "    <tr>\n",
       "      <th>9169</th>\n",
       "      <td>85614</td>\n",
       "      <td>2014-09-01</td>\n",
       "      <td>43</td>\n",
       "      <td>0.0</td>\n",
       "      <td>15.0</td>\n",
       "      <td>24.0</td>\n",
       "      <td>1.0</td>\n",
       "      <td>0.0</td>\n",
       "      <td>1.0</td>\n",
       "      <td>1.0</td>\n",
       "      <td>1.0</td>\n",
       "      <td>103</td>\n",
       "      <td>5854500.0</td>\n",
       "    </tr>\n",
       "    <tr>\n",
       "      <th>10095</th>\n",
       "      <td>79853</td>\n",
       "      <td>2014-09-05</td>\n",
       "      <td>86</td>\n",
       "      <td>0.0</td>\n",
       "      <td>7.0</td>\n",
       "      <td>12.0</td>\n",
       "      <td>1.0</td>\n",
       "      <td>0.0</td>\n",
       "      <td>3.0</td>\n",
       "      <td>0.0</td>\n",
       "      <td>1.0</td>\n",
       "      <td>102</td>\n",
       "      <td>8179900.0</td>\n",
       "    </tr>\n",
       "    <tr>\n",
       "      <th>11175</th>\n",
       "      <td>76486</td>\n",
       "      <td>2014-12-29</td>\n",
       "      <td>38</td>\n",
       "      <td>0.0</td>\n",
       "      <td>8.0</td>\n",
       "      <td>0.0</td>\n",
       "      <td>1.0</td>\n",
       "      <td>2015.0</td>\n",
       "      <td>1.0</td>\n",
       "      <td>0.0</td>\n",
       "      <td>1.0</td>\n",
       "      <td>101</td>\n",
       "      <td>3866500.0</td>\n",
       "    </tr>\n",
       "    <tr>\n",
       "      <th>12343</th>\n",
       "      <td>88407</td>\n",
       "      <td>2014-10-07</td>\n",
       "      <td>55</td>\n",
       "      <td>0.0</td>\n",
       "      <td>8.0</td>\n",
       "      <td>0.0</td>\n",
       "      <td>1.0</td>\n",
       "      <td>2015.0</td>\n",
       "      <td>2.0</td>\n",
       "      <td>0.0</td>\n",
       "      <td>1.0</td>\n",
       "      <td>86</td>\n",
       "      <td>4848900.0</td>\n",
       "    </tr>\n",
       "    <tr>\n",
       "      <th>12670</th>\n",
       "      <td>17559</td>\n",
       "      <td>2013-12-16</td>\n",
       "      <td>119</td>\n",
       "      <td>0.0</td>\n",
       "      <td>9.0</td>\n",
       "      <td>0.0</td>\n",
       "      <td>1.0</td>\n",
       "      <td>0.0</td>\n",
       "      <td>5.0</td>\n",
       "      <td>0.0</td>\n",
       "      <td>1.0</td>\n",
       "      <td>65</td>\n",
       "      <td>15513300.0</td>\n",
       "    </tr>\n",
       "    <tr>\n",
       "      <th>13252</th>\n",
       "      <td>59954</td>\n",
       "      <td>2012-10-14</td>\n",
       "      <td>57</td>\n",
       "      <td>0.0</td>\n",
       "      <td>10.0</td>\n",
       "      <td>NaN</td>\n",
       "      <td>NaN</td>\n",
       "      <td>NaN</td>\n",
       "      <td>NaN</td>\n",
       "      <td>NaN</td>\n",
       "      <td>NaN</td>\n",
       "      <td>94</td>\n",
       "      <td>5533700.0</td>\n",
       "    </tr>\n",
       "    <tr>\n",
       "      <th>14239</th>\n",
       "      <td>95587</td>\n",
       "      <td>2015-03-18</td>\n",
       "      <td>59</td>\n",
       "      <td>0.0</td>\n",
       "      <td>2.0</td>\n",
       "      <td>0.0</td>\n",
       "      <td>4.0</td>\n",
       "      <td>2015.0</td>\n",
       "      <td>2.0</td>\n",
       "      <td>0.0</td>\n",
       "      <td>1.0</td>\n",
       "      <td>102</td>\n",
       "      <td>6862800.0</td>\n",
       "    </tr>\n",
       "    <tr>\n",
       "      <th>15156</th>\n",
       "      <td>37409</td>\n",
       "      <td>2014-04-29</td>\n",
       "      <td>38</td>\n",
       "      <td>0.0</td>\n",
       "      <td>5.0</td>\n",
       "      <td>0.0</td>\n",
       "      <td>1.0</td>\n",
       "      <td>2015.0</td>\n",
       "      <td>1.0</td>\n",
       "      <td>11.0</td>\n",
       "      <td>3.0</td>\n",
       "      <td>105</td>\n",
       "      <td>5111600.0</td>\n",
       "    </tr>\n",
       "    <tr>\n",
       "      <th>15457</th>\n",
       "      <td>97580</td>\n",
       "      <td>2014-11-20</td>\n",
       "      <td>61</td>\n",
       "      <td>0.0</td>\n",
       "      <td>9.0</td>\n",
       "      <td>17.0</td>\n",
       "      <td>1.0</td>\n",
       "      <td>0.0</td>\n",
       "      <td>2.0</td>\n",
       "      <td>0.0</td>\n",
       "      <td>1.0</td>\n",
       "      <td>94</td>\n",
       "      <td>5907500.0</td>\n",
       "    </tr>\n",
       "    <tr>\n",
       "      <th>16666</th>\n",
       "      <td>44905</td>\n",
       "      <td>2013-02-28</td>\n",
       "      <td>62</td>\n",
       "      <td>0.0</td>\n",
       "      <td>6.0</td>\n",
       "      <td>NaN</td>\n",
       "      <td>NaN</td>\n",
       "      <td>NaN</td>\n",
       "      <td>NaN</td>\n",
       "      <td>NaN</td>\n",
       "      <td>NaN</td>\n",
       "      <td>72</td>\n",
       "      <td>5549800.0</td>\n",
       "    </tr>\n",
       "    <tr>\n",
       "      <th>17194</th>\n",
       "      <td>57929</td>\n",
       "      <td>2014-08-25</td>\n",
       "      <td>49</td>\n",
       "      <td>0.0</td>\n",
       "      <td>7.0</td>\n",
       "      <td>9.0</td>\n",
       "      <td>1.0</td>\n",
       "      <td>0.0</td>\n",
       "      <td>1.0</td>\n",
       "      <td>0.0</td>\n",
       "      <td>1.0</td>\n",
       "      <td>97</td>\n",
       "      <td>3486800.0</td>\n",
       "    </tr>\n",
       "    <tr>\n",
       "      <th>17823</th>\n",
       "      <td>60531</td>\n",
       "      <td>2014-09-01</td>\n",
       "      <td>58</td>\n",
       "      <td>0.0</td>\n",
       "      <td>13.0</td>\n",
       "      <td>19.0</td>\n",
       "      <td>1.0</td>\n",
       "      <td>0.0</td>\n",
       "      <td>2.0</td>\n",
       "      <td>0.0</td>\n",
       "      <td>1.0</td>\n",
       "      <td>101</td>\n",
       "      <td>4646000.0</td>\n",
       "    </tr>\n",
       "    <tr>\n",
       "      <th>18802</th>\n",
       "      <td>70096</td>\n",
       "      <td>2014-12-15</td>\n",
       "      <td>60</td>\n",
       "      <td>0.0</td>\n",
       "      <td>5.0</td>\n",
       "      <td>0.0</td>\n",
       "      <td>1.0</td>\n",
       "      <td>0.0</td>\n",
       "      <td>2.0</td>\n",
       "      <td>0.0</td>\n",
       "      <td>1.0</td>\n",
       "      <td>102</td>\n",
       "      <td>7255500.0</td>\n",
       "    </tr>\n",
       "    <tr>\n",
       "      <th>20914</th>\n",
       "      <td>68130</td>\n",
       "      <td>2014-01-19</td>\n",
       "      <td>63</td>\n",
       "      <td>0.0</td>\n",
       "      <td>16.0</td>\n",
       "      <td>17.0</td>\n",
       "      <td>1.0</td>\n",
       "      <td>2013.0</td>\n",
       "      <td>2.0</td>\n",
       "      <td>10.0</td>\n",
       "      <td>1.0</td>\n",
       "      <td>72</td>\n",
       "      <td>6193900.0</td>\n",
       "    </tr>\n",
       "    <tr>\n",
       "      <th>21112</th>\n",
       "      <td>55560</td>\n",
       "      <td>2014-12-19</td>\n",
       "      <td>64</td>\n",
       "      <td>0.0</td>\n",
       "      <td>3.0</td>\n",
       "      <td>0.0</td>\n",
       "      <td>1.0</td>\n",
       "      <td>2015.0</td>\n",
       "      <td>2.0</td>\n",
       "      <td>0.0</td>\n",
       "      <td>1.0</td>\n",
       "      <td>105</td>\n",
       "      <td>6808600.0</td>\n",
       "    </tr>\n",
       "    <tr>\n",
       "      <th>21647</th>\n",
       "      <td>95445</td>\n",
       "      <td>2014-03-04</td>\n",
       "      <td>58</td>\n",
       "      <td>0.0</td>\n",
       "      <td>0.0</td>\n",
       "      <td>0.0</td>\n",
       "      <td>6.0</td>\n",
       "      <td>0.0</td>\n",
       "      <td>1.0</td>\n",
       "      <td>0.0</td>\n",
       "      <td>1.0</td>\n",
       "      <td>103</td>\n",
       "      <td>7575300.0</td>\n",
       "    </tr>\n",
       "    <tr>\n",
       "      <th>21782</th>\n",
       "      <td>75599</td>\n",
       "      <td>2014-06-02</td>\n",
       "      <td>45</td>\n",
       "      <td>0.0</td>\n",
       "      <td>8.0</td>\n",
       "      <td>0.0</td>\n",
       "      <td>1.0</td>\n",
       "      <td>0.0</td>\n",
       "      <td>1.0</td>\n",
       "      <td>0.0</td>\n",
       "      <td>1.0</td>\n",
       "      <td>102</td>\n",
       "      <td>4354100.0</td>\n",
       "    </tr>\n",
       "    <tr>\n",
       "      <th>23765</th>\n",
       "      <td>13774</td>\n",
       "      <td>2013-11-29</td>\n",
       "      <td>55</td>\n",
       "      <td>0.0</td>\n",
       "      <td>12.0</td>\n",
       "      <td>0.0</td>\n",
       "      <td>1.0</td>\n",
       "      <td>0.0</td>\n",
       "      <td>2.0</td>\n",
       "      <td>0.0</td>\n",
       "      <td>3.0</td>\n",
       "      <td>65</td>\n",
       "      <td>8939200.0</td>\n",
       "    </tr>\n",
       "    <tr>\n",
       "      <th>24063</th>\n",
       "      <td>11033</td>\n",
       "      <td>2014-08-19</td>\n",
       "      <td>76</td>\n",
       "      <td>0.0</td>\n",
       "      <td>3.0</td>\n",
       "      <td>16.0</td>\n",
       "      <td>4.0</td>\n",
       "      <td>NaN</td>\n",
       "      <td>2.0</td>\n",
       "      <td>1.0</td>\n",
       "      <td>1.0</td>\n",
       "      <td>134</td>\n",
       "      <td>6979000.0</td>\n",
       "    </tr>\n",
       "    <tr>\n",
       "      <th>26061</th>\n",
       "      <td>58044</td>\n",
       "      <td>2014-07-10</td>\n",
       "      <td>61</td>\n",
       "      <td>0.0</td>\n",
       "      <td>7.0</td>\n",
       "      <td>0.0</td>\n",
       "      <td>1.0</td>\n",
       "      <td>2015.0</td>\n",
       "      <td>2.0</td>\n",
       "      <td>0.0</td>\n",
       "      <td>3.0</td>\n",
       "      <td>102</td>\n",
       "      <td>7369500.0</td>\n",
       "    </tr>\n",
       "    <tr>\n",
       "      <th>26478</th>\n",
       "      <td>83212</td>\n",
       "      <td>2014-08-31</td>\n",
       "      <td>85</td>\n",
       "      <td>0.0</td>\n",
       "      <td>8.0</td>\n",
       "      <td>0.0</td>\n",
       "      <td>1.0</td>\n",
       "      <td>0.0</td>\n",
       "      <td>3.0</td>\n",
       "      <td>1.0</td>\n",
       "      <td>1.0</td>\n",
       "      <td>102</td>\n",
       "      <td>10380600.0</td>\n",
       "    </tr>\n",
       "    <tr>\n",
       "      <th>26490</th>\n",
       "      <td>96579</td>\n",
       "      <td>2014-09-17</td>\n",
       "      <td>65</td>\n",
       "      <td>0.0</td>\n",
       "      <td>14.0</td>\n",
       "      <td>17.0</td>\n",
       "      <td>1.0</td>\n",
       "      <td>0.0</td>\n",
       "      <td>2.0</td>\n",
       "      <td>0.0</td>\n",
       "      <td>1.0</td>\n",
       "      <td>103</td>\n",
       "      <td>7343800.0</td>\n",
       "    </tr>\n",
       "    <tr>\n",
       "      <th>26749</th>\n",
       "      <td>42448</td>\n",
       "      <td>2012-11-08</td>\n",
       "      <td>62</td>\n",
       "      <td>0.0</td>\n",
       "      <td>4.0</td>\n",
       "      <td>NaN</td>\n",
       "      <td>NaN</td>\n",
       "      <td>NaN</td>\n",
       "      <td>NaN</td>\n",
       "      <td>NaN</td>\n",
       "      <td>NaN</td>\n",
       "      <td>134</td>\n",
       "      <td>5071200.0</td>\n",
       "    </tr>\n",
       "    <tr>\n",
       "      <th>27065</th>\n",
       "      <td>96136</td>\n",
       "      <td>2014-09-17</td>\n",
       "      <td>38</td>\n",
       "      <td>0.0</td>\n",
       "      <td>18.0</td>\n",
       "      <td>19.0</td>\n",
       "      <td>1.0</td>\n",
       "      <td>2016.0</td>\n",
       "      <td>1.0</td>\n",
       "      <td>0.0</td>\n",
       "      <td>3.0</td>\n",
       "      <td>101</td>\n",
       "      <td>3375300.0</td>\n",
       "    </tr>\n",
       "    <tr>\n",
       "      <th>28250</th>\n",
       "      <td>68545</td>\n",
       "      <td>2012-10-30</td>\n",
       "      <td>44</td>\n",
       "      <td>0.0</td>\n",
       "      <td>9.0</td>\n",
       "      <td>NaN</td>\n",
       "      <td>NaN</td>\n",
       "      <td>NaN</td>\n",
       "      <td>NaN</td>\n",
       "      <td>NaN</td>\n",
       "      <td>NaN</td>\n",
       "      <td>102</td>\n",
       "      <td>5126000.0</td>\n",
       "    </tr>\n",
       "    <tr>\n",
       "      <th>28450</th>\n",
       "      <td>14393</td>\n",
       "      <td>2015-04-13</td>\n",
       "      <td>39</td>\n",
       "      <td>0.0</td>\n",
       "      <td>16.0</td>\n",
       "      <td>17.0</td>\n",
       "      <td>4.0</td>\n",
       "      <td>2014.0</td>\n",
       "      <td>1.0</td>\n",
       "      <td>0.0</td>\n",
       "      <td>1.0</td>\n",
       "      <td>48</td>\n",
       "      <td>5260500.0</td>\n",
       "    </tr>\n",
       "    <tr>\n",
       "      <th>28942</th>\n",
       "      <td>55442</td>\n",
       "      <td>2014-07-11</td>\n",
       "      <td>102</td>\n",
       "      <td>0.0</td>\n",
       "      <td>17.0</td>\n",
       "      <td>0.0</td>\n",
       "      <td>4.0</td>\n",
       "      <td>2015.0</td>\n",
       "      <td>3.0</td>\n",
       "      <td>0.0</td>\n",
       "      <td>3.0</td>\n",
       "      <td>102</td>\n",
       "      <td>12995300.0</td>\n",
       "    </tr>\n",
       "  </tbody>\n",
       "</table>\n",
       "</div>"
      ],
      "text/plain": [
       "          id   timestamp  full_sq  life_sq  floor  max_floor  material  \\\n",
       "1342   85712  2014-11-04       77      0.0   16.0       22.0       1.0   \n",
       "1472   93464  2014-12-25       48      0.0    3.0       12.0       4.0   \n",
       "1995   48166  2014-11-23       37      0.0    9.0       19.0       1.0   \n",
       "2493   40961  2012-07-19       41      0.0   17.0        NaN       NaN   \n",
       "3296   83676  2014-09-06       39      0.0    9.0        0.0       6.0   \n",
       "3423   58505  2015-01-17       41      0.0   19.0       22.0       1.0   \n",
       "3442   56555  2014-06-11       72      0.0   10.0        0.0       2.0   \n",
       "3457   95477  2014-07-30       56      0.0    6.0        0.0       1.0   \n",
       "3593   12269  2014-06-22       52      0.0   11.0       17.0       1.0   \n",
       "3886   18912  2014-10-04       80      0.0   10.0        1.0       2.0   \n",
       "6084   11362  2012-09-17       71      0.0    3.0        NaN       NaN   \n",
       "6787   87551  2013-09-25       37      0.0    6.0       17.0       1.0   \n",
       "6797   22141  2014-04-25       37      0.0   17.0       17.0       1.0   \n",
       "7152   26214  2012-02-08       80      0.0    2.0        NaN       NaN   \n",
       "7747   75894  2015-02-19       78      0.0    4.0       24.0       4.0   \n",
       "8295   99523  2012-04-14       62      0.0    5.0        NaN       NaN   \n",
       "8862   58828  2015-07-01       78      0.0   12.0        0.0       1.0   \n",
       "9169   85614  2014-09-01       43      0.0   15.0       24.0       1.0   \n",
       "10095  79853  2014-09-05       86      0.0    7.0       12.0       1.0   \n",
       "11175  76486  2014-12-29       38      0.0    8.0        0.0       1.0   \n",
       "12343  88407  2014-10-07       55      0.0    8.0        0.0       1.0   \n",
       "12670  17559  2013-12-16      119      0.0    9.0        0.0       1.0   \n",
       "13252  59954  2012-10-14       57      0.0   10.0        NaN       NaN   \n",
       "14239  95587  2015-03-18       59      0.0    2.0        0.0       4.0   \n",
       "15156  37409  2014-04-29       38      0.0    5.0        0.0       1.0   \n",
       "15457  97580  2014-11-20       61      0.0    9.0       17.0       1.0   \n",
       "16666  44905  2013-02-28       62      0.0    6.0        NaN       NaN   \n",
       "17194  57929  2014-08-25       49      0.0    7.0        9.0       1.0   \n",
       "17823  60531  2014-09-01       58      0.0   13.0       19.0       1.0   \n",
       "18802  70096  2014-12-15       60      0.0    5.0        0.0       1.0   \n",
       "20914  68130  2014-01-19       63      0.0   16.0       17.0       1.0   \n",
       "21112  55560  2014-12-19       64      0.0    3.0        0.0       1.0   \n",
       "21647  95445  2014-03-04       58      0.0    0.0        0.0       6.0   \n",
       "21782  75599  2014-06-02       45      0.0    8.0        0.0       1.0   \n",
       "23765  13774  2013-11-29       55      0.0   12.0        0.0       1.0   \n",
       "24063  11033  2014-08-19       76      0.0    3.0       16.0       4.0   \n",
       "26061  58044  2014-07-10       61      0.0    7.0        0.0       1.0   \n",
       "26478  83212  2014-08-31       85      0.0    8.0        0.0       1.0   \n",
       "26490  96579  2014-09-17       65      0.0   14.0       17.0       1.0   \n",
       "26749  42448  2012-11-08       62      0.0    4.0        NaN       NaN   \n",
       "27065  96136  2014-09-17       38      0.0   18.0       19.0       1.0   \n",
       "28250  68545  2012-10-30       44      0.0    9.0        NaN       NaN   \n",
       "28450  14393  2015-04-13       39      0.0   16.0       17.0       4.0   \n",
       "28942  55442  2014-07-11      102      0.0   17.0        0.0       4.0   \n",
       "\n",
       "       build_year  num_room  kitch_sq  apartment_condition  sub_area  \\\n",
       "1342          0.0       3.0       0.0                  1.0       101   \n",
       "1472       2015.0       1.0       0.0                  3.0       102   \n",
       "1995       2015.0       1.0       0.0                  3.0       101   \n",
       "2493          NaN       NaN       NaN                  NaN        72   \n",
       "3296       2016.0       1.0       0.0                  1.0       101   \n",
       "3423       2016.0       1.0       0.0                  1.0       101   \n",
       "3442       2016.0       2.0       0.0                  2.0        94   \n",
       "3457          0.0       2.0      12.0                  1.0       102   \n",
       "3593          0.0       2.0       0.0                  1.0       103   \n",
       "3886       2016.0       3.0       0.0                  1.0        70   \n",
       "6084          NaN       NaN       NaN                  NaN        72   \n",
       "6787       2013.0       1.0       0.0                  1.0        72   \n",
       "6797       2014.0       1.0       0.0                  3.0        34   \n",
       "7152          NaN       NaN       NaN                  NaN        72   \n",
       "7747       2016.0       1.0       1.0                  1.0        32   \n",
       "8295          NaN       NaN       NaN                  NaN        72   \n",
       "8862       2014.0       3.0       0.0                  3.0        18   \n",
       "9169          0.0       1.0       1.0                  1.0       103   \n",
       "10095         0.0       3.0       0.0                  1.0       102   \n",
       "11175      2015.0       1.0       0.0                  1.0       101   \n",
       "12343      2015.0       2.0       0.0                  1.0        86   \n",
       "12670         0.0       5.0       0.0                  1.0        65   \n",
       "13252         NaN       NaN       NaN                  NaN        94   \n",
       "14239      2015.0       2.0       0.0                  1.0       102   \n",
       "15156      2015.0       1.0      11.0                  3.0       105   \n",
       "15457         0.0       2.0       0.0                  1.0        94   \n",
       "16666         NaN       NaN       NaN                  NaN        72   \n",
       "17194         0.0       1.0       0.0                  1.0        97   \n",
       "17823         0.0       2.0       0.0                  1.0       101   \n",
       "18802         0.0       2.0       0.0                  1.0       102   \n",
       "20914      2013.0       2.0      10.0                  1.0        72   \n",
       "21112      2015.0       2.0       0.0                  1.0       105   \n",
       "21647         0.0       1.0       0.0                  1.0       103   \n",
       "21782         0.0       1.0       0.0                  1.0       102   \n",
       "23765         0.0       2.0       0.0                  3.0        65   \n",
       "24063         NaN       2.0       1.0                  1.0       134   \n",
       "26061      2015.0       2.0       0.0                  3.0       102   \n",
       "26478         0.0       3.0       1.0                  1.0       102   \n",
       "26490         0.0       2.0       0.0                  1.0       103   \n",
       "26749         NaN       NaN       NaN                  NaN       134   \n",
       "27065      2016.0       1.0       0.0                  3.0       101   \n",
       "28250         NaN       NaN       NaN                  NaN       102   \n",
       "28450      2014.0       1.0       0.0                  1.0        48   \n",
       "28942      2015.0       3.0       0.0                  3.0       102   \n",
       "\n",
       "            price  \n",
       "1342    5857100.0  \n",
       "1472    5272500.0  \n",
       "1995    3833300.0  \n",
       "2493     682600.0  \n",
       "3296    3299800.0  \n",
       "3423    4499100.0  \n",
       "3442    8450200.0  \n",
       "3457    4881000.0  \n",
       "3593    6828600.0  \n",
       "3886   11961400.0  \n",
       "6084    1430000.0  \n",
       "6787    3962600.0  \n",
       "6797    3965100.0  \n",
       "7152     553900.0  \n",
       "7747    9634200.0  \n",
       "8295     363600.0  \n",
       "8862    1209600.0  \n",
       "9169    5854500.0  \n",
       "10095   8179900.0  \n",
       "11175   3866500.0  \n",
       "12343   4848900.0  \n",
       "12670  15513300.0  \n",
       "13252   5533700.0  \n",
       "14239   6862800.0  \n",
       "15156   5111600.0  \n",
       "15457   5907500.0  \n",
       "16666   5549800.0  \n",
       "17194   3486800.0  \n",
       "17823   4646000.0  \n",
       "18802   7255500.0  \n",
       "20914   6193900.0  \n",
       "21112   6808600.0  \n",
       "21647   7575300.0  \n",
       "21782   4354100.0  \n",
       "23765   8939200.0  \n",
       "24063   6979000.0  \n",
       "26061   7369500.0  \n",
       "26478  10380600.0  \n",
       "26490   7343800.0  \n",
       "26749   5071200.0  \n",
       "27065   3375300.0  \n",
       "28250   5126000.0  \n",
       "28450   5260500.0  \n",
       "28942  12995300.0  "
      ]
     },
     "execution_count": 246,
     "metadata": {},
     "output_type": "execute_result"
    }
   ],
   "source": [
    "df_whole_train[df_whole_train['life_sq'] == 0][df_whole_train.columns[:13]]"
   ]
  },
  {
   "cell_type": "markdown",
   "metadata": {
    "ExecuteTime": {
     "end_time": "2021-03-11T18:53:49.323536Z",
     "start_time": "2021-03-11T18:53:49.312299Z"
    }
   },
   "source": [
    "Для 0 значений можно считать что эта фича не заполнена"
   ]
  },
  {
   "cell_type": "code",
   "execution_count": 255,
   "metadata": {
    "ExecuteTime": {
     "end_time": "2021-03-11T18:56:25.809287Z",
     "start_time": "2021-03-11T18:56:25.793850Z"
    }
   },
   "outputs": [
    {
     "data": {
      "text/plain": [
       "array([281., 325., 349., 407., 426., 435., 458., 637., 802.,  nan])"
      ]
     },
     "execution_count": 255,
     "metadata": {},
     "output_type": "execute_result"
    }
   ],
   "source": [
    "np.sort(df_whole_train['life_sq'].unique())[-10:]"
   ]
  },
  {
   "cell_type": "code",
   "execution_count": 256,
   "metadata": {
    "ExecuteTime": {
     "end_time": "2021-03-11T18:56:27.002944Z",
     "start_time": "2021-03-11T18:56:26.967004Z"
    }
   },
   "outputs": [
    {
     "data": {
      "text/html": [
       "<div>\n",
       "<style scoped>\n",
       "    .dataframe tbody tr th:only-of-type {\n",
       "        vertical-align: middle;\n",
       "    }\n",
       "\n",
       "    .dataframe tbody tr th {\n",
       "        vertical-align: top;\n",
       "    }\n",
       "\n",
       "    .dataframe thead th {\n",
       "        text-align: right;\n",
       "    }\n",
       "</style>\n",
       "<table border=\"1\" class=\"dataframe\">\n",
       "  <thead>\n",
       "    <tr style=\"text-align: right;\">\n",
       "      <th></th>\n",
       "      <th>id</th>\n",
       "      <th>timestamp</th>\n",
       "      <th>full_sq</th>\n",
       "      <th>life_sq</th>\n",
       "      <th>floor</th>\n",
       "      <th>max_floor</th>\n",
       "      <th>material</th>\n",
       "      <th>build_year</th>\n",
       "      <th>num_room</th>\n",
       "      <th>kitch_sq</th>\n",
       "      <th>apartment_condition</th>\n",
       "      <th>sub_area</th>\n",
       "      <th>price</th>\n",
       "    </tr>\n",
       "  </thead>\n",
       "  <tbody>\n",
       "    <tr>\n",
       "      <th>3039</th>\n",
       "      <td>37439</td>\n",
       "      <td>2012-11-16</td>\n",
       "      <td>74</td>\n",
       "      <td>426.0</td>\n",
       "      <td>17.0</td>\n",
       "      <td>NaN</td>\n",
       "      <td>NaN</td>\n",
       "      <td>NaN</td>\n",
       "      <td>NaN</td>\n",
       "      <td>NaN</td>\n",
       "      <td>NaN</td>\n",
       "      <td>137</td>\n",
       "      <td>12132900.0</td>\n",
       "    </tr>\n",
       "    <tr>\n",
       "      <th>5041</th>\n",
       "      <td>52414</td>\n",
       "      <td>2011-10-20</td>\n",
       "      <td>326</td>\n",
       "      <td>325.0</td>\n",
       "      <td>7.0</td>\n",
       "      <td>NaN</td>\n",
       "      <td>NaN</td>\n",
       "      <td>NaN</td>\n",
       "      <td>NaN</td>\n",
       "      <td>NaN</td>\n",
       "      <td>NaN</td>\n",
       "      <td>33</td>\n",
       "      <td>5285000.0</td>\n",
       "    </tr>\n",
       "    <tr>\n",
       "      <th>6172</th>\n",
       "      <td>32115</td>\n",
       "      <td>2014-10-20</td>\n",
       "      <td>639</td>\n",
       "      <td>637.0</td>\n",
       "      <td>18.0</td>\n",
       "      <td>19.0</td>\n",
       "      <td>4.0</td>\n",
       "      <td>2016.0</td>\n",
       "      <td>2.0</td>\n",
       "      <td>10.0</td>\n",
       "      <td>1.0</td>\n",
       "      <td>134</td>\n",
       "      <td>5150400.0</td>\n",
       "    </tr>\n",
       "    <tr>\n",
       "      <th>12387</th>\n",
       "      <td>89638</td>\n",
       "      <td>2013-09-02</td>\n",
       "      <td>84</td>\n",
       "      <td>802.0</td>\n",
       "      <td>5.0</td>\n",
       "      <td>NaN</td>\n",
       "      <td>NaN</td>\n",
       "      <td>NaN</td>\n",
       "      <td>NaN</td>\n",
       "      <td>NaN</td>\n",
       "      <td>NaN</td>\n",
       "      <td>18</td>\n",
       "      <td>13198300.0</td>\n",
       "    </tr>\n",
       "    <tr>\n",
       "      <th>15064</th>\n",
       "      <td>90717</td>\n",
       "      <td>2014-08-01</td>\n",
       "      <td>52</td>\n",
       "      <td>349.0</td>\n",
       "      <td>1.0</td>\n",
       "      <td>9.0</td>\n",
       "      <td>1.0</td>\n",
       "      <td>1979.0</td>\n",
       "      <td>3.0</td>\n",
       "      <td>6.0</td>\n",
       "      <td>2.0</td>\n",
       "      <td>124</td>\n",
       "      <td>7538300.0</td>\n",
       "    </tr>\n",
       "    <tr>\n",
       "      <th>21331</th>\n",
       "      <td>13539</td>\n",
       "      <td>2013-08-18</td>\n",
       "      <td>77</td>\n",
       "      <td>458.0</td>\n",
       "      <td>12.0</td>\n",
       "      <td>16.0</td>\n",
       "      <td>1.0</td>\n",
       "      <td>1996.0</td>\n",
       "      <td>3.0</td>\n",
       "      <td>10.0</td>\n",
       "      <td>3.0</td>\n",
       "      <td>37</td>\n",
       "      <td>13928700.0</td>\n",
       "    </tr>\n",
       "    <tr>\n",
       "      <th>21818</th>\n",
       "      <td>51155</td>\n",
       "      <td>2015-01-06</td>\n",
       "      <td>75</td>\n",
       "      <td>435.0</td>\n",
       "      <td>3.0</td>\n",
       "      <td>22.0</td>\n",
       "      <td>1.0</td>\n",
       "      <td>1999.0</td>\n",
       "      <td>3.0</td>\n",
       "      <td>9.0</td>\n",
       "      <td>3.0</td>\n",
       "      <td>65</td>\n",
       "      <td>14254500.0</td>\n",
       "    </tr>\n",
       "    <tr>\n",
       "      <th>26966</th>\n",
       "      <td>73754</td>\n",
       "      <td>2015-02-23</td>\n",
       "      <td>409</td>\n",
       "      <td>407.0</td>\n",
       "      <td>4.0</td>\n",
       "      <td>4.0</td>\n",
       "      <td>4.0</td>\n",
       "      <td>2015.0</td>\n",
       "      <td>1.0</td>\n",
       "      <td>10.0</td>\n",
       "      <td>1.0</td>\n",
       "      <td>24</td>\n",
       "      <td>3140300.0</td>\n",
       "    </tr>\n",
       "  </tbody>\n",
       "</table>\n",
       "</div>"
      ],
      "text/plain": [
       "          id   timestamp  full_sq  life_sq  floor  max_floor  material  \\\n",
       "3039   37439  2012-11-16       74    426.0   17.0        NaN       NaN   \n",
       "5041   52414  2011-10-20      326    325.0    7.0        NaN       NaN   \n",
       "6172   32115  2014-10-20      639    637.0   18.0       19.0       4.0   \n",
       "12387  89638  2013-09-02       84    802.0    5.0        NaN       NaN   \n",
       "15064  90717  2014-08-01       52    349.0    1.0        9.0       1.0   \n",
       "21331  13539  2013-08-18       77    458.0   12.0       16.0       1.0   \n",
       "21818  51155  2015-01-06       75    435.0    3.0       22.0       1.0   \n",
       "26966  73754  2015-02-23      409    407.0    4.0        4.0       4.0   \n",
       "\n",
       "       build_year  num_room  kitch_sq  apartment_condition  sub_area  \\\n",
       "3039          NaN       NaN       NaN                  NaN       137   \n",
       "5041          NaN       NaN       NaN                  NaN        33   \n",
       "6172       2016.0       2.0      10.0                  1.0       134   \n",
       "12387         NaN       NaN       NaN                  NaN        18   \n",
       "15064      1979.0       3.0       6.0                  2.0       124   \n",
       "21331      1996.0       3.0      10.0                  3.0        37   \n",
       "21818      1999.0       3.0       9.0                  3.0        65   \n",
       "26966      2015.0       1.0      10.0                  1.0        24   \n",
       "\n",
       "            price  \n",
       "3039   12132900.0  \n",
       "5041    5285000.0  \n",
       "6172    5150400.0  \n",
       "12387  13198300.0  \n",
       "15064   7538300.0  \n",
       "21331  13928700.0  \n",
       "21818  14254500.0  \n",
       "26966   3140300.0  "
      ]
     },
     "execution_count": 256,
     "metadata": {},
     "output_type": "execute_result"
    }
   ],
   "source": [
    "df_whole_train[df_whole_train['life_sq'] > 281][df_whole_train.columns[:13]]"
   ]
  },
  {
   "cell_type": "code",
   "execution_count": 257,
   "metadata": {
    "ExecuteTime": {
     "end_time": "2021-03-11T18:56:32.469168Z",
     "start_time": "2021-03-11T18:56:32.457254Z"
    }
   },
   "outputs": [
    {
     "data": {
      "text/plain": [
       "array([  85.,   88.,   99.,  115.,  123.,  136.,  149.,  301., 7478.,\n",
       "         nan])"
      ]
     },
     "execution_count": 257,
     "metadata": {},
     "output_type": "execute_result"
    }
   ],
   "source": [
    "np.sort(df_whole_test['life_sq'].unique())[-10:]"
   ]
  },
  {
   "cell_type": "code",
   "execution_count": 258,
   "metadata": {
    "ExecuteTime": {
     "end_time": "2021-03-11T18:56:33.785622Z",
     "start_time": "2021-03-11T18:56:33.752402Z"
    }
   },
   "outputs": [
    {
     "data": {
      "text/html": [
       "<div>\n",
       "<style scoped>\n",
       "    .dataframe tbody tr th:only-of-type {\n",
       "        vertical-align: middle;\n",
       "    }\n",
       "\n",
       "    .dataframe tbody tr th {\n",
       "        vertical-align: top;\n",
       "    }\n",
       "\n",
       "    .dataframe thead th {\n",
       "        text-align: right;\n",
       "    }\n",
       "</style>\n",
       "<table border=\"1\" class=\"dataframe\">\n",
       "  <thead>\n",
       "    <tr style=\"text-align: right;\">\n",
       "      <th></th>\n",
       "      <th>id</th>\n",
       "      <th>timestamp</th>\n",
       "      <th>full_sq</th>\n",
       "      <th>life_sq</th>\n",
       "      <th>floor</th>\n",
       "      <th>max_floor</th>\n",
       "      <th>material</th>\n",
       "      <th>build_year</th>\n",
       "      <th>num_room</th>\n",
       "      <th>kitch_sq</th>\n",
       "      <th>apartment_condition</th>\n",
       "      <th>sub_area</th>\n",
       "    </tr>\n",
       "  </thead>\n",
       "  <tbody>\n",
       "    <tr>\n",
       "      <th>188</th>\n",
       "      <td>71980</td>\n",
       "      <td>2013-08-15</td>\n",
       "      <td>48</td>\n",
       "      <td>301.0</td>\n",
       "      <td>4.0</td>\n",
       "      <td>12.0</td>\n",
       "      <td>1.0</td>\n",
       "      <td>1973.0</td>\n",
       "      <td>2.0</td>\n",
       "      <td>6.0</td>\n",
       "      <td>2.0</td>\n",
       "      <td>11</td>\n",
       "    </tr>\n",
       "    <tr>\n",
       "      <th>535</th>\n",
       "      <td>24392</td>\n",
       "      <td>2014-01-28</td>\n",
       "      <td>79</td>\n",
       "      <td>7478.0</td>\n",
       "      <td>8.0</td>\n",
       "      <td>17.0</td>\n",
       "      <td>1.0</td>\n",
       "      <td>2014.0</td>\n",
       "      <td>3.0</td>\n",
       "      <td>1.0</td>\n",
       "      <td>1.0</td>\n",
       "      <td>105</td>\n",
       "    </tr>\n",
       "  </tbody>\n",
       "</table>\n",
       "</div>"
      ],
      "text/plain": [
       "        id   timestamp  full_sq  life_sq  floor  max_floor  material  \\\n",
       "188  71980  2013-08-15       48    301.0    4.0       12.0       1.0   \n",
       "535  24392  2014-01-28       79   7478.0    8.0       17.0       1.0   \n",
       "\n",
       "     build_year  num_room  kitch_sq  apartment_condition  sub_area  \n",
       "188      1973.0       2.0       6.0                  2.0        11  \n",
       "535      2014.0       3.0       1.0                  1.0       105  "
      ]
     },
     "execution_count": 258,
     "metadata": {},
     "output_type": "execute_result"
    }
   ],
   "source": [
    "df_whole_test[df_whole_test['life_sq'] > 150][df_whole_test.columns[:12]]"
   ]
  },
  {
   "cell_type": "markdown",
   "metadata": {
    "ExecuteTime": {
     "end_time": "2021-03-11T18:58:07.190935Z",
     "start_time": "2021-03-11T18:58:07.183715Z"
    }
   },
   "source": [
    "Можно заметить что есть много значений, в которых жилая площадь больше общей. Их тоже нужно считать как пропуски"
   ]
  },
  {
   "cell_type": "markdown",
   "metadata": {
    "ExecuteTime": {
     "end_time": "2021-03-11T18:59:34.365859Z",
     "start_time": "2021-03-11T18:59:34.351350Z"
    }
   },
   "source": [
    "Попробуем заменить эти значения по следующему правилу общая площадь умножить среднее соотношение жилой к общей"
   ]
  },
  {
   "cell_type": "code",
   "execution_count": 261,
   "metadata": {
    "ExecuteTime": {
     "end_time": "2021-03-11T19:00:41.424304Z",
     "start_time": "2021-03-11T19:00:41.401965Z"
    }
   },
   "outputs": [
    {
     "data": {
      "text/plain": [
       "72"
      ]
     },
     "execution_count": 261,
     "metadata": {},
     "output_type": "execute_result"
    }
   ],
   "source": [
    "mask = (\n",
    "    (df_whole_train['life_sq'] == 0)\n",
    "    | (df_whole_train['life_sq'] > df_whole_train['full_sq'])\n",
    ")\n",
    "mask.sum()"
   ]
  },
  {
   "cell_type": "code",
   "execution_count": 262,
   "metadata": {
    "ExecuteTime": {
     "end_time": "2021-03-11T19:01:38.693013Z",
     "start_time": "2021-03-11T19:01:38.659629Z"
    }
   },
   "outputs": [
    {
     "data": {
      "text/plain": [
       "count    22850.000000\n",
       "mean         0.621961\n",
       "std          0.180030\n",
       "min          0.007353\n",
       "25%          0.526316\n",
       "50%          0.586957\n",
       "75%          0.659091\n",
       "max          1.000000\n",
       "dtype: float64"
      ]
     },
     "execution_count": 262,
     "metadata": {},
     "output_type": "execute_result"
    }
   ],
   "source": [
    "(df_whole_train.loc[~mask, 'life_sq'] / df_whole_train.loc[~mask, 'full_sq']).describe()"
   ]
  },
  {
   "cell_type": "markdown",
   "metadata": {
    "ExecuteTime": {
     "end_time": "2021-03-11T19:02:08.413756Z",
     "start_time": "2021-03-11T19:02:08.407420Z"
    }
   },
   "source": [
    "В среднем 62%. Попробуем заменить"
   ]
  },
  {
   "cell_type": "code",
   "execution_count": 264,
   "metadata": {
    "ExecuteTime": {
     "end_time": "2021-03-11T19:04:51.232342Z",
     "start_time": "2021-03-11T19:04:51.191696Z"
    }
   },
   "outputs": [],
   "source": [
    "X = df_whole_train.drop(columns=['id', 'timestamp', 'price'])\n",
    "X_test = df_whole_test.drop(columns=['id', 'timestamp'])\n",
    "y = df_whole_train.loc[:, 'price']"
   ]
  },
  {
   "cell_type": "code",
   "execution_count": 265,
   "metadata": {
    "ExecuteTime": {
     "end_time": "2021-03-11T19:04:58.923732Z",
     "start_time": "2021-03-11T19:04:58.902958Z"
    }
   },
   "outputs": [],
   "source": [
    "mask = (X['life_sq'] == 0) | (X['life_sq'] > X['full_sq'])\n",
    "X.loc[mask, 'life_sq'] = X.loc[mask, 'full_sq'] * 0.62\n",
    "mask = (X_test['life_sq'] == 0) | (X_test['life_sq'] > X_test['full_sq'])\n",
    "X_test.loc[mask, 'life_sq'] = X_test.loc[mask, 'full_sq'] * 0.62"
   ]
  },
  {
   "cell_type": "code",
   "execution_count": 266,
   "metadata": {
    "ExecuteTime": {
     "end_time": "2021-03-11T19:05:06.981690Z",
     "start_time": "2021-03-11T19:05:01.040955Z"
    }
   },
   "outputs": [
    {
     "name": "stdout",
     "output_type": "stream",
     "text": [
      "[100]\tcv_agg's train rmse: 2.09917e+06 + 11191\tcv_agg's valid rmse: 2.8085e+06 + 106572\n",
      "[200]\tcv_agg's train rmse: 1.84279e+06 + 8954.82\tcv_agg's valid rmse: 2.79602e+06 + 104806\n",
      "[300]\tcv_agg's train rmse: 1.66328e+06 + 9925.12\tcv_agg's valid rmse: 2.79955e+06 + 106896\n"
     ]
    }
   ],
   "source": [
    "lgb_train = Dataset(X, y)\n",
    "lgb_cv_res = cv(\n",
    "    params={\n",
    "        'objective': 'regression',\n",
    "        'metric': 'rmse',\n",
    "        'verbosity': -1,\n",
    "        'seed': seed,\n",
    "    },\n",
    "    train_set=lgb_train,\n",
    "    num_boost_round=100_000,\n",
    "    stratified=False,\n",
    "    early_stopping_rounds=100,\n",
    "    verbose_eval=100,\n",
    "    eval_train_metric=True,\n",
    "    return_cvbooster=True,\n",
    ")"
   ]
  },
  {
   "cell_type": "code",
   "execution_count": 267,
   "metadata": {
    "ExecuteTime": {
     "end_time": "2021-03-11T19:05:47.783517Z",
     "start_time": "2021-03-11T19:05:47.646428Z"
    }
   },
   "outputs": [],
   "source": [
    "df_submit_2 = pd.DataFrame(index=df_whole_test.index)\n",
    "df_submit_2['id'] = df_whole_test['id']\n",
    "df_submit_2['predicted_price'] = np.mean([b.predict(X_test) for b in lgb_cv_res['cvbooster'].boosters], axis=0)\n",
    "df_submit_2.to_csv(path_.join(submits_path, 'submit_2_life_sq_handle_wrong_value.csv'))"
   ]
  },
  {
   "cell_type": "markdown",
   "metadata": {},
   "source": [
    "RMSE = 2476381.6438. Такой способ ухудшает качество"
   ]
  },
  {
   "cell_type": "markdown",
   "metadata": {},
   "source": [
    "Заменим только выброс на тесте"
   ]
  },
  {
   "cell_type": "code",
   "execution_count": 269,
   "metadata": {
    "ExecuteTime": {
     "end_time": "2021-03-11T19:09:14.900701Z",
     "start_time": "2021-03-11T19:09:14.878306Z"
    }
   },
   "outputs": [],
   "source": [
    "X = df_whole_train.drop(columns=['id', 'timestamp', 'price'])\n",
    "X_test = df_whole_test.drop(columns=['id', 'timestamp'])\n",
    "y = df_whole_train.loc[:, 'price']"
   ]
  },
  {
   "cell_type": "code",
   "execution_count": 270,
   "metadata": {
    "ExecuteTime": {
     "end_time": "2021-03-11T19:09:15.075793Z",
     "start_time": "2021-03-11T19:09:15.063919Z"
    }
   },
   "outputs": [],
   "source": [
    "X_test['life_sq'] = X_test['life_sq'].replace(7478.0, 75)"
   ]
  },
  {
   "cell_type": "code",
   "execution_count": 271,
   "metadata": {
    "ExecuteTime": {
     "end_time": "2021-03-11T19:10:01.279544Z",
     "start_time": "2021-03-11T19:09:20.669307Z"
    }
   },
   "outputs": [
    {
     "name": "stdout",
     "output_type": "stream",
     "text": [
      "[100]\tcv_agg's train rmse: 2.09814e+06 + 12206.4\tcv_agg's valid rmse: 2.80794e+06 + 113151\n",
      "[200]\tcv_agg's train rmse: 1.84599e+06 + 8128.96\tcv_agg's valid rmse: 2.79684e+06 + 111664\n"
     ]
    }
   ],
   "source": [
    "lgb_train = Dataset(X, y)\n",
    "lgb_cv_res = cv(\n",
    "    params={\n",
    "        'objective': 'regression',\n",
    "        'metric': 'rmse',\n",
    "        'verbosity': -1,\n",
    "        'seed': seed,\n",
    "    },\n",
    "    train_set=lgb_train,\n",
    "    num_boost_round=100_000,\n",
    "    stratified=False,\n",
    "    early_stopping_rounds=100,\n",
    "    verbose_eval=100,\n",
    "    eval_train_metric=True,\n",
    "    return_cvbooster=True,\n",
    ")"
   ]
  },
  {
   "cell_type": "code",
   "execution_count": 272,
   "metadata": {
    "ExecuteTime": {
     "end_time": "2021-03-11T19:11:05.513425Z",
     "start_time": "2021-03-11T19:11:05.390715Z"
    }
   },
   "outputs": [],
   "source": [
    "df_submit_2 = pd.DataFrame(index=df_whole_test.index)\n",
    "df_submit_2['id'] = df_whole_test['id']\n",
    "df_submit_2['predicted_price'] = np.mean([b.predict(X_test) for b in lgb_cv_res['cvbooster'].boosters], axis=0)\n",
    "df_submit_2.to_csv(path_.join(submits_path, 'submit_2_life_sq_handle_outliers_on_test.csv'))"
   ]
  },
  {
   "cell_type": "markdown",
   "metadata": {},
   "source": [
    "RMSE = 2470695.3843."
   ]
  },
  {
   "cell_type": "code",
   "execution_count": 273,
   "metadata": {
    "ExecuteTime": {
     "end_time": "2021-03-11T19:12:56.975657Z",
     "start_time": "2021-03-11T19:12:56.959620Z"
    }
   },
   "outputs": [],
   "source": [
    "df_whole_test['life_sq'] = df_whole_test['life_sq'].replace(7478.0, 75.0)"
   ]
  },
  {
   "cell_type": "markdown",
   "metadata": {
    "ExecuteTime": {
     "end_time": "2021-03-11T19:13:59.981043Z",
     "start_time": "2021-03-11T19:13:59.968554Z"
    }
   },
   "source": [
    "Посмотрим на соотношение фичей life_sq и full_sq"
   ]
  },
  {
   "cell_type": "code",
   "execution_count": 275,
   "metadata": {
    "ExecuteTime": {
     "end_time": "2021-03-11T19:14:36.780018Z",
     "start_time": "2021-03-11T19:14:36.329125Z"
    }
   },
   "outputs": [
    {
     "data": {
      "text/plain": [
       "<seaborn.axisgrid.FacetGrid at 0x7fe86475bdd8>"
      ]
     },
     "execution_count": 275,
     "metadata": {},
     "output_type": "execute_result"
    },
    {
     "data": {
      "image/png": "[encoded data removed]",
      "text/plain": [
       "<Figure size 360x360 with 1 Axes>"
      ]
     },
     "metadata": {
      "needs_background": "light"
     },
     "output_type": "display_data"
    }
   ],
   "source": [
    "sns.relplot(x='life_sq', y='full_sq', data=df_whole_train)"
   ]
  },
  {
   "cell_type": "markdown",
   "metadata": {
    "ExecuteTime": {
     "end_time": "2021-03-11T19:17:31.802075Z",
     "start_time": "2021-03-11T19:17:31.750861Z"
    }
   },
   "source": [
    "Попробуем обработать те квартиры где жилая площадь превышает общую"
   ]
  },
  {
   "cell_type": "code",
   "execution_count": 277,
   "metadata": {
    "ExecuteTime": {
     "end_time": "2021-03-11T19:18:49.962089Z",
     "start_time": "2021-03-11T19:18:49.928911Z"
    }
   },
   "outputs": [],
   "source": [
    "X = df_whole_train.drop(columns=['id', 'timestamp', 'price'])\n",
    "X_test = df_whole_test.drop(columns=['id', 'timestamp'])\n",
    "y = df_whole_train.loc[:, 'price']"
   ]
  },
  {
   "cell_type": "code",
   "execution_count": 278,
   "metadata": {
    "ExecuteTime": {
     "end_time": "2021-03-11T19:19:58.938854Z",
     "start_time": "2021-03-11T19:19:58.922526Z"
    }
   },
   "outputs": [],
   "source": [
    "mask = X['life_sq'] > X['full_sq']\n",
    "X.loc[mask, 'life_sq'] = X.loc[mask, 'life_sq'] / 10.0\n",
    "mask = X_test['life_sq'] > X_test['full_sq']\n",
    "X_test.loc[mask, 'life_sq'] = X_test.loc[mask, 'life_sq'] / 10.0"
   ]
  },
  {
   "cell_type": "code",
   "execution_count": 279,
   "metadata": {
    "ExecuteTime": {
     "end_time": "2021-03-11T19:20:12.064790Z",
     "start_time": "2021-03-11T19:20:07.164846Z"
    }
   },
   "outputs": [
    {
     "name": "stdout",
     "output_type": "stream",
     "text": [
      "[100]\tcv_agg's train rmse: 2.09921e+06 + 9700.59\tcv_agg's valid rmse: 2.80548e+06 + 113318\n",
      "[200]\tcv_agg's train rmse: 1.84067e+06 + 7935.73\tcv_agg's valid rmse: 2.78897e+06 + 103590\n",
      "[300]\tcv_agg's train rmse: 1.66272e+06 + 9533.35\tcv_agg's valid rmse: 2.79428e+06 + 96803.5\n"
     ]
    }
   ],
   "source": [
    "lgb_train = Dataset(X, y)\n",
    "lgb_cv_res = cv(\n",
    "    params={\n",
    "        'objective': 'regression',\n",
    "        'metric': 'rmse',\n",
    "        'verbosity': -1,\n",
    "        'seed': seed,\n",
    "    },\n",
    "    train_set=lgb_train,\n",
    "    num_boost_round=100_000,\n",
    "    stratified=False,\n",
    "    early_stopping_rounds=100,\n",
    "    verbose_eval=100,\n",
    "    eval_train_metric=True,\n",
    "    return_cvbooster=True,\n",
    ")"
   ]
  },
  {
   "cell_type": "code",
   "execution_count": 280,
   "metadata": {
    "ExecuteTime": {
     "end_time": "2021-03-11T19:20:59.225488Z",
     "start_time": "2021-03-11T19:20:59.085356Z"
    }
   },
   "outputs": [],
   "source": [
    "df_submit_2 = pd.DataFrame(index=df_whole_test.index)\n",
    "df_submit_2['id'] = df_whole_test['id']\n",
    "df_submit_2['predicted_price'] = np.mean([b.predict(X_test) for b in lgb_cv_res['cvbooster'].boosters], axis=0)\n",
    "df_submit_2.to_csv(path_.join(submits_path, 'submit_2_life_sq_handle_greatest_full_sq.csv'))"
   ]
  },
  {
   "cell_type": "markdown",
   "metadata": {},
   "source": [
    "RMSE = 2496732.1980. Так только хуже, попробуем их удалить на трейне а на тесте заменить"
   ]
  },
  {
   "cell_type": "code",
   "execution_count": 287,
   "metadata": {
    "ExecuteTime": {
     "end_time": "2021-03-11T19:24:02.183302Z",
     "start_time": "2021-03-11T19:24:02.168951Z"
    }
   },
   "outputs": [],
   "source": [
    "X = df_whole_train.drop(columns=['id', 'timestamp', 'price'])\n",
    "X_test = df_whole_test.drop(columns=['id', 'timestamp'])\n",
    "y = df_whole_train.loc[:, 'price']"
   ]
  },
  {
   "cell_type": "code",
   "execution_count": 288,
   "metadata": {
    "ExecuteTime": {
     "end_time": "2021-03-11T19:24:02.417547Z",
     "start_time": "2021-03-11T19:24:02.401592Z"
    }
   },
   "outputs": [],
   "source": [
    "mask = X['life_sq'] > X['full_sq']\n",
    "X = X.loc[~mask, :]\n",
    "y = y[~mask]\n",
    "mask = X_test['life_sq'] > X_test['full_sq']\n",
    "X_test.loc[mask, 'life_sq'] = X_test.loc[mask, 'life_sq'] / 10.0"
   ]
  },
  {
   "cell_type": "code",
   "execution_count": 289,
   "metadata": {
    "ExecuteTime": {
     "end_time": "2021-03-11T19:24:10.540765Z",
     "start_time": "2021-03-11T19:24:04.465854Z"
    }
   },
   "outputs": [
    {
     "name": "stdout",
     "output_type": "stream",
     "text": [
      "[100]\tcv_agg's train rmse: 2.09825e+06 + 3802.81\tcv_agg's valid rmse: 2.7974e+06 + 117967\n",
      "[200]\tcv_agg's train rmse: 1.84295e+06 + 6938.77\tcv_agg's valid rmse: 2.77872e+06 + 109843\n",
      "[300]\tcv_agg's train rmse: 1.65815e+06 + 8529.1\tcv_agg's valid rmse: 2.7784e+06 + 111210\n"
     ]
    }
   ],
   "source": [
    "lgb_train = Dataset(X, y)\n",
    "lgb_cv_res = cv(\n",
    "    params={\n",
    "        'objective': 'regression',\n",
    "        'metric': 'rmse',\n",
    "        'verbosity': -1,\n",
    "        'seed': seed,\n",
    "    },\n",
    "    train_set=lgb_train,\n",
    "    num_boost_round=100_000,\n",
    "    stratified=False,\n",
    "    early_stopping_rounds=100,\n",
    "    verbose_eval=100,\n",
    "    eval_train_metric=True,\n",
    "    return_cvbooster=True,\n",
    ")"
   ]
  },
  {
   "cell_type": "code",
   "execution_count": 290,
   "metadata": {
    "ExecuteTime": {
     "end_time": "2021-03-11T19:24:35.032077Z",
     "start_time": "2021-03-11T19:24:34.887576Z"
    }
   },
   "outputs": [],
   "source": [
    "df_submit_2 = pd.DataFrame(index=df_whole_test.index)\n",
    "df_submit_2['id'] = df_whole_test['id']\n",
    "df_submit_2['predicted_price'] = np.mean([b.predict(X_test) for b in lgb_cv_res['cvbooster'].boosters], axis=0)\n",
    "df_submit_2.to_csv(path_.join(submits_path, 'submit_2_life_sq_handle_greatest_full_sq_v2.csv'))"
   ]
  },
  {
   "cell_type": "markdown",
   "metadata": {},
   "source": [
    "RMSE = 2502719.8118. Так совсем плохо)"
   ]
  },
  {
   "cell_type": "markdown",
   "metadata": {},
   "source": [
    "Посмотрим на фичу green_part"
   ]
  },
  {
   "cell_type": "code",
   "execution_count": 307,
   "metadata": {
    "ExecuteTime": {
     "end_time": "2021-03-11T19:35:04.250258Z",
     "start_time": "2021-03-11T19:35:04.228810Z"
    }
   },
   "outputs": [
    {
     "data": {
      "text/plain": [
       "count    28987.000000\n",
       "mean        13.339972\n",
       "std         15.987800\n",
       "min          0.000000\n",
       "25%          1.480000\n",
       "50%          8.370000\n",
       "75%         19.920000\n",
       "max        100.000000\n",
       "Name: green_part, dtype: float64"
      ]
     },
     "execution_count": 307,
     "metadata": {},
     "output_type": "execute_result"
    }
   ],
   "source": [
    "df_whole_train['green_part'].describe()"
   ]
  },
  {
   "cell_type": "code",
   "execution_count": 308,
   "metadata": {
    "ExecuteTime": {
     "end_time": "2021-03-11T19:35:15.167284Z",
     "start_time": "2021-03-11T19:35:15.147325Z"
    }
   },
   "outputs": [
    {
     "data": {
      "text/plain": [
       "count    1000.000000\n",
       "mean       13.741470\n",
       "std        17.048782\n",
       "min         0.000000\n",
       "25%         1.480000\n",
       "50%         8.245000\n",
       "75%        19.785000\n",
       "max       100.000000\n",
       "Name: green_part, dtype: float64"
      ]
     },
     "execution_count": 308,
     "metadata": {},
     "output_type": "execute_result"
    }
   ],
   "source": [
    "df_whole_test['green_part'].describe()"
   ]
  },
  {
   "cell_type": "markdown",
   "metadata": {},
   "source": [
    "С ней вроде все ок"
   ]
  },
  {
   "cell_type": "markdown",
   "metadata": {},
   "source": [
    "Теперь фича floor"
   ]
  },
  {
   "cell_type": "code",
   "execution_count": 97,
   "metadata": {
    "ExecuteTime": {
     "end_time": "2021-03-11T13:07:30.446602Z",
     "start_time": "2021-03-11T13:07:30.437703Z"
    }
   },
   "outputs": [],
   "source": [
    "df_whole_train = df_whole_train.drop(columns=['life_sq_frac', 'extra_sq'])\n",
    "df_whole_test = df_whole_test.drop(columns=['life_sq_frac', 'extra_sq'])"
   ]
  },
  {
   "cell_type": "code",
   "execution_count": 309,
   "metadata": {
    "ExecuteTime": {
     "end_time": "2021-03-11T19:36:35.339505Z",
     "start_time": "2021-03-11T19:36:35.313005Z"
    }
   },
   "outputs": [
    {
     "data": {
      "text/plain": [
       "count    28830.000000\n",
       "mean         7.666285\n",
       "std          5.318808\n",
       "min          0.000000\n",
       "25%          3.000000\n",
       "50%          6.000000\n",
       "75%         11.000000\n",
       "max         77.000000\n",
       "Name: floor, dtype: float64"
      ]
     },
     "execution_count": 309,
     "metadata": {},
     "output_type": "execute_result"
    }
   ],
   "source": [
    "df_whole_train['floor'].describe()"
   ]
  },
  {
   "cell_type": "code",
   "execution_count": 310,
   "metadata": {
    "ExecuteTime": {
     "end_time": "2021-03-11T19:36:54.534742Z",
     "start_time": "2021-03-11T19:36:54.515970Z"
    }
   },
   "outputs": [
    {
     "data": {
      "text/plain": [
       "count    995.000000\n",
       "mean       7.901508\n",
       "std        5.420390\n",
       "min        1.000000\n",
       "25%        3.000000\n",
       "50%        7.000000\n",
       "75%       11.000000\n",
       "max       26.000000\n",
       "Name: floor, dtype: float64"
      ]
     },
     "execution_count": 310,
     "metadata": {},
     "output_type": "execute_result"
    }
   ],
   "source": [
    "df_whole_test['floor'].describe()"
   ]
  },
  {
   "cell_type": "markdown",
   "metadata": {},
   "source": [
    "Есть выброс на трейне"
   ]
  },
  {
   "cell_type": "code",
   "execution_count": 311,
   "metadata": {
    "ExecuteTime": {
     "end_time": "2021-03-11T19:37:54.533135Z",
     "start_time": "2021-03-11T19:37:54.505174Z"
    }
   },
   "outputs": [
    {
     "data": {
      "text/html": [
       "<div>\n",
       "<style scoped>\n",
       "    .dataframe tbody tr th:only-of-type {\n",
       "        vertical-align: middle;\n",
       "    }\n",
       "\n",
       "    .dataframe tbody tr th {\n",
       "        vertical-align: top;\n",
       "    }\n",
       "\n",
       "    .dataframe thead th {\n",
       "        text-align: right;\n",
       "    }\n",
       "</style>\n",
       "<table border=\"1\" class=\"dataframe\">\n",
       "  <thead>\n",
       "    <tr style=\"text-align: right;\">\n",
       "      <th></th>\n",
       "      <th>id</th>\n",
       "      <th>timestamp</th>\n",
       "      <th>full_sq</th>\n",
       "      <th>life_sq</th>\n",
       "      <th>floor</th>\n",
       "      <th>max_floor</th>\n",
       "      <th>material</th>\n",
       "      <th>build_year</th>\n",
       "      <th>num_room</th>\n",
       "      <th>kitch_sq</th>\n",
       "      <th>apartment_condition</th>\n",
       "      <th>sub_area</th>\n",
       "      <th>price</th>\n",
       "    </tr>\n",
       "  </thead>\n",
       "  <tbody>\n",
       "    <tr>\n",
       "      <th>24220</th>\n",
       "      <td>66291</td>\n",
       "      <td>2014-10-22</td>\n",
       "      <td>58</td>\n",
       "      <td>33.0</td>\n",
       "      <td>77.0</td>\n",
       "      <td>22.0</td>\n",
       "      <td>1.0</td>\n",
       "      <td>1986.0</td>\n",
       "      <td>2.0</td>\n",
       "      <td>10.0</td>\n",
       "      <td>3.0</td>\n",
       "      <td>57</td>\n",
       "      <td>13713700.0</td>\n",
       "    </tr>\n",
       "  </tbody>\n",
       "</table>\n",
       "</div>"
      ],
      "text/plain": [
       "          id   timestamp  full_sq  life_sq  floor  max_floor  material  \\\n",
       "24220  66291  2014-10-22       58     33.0   77.0       22.0       1.0   \n",
       "\n",
       "       build_year  num_room  kitch_sq  apartment_condition  sub_area  \\\n",
       "24220      1986.0       2.0      10.0                  3.0        57   \n",
       "\n",
       "            price  \n",
       "24220  13713700.0  "
      ]
     },
     "execution_count": 311,
     "metadata": {},
     "output_type": "execute_result"
    }
   ],
   "source": [
    "df_whole_train[df_whole_train['floor'] == df_whole_train['floor'].max()][df_whole_train.columns[:13]]"
   ]
  },
  {
   "cell_type": "markdown",
   "metadata": {},
   "source": [
    "Заменим его на максимальное значение этажа"
   ]
  },
  {
   "cell_type": "code",
   "execution_count": 312,
   "metadata": {
    "ExecuteTime": {
     "end_time": "2021-03-11T19:40:38.477733Z",
     "start_time": "2021-03-11T19:40:38.444050Z"
    }
   },
   "outputs": [],
   "source": [
    "X = df_whole_train.drop(columns=['id', 'timestamp', 'price'])\n",
    "X_test = df_whole_test.drop(columns=['id', 'timestamp'])\n",
    "y = df_whole_train.loc[:, 'price']"
   ]
  },
  {
   "cell_type": "code",
   "execution_count": 313,
   "metadata": {
    "ExecuteTime": {
     "end_time": "2021-03-11T19:40:39.404578Z",
     "start_time": "2021-03-11T19:40:39.394682Z"
    }
   },
   "outputs": [],
   "source": [
    "X['floor'] = X['floor'].replace(77.0, 22.0)"
   ]
  },
  {
   "cell_type": "code",
   "execution_count": 314,
   "metadata": {
    "ExecuteTime": {
     "end_time": "2021-03-11T19:40:48.707197Z",
     "start_time": "2021-03-11T19:40:43.267091Z"
    }
   },
   "outputs": [
    {
     "name": "stdout",
     "output_type": "stream",
     "text": [
      "[100]\tcv_agg's train rmse: 2.09553e+06 + 9639\tcv_agg's valid rmse: 2.80361e+06 + 115707\n",
      "[200]\tcv_agg's train rmse: 1.84315e+06 + 8520.81\tcv_agg's valid rmse: 2.79255e+06 + 108113\n",
      "[300]\tcv_agg's train rmse: 1.66158e+06 + 10142.2\tcv_agg's valid rmse: 2.79334e+06 + 103570\n"
     ]
    }
   ],
   "source": [
    "lgb_train = Dataset(X, y)\n",
    "lgb_cv_res = cv(\n",
    "    params={\n",
    "        'objective': 'regression',\n",
    "        'metric': 'rmse',\n",
    "        'verbosity': -1,\n",
    "        'seed': seed,\n",
    "    },\n",
    "    train_set=lgb_train,\n",
    "    num_boost_round=100_000,\n",
    "    stratified=False,\n",
    "    early_stopping_rounds=100,\n",
    "    verbose_eval=100,\n",
    "    eval_train_metric=True,\n",
    "    return_cvbooster=True,\n",
    ")"
   ]
  },
  {
   "cell_type": "code",
   "execution_count": 315,
   "metadata": {
    "ExecuteTime": {
     "end_time": "2021-03-11T19:41:11.596129Z",
     "start_time": "2021-03-11T19:41:11.474732Z"
    }
   },
   "outputs": [],
   "source": [
    "df_submit_2 = pd.DataFrame(index=df_whole_test.index)\n",
    "df_submit_2['id'] = df_whole_test['id']\n",
    "df_submit_2['predicted_price'] = np.mean([b.predict(X_test) for b in lgb_cv_res['cvbooster'].boosters], axis=0)\n",
    "df_submit_2.to_csv(path_.join(submits_path, 'submit_2_floor_handle_outlier_v1.csv'))"
   ]
  },
  {
   "cell_type": "markdown",
   "metadata": {},
   "source": [
    "RMSE = 2473710.8629. Качество стало хуже. Попробуем просто удалить его"
   ]
  },
  {
   "cell_type": "code",
   "execution_count": 321,
   "metadata": {
    "ExecuteTime": {
     "end_time": "2021-03-11T19:43:52.539368Z",
     "start_time": "2021-03-11T19:43:52.517314Z"
    }
   },
   "outputs": [],
   "source": [
    "X = df_whole_train.drop(columns=['id', 'timestamp', 'price'])\n",
    "X_test = df_whole_test.drop(columns=['id', 'timestamp'])\n",
    "y = df_whole_train.loc[:, 'price']"
   ]
  },
  {
   "cell_type": "code",
   "execution_count": 322,
   "metadata": {
    "ExecuteTime": {
     "end_time": "2021-03-11T19:43:52.717480Z",
     "start_time": "2021-03-11T19:43:52.705731Z"
    }
   },
   "outputs": [],
   "source": [
    "mask = X['floor'] != 77.0\n",
    "X = X.loc[mask, :]\n",
    "y = y[mask]"
   ]
  },
  {
   "cell_type": "code",
   "execution_count": 323,
   "metadata": {
    "ExecuteTime": {
     "end_time": "2021-03-11T19:43:58.800076Z",
     "start_time": "2021-03-11T19:43:53.257149Z"
    }
   },
   "outputs": [
    {
     "name": "stdout",
     "output_type": "stream",
     "text": [
      "[100]\tcv_agg's train rmse: 2.09737e+06 + 16218\tcv_agg's valid rmse: 2.80646e+06 + 71014.4\n",
      "[200]\tcv_agg's train rmse: 1.84051e+06 + 15664.1\tcv_agg's valid rmse: 2.78808e+06 + 76978.1\n",
      "[300]\tcv_agg's train rmse: 1.66035e+06 + 11512.4\tcv_agg's valid rmse: 2.78799e+06 + 76338.5\n"
     ]
    }
   ],
   "source": [
    "lgb_train = Dataset(X, y)\n",
    "lgb_cv_res = cv(\n",
    "    params={\n",
    "        'objective': 'regression',\n",
    "        'metric': 'rmse',\n",
    "        'verbosity': -1,\n",
    "        'seed': seed,\n",
    "    },\n",
    "    train_set=lgb_train,\n",
    "    num_boost_round=100_000,\n",
    "    stratified=False,\n",
    "    early_stopping_rounds=100,\n",
    "    verbose_eval=100,\n",
    "    eval_train_metric=True,\n",
    "    return_cvbooster=True,\n",
    ")"
   ]
  },
  {
   "cell_type": "code",
   "execution_count": 324,
   "metadata": {
    "ExecuteTime": {
     "end_time": "2021-03-11T19:44:03.116340Z",
     "start_time": "2021-03-11T19:44:03.023270Z"
    }
   },
   "outputs": [],
   "source": [
    "df_submit_2 = pd.DataFrame(index=df_whole_test.index)\n",
    "df_submit_2['id'] = df_whole_test['id']\n",
    "df_submit_2['predicted_price'] = np.mean([b.predict(X_test) for b in lgb_cv_res['cvbooster'].boosters], axis=0)\n",
    "df_submit_2.to_csv(path_.join(submits_path, 'submit_2_floor_handle_outlier_v2.csv'))"
   ]
  },
  {
   "cell_type": "markdown",
   "metadata": {},
   "source": [
    "RMSE = 2474930.5124. Оставим в покое эту фичу"
   ]
  },
  {
   "cell_type": "markdown",
   "metadata": {},
   "source": [
    "Фича buil_year"
   ]
  },
  {
   "cell_type": "code",
   "execution_count": 325,
   "metadata": {
    "ExecuteTime": {
     "end_time": "2021-03-11T19:45:43.716887Z",
     "start_time": "2021-03-11T19:45:43.696625Z"
    }
   },
   "outputs": [
    {
     "data": {
      "text/plain": [
       "count    1.604800e+04\n",
       "mean     3.128189e+03\n",
       "std      1.582736e+05\n",
       "min      0.000000e+00\n",
       "25%      1.966000e+03\n",
       "50%      1.979000e+03\n",
       "75%      2.005000e+03\n",
       "max      2.005201e+07\n",
       "Name: build_year, dtype: float64"
      ]
     },
     "execution_count": 325,
     "metadata": {},
     "output_type": "execute_result"
    }
   ],
   "source": [
    "df_whole_train['build_year'].describe()"
   ]
  },
  {
   "cell_type": "code",
   "execution_count": 326,
   "metadata": {
    "ExecuteTime": {
     "end_time": "2021-03-11T19:45:58.920831Z",
     "start_time": "2021-03-11T19:45:58.902857Z"
    }
   },
   "outputs": [
    {
     "data": {
      "text/plain": [
       "count     559.000000\n",
       "mean     1917.082290\n",
       "std       360.430612\n",
       "min         0.000000\n",
       "25%      1967.000000\n",
       "50%      1979.000000\n",
       "75%      2004.500000\n",
       "max      2017.000000\n",
       "Name: build_year, dtype: float64"
      ]
     },
     "execution_count": 326,
     "metadata": {},
     "output_type": "execute_result"
    }
   ],
   "source": [
    "df_whole_test['build_year'].describe()"
   ]
  },
  {
   "cell_type": "code",
   "execution_count": 327,
   "metadata": {
    "ExecuteTime": {
     "end_time": "2021-03-11T19:47:23.022301Z",
     "start_time": "2021-03-11T19:47:22.970598Z"
    }
   },
   "outputs": [
    {
     "data": {
      "text/html": [
       "<div>\n",
       "<style scoped>\n",
       "    .dataframe tbody tr th:only-of-type {\n",
       "        vertical-align: middle;\n",
       "    }\n",
       "\n",
       "    .dataframe tbody tr th {\n",
       "        vertical-align: top;\n",
       "    }\n",
       "\n",
       "    .dataframe thead th {\n",
       "        text-align: right;\n",
       "    }\n",
       "</style>\n",
       "<table border=\"1\" class=\"dataframe\">\n",
       "  <thead>\n",
       "    <tr style=\"text-align: right;\">\n",
       "      <th></th>\n",
       "      <th>id</th>\n",
       "      <th>timestamp</th>\n",
       "      <th>full_sq</th>\n",
       "      <th>life_sq</th>\n",
       "      <th>floor</th>\n",
       "      <th>max_floor</th>\n",
       "      <th>material</th>\n",
       "      <th>build_year</th>\n",
       "      <th>num_room</th>\n",
       "      <th>kitch_sq</th>\n",
       "      <th>apartment_condition</th>\n",
       "      <th>sub_area</th>\n",
       "      <th>price</th>\n",
       "    </tr>\n",
       "  </thead>\n",
       "  <tbody>\n",
       "    <tr>\n",
       "      <th>21</th>\n",
       "      <td>62937</td>\n",
       "      <td>2014-03-10</td>\n",
       "      <td>52</td>\n",
       "      <td>51.0</td>\n",
       "      <td>3.0</td>\n",
       "      <td>17.0</td>\n",
       "      <td>1.0</td>\n",
       "      <td>0.0</td>\n",
       "      <td>2.0</td>\n",
       "      <td>0.0</td>\n",
       "      <td>1.0</td>\n",
       "      <td>103</td>\n",
       "      <td>5539600.0</td>\n",
       "    </tr>\n",
       "    <tr>\n",
       "      <th>68</th>\n",
       "      <td>25172</td>\n",
       "      <td>2014-03-17</td>\n",
       "      <td>40</td>\n",
       "      <td>40.0</td>\n",
       "      <td>11.0</td>\n",
       "      <td>0.0</td>\n",
       "      <td>1.0</td>\n",
       "      <td>0.0</td>\n",
       "      <td>1.0</td>\n",
       "      <td>0.0</td>\n",
       "      <td>1.0</td>\n",
       "      <td>103</td>\n",
       "      <td>4469000.0</td>\n",
       "    </tr>\n",
       "    <tr>\n",
       "      <th>120</th>\n",
       "      <td>77648</td>\n",
       "      <td>2014-03-09</td>\n",
       "      <td>58</td>\n",
       "      <td>58.0</td>\n",
       "      <td>5.0</td>\n",
       "      <td>17.0</td>\n",
       "      <td>1.0</td>\n",
       "      <td>0.0</td>\n",
       "      <td>2.0</td>\n",
       "      <td>0.0</td>\n",
       "      <td>NaN</td>\n",
       "      <td>72</td>\n",
       "      <td>6306700.0</td>\n",
       "    </tr>\n",
       "    <tr>\n",
       "      <th>217</th>\n",
       "      <td>80760</td>\n",
       "      <td>2014-10-29</td>\n",
       "      <td>67</td>\n",
       "      <td>64.0</td>\n",
       "      <td>12.0</td>\n",
       "      <td>17.0</td>\n",
       "      <td>1.0</td>\n",
       "      <td>0.0</td>\n",
       "      <td>2.0</td>\n",
       "      <td>1.0</td>\n",
       "      <td>1.0</td>\n",
       "      <td>94</td>\n",
       "      <td>6518200.0</td>\n",
       "    </tr>\n",
       "    <tr>\n",
       "      <th>243</th>\n",
       "      <td>25697</td>\n",
       "      <td>2014-09-15</td>\n",
       "      <td>49</td>\n",
       "      <td>46.0</td>\n",
       "      <td>3.0</td>\n",
       "      <td>3.0</td>\n",
       "      <td>6.0</td>\n",
       "      <td>0.0</td>\n",
       "      <td>2.0</td>\n",
       "      <td>1.0</td>\n",
       "      <td>1.0</td>\n",
       "      <td>87</td>\n",
       "      <td>3566500.0</td>\n",
       "    </tr>\n",
       "    <tr>\n",
       "      <th>...</th>\n",
       "      <td>...</td>\n",
       "      <td>...</td>\n",
       "      <td>...</td>\n",
       "      <td>...</td>\n",
       "      <td>...</td>\n",
       "      <td>...</td>\n",
       "      <td>...</td>\n",
       "      <td>...</td>\n",
       "      <td>...</td>\n",
       "      <td>...</td>\n",
       "      <td>...</td>\n",
       "      <td>...</td>\n",
       "      <td>...</td>\n",
       "    </tr>\n",
       "    <tr>\n",
       "      <th>28787</th>\n",
       "      <td>32787</td>\n",
       "      <td>2015-01-08</td>\n",
       "      <td>79</td>\n",
       "      <td>42.0</td>\n",
       "      <td>3.0</td>\n",
       "      <td>0.0</td>\n",
       "      <td>1.0</td>\n",
       "      <td>0.0</td>\n",
       "      <td>3.0</td>\n",
       "      <td>0.0</td>\n",
       "      <td>1.0</td>\n",
       "      <td>102</td>\n",
       "      <td>9985500.0</td>\n",
       "    </tr>\n",
       "    <tr>\n",
       "      <th>28861</th>\n",
       "      <td>14677</td>\n",
       "      <td>2013-12-15</td>\n",
       "      <td>81</td>\n",
       "      <td>NaN</td>\n",
       "      <td>3.0</td>\n",
       "      <td>0.0</td>\n",
       "      <td>1.0</td>\n",
       "      <td>0.0</td>\n",
       "      <td>3.0</td>\n",
       "      <td>0.0</td>\n",
       "      <td>1.0</td>\n",
       "      <td>118</td>\n",
       "      <td>14931800.0</td>\n",
       "    </tr>\n",
       "    <tr>\n",
       "      <th>28894</th>\n",
       "      <td>98816</td>\n",
       "      <td>2015-04-12</td>\n",
       "      <td>39</td>\n",
       "      <td>NaN</td>\n",
       "      <td>16.0</td>\n",
       "      <td>17.0</td>\n",
       "      <td>1.0</td>\n",
       "      <td>0.0</td>\n",
       "      <td>1.0</td>\n",
       "      <td>1.0</td>\n",
       "      <td>NaN</td>\n",
       "      <td>103</td>\n",
       "      <td>5570500.0</td>\n",
       "    </tr>\n",
       "    <tr>\n",
       "      <th>28943</th>\n",
       "      <td>77750</td>\n",
       "      <td>2014-05-07</td>\n",
       "      <td>62</td>\n",
       "      <td>62.0</td>\n",
       "      <td>15.0</td>\n",
       "      <td>17.0</td>\n",
       "      <td>1.0</td>\n",
       "      <td>0.0</td>\n",
       "      <td>2.0</td>\n",
       "      <td>10.0</td>\n",
       "      <td>1.0</td>\n",
       "      <td>103</td>\n",
       "      <td>7330800.0</td>\n",
       "    </tr>\n",
       "    <tr>\n",
       "      <th>28949</th>\n",
       "      <td>27136</td>\n",
       "      <td>2015-03-23</td>\n",
       "      <td>39</td>\n",
       "      <td>39.0</td>\n",
       "      <td>2.0</td>\n",
       "      <td>17.0</td>\n",
       "      <td>1.0</td>\n",
       "      <td>0.0</td>\n",
       "      <td>1.0</td>\n",
       "      <td>1.0</td>\n",
       "      <td>1.0</td>\n",
       "      <td>124</td>\n",
       "      <td>4788200.0</td>\n",
       "    </tr>\n",
       "  </tbody>\n",
       "</table>\n",
       "<p>513 rows × 13 columns</p>\n",
       "</div>"
      ],
      "text/plain": [
       "          id   timestamp  full_sq  life_sq  floor  max_floor  material  \\\n",
       "21     62937  2014-03-10       52     51.0    3.0       17.0       1.0   \n",
       "68     25172  2014-03-17       40     40.0   11.0        0.0       1.0   \n",
       "120    77648  2014-03-09       58     58.0    5.0       17.0       1.0   \n",
       "217    80760  2014-10-29       67     64.0   12.0       17.0       1.0   \n",
       "243    25697  2014-09-15       49     46.0    3.0        3.0       6.0   \n",
       "...      ...         ...      ...      ...    ...        ...       ...   \n",
       "28787  32787  2015-01-08       79     42.0    3.0        0.0       1.0   \n",
       "28861  14677  2013-12-15       81      NaN    3.0        0.0       1.0   \n",
       "28894  98816  2015-04-12       39      NaN   16.0       17.0       1.0   \n",
       "28943  77750  2014-05-07       62     62.0   15.0       17.0       1.0   \n",
       "28949  27136  2015-03-23       39     39.0    2.0       17.0       1.0   \n",
       "\n",
       "       build_year  num_room  kitch_sq  apartment_condition  sub_area  \\\n",
       "21            0.0       2.0       0.0                  1.0       103   \n",
       "68            0.0       1.0       0.0                  1.0       103   \n",
       "120           0.0       2.0       0.0                  NaN        72   \n",
       "217           0.0       2.0       1.0                  1.0        94   \n",
       "243           0.0       2.0       1.0                  1.0        87   \n",
       "...           ...       ...       ...                  ...       ...   \n",
       "28787         0.0       3.0       0.0                  1.0       102   \n",
       "28861         0.0       3.0       0.0                  1.0       118   \n",
       "28894         0.0       1.0       1.0                  NaN       103   \n",
       "28943         0.0       2.0      10.0                  1.0       103   \n",
       "28949         0.0       1.0       1.0                  1.0       124   \n",
       "\n",
       "            price  \n",
       "21      5539600.0  \n",
       "68      4469000.0  \n",
       "120     6306700.0  \n",
       "217     6518200.0  \n",
       "243     3566500.0  \n",
       "...           ...  \n",
       "28787   9985500.0  \n",
       "28861  14931800.0  \n",
       "28894   5570500.0  \n",
       "28943   7330800.0  \n",
       "28949   4788200.0  \n",
       "\n",
       "[513 rows x 13 columns]"
      ]
     },
     "execution_count": 327,
     "metadata": {},
     "output_type": "execute_result"
    }
   ],
   "source": [
    "df_whole_train[df_whole_train['build_year'] == 0][df_whole_train.columns[:13]]"
   ]
  },
  {
   "cell_type": "code",
   "execution_count": 328,
   "metadata": {
    "ExecuteTime": {
     "end_time": "2021-03-11T19:48:28.350753Z",
     "start_time": "2021-03-11T19:48:28.295176Z"
    }
   },
   "outputs": [
    {
     "data": {
      "text/html": [
       "<div>\n",
       "<style scoped>\n",
       "    .dataframe tbody tr th:only-of-type {\n",
       "        vertical-align: middle;\n",
       "    }\n",
       "\n",
       "    .dataframe tbody tr th {\n",
       "        vertical-align: top;\n",
       "    }\n",
       "\n",
       "    .dataframe thead th {\n",
       "        text-align: right;\n",
       "    }\n",
       "</style>\n",
       "<table border=\"1\" class=\"dataframe\">\n",
       "  <thead>\n",
       "    <tr style=\"text-align: right;\">\n",
       "      <th></th>\n",
       "      <th>id</th>\n",
       "      <th>timestamp</th>\n",
       "      <th>full_sq</th>\n",
       "      <th>life_sq</th>\n",
       "      <th>floor</th>\n",
       "      <th>max_floor</th>\n",
       "      <th>material</th>\n",
       "      <th>build_year</th>\n",
       "      <th>num_room</th>\n",
       "      <th>kitch_sq</th>\n",
       "      <th>apartment_condition</th>\n",
       "      <th>sub_area</th>\n",
       "    </tr>\n",
       "  </thead>\n",
       "  <tbody>\n",
       "    <tr>\n",
       "      <th>10</th>\n",
       "      <td>43879</td>\n",
       "      <td>2015-05-01</td>\n",
       "      <td>39</td>\n",
       "      <td>NaN</td>\n",
       "      <td>7.0</td>\n",
       "      <td>17.0</td>\n",
       "      <td>1.0</td>\n",
       "      <td>0.0</td>\n",
       "      <td>1.0</td>\n",
       "      <td>0.0</td>\n",
       "      <td>1.0</td>\n",
       "      <td>103</td>\n",
       "    </tr>\n",
       "    <tr>\n",
       "      <th>165</th>\n",
       "      <td>39911</td>\n",
       "      <td>2014-10-21</td>\n",
       "      <td>44</td>\n",
       "      <td>43.0</td>\n",
       "      <td>9.0</td>\n",
       "      <td>9.0</td>\n",
       "      <td>1.0</td>\n",
       "      <td>0.0</td>\n",
       "      <td>1.0</td>\n",
       "      <td>1.0</td>\n",
       "      <td>1.0</td>\n",
       "      <td>134</td>\n",
       "    </tr>\n",
       "    <tr>\n",
       "      <th>271</th>\n",
       "      <td>35860</td>\n",
       "      <td>2014-09-19</td>\n",
       "      <td>50</td>\n",
       "      <td>NaN</td>\n",
       "      <td>7.0</td>\n",
       "      <td>22.0</td>\n",
       "      <td>6.0</td>\n",
       "      <td>0.0</td>\n",
       "      <td>1.0</td>\n",
       "      <td>1.0</td>\n",
       "      <td>NaN</td>\n",
       "      <td>94</td>\n",
       "    </tr>\n",
       "    <tr>\n",
       "      <th>420</th>\n",
       "      <td>98379</td>\n",
       "      <td>2015-04-06</td>\n",
       "      <td>42</td>\n",
       "      <td>39.0</td>\n",
       "      <td>10.0</td>\n",
       "      <td>17.0</td>\n",
       "      <td>1.0</td>\n",
       "      <td>0.0</td>\n",
       "      <td>1.0</td>\n",
       "      <td>1.0</td>\n",
       "      <td>1.0</td>\n",
       "      <td>124</td>\n",
       "    </tr>\n",
       "    <tr>\n",
       "      <th>504</th>\n",
       "      <td>84196</td>\n",
       "      <td>2014-05-11</td>\n",
       "      <td>67</td>\n",
       "      <td>67.0</td>\n",
       "      <td>3.0</td>\n",
       "      <td>3.0</td>\n",
       "      <td>1.0</td>\n",
       "      <td>0.0</td>\n",
       "      <td>3.0</td>\n",
       "      <td>0.0</td>\n",
       "      <td>1.0</td>\n",
       "      <td>96</td>\n",
       "    </tr>\n",
       "    <tr>\n",
       "      <th>569</th>\n",
       "      <td>73483</td>\n",
       "      <td>2014-07-02</td>\n",
       "      <td>79</td>\n",
       "      <td>77.0</td>\n",
       "      <td>4.0</td>\n",
       "      <td>19.0</td>\n",
       "      <td>4.0</td>\n",
       "      <td>0.0</td>\n",
       "      <td>3.0</td>\n",
       "      <td>0.0</td>\n",
       "      <td>1.0</td>\n",
       "      <td>70</td>\n",
       "    </tr>\n",
       "    <tr>\n",
       "      <th>645</th>\n",
       "      <td>62737</td>\n",
       "      <td>2014-04-11</td>\n",
       "      <td>38</td>\n",
       "      <td>38.0</td>\n",
       "      <td>14.0</td>\n",
       "      <td>17.0</td>\n",
       "      <td>1.0</td>\n",
       "      <td>0.0</td>\n",
       "      <td>1.0</td>\n",
       "      <td>0.0</td>\n",
       "      <td>1.0</td>\n",
       "      <td>124</td>\n",
       "    </tr>\n",
       "    <tr>\n",
       "      <th>740</th>\n",
       "      <td>30372</td>\n",
       "      <td>2015-06-25</td>\n",
       "      <td>73</td>\n",
       "      <td>73.0</td>\n",
       "      <td>5.0</td>\n",
       "      <td>5.0</td>\n",
       "      <td>1.0</td>\n",
       "      <td>0.0</td>\n",
       "      <td>2.0</td>\n",
       "      <td>1.0</td>\n",
       "      <td>1.0</td>\n",
       "      <td>134</td>\n",
       "    </tr>\n",
       "  </tbody>\n",
       "</table>\n",
       "</div>"
      ],
      "text/plain": [
       "        id   timestamp  full_sq  life_sq  floor  max_floor  material  \\\n",
       "10   43879  2015-05-01       39      NaN    7.0       17.0       1.0   \n",
       "165  39911  2014-10-21       44     43.0    9.0        9.0       1.0   \n",
       "271  35860  2014-09-19       50      NaN    7.0       22.0       6.0   \n",
       "420  98379  2015-04-06       42     39.0   10.0       17.0       1.0   \n",
       "504  84196  2014-05-11       67     67.0    3.0        3.0       1.0   \n",
       "569  73483  2014-07-02       79     77.0    4.0       19.0       4.0   \n",
       "645  62737  2014-04-11       38     38.0   14.0       17.0       1.0   \n",
       "740  30372  2015-06-25       73     73.0    5.0        5.0       1.0   \n",
       "\n",
       "     build_year  num_room  kitch_sq  apartment_condition  sub_area  \n",
       "10          0.0       1.0       0.0                  1.0       103  \n",
       "165         0.0       1.0       1.0                  1.0       134  \n",
       "271         0.0       1.0       1.0                  NaN        94  \n",
       "420         0.0       1.0       1.0                  1.0       124  \n",
       "504         0.0       3.0       0.0                  1.0        96  \n",
       "569         0.0       3.0       0.0                  1.0        70  \n",
       "645         0.0       1.0       0.0                  1.0       124  \n",
       "740         0.0       2.0       1.0                  1.0       134  "
      ]
     },
     "execution_count": 328,
     "metadata": {},
     "output_type": "execute_result"
    }
   ],
   "source": [
    "df_whole_test[df_whole_test['build_year'] == 0][df_whole_test.columns[:12]]"
   ]
  },
  {
   "cell_type": "code",
   "execution_count": 346,
   "metadata": {
    "ExecuteTime": {
     "end_time": "2021-03-11T19:58:51.757467Z",
     "start_time": "2021-03-11T19:58:51.712815Z"
    }
   },
   "outputs": [
    {
     "data": {
      "text/html": [
       "<div>\n",
       "<style scoped>\n",
       "    .dataframe tbody tr th:only-of-type {\n",
       "        vertical-align: middle;\n",
       "    }\n",
       "\n",
       "    .dataframe tbody tr th {\n",
       "        vertical-align: top;\n",
       "    }\n",
       "\n",
       "    .dataframe thead th {\n",
       "        text-align: right;\n",
       "    }\n",
       "</style>\n",
       "<table border=\"1\" class=\"dataframe\">\n",
       "  <thead>\n",
       "    <tr style=\"text-align: right;\">\n",
       "      <th></th>\n",
       "      <th>id</th>\n",
       "      <th>timestamp</th>\n",
       "      <th>full_sq</th>\n",
       "      <th>life_sq</th>\n",
       "      <th>floor</th>\n",
       "      <th>max_floor</th>\n",
       "      <th>material</th>\n",
       "      <th>build_year</th>\n",
       "      <th>num_room</th>\n",
       "      <th>kitch_sq</th>\n",
       "      <th>apartment_condition</th>\n",
       "      <th>sub_area</th>\n",
       "    </tr>\n",
       "  </thead>\n",
       "  <tbody>\n",
       "    <tr>\n",
       "      <th>251</th>\n",
       "      <td>98351</td>\n",
       "      <td>2015-06-25</td>\n",
       "      <td>37</td>\n",
       "      <td>19.0</td>\n",
       "      <td>15.0</td>\n",
       "      <td>24.0</td>\n",
       "      <td>6.0</td>\n",
       "      <td>2017.0</td>\n",
       "      <td>1.0</td>\n",
       "      <td>8.0</td>\n",
       "      <td>1.0</td>\n",
       "      <td>70</td>\n",
       "    </tr>\n",
       "    <tr>\n",
       "      <th>585</th>\n",
       "      <td>86862</td>\n",
       "      <td>2015-01-15</td>\n",
       "      <td>40</td>\n",
       "      <td>20.0</td>\n",
       "      <td>2.0</td>\n",
       "      <td>17.0</td>\n",
       "      <td>6.0</td>\n",
       "      <td>2017.0</td>\n",
       "      <td>1.0</td>\n",
       "      <td>8.0</td>\n",
       "      <td>1.0</td>\n",
       "      <td>103</td>\n",
       "    </tr>\n",
       "    <tr>\n",
       "      <th>613</th>\n",
       "      <td>21433</td>\n",
       "      <td>2014-04-18</td>\n",
       "      <td>46</td>\n",
       "      <td>NaN</td>\n",
       "      <td>13.0</td>\n",
       "      <td>20.0</td>\n",
       "      <td>4.0</td>\n",
       "      <td>2017.0</td>\n",
       "      <td>1.0</td>\n",
       "      <td>1.0</td>\n",
       "      <td>1.0</td>\n",
       "      <td>108</td>\n",
       "    </tr>\n",
       "    <tr>\n",
       "      <th>703</th>\n",
       "      <td>96917</td>\n",
       "      <td>2014-11-20</td>\n",
       "      <td>73</td>\n",
       "      <td>NaN</td>\n",
       "      <td>3.0</td>\n",
       "      <td>17.0</td>\n",
       "      <td>6.0</td>\n",
       "      <td>2017.0</td>\n",
       "      <td>2.0</td>\n",
       "      <td>9.0</td>\n",
       "      <td>1.0</td>\n",
       "      <td>94</td>\n",
       "    </tr>\n",
       "    <tr>\n",
       "      <th>840</th>\n",
       "      <td>44381</td>\n",
       "      <td>2015-05-28</td>\n",
       "      <td>37</td>\n",
       "      <td>36.0</td>\n",
       "      <td>18.0</td>\n",
       "      <td>18.0</td>\n",
       "      <td>1.0</td>\n",
       "      <td>2017.0</td>\n",
       "      <td>1.0</td>\n",
       "      <td>1.0</td>\n",
       "      <td>1.0</td>\n",
       "      <td>70</td>\n",
       "    </tr>\n",
       "    <tr>\n",
       "      <th>948</th>\n",
       "      <td>88559</td>\n",
       "      <td>2014-04-19</td>\n",
       "      <td>67</td>\n",
       "      <td>NaN</td>\n",
       "      <td>7.0</td>\n",
       "      <td>20.0</td>\n",
       "      <td>4.0</td>\n",
       "      <td>2017.0</td>\n",
       "      <td>2.0</td>\n",
       "      <td>1.0</td>\n",
       "      <td>1.0</td>\n",
       "      <td>108</td>\n",
       "    </tr>\n",
       "  </tbody>\n",
       "</table>\n",
       "</div>"
      ],
      "text/plain": [
       "        id   timestamp  full_sq  life_sq  floor  max_floor  material  \\\n",
       "251  98351  2015-06-25       37     19.0   15.0       24.0       6.0   \n",
       "585  86862  2015-01-15       40     20.0    2.0       17.0       6.0   \n",
       "613  21433  2014-04-18       46      NaN   13.0       20.0       4.0   \n",
       "703  96917  2014-11-20       73      NaN    3.0       17.0       6.0   \n",
       "840  44381  2015-05-28       37     36.0   18.0       18.0       1.0   \n",
       "948  88559  2014-04-19       67      NaN    7.0       20.0       4.0   \n",
       "\n",
       "     build_year  num_room  kitch_sq  apartment_condition  sub_area  \n",
       "251      2017.0       1.0       8.0                  1.0        70  \n",
       "585      2017.0       1.0       8.0                  1.0       103  \n",
       "613      2017.0       1.0       1.0                  1.0       108  \n",
       "703      2017.0       2.0       9.0                  1.0        94  \n",
       "840      2017.0       1.0       1.0                  1.0        70  \n",
       "948      2017.0       2.0       1.0                  1.0       108  "
      ]
     },
     "execution_count": 346,
     "metadata": {},
     "output_type": "execute_result"
    }
   ],
   "source": [
    "df_whole_test[df_whole_test['build_year'] == 2017][df_whole_test.columns[:12]]"
   ]
  },
  {
   "cell_type": "code",
   "execution_count": 352,
   "metadata": {
    "ExecuteTime": {
     "end_time": "2021-03-11T20:03:27.322542Z",
     "start_time": "2021-03-11T20:03:27.308684Z"
    }
   },
   "outputs": [
    {
     "data": {
      "text/plain": [
       "array([2.0020000e+03, 2.0030000e+03, 2.0040000e+03, 2.0050000e+03,\n",
       "       2.0060000e+03, 2.0070000e+03, 2.0080000e+03, 2.0090000e+03,\n",
       "       2.0100000e+03, 2.0110000e+03, 2.0120000e+03, 2.0130000e+03,\n",
       "       2.0140000e+03, 2.0150000e+03, 2.0160000e+03, 2.0170000e+03,\n",
       "       2.0180000e+03, 4.9650000e+03, 2.0052009e+07,           nan])"
      ]
     },
     "execution_count": 352,
     "metadata": {},
     "output_type": "execute_result"
    }
   ],
   "source": [
    "np.sort(df_whole_train['build_year'].unique())[-20:]"
   ]
  },
  {
   "cell_type": "markdown",
   "metadata": {},
   "source": [
    "Уберем выбросы из теста"
   ]
  },
  {
   "cell_type": "code",
   "execution_count": 353,
   "metadata": {
    "ExecuteTime": {
     "end_time": "2021-03-11T20:04:17.687176Z",
     "start_time": "2021-03-11T20:04:17.662875Z"
    }
   },
   "outputs": [],
   "source": [
    "X = df_whole_train.drop(columns=['id', 'timestamp', 'price'])\n",
    "X_test = df_whole_test.drop(columns=['id', 'timestamp'])\n",
    "y = df_whole_train.loc[:, 'price']"
   ]
  },
  {
   "cell_type": "code",
   "execution_count": 354,
   "metadata": {
    "ExecuteTime": {
     "end_time": "2021-03-11T20:04:18.189699Z",
     "start_time": "2021-03-11T20:04:18.168546Z"
    }
   },
   "outputs": [],
   "source": [
    "X['build_year'] = X['build_year'].clip(upper=2014)\n",
    "X_test['build_year'] = X_test['build_year'].clip(upper=2014)"
   ]
  },
  {
   "cell_type": "code",
   "execution_count": 355,
   "metadata": {
    "ExecuteTime": {
     "end_time": "2021-03-11T20:04:51.218522Z",
     "start_time": "2021-03-11T20:04:23.424272Z"
    }
   },
   "outputs": [
    {
     "name": "stdout",
     "output_type": "stream",
     "text": [
      "[100]\tcv_agg's train rmse: 2.09452e+06 + 8219.34\tcv_agg's valid rmse: 2.80809e+06 + 118078\n",
      "[200]\tcv_agg's train rmse: 1.83972e+06 + 9404.55\tcv_agg's valid rmse: 2.79792e+06 + 118083\n",
      "[300]\tcv_agg's train rmse: 1.65492e+06 + 10606.2\tcv_agg's valid rmse: 2.80078e+06 + 117175\n"
     ]
    }
   ],
   "source": [
    "lgb_train = Dataset(X, y)\n",
    "lgb_cv_res = cv(\n",
    "    params={\n",
    "        'objective': 'regression',\n",
    "        'metric': 'rmse',\n",
    "        'verbosity': -1,\n",
    "        'seed': seed,\n",
    "    },\n",
    "    train_set=lgb_train,\n",
    "    num_boost_round=100_000,\n",
    "    stratified=False,\n",
    "    early_stopping_rounds=100,\n",
    "    verbose_eval=100,\n",
    "    eval_train_metric=True,\n",
    "    return_cvbooster=True,\n",
    ")"
   ]
  },
  {
   "cell_type": "code",
   "execution_count": 356,
   "metadata": {
    "ExecuteTime": {
     "end_time": "2021-03-11T20:05:31.089028Z",
     "start_time": "2021-03-11T20:05:30.885761Z"
    }
   },
   "outputs": [],
   "source": [
    "df_submit_2 = pd.DataFrame(index=df_whole_test.index)\n",
    "df_submit_2['id'] = df_whole_test['id']\n",
    "df_submit_2['predicted_price'] = np.mean([b.predict(X_test) for b in lgb_cv_res['cvbooster'].boosters], axis=0)\n",
    "df_submit_2.to_csv(path_.join(submits_path, 'submit_2_build_year_handle_outliers_v1.csv'))"
   ]
  },
  {
   "cell_type": "markdown",
   "metadata": {},
   "source": [
    "RMSE = 2496778.4039. Хуже"
   ]
  },
  {
   "cell_type": "markdown",
   "metadata": {},
   "source": [
    "Поэксперементируем с таргетом"
   ]
  },
  {
   "cell_type": "code",
   "execution_count": 368,
   "metadata": {
    "ExecuteTime": {
     "end_time": "2021-03-11T20:12:37.454629Z",
     "start_time": "2021-03-11T20:12:37.441926Z"
    }
   },
   "outputs": [],
   "source": [
    "X = df_whole_train.drop(columns=['id', 'timestamp', 'price'])\n",
    "X_test = df_whole_test.drop(columns=['id', 'timestamp'])\n",
    "y = df_whole_train.loc[:, 'price']"
   ]
  },
  {
   "cell_type": "code",
   "execution_count": 369,
   "metadata": {
    "ExecuteTime": {
     "end_time": "2021-03-11T20:12:37.642313Z",
     "start_time": "2021-03-11T20:12:37.628128Z"
    }
   },
   "outputs": [],
   "source": [
    "y = y.clip(upper=y.quantile(0.995))"
   ]
  },
  {
   "cell_type": "code",
   "execution_count": 370,
   "metadata": {
    "ExecuteTime": {
     "end_time": "2021-03-11T20:12:42.308132Z",
     "start_time": "2021-03-11T20:12:38.158589Z"
    }
   },
   "outputs": [
    {
     "name": "stdout",
     "output_type": "stream",
     "text": [
      "[100]\tcv_agg's train rmse: 2.01712e+06 + 7229.49\tcv_agg's valid rmse: 2.4996e+06 + 29653.7\n",
      "[200]\tcv_agg's train rmse: 1.78594e+06 + 9018.39\tcv_agg's valid rmse: 2.49176e+06 + 30216.8\n"
     ]
    }
   ],
   "source": [
    "lgb_train = Dataset(X, y)\n",
    "lgb_cv_res = cv(\n",
    "    params={\n",
    "        'objective': 'regression',\n",
    "        'metric': 'rmse',\n",
    "        'verbosity': -1,\n",
    "        'seed': seed,\n",
    "    },\n",
    "    train_set=lgb_train,\n",
    "    num_boost_round=100_000,\n",
    "    stratified=False,\n",
    "    early_stopping_rounds=100,\n",
    "    verbose_eval=100,\n",
    "    eval_train_metric=True,\n",
    "    return_cvbooster=True,\n",
    ")"
   ]
  },
  {
   "cell_type": "code",
   "execution_count": 371,
   "metadata": {
    "ExecuteTime": {
     "end_time": "2021-03-11T20:12:42.419523Z",
     "start_time": "2021-03-11T20:12:42.311285Z"
    }
   },
   "outputs": [],
   "source": [
    "df_submit_2 = pd.DataFrame(index=df_whole_test.index)\n",
    "df_submit_2['id'] = df_whole_test['id']\n",
    "df_submit_2['predicted_price'] = np.mean([b.predict(X_test) for b in lgb_cv_res['cvbooster'].boosters], axis=0)\n",
    "df_submit_2.to_csv(path_.join(submits_path, 'submit_2_epx_clip_target.csv'))"
   ]
  },
  {
   "cell_type": "markdown",
   "metadata": {},
   "source": [
    "RMSE = 2446443.5593. Чем это может быть обусловлено???"
   ]
  }
 ],
 "metadata": {
  "kernelspec": {
   "display_name": "Python 3",
   "language": "python",
   "name": "python3"
  },
  "language_info": {
   "codemirror_mode": {
    "name": "ipython",
    "version": 3
   },
   "file_extension": ".py",
   "mimetype": "text/x-python",
   "name": "python",
   "nbconvert_exporter": "python",
   "pygments_lexer": "ipython3",
   "version": "3.7.3"
  }
 },
 "nbformat": 4,
 "nbformat_minor": 4
}
