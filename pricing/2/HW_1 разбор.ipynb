{
 "cells": [
  {
   "cell_type": "code",
   "execution_count": 1,
   "metadata": {},
   "outputs": [],
   "source": [
    "import pandas as pd\n",
    "import numpy as np\n",
    "import xgboost as xgb"
   ]
  },
  {
   "cell_type": "code",
   "execution_count": 2,
   "metadata": {},
   "outputs": [],
   "source": [
    "#import visualization libraries\n",
    "import matplotlib.pyplot as plt\n",
    "import seaborn as sns\n",
    "color = sns.color_palette()\n",
    "\n",
    "%matplotlib inline"
   ]
  },
  {
   "cell_type": "code",
   "execution_count": 3,
   "metadata": {},
   "outputs": [
    {
     "name": "stdout",
     "output_type": "stream",
     "text": [
      "Checker.ipynb                answer_1.txt\r\n",
      "HW_1.ipynb                   answer_2.csv\r\n",
      "HW_test_additional_data.csv  \u001b[34mcatboost_info\u001b[m\u001b[m\r\n",
      "HW_test_main_data.csv        checker.py\r\n",
      "HW_train_additional_data.csv file_1.txt\r\n",
      "HW_train_main_data.csv       file_11.txt\r\n",
      "Untitled.ipynb               file_2.csv\r\n",
      "Untitled1.ipynb              test_answer_1.txt\r\n"
     ]
    }
   ],
   "source": [
    "!ls"
   ]
  },
  {
   "cell_type": "code",
   "execution_count": 4,
   "metadata": {},
   "outputs": [],
   "source": [
    "file_1 = open('file_1.txt','w')"
   ]
  },
  {
   "cell_type": "code",
   "execution_count": 3,
   "metadata": {},
   "outputs": [],
   "source": [
    "# 1. Найти \"id\" топ 10 самых дорогих квартир\n",
    "train_df = pd.read_csv('HW_train_main_data.csv')"
   ]
  },
  {
   "cell_type": "code",
   "execution_count": 4,
   "metadata": {},
   "outputs": [],
   "source": [
    "test_df = pd.read_csv('HW_test_main_data.csv')"
   ]
  },
  {
   "cell_type": "code",
   "execution_count": 134,
   "metadata": {},
   "outputs": [
    {
     "data": {
      "text/html": [
       "<div>\n",
       "<style scoped>\n",
       "    .dataframe tbody tr th:only-of-type {\n",
       "        vertical-align: middle;\n",
       "    }\n",
       "\n",
       "    .dataframe tbody tr th {\n",
       "        vertical-align: top;\n",
       "    }\n",
       "\n",
       "    .dataframe thead th {\n",
       "        text-align: right;\n",
       "    }\n",
       "</style>\n",
       "<table border=\"1\" class=\"dataframe\">\n",
       "  <thead>\n",
       "    <tr style=\"text-align: right;\">\n",
       "      <th></th>\n",
       "      <th>id</th>\n",
       "      <th>timestamp</th>\n",
       "      <th>full_sq</th>\n",
       "      <th>life_sq</th>\n",
       "      <th>floor</th>\n",
       "      <th>max_floor</th>\n",
       "      <th>material</th>\n",
       "      <th>build_year</th>\n",
       "      <th>num_room</th>\n",
       "      <th>kitch_sq</th>\n",
       "      <th>...</th>\n",
       "      <th>timestamp_int</th>\n",
       "      <th>ratio_life_dash_full_sq</th>\n",
       "      <th>ration_kitchen_dash_full_sq</th>\n",
       "      <th>age</th>\n",
       "      <th>some_extra_sqr_1</th>\n",
       "      <th>some_extra_sqr_2</th>\n",
       "      <th>pred_price</th>\n",
       "      <th>pred_price_2</th>\n",
       "      <th>combine_2_models</th>\n",
       "      <th>pred_price_3</th>\n",
       "    </tr>\n",
       "  </thead>\n",
       "  <tbody>\n",
       "    <tr>\n",
       "      <th>0</th>\n",
       "      <td>30307</td>\n",
       "      <td>2014-04-20</td>\n",
       "      <td>74</td>\n",
       "      <td>43.0</td>\n",
       "      <td>13.0</td>\n",
       "      <td>14.0</td>\n",
       "      <td>1.0</td>\n",
       "      <td>1996.0</td>\n",
       "      <td>3.0</td>\n",
       "      <td>10.0</td>\n",
       "      <td>...</td>\n",
       "      <td>1397952000000000000</td>\n",
       "      <td>0.581081</td>\n",
       "      <td>0.135135</td>\n",
       "      <td>-18.0</td>\n",
       "      <td>31.0</td>\n",
       "      <td>31.0</td>\n",
       "      <td>9596629.00</td>\n",
       "      <td>10110110.0</td>\n",
       "      <td>9956066.00</td>\n",
       "      <td>10283268.0</td>\n",
       "    </tr>\n",
       "    <tr>\n",
       "      <th>1</th>\n",
       "      <td>87380</td>\n",
       "      <td>2015-01-17</td>\n",
       "      <td>29</td>\n",
       "      <td>-20.0</td>\n",
       "      <td>6.0</td>\n",
       "      <td>17.0</td>\n",
       "      <td>1.0</td>\n",
       "      <td>-20.0</td>\n",
       "      <td>1.0</td>\n",
       "      <td>1.0</td>\n",
       "      <td>...</td>\n",
       "      <td>1421452800000000000</td>\n",
       "      <td>-0.689655</td>\n",
       "      <td>0.034483</td>\n",
       "      <td>-2035.0</td>\n",
       "      <td>49.0</td>\n",
       "      <td>49.0</td>\n",
       "      <td>2757307.25</td>\n",
       "      <td>2684473.0</td>\n",
       "      <td>2706323.25</td>\n",
       "      <td>2955620.0</td>\n",
       "    </tr>\n",
       "    <tr>\n",
       "      <th>2</th>\n",
       "      <td>12874</td>\n",
       "      <td>2014-07-08</td>\n",
       "      <td>80</td>\n",
       "      <td>-20.0</td>\n",
       "      <td>8.0</td>\n",
       "      <td>17.0</td>\n",
       "      <td>1.0</td>\n",
       "      <td>-20.0</td>\n",
       "      <td>3.0</td>\n",
       "      <td>1.0</td>\n",
       "      <td>...</td>\n",
       "      <td>1404777600000000000</td>\n",
       "      <td>-0.250000</td>\n",
       "      <td>0.012500</td>\n",
       "      <td>-2034.0</td>\n",
       "      <td>100.0</td>\n",
       "      <td>100.0</td>\n",
       "      <td>8762424.00</td>\n",
       "      <td>8780698.0</td>\n",
       "      <td>8775216.00</td>\n",
       "      <td>8642056.0</td>\n",
       "    </tr>\n",
       "    <tr>\n",
       "      <th>3</th>\n",
       "      <td>57688</td>\n",
       "      <td>2013-01-15</td>\n",
       "      <td>53</td>\n",
       "      <td>-20.0</td>\n",
       "      <td>4.0</td>\n",
       "      <td>-20.0</td>\n",
       "      <td>-20.0</td>\n",
       "      <td>-20.0</td>\n",
       "      <td>-20.0</td>\n",
       "      <td>-20.0</td>\n",
       "      <td>...</td>\n",
       "      <td>1358208000000000000</td>\n",
       "      <td>-0.377358</td>\n",
       "      <td>-0.377358</td>\n",
       "      <td>-2033.0</td>\n",
       "      <td>73.0</td>\n",
       "      <td>73.0</td>\n",
       "      <td>5272009.00</td>\n",
       "      <td>6176990.5</td>\n",
       "      <td>5905496.00</td>\n",
       "      <td>5264357.0</td>\n",
       "    </tr>\n",
       "    <tr>\n",
       "      <th>4</th>\n",
       "      <td>43433</td>\n",
       "      <td>2012-06-15</td>\n",
       "      <td>36</td>\n",
       "      <td>19.0</td>\n",
       "      <td>16.0</td>\n",
       "      <td>-20.0</td>\n",
       "      <td>-20.0</td>\n",
       "      <td>-20.0</td>\n",
       "      <td>-20.0</td>\n",
       "      <td>-20.0</td>\n",
       "      <td>...</td>\n",
       "      <td>1339718400000000000</td>\n",
       "      <td>0.527778</td>\n",
       "      <td>-0.555556</td>\n",
       "      <td>-2032.0</td>\n",
       "      <td>17.0</td>\n",
       "      <td>17.0</td>\n",
       "      <td>5907185.00</td>\n",
       "      <td>5242674.5</td>\n",
       "      <td>5442027.50</td>\n",
       "      <td>6116692.0</td>\n",
       "    </tr>\n",
       "    <tr>\n",
       "      <th>...</th>\n",
       "      <td>...</td>\n",
       "      <td>...</td>\n",
       "      <td>...</td>\n",
       "      <td>...</td>\n",
       "      <td>...</td>\n",
       "      <td>...</td>\n",
       "      <td>...</td>\n",
       "      <td>...</td>\n",
       "      <td>...</td>\n",
       "      <td>...</td>\n",
       "      <td>...</td>\n",
       "      <td>...</td>\n",
       "      <td>...</td>\n",
       "      <td>...</td>\n",
       "      <td>...</td>\n",
       "      <td>...</td>\n",
       "      <td>...</td>\n",
       "      <td>...</td>\n",
       "      <td>...</td>\n",
       "      <td>...</td>\n",
       "      <td>...</td>\n",
       "    </tr>\n",
       "    <tr>\n",
       "      <th>995</th>\n",
       "      <td>28684</td>\n",
       "      <td>2015-04-05</td>\n",
       "      <td>54</td>\n",
       "      <td>-20.0</td>\n",
       "      <td>2.0</td>\n",
       "      <td>17.0</td>\n",
       "      <td>1.0</td>\n",
       "      <td>-20.0</td>\n",
       "      <td>2.0</td>\n",
       "      <td>1.0</td>\n",
       "      <td>...</td>\n",
       "      <td>1428192000000000000</td>\n",
       "      <td>-0.370370</td>\n",
       "      <td>0.018519</td>\n",
       "      <td>-2035.0</td>\n",
       "      <td>74.0</td>\n",
       "      <td>74.0</td>\n",
       "      <td>4020712.50</td>\n",
       "      <td>4062085.0</td>\n",
       "      <td>4049673.25</td>\n",
       "      <td>3749988.5</td>\n",
       "    </tr>\n",
       "    <tr>\n",
       "      <th>996</th>\n",
       "      <td>65212</td>\n",
       "      <td>2014-05-22</td>\n",
       "      <td>78</td>\n",
       "      <td>45.0</td>\n",
       "      <td>5.0</td>\n",
       "      <td>10.0</td>\n",
       "      <td>1.0</td>\n",
       "      <td>1995.0</td>\n",
       "      <td>3.0</td>\n",
       "      <td>10.0</td>\n",
       "      <td>...</td>\n",
       "      <td>1400716800000000000</td>\n",
       "      <td>0.576923</td>\n",
       "      <td>0.128205</td>\n",
       "      <td>-19.0</td>\n",
       "      <td>33.0</td>\n",
       "      <td>33.0</td>\n",
       "      <td>10998684.00</td>\n",
       "      <td>10255977.0</td>\n",
       "      <td>10478789.00</td>\n",
       "      <td>10858027.0</td>\n",
       "    </tr>\n",
       "    <tr>\n",
       "      <th>997</th>\n",
       "      <td>11218</td>\n",
       "      <td>2014-12-18</td>\n",
       "      <td>2</td>\n",
       "      <td>1.0</td>\n",
       "      <td>26.0</td>\n",
       "      <td>1.0</td>\n",
       "      <td>1.0</td>\n",
       "      <td>1.0</td>\n",
       "      <td>1.0</td>\n",
       "      <td>1.0</td>\n",
       "      <td>...</td>\n",
       "      <td>1418860800000000000</td>\n",
       "      <td>0.500000</td>\n",
       "      <td>0.500000</td>\n",
       "      <td>-2013.0</td>\n",
       "      <td>1.0</td>\n",
       "      <td>1.0</td>\n",
       "      <td>14186800.00</td>\n",
       "      <td>12209163.0</td>\n",
       "      <td>12802454.00</td>\n",
       "      <td>12735337.0</td>\n",
       "    </tr>\n",
       "    <tr>\n",
       "      <th>998</th>\n",
       "      <td>57238</td>\n",
       "      <td>2013-06-09</td>\n",
       "      <td>55</td>\n",
       "      <td>33.0</td>\n",
       "      <td>6.0</td>\n",
       "      <td>-20.0</td>\n",
       "      <td>-20.0</td>\n",
       "      <td>-20.0</td>\n",
       "      <td>-20.0</td>\n",
       "      <td>-20.0</td>\n",
       "      <td>...</td>\n",
       "      <td>1370736000000000000</td>\n",
       "      <td>0.600000</td>\n",
       "      <td>-0.363636</td>\n",
       "      <td>-2033.0</td>\n",
       "      <td>22.0</td>\n",
       "      <td>22.0</td>\n",
       "      <td>6996453.00</td>\n",
       "      <td>7666872.5</td>\n",
       "      <td>7465746.50</td>\n",
       "      <td>6467585.0</td>\n",
       "    </tr>\n",
       "    <tr>\n",
       "      <th>999</th>\n",
       "      <td>26048</td>\n",
       "      <td>2014-06-12</td>\n",
       "      <td>41</td>\n",
       "      <td>-20.0</td>\n",
       "      <td>8.0</td>\n",
       "      <td>17.0</td>\n",
       "      <td>1.0</td>\n",
       "      <td>-20.0</td>\n",
       "      <td>1.0</td>\n",
       "      <td>1.0</td>\n",
       "      <td>...</td>\n",
       "      <td>1402531200000000000</td>\n",
       "      <td>-0.487805</td>\n",
       "      <td>0.024390</td>\n",
       "      <td>-2034.0</td>\n",
       "      <td>61.0</td>\n",
       "      <td>61.0</td>\n",
       "      <td>4780546.00</td>\n",
       "      <td>4864098.0</td>\n",
       "      <td>4839032.50</td>\n",
       "      <td>4669440.0</td>\n",
       "    </tr>\n",
       "  </tbody>\n",
       "</table>\n",
       "<p>1000 rows × 45 columns</p>\n",
       "</div>"
      ],
      "text/plain": [
       "        id  timestamp  full_sq  life_sq  floor  max_floor  material  \\\n",
       "0    30307 2014-04-20       74     43.0   13.0       14.0       1.0   \n",
       "1    87380 2015-01-17       29    -20.0    6.0       17.0       1.0   \n",
       "2    12874 2014-07-08       80    -20.0    8.0       17.0       1.0   \n",
       "3    57688 2013-01-15       53    -20.0    4.0      -20.0     -20.0   \n",
       "4    43433 2012-06-15       36     19.0   16.0      -20.0     -20.0   \n",
       "..     ...        ...      ...      ...    ...        ...       ...   \n",
       "995  28684 2015-04-05       54    -20.0    2.0       17.0       1.0   \n",
       "996  65212 2014-05-22       78     45.0    5.0       10.0       1.0   \n",
       "997  11218 2014-12-18        2      1.0   26.0        1.0       1.0   \n",
       "998  57238 2013-06-09       55     33.0    6.0      -20.0     -20.0   \n",
       "999  26048 2014-06-12       41    -20.0    8.0       17.0       1.0   \n",
       "\n",
       "     build_year  num_room  kitch_sq  ...        timestamp_int  \\\n",
       "0        1996.0       3.0      10.0  ...  1397952000000000000   \n",
       "1         -20.0       1.0       1.0  ...  1421452800000000000   \n",
       "2         -20.0       3.0       1.0  ...  1404777600000000000   \n",
       "3         -20.0     -20.0     -20.0  ...  1358208000000000000   \n",
       "4         -20.0     -20.0     -20.0  ...  1339718400000000000   \n",
       "..          ...       ...       ...  ...                  ...   \n",
       "995       -20.0       2.0       1.0  ...  1428192000000000000   \n",
       "996      1995.0       3.0      10.0  ...  1400716800000000000   \n",
       "997         1.0       1.0       1.0  ...  1418860800000000000   \n",
       "998       -20.0     -20.0     -20.0  ...  1370736000000000000   \n",
       "999       -20.0       1.0       1.0  ...  1402531200000000000   \n",
       "\n",
       "     ratio_life_dash_full_sq  ration_kitchen_dash_full_sq     age  \\\n",
       "0                   0.581081                     0.135135   -18.0   \n",
       "1                  -0.689655                     0.034483 -2035.0   \n",
       "2                  -0.250000                     0.012500 -2034.0   \n",
       "3                  -0.377358                    -0.377358 -2033.0   \n",
       "4                   0.527778                    -0.555556 -2032.0   \n",
       "..                       ...                          ...     ...   \n",
       "995                -0.370370                     0.018519 -2035.0   \n",
       "996                 0.576923                     0.128205   -19.0   \n",
       "997                 0.500000                     0.500000 -2013.0   \n",
       "998                 0.600000                    -0.363636 -2033.0   \n",
       "999                -0.487805                     0.024390 -2034.0   \n",
       "\n",
       "     some_extra_sqr_1  some_extra_sqr_2   pred_price  pred_price_2  \\\n",
       "0                31.0              31.0   9596629.00    10110110.0   \n",
       "1                49.0              49.0   2757307.25     2684473.0   \n",
       "2               100.0             100.0   8762424.00     8780698.0   \n",
       "3                73.0              73.0   5272009.00     6176990.5   \n",
       "4                17.0              17.0   5907185.00     5242674.5   \n",
       "..                ...               ...          ...           ...   \n",
       "995              74.0              74.0   4020712.50     4062085.0   \n",
       "996              33.0              33.0  10998684.00    10255977.0   \n",
       "997               1.0               1.0  14186800.00    12209163.0   \n",
       "998              22.0              22.0   6996453.00     7666872.5   \n",
       "999              61.0              61.0   4780546.00     4864098.0   \n",
       "\n",
       "     combine_2_models  pred_price_3  \n",
       "0          9956066.00    10283268.0  \n",
       "1          2706323.25     2955620.0  \n",
       "2          8775216.00     8642056.0  \n",
       "3          5905496.00     5264357.0  \n",
       "4          5442027.50     6116692.0  \n",
       "..                ...           ...  \n",
       "995        4049673.25     3749988.5  \n",
       "996       10478789.00    10858027.0  \n",
       "997       12802454.00    12735337.0  \n",
       "998        7465746.50     6467585.0  \n",
       "999        4839032.50     4669440.0  \n",
       "\n",
       "[1000 rows x 45 columns]"
      ]
     },
     "execution_count": 134,
     "metadata": {},
     "output_type": "execute_result"
    }
   ],
   "source": [
    "test_df"
   ]
  },
  {
   "cell_type": "code",
   "execution_count": 8,
   "metadata": {},
   "outputs": [],
   "source": [
    "list_a = train_df.sort_values('price',ascending=False).head(10).id.values.tolist()"
   ]
  },
  {
   "cell_type": "code",
   "execution_count": 36,
   "metadata": {},
   "outputs": [
    {
     "data": {
      "text/plain": [
       "'85073,14154,88100,78059,91175,45584,95572,63901,92747,40136'"
      ]
     },
     "execution_count": 36,
     "metadata": {},
     "output_type": "execute_result"
    }
   ],
   "source": [
    "','.join(str(i) for i in list_a)"
   ]
  },
  {
   "cell_type": "code",
   "execution_count": 10,
   "metadata": {},
   "outputs": [
    {
     "data": {
      "text/plain": [
       "71"
      ]
     },
     "execution_count": 10,
     "metadata": {},
     "output_type": "execute_result"
    }
   ],
   "source": [
    "file_1.write(str(list_a) + '\\n')"
   ]
  },
  {
   "cell_type": "code",
   "execution_count": null,
   "metadata": {},
   "outputs": [],
   "source": []
  },
  {
   "cell_type": "code",
   "execution_count": 5,
   "metadata": {},
   "outputs": [],
   "source": [
    "# 2. Построить зависимость средней стоимости квартиры от года и месяца продаж\n",
    "train_df['timestamp'] = pd.to_datetime(train_df['timestamp'])\n",
    "train_df['year'] = train_df['timestamp'].dt.year\n",
    "train_df['month'] = train_df['timestamp'].dt.month\n",
    "train_df['month_year'] = train_df['month'].astype(str) + '_' + train_df['year'].astype(str)"
   ]
  },
  {
   "cell_type": "code",
   "execution_count": 6,
   "metadata": {},
   "outputs": [],
   "source": [
    "aggr_1 = train_df.sort_values(['year','month']).groupby(['year','month']).price.mean().reset_index()"
   ]
  },
  {
   "cell_type": "code",
   "execution_count": 7,
   "metadata": {},
   "outputs": [],
   "source": [
    "aggr_1['year_month'] = aggr_1['year'].astype(str) +'_'+ aggr_1['month'].astype(str)"
   ]
  },
  {
   "cell_type": "code",
   "execution_count": 8,
   "metadata": {},
   "outputs": [
    {
     "data": {
      "image/png": "[encoded data removed]",
      "text/plain": [
       "<Figure size 864x576 with 1 Axes>"
      ]
     },
     "metadata": {
      "needs_background": "light"
     },
     "output_type": "display_data"
    }
   ],
   "source": [
    "plt.figure(figsize=(12,8))\n",
    "plt.scatter(x='year_month', y='price', data=aggr_1)\n",
    "plt.ylabel('mean_price', fontsize=12)\n",
    "plt.xlabel('year_month', fontsize=12)\n",
    "plt.xticks(rotation='vertical')\n",
    "plt.show()"
   ]
  },
  {
   "cell_type": "code",
   "execution_count": null,
   "metadata": {},
   "outputs": [],
   "source": [
    "answers_tt['period_flag'] = 9\n",
    "\n",
    "answers_tt.loc[answers_tt['timestamp'] < pd.to_datetime('2012-03-01'), 'period_flag'] = 1\n",
    "answers_tt.loc[(answers_tt['timestamp']>=pd.to_datetime('2012-03-01')) &\n",
    "               (answers_tt['timestamp'] <pd.to_datetime('2012-10-01')), 'period_flag'] = 2\n",
    "answers_tt.loc[(answers_tt['timestamp']>=pd.to_datetime('2012-10-01')) &\n",
    "               (answers_tt['timestamp'] <pd.to_datetime('2013-03-01')), 'period_flag'] = 3\n",
    "answers_tt.loc[(answers_tt['timestamp']>=pd.to_datetime('2013-03-01')) &\n",
    "               (answers_tt['timestamp'] <pd.to_datetime('2013-07-01')), 'period_flag'] = 4 \n",
    "answers_tt.loc[(answers_tt['timestamp']>=pd.to_datetime('2013-07-01')) &\n",
    "               (answers_tt['timestamp'] <pd.to_datetime('2014-01-01')), 'period_flag'] = 5 \n",
    "answers_tt.loc[(answers_tt['timestamp']>=pd.to_datetime('2014-01-01')) &\n",
    "               (answers_tt['timestamp'] <pd.to_datetime('2014-04-01')), 'period_flag'] = 6 \n",
    "answers_tt.loc[(answers_tt['timestamp']>=pd.to_datetime('2014-04-01')) &\n",
    "               (answers_tt['timestamp'] <pd.to_datetime('2014-08-01')), 'period_flag'] = 7 \n",
    "answers_tt.loc[(answers_tt['timestamp']>=pd.to_datetime('2014-08-01')) &\n",
    "               (answers_tt['timestamp'] <pd.to_datetime('2015-02-01')), 'period_flag'] = 8 "
   ]
  },
  {
   "cell_type": "code",
   "execution_count": null,
   "metadata": {},
   "outputs": [],
   "source": []
  },
  {
   "cell_type": "code",
   "execution_count": 15,
   "metadata": {},
   "outputs": [],
   "source": [
    "# 3 Для каждой пары месяц-год  найдите индексы самых дорогих квартир, сохраните отдельный список"
   ]
  },
  {
   "cell_type": "code",
   "execution_count": 16,
   "metadata": {
    "collapsed": true
   },
   "outputs": [
    {
     "data": {
      "text/plain": [
       "[93255,\n",
       " 39837,\n",
       " 33763,\n",
       " 42921,\n",
       " 86122,\n",
       " 59279,\n",
       " 84792,\n",
       " 80442,\n",
       " 85073,\n",
       " 53400,\n",
       " 80358,\n",
       " 38059,\n",
       " 35501,\n",
       " 45584,\n",
       " 38931,\n",
       " 18753,\n",
       " 20881,\n",
       " 63901,\n",
       " 78059,\n",
       " 38846,\n",
       " 14154,\n",
       " 84443,\n",
       " 42092,\n",
       " 59134,\n",
       " 60348,\n",
       " 85298,\n",
       " 18085,\n",
       " 20432,\n",
       " 55606,\n",
       " 98631,\n",
       " 68847,\n",
       " 43686,\n",
       " 58882,\n",
       " 91175,\n",
       " 49814,\n",
       " 73610,\n",
       " 34194,\n",
       " 75296,\n",
       " 56862,\n",
       " 95044,\n",
       " 53674,\n",
       " 95572,\n",
       " 88100,\n",
       " 67613,\n",
       " 40136,\n",
       " 72354,\n",
       " 45373]"
      ]
     },
     "execution_count": 16,
     "metadata": {},
     "output_type": "execute_result"
    }
   ],
   "source": [
    "train_df.groupby(['year', 'month'])['price'].max().reset_index()\\\n",
    ".merge(train_df, how='left', on=['year', 'month','price'])\\\n",
    "[['year','month', 'price','id']].id.values.tolist()"
   ]
  },
  {
   "cell_type": "code",
   "execution_count": 17,
   "metadata": {},
   "outputs": [
    {
     "data": {
      "text/plain": [
       "330"
      ]
     },
     "execution_count": 17,
     "metadata": {},
     "output_type": "execute_result"
    }
   ],
   "source": [
    "file_1.write(str(train_df.groupby(['year', 'month'])['price'].max().reset_index()\\\n",
    ".merge(train_df, how='left', on=['year', 'month','price'])\\\n",
    "[['year','month', 'price','id']].id.values.tolist())+ '\\n')"
   ]
  },
  {
   "cell_type": "code",
   "execution_count": 11,
   "metadata": {},
   "outputs": [],
   "source": [
    "#idmax_per_yearmonth = train_df.groupby(['year', 'month'])['price'].idxmax().values"
   ]
  },
  {
   "cell_type": "code",
   "execution_count": 12,
   "metadata": {},
   "outputs": [],
   "source": [
    "# 4 Постройте boxplot для цены для пар месяц-год "
   ]
  },
  {
   "cell_type": "code",
   "execution_count": 23,
   "metadata": {},
   "outputs": [
    {
     "data": {
      "image/png": "[encoded data removed]",
      "text/plain": [
       "<Figure size 864x576 with 1 Axes>"
      ]
     },
     "metadata": {
      "needs_background": "light"
     },
     "output_type": "display_data"
    }
   ],
   "source": [
    "plt.figure(figsize=(12,8))\n",
    "sns.boxplot(x='month_year', y='price', data=train_df)\n",
    "plt.ylabel('price', fontsize=12)\n",
    "plt.xlabel('month_year', fontsize=12)\n",
    "plt.xticks(rotation='vertical')\n",
    "plt.show()"
   ]
  },
  {
   "cell_type": "code",
   "execution_count": 18,
   "metadata": {},
   "outputs": [
    {
     "data": {
      "text/plain": [
       "36"
      ]
     },
     "execution_count": 18,
     "metadata": {},
     "output_type": "execute_result"
    }
   ],
   "source": [
    "# 5 Найдите \"id\" 5 самых больших квартир\n",
    "big_sq_ind = train_df.sort_values('full_sq',ascending=False).head(5).id.values\n",
    "file_1.write(str(big_sq_ind.tolist())+ '\\n')"
   ]
  },
  {
   "cell_type": "code",
   "execution_count": 26,
   "metadata": {},
   "outputs": [],
   "source": [
    "# 6 Посчитайте кол-во пропусков в life_sq, сохраните это число, и отдельно \"id\" всех строк с пропусками в поле life_sq\n",
    "life_sq_null_sum = train_df.life_sq.isnull().sum()\n",
    "life_sq_ids = train_df[train_df.life_sq.isnull()]['id'].values"
   ]
  },
  {
   "cell_type": "code",
   "execution_count": 107,
   "metadata": {},
   "outputs": [
    {
     "data": {
      "text/plain": [
       "42456"
      ]
     },
     "execution_count": 107,
     "metadata": {},
     "output_type": "execute_result"
    }
   ],
   "source": [
    "file_1.write(str(life_sq_ids.tolist())+ '\\n')"
   ]
  },
  {
   "cell_type": "code",
   "execution_count": 21,
   "metadata": {},
   "outputs": [],
   "source": [
    "# 7 Предложите вариант как можно заполнить пропуски в life_sq"
   ]
  },
  {
   "cell_type": "code",
   "execution_count": 9,
   "metadata": {},
   "outputs": [],
   "source": [
    "# как вариант можно построить KNeighborsRegressor\n",
    "from sklearn.neighbors import KNeighborsRegressor\n",
    "from sklearn.model_selection import GridSearchCV\n",
    "clf = KNeighborsRegressor()\n",
    "params = {'n_neighbors':[2,3,4,5,6,7,8,9,10], 'weights': ['uniform', 'distance']}\n",
    "grcv = GridSearchCV(clf, params, n_jobs=-1)\n",
    "grcv.fit(train_df[~train_df.life_sq.isnull()].full_sq.values.reshape(-1,1)\n",
    "         , train_df[~train_df.life_sq.isnull()].life_sq.values.reshape(-1,1))\n",
    "no_life_sq = grcv.predict(train_df[train_df.life_sq.isnull()].full_sq.values.reshape(-1,1))"
   ]
  },
  {
   "cell_type": "code",
   "execution_count": 10,
   "metadata": {},
   "outputs": [
    {
     "data": {
      "text/plain": [
       "{'n_neighbors': 10, 'weights': 'uniform'}"
      ]
     },
     "execution_count": 10,
     "metadata": {},
     "output_type": "execute_result"
    }
   ],
   "source": [
    "grcv.best_params_"
   ]
  },
  {
   "cell_type": "code",
   "execution_count": 11,
   "metadata": {},
   "outputs": [],
   "source": [
    "train_df['pred_life_sq'] = np.NaN\n",
    "train_df.loc[train_df.life_sq.isnull(),'pred_life_sq'] = list(no_life_sq.reshape(1,-1)[0])"
   ]
  },
  {
   "cell_type": "code",
   "execution_count": 12,
   "metadata": {},
   "outputs": [
    {
     "name": "stdout",
     "output_type": "stream",
     "text": [
      "0.33711308742057877\n",
      "0.4185643954042566\n"
     ]
    }
   ],
   "source": [
    "# 8 Сохраните коффициент корреляции Пирсона между price и full_sq, и price и *life_sq*\n",
    "# где *life_sq* - скорректированное значение life_sq после заполнения пропусков\n",
    "print(np.corrcoef(train_df.full_sq,train_df.price)[0][1])\n",
    "print(np.corrcoef(train_df.price, train_df.life_sq.combine_first(train_df.pred_life_sq))[0][1])"
   ]
  },
  {
   "cell_type": "code",
   "execution_count": 26,
   "metadata": {},
   "outputs": [
    {
     "data": {
      "text/plain": [
       "41"
      ]
     },
     "execution_count": 26,
     "metadata": {},
     "output_type": "execute_result"
    }
   ],
   "source": [
    "file_1.write(str([np.corrcoef(train_df.full_sq,train_df.price)[0][1], np.corrcoef(train_df.price, train_df.life_sq.combine_first(train_df.pred_life_sq))[0][1]])+ '\\n')"
   ]
  },
  {
   "cell_type": "code",
   "execution_count": 27,
   "metadata": {},
   "outputs": [],
   "source": [
    "file_1.close()"
   ]
  },
  {
   "cell_type": "code",
   "execution_count": 32,
   "metadata": {},
   "outputs": [],
   "source": [
    "# 8 Добавьте дополнительные данные. Заполните пропуски в данных, сгенерируйте новые данные из существующих\n",
    "# 9 Создайте модель для предсказания цен квартир\n",
    "# 10 Посмотрите на важность признаков \n",
    "# 11 Создайте предсказание для тестовой выборки\n",
    "# 12 Подготовьте 2 итоговых файла"
   ]
  },
  {
   "cell_type": "markdown",
   "metadata": {},
   "source": [
    "### Первый итоговый файл должен выглядить следующим образом: \n",
    "\"id\" топ 10 самых дорогих квартир\n",
    "индексы самых дорогих квартир, сохраните отдельный список\n",
    "\"id\" 5 самых больших квартир\n",
    "коффициент корреляции Пирсона между price и full_sq, и price и *life_sq*\n",
    "\n",
    "### Второй итоговый файл должен выглядить следующим образом: \n",
    "id, predicted_price для тестовых данных"
   ]
  },
  {
   "cell_type": "code",
   "execution_count": 14,
   "metadata": {},
   "outputs": [],
   "source": [
    "# Prepare data\n",
    "add_df = pd.read_csv('HW_train_additional_data.csv')\n",
    "add_test_df = pd.read_csv('HW_test_additional_data.csv')\n",
    "test_df = pd.read_csv('HW_test_main_data.csv')"
   ]
  },
  {
   "cell_type": "code",
   "execution_count": 15,
   "metadata": {},
   "outputs": [
    {
     "data": {
      "text/html": [
       "<div>\n",
       "<style scoped>\n",
       "    .dataframe tbody tr th:only-of-type {\n",
       "        vertical-align: middle;\n",
       "    }\n",
       "\n",
       "    .dataframe tbody tr th {\n",
       "        vertical-align: top;\n",
       "    }\n",
       "\n",
       "    .dataframe thead th {\n",
       "        text-align: right;\n",
       "    }\n",
       "</style>\n",
       "<table border=\"1\" class=\"dataframe\">\n",
       "  <thead>\n",
       "    <tr style=\"text-align: right;\">\n",
       "      <th></th>\n",
       "      <th>id</th>\n",
       "      <th>timestamp</th>\n",
       "      <th>full_sq</th>\n",
       "      <th>life_sq</th>\n",
       "      <th>floor</th>\n",
       "      <th>max_floor</th>\n",
       "      <th>material</th>\n",
       "      <th>build_year</th>\n",
       "      <th>num_room</th>\n",
       "      <th>kitch_sq</th>\n",
       "      <th>apartment condition</th>\n",
       "      <th>sub_area</th>\n",
       "      <th>price</th>\n",
       "      <th>year</th>\n",
       "      <th>month</th>\n",
       "      <th>month_year</th>\n",
       "      <th>pred_life_sq</th>\n",
       "    </tr>\n",
       "  </thead>\n",
       "  <tbody>\n",
       "    <tr>\n",
       "      <th>0</th>\n",
       "      <td>30392</td>\n",
       "      <td>2014-12-30</td>\n",
       "      <td>60</td>\n",
       "      <td>36.0</td>\n",
       "      <td>6.0</td>\n",
       "      <td>9.0</td>\n",
       "      <td>1.0</td>\n",
       "      <td>1974.0</td>\n",
       "      <td>3.0</td>\n",
       "      <td>5.0</td>\n",
       "      <td>3.0</td>\n",
       "      <td>9</td>\n",
       "      <td>9711800.0</td>\n",
       "      <td>2014</td>\n",
       "      <td>12</td>\n",
       "      <td>12_2014</td>\n",
       "      <td>NaN</td>\n",
       "    </tr>\n",
       "    <tr>\n",
       "      <th>1</th>\n",
       "      <td>36540</td>\n",
       "      <td>2013-06-28</td>\n",
       "      <td>44</td>\n",
       "      <td>29.0</td>\n",
       "      <td>9.0</td>\n",
       "      <td>NaN</td>\n",
       "      <td>NaN</td>\n",
       "      <td>NaN</td>\n",
       "      <td>NaN</td>\n",
       "      <td>NaN</td>\n",
       "      <td>NaN</td>\n",
       "      <td>19</td>\n",
       "      <td>6643200.0</td>\n",
       "      <td>2013</td>\n",
       "      <td>6</td>\n",
       "      <td>6_2013</td>\n",
       "      <td>NaN</td>\n",
       "    </tr>\n",
       "    <tr>\n",
       "      <th>2</th>\n",
       "      <td>94669</td>\n",
       "      <td>2013-09-15</td>\n",
       "      <td>62</td>\n",
       "      <td>60.0</td>\n",
       "      <td>4.0</td>\n",
       "      <td>NaN</td>\n",
       "      <td>NaN</td>\n",
       "      <td>NaN</td>\n",
       "      <td>NaN</td>\n",
       "      <td>NaN</td>\n",
       "      <td>NaN</td>\n",
       "      <td>80</td>\n",
       "      <td>5698300.0</td>\n",
       "      <td>2013</td>\n",
       "      <td>9</td>\n",
       "      <td>9_2013</td>\n",
       "      <td>NaN</td>\n",
       "    </tr>\n",
       "    <tr>\n",
       "      <th>3</th>\n",
       "      <td>17531</td>\n",
       "      <td>2013-12-13</td>\n",
       "      <td>33</td>\n",
       "      <td>18.0</td>\n",
       "      <td>4.0</td>\n",
       "      <td>9.0</td>\n",
       "      <td>1.0</td>\n",
       "      <td>1970.0</td>\n",
       "      <td>1.0</td>\n",
       "      <td>6.0</td>\n",
       "      <td>2.0</td>\n",
       "      <td>15</td>\n",
       "      <td>5055000.0</td>\n",
       "      <td>2013</td>\n",
       "      <td>12</td>\n",
       "      <td>12_2013</td>\n",
       "      <td>NaN</td>\n",
       "    </tr>\n",
       "    <tr>\n",
       "      <th>4</th>\n",
       "      <td>32159</td>\n",
       "      <td>2014-02-13</td>\n",
       "      <td>37</td>\n",
       "      <td>14.0</td>\n",
       "      <td>1.0</td>\n",
       "      <td>17.0</td>\n",
       "      <td>1.0</td>\n",
       "      <td>1991.0</td>\n",
       "      <td>1.0</td>\n",
       "      <td>1.0</td>\n",
       "      <td>2.0</td>\n",
       "      <td>74</td>\n",
       "      <td>5425000.0</td>\n",
       "      <td>2014</td>\n",
       "      <td>2</td>\n",
       "      <td>2_2014</td>\n",
       "      <td>NaN</td>\n",
       "    </tr>\n",
       "    <tr>\n",
       "      <th>...</th>\n",
       "      <td>...</td>\n",
       "      <td>...</td>\n",
       "      <td>...</td>\n",
       "      <td>...</td>\n",
       "      <td>...</td>\n",
       "      <td>...</td>\n",
       "      <td>...</td>\n",
       "      <td>...</td>\n",
       "      <td>...</td>\n",
       "      <td>...</td>\n",
       "      <td>...</td>\n",
       "      <td>...</td>\n",
       "      <td>...</td>\n",
       "      <td>...</td>\n",
       "      <td>...</td>\n",
       "      <td>...</td>\n",
       "      <td>...</td>\n",
       "    </tr>\n",
       "    <tr>\n",
       "      <th>28995</th>\n",
       "      <td>85589</td>\n",
       "      <td>2013-05-08</td>\n",
       "      <td>58</td>\n",
       "      <td>NaN</td>\n",
       "      <td>2.0</td>\n",
       "      <td>NaN</td>\n",
       "      <td>NaN</td>\n",
       "      <td>NaN</td>\n",
       "      <td>NaN</td>\n",
       "      <td>NaN</td>\n",
       "      <td>NaN</td>\n",
       "      <td>101</td>\n",
       "      <td>4330300.0</td>\n",
       "      <td>2013</td>\n",
       "      <td>5</td>\n",
       "      <td>5_2013</td>\n",
       "      <td>38.1</td>\n",
       "    </tr>\n",
       "    <tr>\n",
       "      <th>28996</th>\n",
       "      <td>11345</td>\n",
       "      <td>2014-04-12</td>\n",
       "      <td>38</td>\n",
       "      <td>NaN</td>\n",
       "      <td>9.0</td>\n",
       "      <td>17.0</td>\n",
       "      <td>1.0</td>\n",
       "      <td>NaN</td>\n",
       "      <td>1.0</td>\n",
       "      <td>1.0</td>\n",
       "      <td>NaN</td>\n",
       "      <td>134</td>\n",
       "      <td>4779900.0</td>\n",
       "      <td>2014</td>\n",
       "      <td>4</td>\n",
       "      <td>4_2014</td>\n",
       "      <td>22.7</td>\n",
       "    </tr>\n",
       "    <tr>\n",
       "      <th>28997</th>\n",
       "      <td>55519</td>\n",
       "      <td>2013-09-23</td>\n",
       "      <td>55</td>\n",
       "      <td>30.0</td>\n",
       "      <td>9.0</td>\n",
       "      <td>16.0</td>\n",
       "      <td>1.0</td>\n",
       "      <td>2002.0</td>\n",
       "      <td>2.0</td>\n",
       "      <td>8.0</td>\n",
       "      <td>3.0</td>\n",
       "      <td>38</td>\n",
       "      <td>7260000.0</td>\n",
       "      <td>2013</td>\n",
       "      <td>9</td>\n",
       "      <td>9_2013</td>\n",
       "      <td>NaN</td>\n",
       "    </tr>\n",
       "    <tr>\n",
       "      <th>28998</th>\n",
       "      <td>17196</td>\n",
       "      <td>2013-11-19</td>\n",
       "      <td>37</td>\n",
       "      <td>19.0</td>\n",
       "      <td>3.0</td>\n",
       "      <td>16.0</td>\n",
       "      <td>5.0</td>\n",
       "      <td>1979.0</td>\n",
       "      <td>1.0</td>\n",
       "      <td>9.0</td>\n",
       "      <td>3.0</td>\n",
       "      <td>43</td>\n",
       "      <td>6018000.0</td>\n",
       "      <td>2013</td>\n",
       "      <td>11</td>\n",
       "      <td>11_2013</td>\n",
       "      <td>NaN</td>\n",
       "    </tr>\n",
       "    <tr>\n",
       "      <th>28999</th>\n",
       "      <td>97330</td>\n",
       "      <td>2014-05-03</td>\n",
       "      <td>45</td>\n",
       "      <td>20.0</td>\n",
       "      <td>12.0</td>\n",
       "      <td>17.0</td>\n",
       "      <td>6.0</td>\n",
       "      <td>2011.0</td>\n",
       "      <td>1.0</td>\n",
       "      <td>10.0</td>\n",
       "      <td>1.0</td>\n",
       "      <td>101</td>\n",
       "      <td>2389000.0</td>\n",
       "      <td>2014</td>\n",
       "      <td>5</td>\n",
       "      <td>5_2014</td>\n",
       "      <td>NaN</td>\n",
       "    </tr>\n",
       "  </tbody>\n",
       "</table>\n",
       "<p>29000 rows × 17 columns</p>\n",
       "</div>"
      ],
      "text/plain": [
       "          id  timestamp  full_sq  life_sq  floor  max_floor  material  \\\n",
       "0      30392 2014-12-30       60     36.0    6.0        9.0       1.0   \n",
       "1      36540 2013-06-28       44     29.0    9.0        NaN       NaN   \n",
       "2      94669 2013-09-15       62     60.0    4.0        NaN       NaN   \n",
       "3      17531 2013-12-13       33     18.0    4.0        9.0       1.0   \n",
       "4      32159 2014-02-13       37     14.0    1.0       17.0       1.0   \n",
       "...      ...        ...      ...      ...    ...        ...       ...   \n",
       "28995  85589 2013-05-08       58      NaN    2.0        NaN       NaN   \n",
       "28996  11345 2014-04-12       38      NaN    9.0       17.0       1.0   \n",
       "28997  55519 2013-09-23       55     30.0    9.0       16.0       1.0   \n",
       "28998  17196 2013-11-19       37     19.0    3.0       16.0       5.0   \n",
       "28999  97330 2014-05-03       45     20.0   12.0       17.0       6.0   \n",
       "\n",
       "       build_year  num_room  kitch_sq  apartment condition  sub_area  \\\n",
       "0          1974.0       3.0       5.0                  3.0         9   \n",
       "1             NaN       NaN       NaN                  NaN        19   \n",
       "2             NaN       NaN       NaN                  NaN        80   \n",
       "3          1970.0       1.0       6.0                  2.0        15   \n",
       "4          1991.0       1.0       1.0                  2.0        74   \n",
       "...           ...       ...       ...                  ...       ...   \n",
       "28995         NaN       NaN       NaN                  NaN       101   \n",
       "28996         NaN       1.0       1.0                  NaN       134   \n",
       "28997      2002.0       2.0       8.0                  3.0        38   \n",
       "28998      1979.0       1.0       9.0                  3.0        43   \n",
       "28999      2011.0       1.0      10.0                  1.0       101   \n",
       "\n",
       "           price  year  month month_year  pred_life_sq  \n",
       "0      9711800.0  2014     12    12_2014           NaN  \n",
       "1      6643200.0  2013      6     6_2013           NaN  \n",
       "2      5698300.0  2013      9     9_2013           NaN  \n",
       "3      5055000.0  2013     12    12_2013           NaN  \n",
       "4      5425000.0  2014      2     2_2014           NaN  \n",
       "...          ...   ...    ...        ...           ...  \n",
       "28995  4330300.0  2013      5     5_2013          38.1  \n",
       "28996  4779900.0  2014      4     4_2014          22.7  \n",
       "28997  7260000.0  2013      9     9_2013           NaN  \n",
       "28998  6018000.0  2013     11    11_2013           NaN  \n",
       "28999  2389000.0  2014      5     5_2014           NaN  \n",
       "\n",
       "[29000 rows x 17 columns]"
      ]
     },
     "execution_count": 15,
     "metadata": {},
     "output_type": "execute_result"
    }
   ],
   "source": [
    "train_df"
   ]
  },
  {
   "cell_type": "code",
   "execution_count": 16,
   "metadata": {},
   "outputs": [],
   "source": [
    "train_df = train_df.merge(add_df, how= 'left', on='id')\n",
    "test_df['timestamp'] = pd.to_datetime(test_df['timestamp'])\n",
    "test_df['year'] = test_df['timestamp'].dt.year\n",
    "test_df['month'] = test_df['timestamp'].dt.month\n",
    "test_no_life_sq = grcv.predict(test_df[test_df.life_sq.isnull()].full_sq.values.reshape(-1,1))\n",
    "test_df['pred_life_sq'] = np.NaN\n",
    "test_df.loc[test_df.life_sq.isnull(),'pred_life_sq'] = list(test_no_life_sq.reshape(1,-1)[0])\n",
    "test_df = test_df.merge(add_test_df,how='left',on='id')"
   ]
  },
  {
   "cell_type": "code",
   "execution_count": 17,
   "metadata": {},
   "outputs": [],
   "source": [
    "train_df = train_df.fillna(-20)\n",
    "test_df = test_df.fillna(-20)"
   ]
  },
  {
   "cell_type": "code",
   "execution_count": 18,
   "metadata": {},
   "outputs": [
    {
     "name": "stderr",
     "output_type": "stream",
     "text": [
      "/Users/sgafarov/opt/anaconda3/lib/python3.7/site-packages/ipykernel_launcher.py:2: FutureWarning: Series.dt.weekofyear and Series.dt.week have been deprecated.  Please use Series.dt.isocalendar().week instead.\n",
      "  \n",
      "/Users/sgafarov/opt/anaconda3/lib/python3.7/site-packages/ipykernel_launcher.py:3: FutureWarning: Series.dt.weekofyear and Series.dt.week have been deprecated.  Please use Series.dt.isocalendar().week instead.\n",
      "  This is separate from the ipykernel package so we can avoid doing imports until\n"
     ]
    }
   ],
   "source": [
    "# get day of week\n",
    "train_df['week_of_year'] = train_df.timestamp.dt.weekofyear\n",
    "test_df['week_of_year'] = test_df.timestamp.dt.weekofyear\n",
    "# get week of the year\n",
    "train_df['day_of_week'] = train_df.timestamp.dt.weekday\n",
    "test_df['day_of_week'] = test_df.timestamp.dt.weekday\n",
    "\n",
    "train_df['timestamp_int'] = train_df.timestamp.astype(int)\n",
    "test_df['timestamp_int'] = test_df.timestamp.astype(int)"
   ]
  },
  {
   "cell_type": "code",
   "execution_count": 19,
   "metadata": {},
   "outputs": [],
   "source": [
    "# get ratio of squares\n",
    "train_df[\"ratio_life_dash_full_sq\"] = train_df[\"life_sq\"] / train_df[\"full_sq\"]\n",
    "train_df[\"ration_kitchen_dash_full_sq\"] = train_df[\"kitch_sq\"] / train_df[\"full_sq\"]\n",
    "test_df[\"ratio_life_dash_full_sq\"] = test_df[\"life_sq\"] / test_df[\"full_sq\"]\n",
    "test_df[\"ration_kitchen_dash_full_sq\"] = test_df[\"kitch_sq\"] / test_df[\"full_sq\"]\n",
    "\n",
    "# age of building\n",
    "train_df['age'] = train_df[\"build_year\"] - train_df['year']\n",
    "test_df['age'] = test_df[\"build_year\"] - test_df['year']\n",
    "\n",
    "# difference between full area and living area\n",
    "train_df['some_extra_sqr_1'] = train_df[\"full_sq\"] - train_df[\"life_sq\"]\n",
    "test_df['some_extra_sqr_1'] = test_df[\"full_sq\"] - test_df[\"life_sq\"]\n",
    "train_df['some_extra_sqr_2'] = train_df[\"full_sq\"] - train_df.life_sq.combine_first(train_df.pred_life_sq)\n",
    "test_df['some_extra_sqr_2'] = test_df[\"full_sq\"] - test_df.life_sq.combine_first(test_df.pred_life_sq)"
   ]
  },
  {
   "cell_type": "code",
   "execution_count": 20,
   "metadata": {},
   "outputs": [],
   "source": [
    "xgb_params = {\n",
    "    'eta': 0.05,\n",
    "    'max_depth': 6,\n",
    "    'subsample': 0.7,\n",
    "    'colsample_bytree': 0.7,\n",
    "    'objective': 'reg:linear',\n",
    "    'eval_metric': 'rmse',\n",
    "    'min_child_weight':1,\n",
    "    'silent': 1,\n",
    "    'seed':0\n",
    "}"
   ]
  },
  {
   "cell_type": "code",
   "execution_count": 21,
   "metadata": {},
   "outputs": [],
   "source": [
    "xgb_params_2 = {\n",
    "    'eta': 0.05,\n",
    "    'max_depth': 4,\n",
    "    'subsample': 0.7,\n",
    "    'colsample_bytree': 0.7,\n",
    "    'objective': 'reg:linear',\n",
    "    'eval_metric': 'rmse',\n",
    "    'min_child_weight':1,\n",
    "    'silent': 1,\n",
    "    'seed':0\n",
    "}"
   ]
  },
  {
   "cell_type": "code",
   "execution_count": 22,
   "metadata": {},
   "outputs": [],
   "source": [
    "xgb_params_3 = {\n",
    "    'eta': 0.05,\n",
    "    'max_depth': 8,\n",
    "    'subsample': 0.7,\n",
    "    'colsample_bytree': 0.7,\n",
    "    'objective': 'reg:linear',\n",
    "    'eval_metric': 'rmse',\n",
    "    'min_child_weight':1,\n",
    "    'silent': 1,\n",
    "    'seed':0\n",
    "}"
   ]
  },
  {
   "cell_type": "code",
   "execution_count": 23,
   "metadata": {},
   "outputs": [],
   "source": [
    "xgb_train = xgb.DMatrix(train_df.drop(['timestamp','price','month_year'], axis=1)\n",
    "                        , train_df['price']\n",
    "                        , feature_names = train_df.drop(['timestamp','price','month_year'], axis=1).columns\n",
    "                        , enable_categorical=True)\n",
    "xgb_test = xgb.DMatrix(test_df.drop(['timestamp'], axis=1)\n",
    "                        , feature_names = test_df.drop(['timestamp'], axis=1).columns\n",
    "                        , enable_categorical=True)"
   ]
  },
  {
   "cell_type": "code",
   "execution_count": 24,
   "metadata": {},
   "outputs": [
    {
     "name": "stdout",
     "output_type": "stream",
     "text": [
      "[17:17:58] WARNING: /Users/travis/build/dmlc/xgboost/src/objective/regression_obj.cu:170: reg:linear is now deprecated in favor of reg:squarederror.\n",
      "[17:17:58] WARNING: /Users/travis/build/dmlc/xgboost/src/learner.cc:541: \n",
      "Parameters: { silent } might not be used.\n",
      "\n",
      "  This may not be accurate due to some parameters are only used in language bindings but\n",
      "  passed down to XGBoost core.  Or some parameters are not used but slip through this\n",
      "  verification. Please open an issue if you find above cases.\n",
      "\n",
      "\n"
     ]
    }
   ],
   "source": [
    "model = xgb.train(params = xgb_params\n",
    "                  , dtrain = xgb_train\n",
    "                  , num_boost_round = 2000\n",
    "                  , verbose_eval = 10)"
   ]
  },
  {
   "cell_type": "code",
   "execution_count": 25,
   "metadata": {},
   "outputs": [
    {
     "name": "stdout",
     "output_type": "stream",
     "text": [
      "[17:18:40] WARNING: /Users/travis/build/dmlc/xgboost/src/objective/regression_obj.cu:170: reg:linear is now deprecated in favor of reg:squarederror.\n",
      "[17:18:40] WARNING: /Users/travis/build/dmlc/xgboost/src/learner.cc:541: \n",
      "Parameters: { silent } might not be used.\n",
      "\n",
      "  This may not be accurate due to some parameters are only used in language bindings but\n",
      "  passed down to XGBoost core.  Or some parameters are not used but slip through this\n",
      "  verification. Please open an issue if you find above cases.\n",
      "\n",
      "\n"
     ]
    }
   ],
   "source": [
    "model_2 = xgb.train(params = xgb_params_2\n",
    "                  , dtrain = xgb_train\n",
    "                  , num_boost_round = 2000\n",
    "                  , verbose_eval = 10)"
   ]
  },
  {
   "cell_type": "code",
   "execution_count": 26,
   "metadata": {},
   "outputs": [
    {
     "name": "stdout",
     "output_type": "stream",
     "text": [
      "[17:19:07] WARNING: /Users/travis/build/dmlc/xgboost/src/objective/regression_obj.cu:170: reg:linear is now deprecated in favor of reg:squarederror.\n",
      "[17:19:07] WARNING: /Users/travis/build/dmlc/xgboost/src/learner.cc:541: \n",
      "Parameters: { silent } might not be used.\n",
      "\n",
      "  This may not be accurate due to some parameters are only used in language bindings but\n",
      "  passed down to XGBoost core.  Or some parameters are not used but slip through this\n",
      "  verification. Please open an issue if you find above cases.\n",
      "\n",
      "\n"
     ]
    }
   ],
   "source": [
    "model_3 = xgb.train(params = xgb_params_3\n",
    "                  , dtrain = xgb_train\n",
    "                  , num_boost_round = 2000\n",
    "                  , verbose_eval = 10)"
   ]
  },
  {
   "cell_type": "code",
   "execution_count": 22,
   "metadata": {},
   "outputs": [
    {
     "data": {
      "text/plain": [
       "array([ 9596629. ,  2757307.2,  8762424. ,  5272009. ,  5907185. ,\n",
       "        3997530. ,  4091557.8,  3881532.8,  6494489.5, 10935451. ,\n",
       "        5371397.5,  8868269. , 16494989. ,  6835896. ,  3740264. ,\n",
       "        3967414.5,  4257976.5,  2117462.8,  5521739. ,  4399366. ,\n",
       "       10099575. ,  9412100. ,  4538472.5,  7721787.5,  2836189.5,\n",
       "       12922333. ,  8164135. ,  4194693.5,  6452991.5,  9486282. ,\n",
       "        5943430. ,  5333078. ,  5132425.5,  6756833. ,  5363560. ,\n",
       "        9763470. ,  7839520.5,  5535493.5,  4842622. , 10623959. ,\n",
       "        5402648.5,  5397824. ,  7196174.5, 12141199. ,  5198671. ,\n",
       "        5996140. , 10780818. ,  5621753. ,  7602328.5,  4628025. ,\n",
       "        9440345. ,  6609139. ,  6313423.5,  6245501.5,  5827214. ,\n",
       "        5815081. ,  6420807.5,  4215696.5, 11144757. ,  9208838. ,\n",
       "       12347878. ,  4481998.5,  7795544.5,  6262293.5,  9414271. ,\n",
       "        5911208.5,  6721130.5,  8959931. , 11448228. , 20673776. ,\n",
       "        7461520.5, 11266553. ,  4457505. ,  4724278. ,  6314961.5,\n",
       "        5336218.5,  5290289. ,  6654604. , 13872583. ,  7586168.5,\n",
       "       16211995. , 13727545. ,  5107590.5,  5710848. ,  6090405.5,\n",
       "       11361112. ,  3631212. ,  5472918.5,  6753891. ,  2933302.2,\n",
       "       13188998. ,  6326495. ,  6922387.5,  7830749.5,  6098539. ,\n",
       "        5592871. ,  7557559.5,  5845615.5,  9466426. ,  7412128.5,\n",
       "        9127022. ,  4041486. ,  5121786. ,  9103297. ,  7318204. ,\n",
       "        5046740. ,  3552467. , 11868814. ,  7077273.5,  5284973.5,\n",
       "        9910454. ,  4659618.5,  5836532. ,  4450739.5,  6591234. ,\n",
       "        6238210. ,  6373893.5,  5898689.5,  7740679. ,  8685440. ,\n",
       "        4603539. ,  6757446. ,  6898499. ,  5531596. ,  6410375. ,\n",
       "        6685910.5,  4056022. , 11641067. ,  8427000. , 19412442. ,\n",
       "        4398768.5,  5828923. , 12628494. ,  9204293. ,  5753201. ,\n",
       "        6687563.5, 13979782. ,  7119680. ,  4164114.5,  7688400. ,\n",
       "        9492462. , 12798224. ,  9411526. ,  6180661.5,  9327747. ,\n",
       "        8081600.5,  5559586.5,  7813160. ,  5524835.5,  6664987. ,\n",
       "        9682393. ,  4277133.5, 17199948. ,  9904051. ,  5051397.5,\n",
       "        6050842.5,  9277481. ,  4220101.5,  7293956.5,  6501571.5,\n",
       "        5824345.5,  5623438.5, 10772060. ,  6721027. ,  9505777. ,\n",
       "        5379844. ,  5589903.5, 23605828. ,  7128728. , 11161806. ,\n",
       "        4175884. ,  6485803.5,  7427628.5,  4261780.5, 13561404. ,\n",
       "       11910003. ,  6885448.5,  5426943.5, 12400251. , 13272582. ,\n",
       "        7687164. ,  4233530. ,  4121273.2,  5348090.5,  8304398.5,\n",
       "        5090351.5,  5597383.5,  5155518.5,  3695451.5,  5634793.5,\n",
       "        5971709. ,  5706621. ,  5699501.5, 10659796. ,  6260720. ,\n",
       "        4175700.8,  5763347.5,  3052532.8,  6586984. , 11543796. ,\n",
       "        6442636.5,  6960312. , 14466217. ,  5942574. ,  8457566. ,\n",
       "        5737443. , 15287335. ,  3482014. , 15733690. ,  5958355. ,\n",
       "        8551995. ,  6280433.5,  6673377. ,  7983694.5,  4227847. ,\n",
       "        7171127. ,  5492975.5, 17228480. ,  4739221.5,  6504013. ,\n",
       "        3383929.2,  7346404. ,  7364761. ,  6190257. ,  3035914.8,\n",
       "        6468009. ,  6277885.5,  5991629. ,  4971332.5,  6848499. ,\n",
       "        4114599.2,  7423476. ,  6147796. ,  4990835. ,  9087283. ,\n",
       "        7956355.5, 21959070. ,  9846584. , 16848702. , 11121826. ,\n",
       "        5199472.5,  4804540. ,  3792873.8, 14344821. ,  8389074. ,\n",
       "        7302547.5,  5135364.5,  5556331.5,  8294656.5, 14968548. ,\n",
       "        5508599.5,  5744362. ,  8359552.5,  5338915. ,  8223516.5,\n",
       "       12886858. ,  5828565. ,  7615462. ,  3827616. ,  3930663. ,\n",
       "        5370511.5, 12262749. ,  4265523. ,  4345422.5,  6506343.5,\n",
       "        7956541. ,  7945718.5,  4362104. ,  3802632.5,  3773977.5,\n",
       "        5250121.5,  5653470.5,  4304765.5,  5346559. ,  6897254. ,\n",
       "        4934159.5,  9911350. ,  8158004.5,  4212215. ,  7024813. ,\n",
       "        3433243.2,  5583696.5, 11942749. ,  5118816. , 11381884. ,\n",
       "        6020668.5,  4476139.5,  6141092. ,  6645269. ,  6458285.5,\n",
       "       27134830. ,  5438257.5,  2886685.8, 11371505. ,  8167770. ,\n",
       "        4428699. ,  6069515. ,  3880985. , 10191543. ,  4519876. ,\n",
       "        4813086.5,  1880872.2, 23790802. ,  6648841. ,  6160122. ,\n",
       "        7574893. ,  4844441.5,  5308598. ,  5086477. , 14717564. ,\n",
       "        8258919.5,  4115794.2,  6049305.5,  6551438. ,  6771145.5,\n",
       "        5835514.5,  6042464. , 10992419. ,  3717499.2,  8948875. ,\n",
       "        4682652. ,  7175374.5,  4624185. ,  8121997.5,  7619713. ,\n",
       "        5785499. , 11323963. ,  5932390.5,  7800735. , 20633114. ,\n",
       "        6871649. ,  7073644. ,  3877238.8,  7714866.5,  2566590.2,\n",
       "        9244490. ,  4737463. ,  4906489.5,  4785736. ,  8515793. ,\n",
       "       18288732. ,  5814985.5,  6666860.5,  3690599.8,  4560166.5,\n",
       "       12721702. ,  7996701. ,  4489979. ,  7256479. ,  8955272. ,\n",
       "        4864096.5, 19355638. ,  8885697. ,  9361681. ,  6277936. ,\n",
       "        7943464. ,  6362570.5,  5522726.5,  7488470. ,  3428851.5,\n",
       "        8404402. ,  6559344. ,  4278977. ,  6125881. ,  5507492.5,\n",
       "        6818651. ,  4544517.5,  6601547.5,  4949534. ,  6839753. ,\n",
       "        5743700. ,  6635488. ,  9878601. ,  6914689. ,  6899402.5,\n",
       "       10021158. ,  4980703.5,  6078012.5,  5443653. ,  9470591. ,\n",
       "        5320170.5,  9533157. ,  5860518.5,  9804889. ,  3487750. ,\n",
       "        5692788.5,  5028679. ,  5953272. ,  4711587.5,  5911045.5,\n",
       "        5187868.5,  3775694.5,  4940373. ,  8732554. ,  8130142. ,\n",
       "       16673787. , 10207622. ,  5418807. ,  5285969. ,  6847687. ,\n",
       "        7328649.5,  2193479.5,  3729211.8,  6722530.5,  6016450.5,\n",
       "        5491288.5,  5775209. ,  7334884. ,  6071251.5,  5733386.5,\n",
       "        6564772. ,  6551260. ,  5832169.5,  7747389. ,  3483198. ,\n",
       "        5652288. ,  3418401.5, 10709719. ,  6001907.5, 41156156. ,\n",
       "        4964978.5,  7792973.5,  6178350.5,  4496867.5,  7919965. ,\n",
       "        5252823. ,  4191244. ,  6468014.5,  5002492.5,  3814400.5,\n",
       "        9887953. , 14232609. , 15554142. ,  8249650.5,  2253283.5,\n",
       "        8282522. ,  5797120.5,  6935020.5,  7118642. ,  9855646. ,\n",
       "        7978282.5,  9606335. ,  4183357. , 14108902. ,  6551109.5,\n",
       "        7626816.5,  4695230. ,  8587431. ,  3119436.8, 13902781. ,\n",
       "        8557532. , 15419218. ,  4747229.5,  7270150. ,  5332306.5,\n",
       "        8007182. ,  5773165. ,  6713574. ,  6096931.5,  6057826.5,\n",
       "        4975806.5,  6430077.5,  3965553.5,  8158084. ,  8268441.5,\n",
       "        8588270. ,  3786592.2,  6050679. ,  5319694. ,  5694030. ,\n",
       "        9863243. , 11577229. ,  9682280. ,  3600948. , 15969810. ,\n",
       "        5788713. ,  2427415. ,  9381834. ,  6029893. ,  3792315. ,\n",
       "        4351028. ,  3423873.2,  5766002.5,  7537353.5,  4915485.5,\n",
       "        5998873. ,  7389422. ,  7964527. ,  7814559.5,  6747433.5,\n",
       "        8659073. ,  9418379. ,  6762495.5,  6219103.5, 13306149. ,\n",
       "        9024664. ,  6598157. ,  7203396. ,  7279169.5,  4505440.5,\n",
       "        6302203. ,  6061974. ,  4196155. ,  6900706.5,  3997406.8,\n",
       "        5614383. ,  4954766. ,  5737341.5, 14596044. ,  7477779.5,\n",
       "        8673417. ,  9863929. ,  3172773.5,  7577038.5,  6090193. ,\n",
       "        5552800. ,  6412844.5, 27396308. , 13933938. ,  6810917. ,\n",
       "        4093616.5,  6467423. ,  7256630.5,  7566075.5,  8471807. ,\n",
       "        5222234. ,  5507804.5,  8590966. , 12493068. ,  7964330.5,\n",
       "       15204398. , 19125236. ,  5037783.5,  5280905. ,  3747808.2,\n",
       "        8439258. ,  5284459. ,  6627392. ,  4119388.8,  6816553. ,\n",
       "        5253328. ,  6740603. ,  5228426. ,  4576761.5, 10837822. ,\n",
       "        7406454. ,  7085590.5,  7170122. ,  7534739. ,  6533233. ,\n",
       "        3236184.2,  4875784.5,  3978410.2,  7696083.5,  5708142.5,\n",
       "        4745560. ,  9350291. ,  2975872. , 12770990. ,  5086362. ,\n",
       "        5177763.5,  3311869. ,  5992147. ,  3728894.2,  3726993.2,\n",
       "        5804325. ,  5149206.5,  7348651. ,  5527168.5, 12326968. ,\n",
       "        7273095. ,  5544958. ,  5648893.5,  7627695.5, 12152514. ,\n",
       "        7176110. ,  4124874.5,  5314051.5, 14895854. ,  5298208.5,\n",
       "        4532562.5,  8467637. , 11255544. ,  5696332.5, 13105456. ,\n",
       "        4711765. ,  5355326. ,  9205087. ,  7451127. ,  8496546. ,\n",
       "        3939334.5,  8223912.5,  8438544. ,  8925527. ,  5150971.5,\n",
       "        3750923.8,  6461772.5, 10667760. ,  5357995.5,  6421677. ,\n",
       "        7091911. ,  8299840. ,  7135179.5,  5106526.5,  7035489. ,\n",
       "        4668544.5,  9936102. , 12678564. ,  6058110. ,  7406966. ,\n",
       "       17152346. ,  4710061.5,  4900080. ,  8958636. ,  5507608. ,\n",
       "       14910583. ,  4146090.2,  6638284. , 10531774. , 16390385. ,\n",
       "        8719878. ,  7534354. , 18207264. ,  4534286.5, 13096858. ,\n",
       "        6157528. ,  6250574. , 13677386. ,  6479338.5,  7976888. ,\n",
       "        7152992. ,  5699467. ,  7179480. ,  4977881. ,  4850215.5,\n",
       "        7923118. ,  9691212. , 11550750. ,  9066840. ,  6851855. ,\n",
       "        7764639. ,  6419092. ,  4616790.5,  8263227. ,  8393091. ,\n",
       "        4161670.5,  6594217.5,  3909073. ,  8096199. ,  4379772.5,\n",
       "        7548897.5, 10229441. ,  7842376. ,  3700795. ,  5859909. ,\n",
       "        4506733.5,  4580961.5,  5226650. ,  3755957.2,  3360142. ,\n",
       "        4394278. ,  6003891.5,  3845393. ,  5475525.5, 13639416. ,\n",
       "       11296652. ,  9840300. , 16380759. , 10019890. ,  4462388. ,\n",
       "        6217916.5,  6402911. ,  6306981. ,  3645215.8,  6396110.5,\n",
       "        4106819.8,  7976348.5,  6061144.5,  6422229. ,  6211460.5,\n",
       "        7525042.5, 11591075. ,  5097932.5,  5658051. ,  6249519.5,\n",
       "        4579881. ,  7077000.5,  5763156.5,  7328722.5,  9209698. ,\n",
       "        7307346. , 10816567. ,  6729452. ,  7389330.5,  5686997.5,\n",
       "        5547279.5,  6879835. ,  4901279. ,  7005129. ,  5186345. ,\n",
       "        6239912.5,  5434924. ,  5097577.5,  7746683. ,  3731968. ,\n",
       "        9229133. ,  4302298.5,  4739287. ,  3881688.2, 12031857. ,\n",
       "        3448987. ,  7239773.5,  2647165.5, 10499578. ,  7875142. ,\n",
       "        4166689. ,  4463279.5,  5690180. ,  7723674.5,  8274742.5,\n",
       "        6954947.5,  4971852. ,  7075785.5,  5600138.5,  7865494. ,\n",
       "        4849500. ,  4343385.5,  4855338.5,  5151668. , 13097421. ,\n",
       "        4455878. ,  6771175.5,  5360983.5,  6895349. ,  5188066. ,\n",
       "        7797788.5,  5375679.5,  4298146.5,  6003755. , 13808998. ,\n",
       "        6688489. ,  7103900. ,  7972179.5,  7939216.5, 10705189. ,\n",
       "        6439852.5,  6090007.5,  5813477.5,  4981380.5, 11699218. ,\n",
       "        6259654.5,  6836045. ,  3949963. ,  2230649.2,  2592477.8,\n",
       "        7934446.5,  5842669. , 10066534. , 20433538. , 11646376. ,\n",
       "        6588564. ,  6019810. ,  7848945.5,  7489863. ,  5069104. ,\n",
       "       12111998. , 15728484. , 12768575. , 27574134. ,  6318998. ,\n",
       "        7969374. ,  5061079.5,  7513978.5,  7211211. ,  6539504.5,\n",
       "        5251834. ,  4635234. , 30561636. ,  6473811.5,  6031170.5,\n",
       "        7828020.5,  7504130. ,  6541648. , 10585560. ,  6544925. ,\n",
       "        8603481. ,  5254098.5,  6950890.5,  3939327.2,  5708313. ,\n",
       "        4779741. ,  6155863. ,  2197131.5,  6598968.5,  4239973. ,\n",
       "        6560264.5,  5695045.5,  5150668.5,  6887569.5,  6198382. ,\n",
       "        4593211.5,  6699210. ,  5448640. , 17868486. ,  6560533.5,\n",
       "        8462285. ,  4252213. ,  5182940. ,  8927502. ,  8610820. ,\n",
       "        8828651. ,  8543208. ,  6832956.5,  4509221.5,  6275148. ,\n",
       "        5603348.5,  5872486.5,  7082320. ,  5773729. ,  7399177. ,\n",
       "        6275474.5,  9216879. ,  4938049.5,  6349626. , 11484588. ,\n",
       "       10111852. ,  8698809. , 21032090. ,  6912031.5,  8993165. ,\n",
       "        8548763. ,  4865546. ,  6161404.5,  4527424. ,  7793918.5,\n",
       "       13391427. , 11442702. , 12551487. ,  6366006.5,  7085863. ,\n",
       "        7325738. ,  8605252. ,  7328420.5,  5147311. ,  5905556. ,\n",
       "        7623539.5,  6951962.5,  4365062.5,  5991684.5,  2427868.5,\n",
       "        5350664.5,  5538822. , 23405706. , 15284146. , 15771591. ,\n",
       "        5825272. ,  4335677. , 14056440. ,  5631867. ,  5310388.5,\n",
       "        5721809.5,  5286500. , 12557500. ,  5358577.5,  7393480.5,\n",
       "        4343686. ,  7913341. ,  7081427.5,  6838036.5, 29936848. ,\n",
       "        3733539.2, 10537441. ,  9555158. ,  6046966. ,  5068753. ,\n",
       "        7632778.5,  6654811.5,  9041254. ,  4885940. ,  4908648. ,\n",
       "        6230853.5,  6986533. ,  6195093.5,  5393924. ,  8853505. ,\n",
       "       16909414. , 14001294. ,  4785276. ,  7155292.5, 10998334. ,\n",
       "       12498503. ,  8328062. ,  7361638. ,  6566439.5,  5774414.5,\n",
       "        5581925.5,  6420341. ,  6414752.5,  8485219. , 11243369. ,\n",
       "        5607301.5, 13628542. ,  3668480. ,  5409664.5,  5916832. ,\n",
       "       11006394. ,  6273164. ,  6397506.5,  4784913.5,  6971917. ,\n",
       "        7166823. ,  7263676. ,  8972191. ,  3458040.5,  9779354. ,\n",
       "       14110354. ,  5577657. ,  2285511.8, 22708068. ,  6478265. ,\n",
       "        6220469. ,  7496148.5,  6172444.5, 17215322. , 27264910. ,\n",
       "        6724137.5,  5401727.5,  2800008.5, 13095034. ,  6836201. ,\n",
       "        5906722.5,  5722860.5,  7838942. , 12216190. , 12278148. ,\n",
       "        7807013.5, 16178266. ,  7958553. , 11151126. , 13154164. ,\n",
       "        6832932.5,  4508764.5, 20841744. , 11766226. ,  5130094. ,\n",
       "        7840229. ,  8813775. ,  4132909.5, 11825362. ,  5175347. ,\n",
       "        5692385. , 12015590. ,  4724838. , 15238620. ,  4440184.5,\n",
       "        5316739. ,  7614568. ,  7377066.5,  7489840.5,  5533623. ,\n",
       "        6717660.5,  6961343.5, 13166121. ,  4107230.8,  6181828. ,\n",
       "        7430868. ,  6915725. ,  9497498. ,  6097604.5,  7887482. ,\n",
       "        8721833. ,  4645043.5, 11373216. ,  6525122.5, 10341695. ,\n",
       "        4431036. ,  3786626.2,  4516338.5,  4473817. , 15953894. ,\n",
       "        7148648.5,  5834076. ,  4741112. ,  7288583. ,  7382183. ,\n",
       "        9827930. ,  4931052.5,  9305272. ,  6777224.5,  6181389. ,\n",
       "        4655143.5,  3593401.8,  6250407.5,  4669212.5,  5135941. ,\n",
       "        4020712.5, 10998684. , 14186800. ,  6996453. ,  4780546. ],\n",
       "      dtype=float32)"
      ]
     },
     "execution_count": 22,
     "metadata": {},
     "output_type": "execute_result"
    }
   ],
   "source": [
    "model.predict(xgb_test)"
   ]
  },
  {
   "cell_type": "code",
   "execution_count": 34,
   "metadata": {},
   "outputs": [],
   "source": [
    "test_df['pred_price'] = model.predict(xgb_test)"
   ]
  },
  {
   "cell_type": "code",
   "execution_count": 35,
   "metadata": {},
   "outputs": [],
   "source": [
    "test_df['pred_price_2'] = model_2.predict(xgb_test)"
   ]
  },
  {
   "cell_type": "code",
   "execution_count": 36,
   "metadata": {},
   "outputs": [],
   "source": [
    "test_df['pred_price_3'] = model_3.predict(xgb_test)"
   ]
  },
  {
   "cell_type": "code",
   "execution_count": 27,
   "metadata": {},
   "outputs": [
    {
     "data": {
      "image/png": "[encoded data removed]",
      "text/plain": [
       "<Figure size 864x576 with 1 Axes>"
      ]
     },
     "metadata": {
      "needs_background": "light"
     },
     "output_type": "display_data"
    }
   ],
   "source": [
    "# Посмотрим еще раз на изменение средних \n",
    "plt.figure(figsize=(12,8))\n",
    "plt.scatter(x='year_month', y='price', data=aggr_1)\n",
    "plt.ylabel('mean_price', fontsize=12)\n",
    "plt.xlabel('year_month', fontsize=12)\n",
    "plt.xticks(rotation='vertical')\n",
    "plt.show()"
   ]
  },
  {
   "cell_type": "code",
   "execution_count": 37,
   "metadata": {},
   "outputs": [],
   "source": [
    "# Поделим время на периоды\n",
    "# 9 периодов взято с потолка однако определение границ периодов шло на основе средних на графике\n",
    "test_df['period_flag'] = 9\n",
    "\n",
    "test_df.loc[test_df['timestamp'] < pd.to_datetime('2012-03-01'), 'period_flag'] = 1\n",
    "test_df.loc[(test_df['timestamp']>=pd.to_datetime('2012-03-01')) &\n",
    "               (test_df['timestamp'] <pd.to_datetime('2012-10-01')), 'period_flag'] = 2\n",
    "test_df.loc[(test_df['timestamp']>=pd.to_datetime('2012-10-01')) &\n",
    "               (test_df['timestamp'] <pd.to_datetime('2013-03-01')), 'period_flag'] = 3\n",
    "test_df.loc[(test_df['timestamp']>=pd.to_datetime('2013-03-01')) &\n",
    "               (test_df['timestamp'] <pd.to_datetime('2013-07-01')), 'period_flag'] = 4 \n",
    "test_df.loc[(test_df['timestamp']>=pd.to_datetime('2013-07-01')) &\n",
    "               (test_df['timestamp'] <pd.to_datetime('2014-01-01')), 'period_flag'] = 5 \n",
    "test_df.loc[(test_df['timestamp']>=pd.to_datetime('2014-01-01')) &\n",
    "               (test_df['timestamp'] <pd.to_datetime('2014-04-01')), 'period_flag'] = 6 \n",
    "test_df.loc[(test_df['timestamp']>=pd.to_datetime('2014-04-01')) &\n",
    "               (test_df['timestamp'] <pd.to_datetime('2014-08-01')), 'period_flag'] = 7 \n",
    "test_df.loc[(test_df['timestamp']>=pd.to_datetime('2014-08-01')) &\n",
    "               (test_df['timestamp'] <pd.to_datetime('2015-02-01')), 'period_flag'] = 8 "
   ]
  },
  {
   "cell_type": "code",
   "execution_count": 40,
   "metadata": {},
   "outputs": [],
   "source": [
    "# Проставим для опеределенных периодов свои predictions\n",
    "# Выбор предиктов можно осуществлять различными способами например с помощью метамодели\n",
    "def good_prediction(row):\n",
    "    pred = 0\n",
    "    if row.period_flag == 1:\n",
    "        pred = (row.pred_price_2 + row.pred_price_3)/2\n",
    "    elif row.period_flag in [2,3,5]:\n",
    "        pred = row.pred_price\n",
    "    elif row.period_flag in [4,8]:\n",
    "        pred = (row.pred_price + row.pred_price_2)/2\n",
    "    elif row.period_flag == 6:\n",
    "        pred = row.pred_price_2\n",
    "    elif row.period_flag == 7:\n",
    "        pred = (row.pred_price + row.pred_price_3)/2\n",
    "    elif row.period_flag == 9:\n",
    "        pred = row.pred_price_3\n",
    "    return pred"
   ]
  },
  {
   "cell_type": "code",
   "execution_count": 41,
   "metadata": {},
   "outputs": [],
   "source": [
    "test_df['good_pred'] = test_df.apply(lambda x: good_prediction(x), axis=1)"
   ]
  },
  {
   "cell_type": "code",
   "execution_count": null,
   "metadata": {},
   "outputs": [],
   "source": []
  },
  {
   "cell_type": "code",
   "execution_count": 43,
   "metadata": {},
   "outputs": [],
   "source": [
    "from sklearn.metrics import mean_squared_error"
   ]
  },
  {
   "cell_type": "code",
   "execution_count": 44,
   "metadata": {},
   "outputs": [],
   "source": [
    "answers = pd.read_csv('answer_2.csv')"
   ]
  },
  {
   "cell_type": "code",
   "execution_count": 45,
   "metadata": {},
   "outputs": [],
   "source": [
    "answers = answers.merge(test_df[['id', 'pred_price','pred_price_2','pred_price_3', 'good_pred']], how = 'left', on= 'id' )"
   ]
  },
  {
   "cell_type": "code",
   "execution_count": 50,
   "metadata": {},
   "outputs": [],
   "source": []
  },
  {
   "cell_type": "code",
   "execution_count": null,
   "metadata": {},
   "outputs": [],
   "source": []
  },
  {
   "cell_type": "code",
   "execution_count": 46,
   "metadata": {
    "scrolled": true
   },
   "outputs": [
    {
     "data": {
      "text/plain": [
       "2479852.749851442"
      ]
     },
     "execution_count": 46,
     "metadata": {},
     "output_type": "execute_result"
    }
   ],
   "source": [
    "mean_squared_error(answers.price, answers.pred_price, squared=False)"
   ]
  },
  {
   "cell_type": "code",
   "execution_count": 47,
   "metadata": {},
   "outputs": [
    {
     "data": {
      "text/plain": [
       "2505138.683683092"
      ]
     },
     "execution_count": 47,
     "metadata": {},
     "output_type": "execute_result"
    }
   ],
   "source": [
    "mean_squared_error(answers.price, answers.pred_price_2, squared=False)"
   ]
  },
  {
   "cell_type": "code",
   "execution_count": 48,
   "metadata": {},
   "outputs": [
    {
     "data": {
      "text/plain": [
       "2555946.810888363"
      ]
     },
     "execution_count": 48,
     "metadata": {},
     "output_type": "execute_result"
    }
   ],
   "source": [
    "mean_squared_error(answers.price, answers.pred_price_3, squared=False)"
   ]
  },
  {
   "cell_type": "code",
   "execution_count": 52,
   "metadata": {},
   "outputs": [],
   "source": [
    "# Давайте теперь попробуем взять пердсказание 2-х моделей и посмотрим на результат\n",
    "answers['mean_of_2'] = (answers.pred_price + answers.pred_price_2)/2"
   ]
  },
  {
   "cell_type": "code",
   "execution_count": 51,
   "metadata": {},
   "outputs": [
    {
     "data": {
      "text/plain": [
       "2471497.7503038244"
      ]
     },
     "execution_count": 51,
     "metadata": {},
     "output_type": "execute_result"
    }
   ],
   "source": [
    "# Результат для такой модели выше чем для одиночной, а значит грамотное объединение даст лучший результат\n",
    "mean_squared_error(answers.price, answers.mean_of_2, squared=False)"
   ]
  },
  {
   "cell_type": "code",
   "execution_count": null,
   "metadata": {},
   "outputs": [],
   "source": []
  },
  {
   "cell_type": "code",
   "execution_count": 49,
   "metadata": {},
   "outputs": [
    {
     "data": {
      "text/plain": [
       "2445724.339366691"
      ]
     },
     "execution_count": 49,
     "metadata": {},
     "output_type": "execute_result"
    }
   ],
   "source": [
    "# Good prediction and answer\n",
    "mean_squared_error(answers.price, answers.good_pred, squared=False)"
   ]
  },
  {
   "cell_type": "code",
   "execution_count": null,
   "metadata": {},
   "outputs": [],
   "source": []
  },
  {
   "cell_type": "code",
   "execution_count": 236,
   "metadata": {},
   "outputs": [
    {
     "data": {
      "text/plain": [
       "2217637.2729825485"
      ]
     },
     "execution_count": 236,
     "metadata": {},
     "output_type": "execute_result"
    }
   ],
   "source": [
    "# Максимум, который можно выбить за счет грамотного выбора предсказаний из 3-х моделей : 2 217 637\n",
    "mean_squared_error(answers.price, answers.ideal_pred, squared=False)"
   ]
  },
  {
   "cell_type": "code",
   "execution_count": null,
   "metadata": {},
   "outputs": [],
   "source": []
  },
  {
   "cell_type": "code",
   "execution_count": null,
   "metadata": {},
   "outputs": [],
   "source": []
  }
 ],
 "metadata": {
  "kernelspec": {
   "display_name": "Python 3",
   "language": "python",
   "name": "python3"
  },
  "language_info": {
   "codemirror_mode": {
    "name": "ipython",
    "version": 3
   },
   "file_extension": ".py",
   "mimetype": "text/x-python",
   "name": "python",
   "nbconvert_exporter": "python",
   "pygments_lexer": "ipython3",
   "version": "3.7.3"
  }
 },
 "nbformat": 4,
 "nbformat_minor": 4
}
