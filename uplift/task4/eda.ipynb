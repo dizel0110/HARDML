{
 "cells": [
  {
   "cell_type": "code",
   "execution_count": 1,
   "source": [
    "import datetime\n",
    "import dask.dataframe as dd\n",
    "import pandas as pd\n",
    "import numpy as np\n",
    "from featurelib import Engine\n",
    "from solution import FavouriteStoreCalcer, LOOMeanTargetEncoder"
   ],
   "outputs": [],
   "metadata": {}
  },
  {
   "cell_type": "code",
   "execution_count": 6,
   "source": [
    "engine = Engine(tables={})\n",
    "engine.register_table(table=dd.read_parquet('data/purchases.parquet'),\n",
    "                      name='purchases')\n",
    "engine.register_table(table=dd.read_parquet('data/receipts.parquet'),\n",
    "                      name='receipts')\n",
    "engine.register_table(table=dd.read_csv('data/products.csv'),\n",
    "                      name='products')\n",
    "engine.register_table(table=dd.read_csv('data/client_profile.csv'),\n",
    "                      name='client_profile')\n",
    "engine.register_table(table=dd.read_csv('data/campaigns.csv'),\n",
    "                      name='campaigns')\n",
    "\n",
    "test_df = pd.read_csv('dataset_mini.csv')"
   ],
   "outputs": [],
   "metadata": {}
  },
  {
   "cell_type": "code",
   "execution_count": 7,
   "source": [
    "encoder = LOOMeanTargetEncoder(**{\n",
    "                'col_categorical': 'gender',\n",
    "                'col_target': 'target_profit',\n",
    "                'col_result': \"gender__mte__target_profit\"\n",
    "            })\n",
    "encoder"
   ],
   "outputs": [
    {
     "output_type": "execute_result",
     "data": {
      "text/plain": [
       "LOOMeanTargetEncoder(col_categorical='gender',\n",
       "                     col_result='gender__mte__target_profit',\n",
       "                     col_target='target_profit')"
      ]
     },
     "metadata": {},
     "execution_count": 7
    }
   ],
   "metadata": {}
  },
  {
   "cell_type": "code",
   "execution_count": 11,
   "source": [
    "tmp_df = encoder.fit_transform(test_df.copy())\n",
    "test_df['gender__mte__target_profit'] - tmp_df['gender__mte__target_profit']"
   ],
   "outputs": [
    {
     "output_type": "execute_result",
     "data": {
      "text/plain": [
       "0    -11.697762\n",
       "1      1.494080\n",
       "2      2.472807\n",
       "3      1.654606\n",
       "4      2.525659\n",
       "        ...    \n",
       "95     3.149343\n",
       "96     3.145832\n",
       "97     5.627187\n",
       "98    -0.582236\n",
       "99     3.182417\n",
       "Name: gender__mte__target_profit, Length: 100, dtype: float64"
      ]
     },
     "metadata": {},
     "execution_count": 11
    }
   ],
   "metadata": {}
  },
  {
   "cell_type": "code",
   "execution_count": 21,
   "source": [
    "from category_encoders import LeaveOneOutEncoder\n",
    "encoder = LeaveOneOutEncoder(cols=['gender'])\n",
    "encoder = encoder.fit(tmp_df['gender'], tmp_df['target_profit'])\n",
    "encoder"
   ],
   "outputs": [
    {
     "output_type": "stream",
     "name": "stderr",
     "text": [
      "/root/.local/lib/python3.8/site-packages/category_encoders/utils.py:21: FutureWarning: is_categorical is deprecated and will be removed in a future version.  Use is_categorical_dtype instead\n",
      "  elif pd.api.types.is_categorical(cols):\n"
     ]
    },
    {
     "output_type": "execute_result",
     "data": {
      "text/plain": [
       "LeaveOneOutEncoder(cols=['gender'])"
      ]
     },
     "metadata": {},
     "execution_count": 21
    }
   ],
   "metadata": {}
  },
  {
   "cell_type": "code",
   "execution_count": 23,
   "source": [
    "encoder.transform(tmp_df['gender'], tmp_df['target_profit'])"
   ],
   "outputs": [
    {
     "output_type": "execute_result",
     "data": {
      "text/plain": [
       "        gender\n",
       "0   106.477263\n",
       "1   119.669105\n",
       "2   131.451902\n",
       "3   119.829632\n",
       "4   120.700684\n",
       "..         ...\n",
       "95  121.324368\n",
       "96  132.124927\n",
       "97  106.916556\n",
       "98  117.592789\n",
       "99  132.161512\n",
       "\n",
       "[100 rows x 1 columns]"
      ],
      "text/html": [
       "<div>\n",
       "<style scoped>\n",
       "    .dataframe tbody tr th:only-of-type {\n",
       "        vertical-align: middle;\n",
       "    }\n",
       "\n",
       "    .dataframe tbody tr th {\n",
       "        vertical-align: top;\n",
       "    }\n",
       "\n",
       "    .dataframe thead th {\n",
       "        text-align: right;\n",
       "    }\n",
       "</style>\n",
       "<table border=\"1\" class=\"dataframe\">\n",
       "  <thead>\n",
       "    <tr style=\"text-align: right;\">\n",
       "      <th></th>\n",
       "      <th>gender</th>\n",
       "    </tr>\n",
       "  </thead>\n",
       "  <tbody>\n",
       "    <tr>\n",
       "      <th>0</th>\n",
       "      <td>106.477263</td>\n",
       "    </tr>\n",
       "    <tr>\n",
       "      <th>1</th>\n",
       "      <td>119.669105</td>\n",
       "    </tr>\n",
       "    <tr>\n",
       "      <th>2</th>\n",
       "      <td>131.451902</td>\n",
       "    </tr>\n",
       "    <tr>\n",
       "      <th>3</th>\n",
       "      <td>119.829632</td>\n",
       "    </tr>\n",
       "    <tr>\n",
       "      <th>4</th>\n",
       "      <td>120.700684</td>\n",
       "    </tr>\n",
       "    <tr>\n",
       "      <th>...</th>\n",
       "      <td>...</td>\n",
       "    </tr>\n",
       "    <tr>\n",
       "      <th>95</th>\n",
       "      <td>121.324368</td>\n",
       "    </tr>\n",
       "    <tr>\n",
       "      <th>96</th>\n",
       "      <td>132.124927</td>\n",
       "    </tr>\n",
       "    <tr>\n",
       "      <th>97</th>\n",
       "      <td>106.916556</td>\n",
       "    </tr>\n",
       "    <tr>\n",
       "      <th>98</th>\n",
       "      <td>117.592789</td>\n",
       "    </tr>\n",
       "    <tr>\n",
       "      <th>99</th>\n",
       "      <td>132.161512</td>\n",
       "    </tr>\n",
       "  </tbody>\n",
       "</table>\n",
       "<p>100 rows × 1 columns</p>\n",
       "</div>"
      ]
     },
     "metadata": {},
     "execution_count": 23
    }
   ],
   "metadata": {}
  }
 ],
 "metadata": {
  "orig_nbformat": 4,
  "language_info": {
   "name": "python",
   "version": "3.8.10",
   "mimetype": "text/x-python",
   "codemirror_mode": {
    "name": "ipython",
    "version": 3
   },
   "pygments_lexer": "ipython3",
   "nbconvert_exporter": "python",
   "file_extension": ".py"
  },
  "kernelspec": {
   "name": "python3",
   "display_name": "Python 3.8.5 64-bit ('hard-ml-3': conda)"
  },
  "interpreter": {
   "hash": "8fe18b60e8f630aabccb49ff44712463aaddcea0fc0ead893c5abb47f81285e4"
  }
 },
 "nbformat": 4,
 "nbformat_minor": 2
}