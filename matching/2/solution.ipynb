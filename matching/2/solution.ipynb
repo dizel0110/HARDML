{
 "cells": [
  {
   "cell_type": "code",
   "execution_count": 76,
   "metadata": {
    "ExecuteTime": {
     "end_time": "2021-04-18T20:08:56.896909Z",
     "start_time": "2021-04-18T20:08:56.886500Z"
    }
   },
   "outputs": [
    {
     "name": "stdout",
     "output_type": "stream",
     "text": [
      "Overwriting solution_2.py\n"
     ]
    }
   ],
   "source": [
    "%%writefile solution_2.py\n",
    "import math\n",
    "from typing import List, Optional, Union\n",
    "\n",
    "import torch\n",
    "\n",
    "\n",
    "def num_swapped_pairs(ys_true: torch.Tensor, ys_pred: torch.Tensor) -> int:\n",
    "    order = ys_true.argsort(descending=True)\n",
    "    pairs = torch.combinations(order, 2)\n",
    "    mask_true_equal = ys_true[pairs[:, 0]] != ys_true[pairs[:, 1]]\n",
    "    mask_pred = ys_pred[pairs[:, 0]] < ys_pred[pairs[:, 1]]\n",
    "    return (mask_true_equal & mask_pred).sum().item()\n",
    "\n",
    "\n",
    "def compute_gain(y_value: float, gain_scheme: str) -> float:\n",
    "    if gain_scheme == 'exp2':\n",
    "        return 2**y_value - 1.0\n",
    "    return y_value\n",
    "\n",
    "\n",
    "def dcg(ys_true: torch.Tensor, ys_pred: torch.Tensor, gain_scheme: str) -> float:    \n",
    "    order = ys_pred.argsort(descending=True)\n",
    "    index = torch.arange(len(order), dtype=torch.float64) + 1\n",
    "    return (compute_gain(ys_true[order], gain_scheme) / torch.log2(index + 1)).sum().item()\n",
    "    \n",
    "\n",
    "def ndcg(ys_true: torch.Tensor, ys_pred: torch.Tensor, gain_scheme: str = 'const') -> float:\n",
    "    dcg_val = dcg(ys_true, ys_pred, gain_scheme)\n",
    "    dcg_best_val = dcg(ys_true, ys_true, gain_scheme)\n",
    "    return dcg_val / dcg_best_val\n",
    "\n",
    "\n",
    "def precission_at_k(ys_true: torch.Tensor, ys_pred: torch.Tensor, k: int) -> float:\n",
    "    total_relevant = ys_true.sum().item()\n",
    "    if total_relevant == 0:\n",
    "        return -1\n",
    "    \n",
    "    order = ys_pred.argsort(descending=True)[:k]\n",
    "    n_retrieved = len(order)\n",
    "    n_relevant = (ys_true[order] == 1).sum().item()\n",
    "    if n_retrieved > total_relevant:\n",
    "        return n_relevant / total_relevant\n",
    "    else:\n",
    "        return n_relevant / n_retrieved\n",
    "\n",
    "\n",
    "def reciprocal_rank(ys_true: torch.Tensor, ys_pred: torch.Tensor) -> float:\n",
    "    order = ys_pred.argsort(descending=True)\n",
    "    return 1 / (ys_true[order].argsort(descending=True)[0] + 1)\n",
    "\n",
    "\n",
    "def p_found(ys_true: torch.Tensor, ys_pred: torch.Tensor, p_break: float = 0.15 ) -> float:\n",
    "    order = ys_pred.argsort(descending=True)\n",
    "    \n",
    "    p_rels = ys_true[order]\n",
    "    p_look_ = 1\n",
    "    p_rel_ = p_rels[0].item()\n",
    "    p_found = p_look_ * p_rel_\n",
    "    for i in range(1, len(ys_true)):\n",
    "        p_rel = p_rels[i].item()\n",
    "        p_look = p_look_ * (1 - p_rel_) * (1 - p_break)\n",
    "        \n",
    "        p_found += p_look * p_rel\n",
    "        \n",
    "        p_rel_ = p_rel\n",
    "        p_look_ = p_look\n",
    "    \n",
    "    return p_found\n",
    "    \n",
    "\n",
    "\n",
    "def average_precision(ys_true: torch.Tensor, ys_pred: torch.Tensor) -> float:\n",
    "    if ys_true.sum() == 0:\n",
    "        return -1\n",
    "    \n",
    "    order = ys_pred.argsort(descending=True)\n",
    "    \n",
    "    n = ys_true.sum().item()\n",
    "    recall_ = 0.0\n",
    "    ap = 0.0\n",
    "    for k in range(1, len(ys_true) + 1):        \n",
    "        n_relevant = (ys_true[order][:k] == 1).sum().item()\n",
    "        \n",
    "        precision = n_relevant / k\n",
    "        recall = n_relevant / n\n",
    "        \n",
    "        ap += (recall - recall_) * precision\n",
    "        recall_ = recall\n",
    "    \n",
    "    return ap\n"
   ]
  },
  {
   "cell_type": "code",
   "execution_count": 77,
   "metadata": {
    "ExecuteTime": {
     "end_time": "2021-04-18T20:08:57.162697Z",
     "start_time": "2021-04-18T20:08:57.139614Z"
    }
   },
   "outputs": [
    {
     "name": "stdout",
     "output_type": "stream",
     "text": [
      "2\n",
      "tensor([0.0258, 0.7164, 0.1161])\n",
      "0.535789370221151\n",
      "0.6676405111984647\n",
      "1.0\n",
      "tensor(0.3333)\n",
      "1.0\n",
      "1.0\n"
     ]
    }
   ],
   "source": [
    "import solution_2\n",
    "import torch\n",
    "import numpy as np\n",
    "import importlib\n",
    "importlib.reload(solution_2)\n",
    "y_true = torch.rand(3)\n",
    "y_pred = torch.rand(3)\n",
    "\n",
    "print(solution_2.num_swapped_pairs(y_true, y_pred))\n",
    "print(solution_2.compute_gain(y_true, 'const'))\n",
    "print(solution_2.dcg(y_true, y_pred, 'const'))\n",
    "print(solution_2.ndcg(y_true, y_pred, 'const'))\n",
    "\n",
    "y_bin_true = torch.Tensor(np.random.choice([0, 1], 3))\n",
    "k = 100\n",
    "print(solution_2.precission_at_k(y_bin_true, y_pred, k))\n",
    "print(solution_2.reciprocal_rank(torch.Tensor([0, 0, 1]), y_pred))\n",
    "print(solution_2.average_precision(y_bin_true, y_pred))\n",
    "print(solution_2.p_found(y_bin_true, y_pred))"
   ]
  },
  {
   "cell_type": "code",
   "execution_count": 78,
   "metadata": {
    "ExecuteTime": {
     "end_time": "2021-04-18T20:09:08.709158Z",
     "start_time": "2021-04-18T20:09:08.697143Z"
    }
   },
   "outputs": [
    {
     "data": {
      "text/plain": [
       "(tensor([1., 1., 0.]), tensor([0.9349, 0.7841, 0.4637]))"
      ]
     },
     "execution_count": 78,
     "metadata": {},
     "output_type": "execute_result"
    }
   ],
   "source": [
    "y_bin_true, y_pred"
   ]
  },
  {
   "cell_type": "code",
   "execution_count": 62,
   "metadata": {
    "ExecuteTime": {
     "end_time": "2021-04-18T19:51:42.945275Z",
     "start_time": "2021-04-18T19:51:42.931030Z"
    }
   },
   "outputs": [
    {
     "data": {
      "text/plain": [
       "tensor([0, 2, 1])"
      ]
     },
     "execution_count": 62,
     "metadata": {},
     "output_type": "execute_result"
    }
   ],
   "source": [
    "order = y_pred.argsort(descending=True)\n",
    "order"
   ]
  },
  {
   "cell_type": "code",
   "execution_count": null,
   "metadata": {},
   "outputs": [],
   "source": []
  }
 ],
 "metadata": {
  "kernelspec": {
   "display_name": "Python 3",
   "language": "python",
   "name": "python3"
  },
  "language_info": {
   "codemirror_mode": {
    "name": "ipython",
    "version": 3
   },
   "file_extension": ".py",
   "mimetype": "text/x-python",
   "name": "python",
   "nbconvert_exporter": "python",
   "pygments_lexer": "ipython3",
   "version": "3.7.3"
  }
 },
 "nbformat": 4,
 "nbformat_minor": 4
}
