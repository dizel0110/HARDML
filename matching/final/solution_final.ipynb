{
 "cells": [
  {
   "cell_type": "code",
   "execution_count": 22,
   "metadata": {
    "ExecuteTime": {
     "end_time": "2021-06-18T06:32:57.093983Z",
     "start_time": "2021-06-18T06:32:57.083684Z"
    }
   },
   "outputs": [
    {
     "name": "stdout",
     "output_type": "stream",
     "text": [
      "Overwriting solution_final.py\n"
     ]
    }
   ],
   "source": [
    "%%writefile solution_final.py\n",
    "import os\n",
    "import json\n",
    "import nltk\n",
    "import torch\n",
    "import faiss\n",
    "import string\n",
    "import langdetect\n",
    "import numpy as np\n",
    "from flask import (Flask,\n",
    "                   request,)\n",
    "from typing import (Dict,\n",
    "                    List,\n",
    "                    Tuple,)\n",
    "\n",
    "\n",
    "app = Flask(__name__)\n",
    "\n",
    "\n",
    "class Solution(object):\n",
    "    def __init__(self):\n",
    "        self.documents = None\n",
    "        self.index = None\n",
    "        torch.set_grad_enabled(False)\n",
    "        \n",
    "    def load_resources(self):\n",
    "        self.vocab = json.load(open(os.environ['VOCAB_PATH'],\n",
    "                               mode='r',\n",
    "                               encoding='utf-8'))\n",
    "        \n",
    "        state_dict = torch.load(os.environ['EMB_PATH_KNRM'])\n",
    "        self.emb_knrm_shape = state_dict['weight'].shape\n",
    "        self.emb_knrm = torch.nn.Embedding.from_pretrained(state_dict['weight'],\n",
    "                                                           freeze=True,\n",
    "                                                           padding_idx=0)\n",
    "\n",
    "#         self.emb_glove = list()\n",
    "#         with open(os.environ['EMB_PATH_GLOVE'], mode='r') as file:\n",
    "#             for line in file:\n",
    "#                 self.emb_glove.append(line.split()[0])\n",
    "\n",
    "        self.mlp_knrm = torch.load(os.environ['MLP_PATH'])\n",
    "        \n",
    "        global is_ready\n",
    "        is_ready = True\n",
    "    \n",
    "    def _preprocess(self, input_str: str) -> str:\n",
    "        table = str.maketrans(string.punctuation,\n",
    "                              ' '*len(string.punctuation))\n",
    "        return (input_str\n",
    "                .translate(table)\n",
    "                .lower())\n",
    "    \n",
    "    def _filter_glove_tokens(self, tokens: List[str]) -> List[str]:\n",
    "        return [t for t in tokens if t in self.emb_glove]\n",
    "    \n",
    "    def _get_tokens(self, input_str: str) -> List[str]:\n",
    "        return nltk.word_tokenize(self._preprocess(input_str))\n",
    "    \n",
    "    def _get_tokens_ids(self,\n",
    "                        input_str: str,\n",
    "                        filter_glove: bool = False) -> List[int]:\n",
    "        tokens = self._get_tokens(input_str)\n",
    "        if filter_glove:\n",
    "            tokens = self._filter_glove_tokens(tokens)\n",
    "        return [self.vocab.get(t, self.vocab['OOV']) \n",
    "                for t in tokens]\n",
    "        \n",
    "    def update_index(self, documents: Dict[str, str]) -> int:\n",
    "        self.documents = documents\n",
    "        \n",
    "        tokens_ids = list()\n",
    "        for d in self.documents:\n",
    "            ids = self._get_tokens_ids(self.documents[d],\n",
    "                                       filter_glove=False)\n",
    "            tokens_ids.append(ids)\n",
    "            \n",
    "        vectors = list()\n",
    "        for ids in tokens_ids:\n",
    "            embs = self.emb_knrm(torch.LongTensor(ids))\n",
    "            vectors.append(embs\n",
    "                           .mean(axis=0)\n",
    "                           .numpy())\n",
    "        vectors = np.array(vectors)\n",
    "            \n",
    "        self.index = faiss.IndexFlatL2(vectors.shape[1])\n",
    "        self.index = faiss.IndexIDMap(self.index)\n",
    "        self.index.add_with_ids(vectors,\n",
    "                                np.array([int(i) for i in self.documents]))\n",
    "        \n",
    "        return self.index.ntotal\n",
    "    \n",
    "    def search(self, query: str, k: int = 10) -> List[Tuple[str, str]]:\n",
    "        query_ids = self._get_tokens_ids(query, filter_glove=False)\n",
    "        \n",
    "        query_emb = self.emb_knrm(torch.LongTensor(query_ids)).mean(axis=0)\n",
    "        query_emb = (query_emb\n",
    "                     .numpy()\n",
    "                     .reshape(-1, self.emb_knrm_shape[1]))\n",
    "        \n",
    "        _, document_ids = self.index.search(query_emb, k)\n",
    "        \n",
    "        return [(str(i), self.documents[str(i)])\n",
    "                for i in document_ids.reshape(-1)]\n",
    "        \n",
    "\n",
    "solution = Solution()\n",
    "is_ready = False\n",
    "\n",
    "\n",
    "@app.route('/ping')\n",
    "def ping():\n",
    "    if not is_ready:\n",
    "        return {'status': 'not ready'}\n",
    "    return {'status': 'ok'}\n",
    "\n",
    "\n",
    "@app.route('/query', methods=['POST'])\n",
    "def query():\n",
    "    if solution.index is None:\n",
    "        return {'status': 'FAISS is not initialized!'}\n",
    "    \n",
    "    content = json.loads(request.json)\n",
    "    queries = content['queries']\n",
    "    \n",
    "    results = list()\n",
    "    for q in queries:\n",
    "        if langdetect.detect(q) == 'en':\n",
    "            candidates = solution.search(q)\n",
    "            \n",
    "            results.append(candidates)\n",
    "        else:\n",
    "            results.append(None)\n",
    "    \n",
    "    return {'lang_check': [True if r is not None else False \n",
    "                           for r in results],\n",
    "            'suggestions': results,}\n",
    "\n",
    "\n",
    "@app.route('/update_index', methods=['POST'])\n",
    "def update_index():\n",
    "    content = json.loads(request.json)\n",
    "    documents = content['documents']\n",
    "    \n",
    "    return {'status': 'ok',\n",
    "            'index_size': solution.update_index(documents)}\n",
    "\n",
    "\n",
    "solution.load_resources()\n",
    "\n"
   ]
  },
  {
   "cell_type": "code",
   "execution_count": 23,
   "metadata": {
    "ExecuteTime": {
     "end_time": "2021-06-18T06:33:00.857547Z",
     "start_time": "2021-06-18T06:32:58.250926Z"
    },
    "scrolled": true
   },
   "outputs": [
    {
     "name": "stdout",
     "output_type": "stream",
     "text": [
      "{\r\n",
      "  \"status\": \"ok\"\r\n",
      "}\r\n"
     ]
    }
   ],
   "source": [
    "!curl 'http://127.0.0.1:11000/ping'"
   ]
  },
  {
   "cell_type": "code",
   "execution_count": 3,
   "metadata": {
    "ExecuteTime": {
     "end_time": "2021-06-18T06:26:05.534122Z",
     "start_time": "2021-06-18T06:26:04.851662Z"
    }
   },
   "outputs": [],
   "source": [
    "import json\n",
    "import requests\n",
    "import pandas as pd\n",
    "from IPython.core.display import HTML"
   ]
  },
  {
   "cell_type": "code",
   "execution_count": 4,
   "metadata": {
    "ExecuteTime": {
     "end_time": "2021-06-18T06:26:05.762827Z",
     "start_time": "2021-06-18T06:26:05.540707Z"
    }
   },
   "outputs": [
    {
     "name": "stdout",
     "output_type": "stream",
     "text": [
      "<class 'pandas.core.frame.DataFrame'>\n",
      "RangeIndex: 40430 entries, 0 to 40429\n",
      "Data columns (total 6 columns):\n",
      " #   Column        Non-Null Count  Dtype \n",
      "---  ------        --------------  ----- \n",
      " 0   id            40430 non-null  object\n",
      " 1   qid1          40430 non-null  object\n",
      " 2   qid2          40430 non-null  object\n",
      " 3   question1     40430 non-null  object\n",
      " 4   question2     40430 non-null  object\n",
      " 5   is_duplicate  40430 non-null  object\n",
      "dtypes: object(6)\n",
      "memory usage: 1.9+ MB\n"
     ]
    }
   ],
   "source": [
    "dev_df = pd.read_csv('../5/data/QQP/dev.tsv',\n",
    "                     sep='\\t',\n",
    "                     error_bad_lines=False,\n",
    "                     dtype=object)\n",
    "dev_df.info()"
   ]
  },
  {
   "cell_type": "code",
   "execution_count": 24,
   "metadata": {
    "ExecuteTime": {
     "end_time": "2021-06-18T06:33:07.815823Z",
     "start_time": "2021-06-18T06:33:00.864419Z"
    }
   },
   "outputs": [
    {
     "data": {
      "text/html": [
       "{\n",
       "  \"index_size\": 37741, \n",
       "  \"status\": \"ok\"\n",
       "}\n"
      ],
      "text/plain": [
       "<IPython.core.display.HTML object>"
      ]
     },
     "execution_count": 24,
     "metadata": {},
     "output_type": "execute_result"
    }
   ],
   "source": [
    "body = json.dumps({'documents': {i[0]: i[1] \n",
    "                                 for i in dev_df[['qid1', 'question1']].values.tolist()}})\n",
    "res = requests.post('http://127.0.0.1:11000/update_index',\n",
    "                    json=body)\n",
    "HTML(res.content.decode('utf-8'))"
   ]
  },
  {
   "cell_type": "code",
   "execution_count": 25,
   "metadata": {
    "ExecuteTime": {
     "end_time": "2021-06-18T06:33:08.351023Z",
     "start_time": "2021-06-18T06:33:07.820964Z"
    }
   },
   "outputs": [
    {
     "data": {
      "text/html": [
       "{\n",
       "  \"lang_check\": [\n",
       "    false, \n",
       "    true\n",
       "  ], \n",
       "  \"suggestions\": [\n",
       "    null, \n",
       "    [\n",
       "      [\n",
       "        \"303345\", \n",
       "        \"Why are African-Americans so beautiful?\"\n",
       "      ], \n",
       "      [\n",
       "        \"359808\", \n",
       "        \"Why do most women find white men to be the most attractive?\"\n",
       "      ], \n",
       "      [\n",
       "        \"177159\", \n",
       "        \"Why Indian men are not so romantic?\"\n",
       "      ], \n",
       "      [\n",
       "        \"105268\", \n",
       "        \"Why are most British people so racist towards black people?\"\n",
       "      ], \n",
       "      [\n",
       "        \"5158\", \n",
       "        \"Why are Indians so obsessed about what people from other countries think about India?\"\n",
       "      ], \n",
       "      [\n",
       "        \"318474\", \n",
       "        \"Do most people still think possessions are staged?\"\n",
       "      ], \n",
       "      [\n",
       "        \"7305\", \n",
       "        \"What are the things that make Indians happy and proud?\"\n",
       "      ], \n",
       "      [\n",
       "        \"459970\", \n",
       "        \"What are the most common regrets that people have once they grow old?\"\n",
       "      ], \n",
       "      [\n",
       "        \"485494\", \n",
       "        \"Do people ever find other people attractive?\"\n",
       "      ], \n",
       "      [\n",
       "        \"139042\", \n",
       "        \"Why do poor people become poorer and the rich get richer?\"\n",
       "      ]\n",
       "    ]\n",
       "  ]\n",
       "}\n"
      ],
      "text/plain": [
       "<IPython.core.display.HTML object>"
      ]
     },
     "execution_count": 25,
     "metadata": {},
     "output_type": "execute_result"
    }
   ],
   "source": [
    "body = json.dumps({'queries': ['Проверка на язык',\n",
    "                               'Why are African-Americans so beautiful?']},\n",
    "#                   ensure_ascii=False,\n",
    "                 )\n",
    "res = requests.post('http://127.0.0.1:11000/query',\n",
    "                    json=body)\n",
    "HTML(res.content.decode('utf-8'))"
   ]
  },
  {
   "cell_type": "code",
   "execution_count": null,
   "metadata": {},
   "outputs": [],
   "source": []
  },
  {
   "cell_type": "code",
   "execution_count": 4,
   "metadata": {
    "ExecuteTime": {
     "end_time": "2021-06-17T21:07:44.806927Z",
     "start_time": "2021-06-17T21:07:43.971131Z"
    }
   },
   "outputs": [
    {
     "data": {
      "text/plain": [
       "Embedding(87164, 50)"
      ]
     },
     "execution_count": 4,
     "metadata": {},
     "output_type": "execute_result"
    }
   ],
   "source": [
    "import torch\n",
    "state_dict = torch.load('/home/jupyter-v.pashentsev-2/2.matching/5/embedings.pickle')\n",
    "emb = torch.nn.Embedding.from_pretrained(state_dict['weight'])\n",
    "# emb.load_state_dict(state_dict)\n",
    "emb"
   ]
  },
  {
   "cell_type": "code",
   "execution_count": 5,
   "metadata": {
    "ExecuteTime": {
     "end_time": "2021-06-17T21:07:51.325502Z",
     "start_time": "2021-06-17T21:07:51.315696Z"
    }
   },
   "outputs": [
    {
     "data": {
      "text/plain": [
       "torch.Size([2, 50])"
      ]
     },
     "execution_count": 5,
     "metadata": {},
     "output_type": "execute_result"
    }
   ],
   "source": [
    "emb(torch.LongTensor([3, 1])).shape"
   ]
  },
  {
   "cell_type": "code",
   "execution_count": 7,
   "metadata": {
    "ExecuteTime": {
     "end_time": "2021-06-17T21:07:55.970264Z",
     "start_time": "2021-06-17T21:07:55.956042Z"
    }
   },
   "outputs": [
    {
     "data": {
      "text/plain": [
       "array([[ 6.1850e-01,  6.4254e-01, -4.6552e-01,  3.7570e-01,  7.4838e-01,\n",
       "         5.3739e-01,  2.2239e-03, -6.0577e-01,  2.6408e-01,  1.1703e-01,\n",
       "         4.3722e-01,  2.0092e-01, -5.7859e-02, -3.4589e-01,  2.1664e-01,\n",
       "         5.8573e-01,  5.3919e-01,  6.9490e-01, -1.5618e-01,  5.5830e-02,\n",
       "        -6.0515e-01, -2.8997e-01, -2.5594e-02,  5.5593e-01,  2.5356e-01,\n",
       "        -1.9612e+00, -5.1381e-01,  6.9096e-01,  6.6246e-02, -5.4224e-02,\n",
       "         3.7871e+00, -7.7403e-01, -1.2689e-01, -5.1465e-01,  6.6705e-02,\n",
       "        -3.2933e-01,  1.3483e-01,  1.9049e-01,  1.3812e-01, -2.1503e-01,\n",
       "        -1.6573e-02,  3.1200e-01, -3.3189e-01, -2.6001e-02, -3.8203e-01,\n",
       "         1.9403e-01, -1.2466e-01, -2.7557e-01,  3.0899e-01,  4.8497e-01],\n",
       "       [ 1.0000e+00,  1.0000e+00,  1.0000e+00,  1.0000e+00,  1.0000e+00,\n",
       "         1.0000e+00,  1.0000e+00,  1.0000e+00,  1.0000e+00,  1.0000e+00,\n",
       "         1.0000e+00,  1.0000e+00,  1.0000e+00,  1.0000e+00,  1.0000e+00,\n",
       "         1.0000e+00,  1.0000e+00,  1.0000e+00,  1.0000e+00,  1.0000e+00,\n",
       "         1.0000e+00,  1.0000e+00,  1.0000e+00,  1.0000e+00,  1.0000e+00,\n",
       "         1.0000e+00,  1.0000e+00,  1.0000e+00,  1.0000e+00,  1.0000e+00,\n",
       "         1.0000e+00,  1.0000e+00,  1.0000e+00,  1.0000e+00,  1.0000e+00,\n",
       "         1.0000e+00,  1.0000e+00,  1.0000e+00,  1.0000e+00,  1.0000e+00,\n",
       "         1.0000e+00,  1.0000e+00,  1.0000e+00,  1.0000e+00,  1.0000e+00,\n",
       "         1.0000e+00,  1.0000e+00,  1.0000e+00,  1.0000e+00,  1.0000e+00]],\n",
       "      dtype=float32)"
      ]
     },
     "execution_count": 7,
     "metadata": {},
     "output_type": "execute_result"
    }
   ],
   "source": [
    "res = emb(torch.LongTensor([3, 1]))\n",
    "res.numpy()"
   ]
  },
  {
   "cell_type": "code",
   "execution_count": 97,
   "metadata": {
    "ExecuteTime": {
     "end_time": "2021-06-17T19:16:41.342893Z",
     "start_time": "2021-06-17T19:16:41.332569Z"
    }
   },
   "outputs": [
    {
     "data": {
      "text/plain": [
       "2"
      ]
     },
     "execution_count": 97,
     "metadata": {},
     "output_type": "execute_result"
    }
   ],
   "source": [
    "import faiss\n",
    "index = faiss.IndexFlatL2(50)\n",
    "index.add(res.detach().numpy())\n",
    "index.ntotal"
   ]
  },
  {
   "cell_type": "code",
   "execution_count": 98,
   "metadata": {
    "ExecuteTime": {
     "end_time": "2021-06-17T19:16:42.785720Z",
     "start_time": "2021-06-17T19:16:42.773014Z"
    }
   },
   "outputs": [
    {
     "data": {
      "text/plain": [
       "(array([[ 0.      , 65.641846]], dtype=float32), array([[1, 0]]))"
      ]
     },
     "execution_count": 98,
     "metadata": {},
     "output_type": "execute_result"
    }
   ],
   "source": [
    "index.search(x=np.full((1, 50), 1, dtype=np.float32), k=2)"
   ]
  },
  {
   "cell_type": "code",
   "execution_count": 44,
   "metadata": {
    "ExecuteTime": {
     "end_time": "2021-06-17T17:47:09.553321Z",
     "start_time": "2021-06-17T17:47:09.529031Z"
    }
   },
   "outputs": [
    {
     "ename": "AssertionError",
     "evalue": "",
     "output_type": "error",
     "traceback": [
      "\u001b[0;31m---------------------------------------------------------------------------\u001b[0m",
      "\u001b[0;31mAssertionError\u001b[0m                            Traceback (most recent call last)",
      "\u001b[0;32m<ipython-input-44-c9928936eddf>\u001b[0m in \u001b[0;36m<module>\u001b[0;34m\u001b[0m\n\u001b[1;32m      4\u001b[0m \u001b[0mmatrix\u001b[0m \u001b[0;34m=\u001b[0m \u001b[0mnp\u001b[0m\u001b[0;34m.\u001b[0m\u001b[0mrandom\u001b[0m\u001b[0;34m.\u001b[0m\u001b[0mrandn\u001b[0m\u001b[0;34m(\u001b[0m\u001b[0;36m100\u001b[0m\u001b[0;34m,\u001b[0m \u001b[0;36m10\u001b[0m\u001b[0;34m,\u001b[0m \u001b[0;36m50\u001b[0m\u001b[0;34m)\u001b[0m\u001b[0;34m\u001b[0m\u001b[0;34m\u001b[0m\u001b[0m\n\u001b[1;32m      5\u001b[0m \u001b[0mindex\u001b[0m \u001b[0;34m=\u001b[0m \u001b[0mfaiss\u001b[0m\u001b[0;34m.\u001b[0m\u001b[0mIndexFlatL2\u001b[0m\u001b[0;34m(\u001b[0m\u001b[0;34m)\u001b[0m\u001b[0;34m\u001b[0m\u001b[0;34m\u001b[0m\u001b[0m\n\u001b[0;32m----> 6\u001b[0;31m \u001b[0mindex\u001b[0m\u001b[0;34m.\u001b[0m\u001b[0madd\u001b[0m\u001b[0;34m(\u001b[0m\u001b[0mmatrix\u001b[0m\u001b[0;34m[\u001b[0m\u001b[0;36m0\u001b[0m\u001b[0;34m]\u001b[0m\u001b[0;34m)\u001b[0m\u001b[0;34m\u001b[0m\u001b[0;34m\u001b[0m\u001b[0m\n\u001b[0m",
      "\u001b[0;32m/opt/tljh/user/lib/python3.7/site-packages/faiss/__init__.py\u001b[0m in \u001b[0;36mreplacement_add\u001b[0;34m(self, x)\u001b[0m\n\u001b[1;32m    101\u001b[0m     \u001b[0;32mdef\u001b[0m \u001b[0mreplacement_add\u001b[0m\u001b[0;34m(\u001b[0m\u001b[0mself\u001b[0m\u001b[0;34m,\u001b[0m \u001b[0mx\u001b[0m\u001b[0;34m)\u001b[0m\u001b[0;34m:\u001b[0m\u001b[0;34m\u001b[0m\u001b[0;34m\u001b[0m\u001b[0m\n\u001b[1;32m    102\u001b[0m         \u001b[0mn\u001b[0m\u001b[0;34m,\u001b[0m \u001b[0md\u001b[0m \u001b[0;34m=\u001b[0m \u001b[0mx\u001b[0m\u001b[0;34m.\u001b[0m\u001b[0mshape\u001b[0m\u001b[0;34m\u001b[0m\u001b[0;34m\u001b[0m\u001b[0m\n\u001b[0;32m--> 103\u001b[0;31m         \u001b[0;32massert\u001b[0m \u001b[0md\u001b[0m \u001b[0;34m==\u001b[0m \u001b[0mself\u001b[0m\u001b[0;34m.\u001b[0m\u001b[0md\u001b[0m\u001b[0;34m\u001b[0m\u001b[0;34m\u001b[0m\u001b[0m\n\u001b[0m\u001b[1;32m    104\u001b[0m         \u001b[0mself\u001b[0m\u001b[0;34m.\u001b[0m\u001b[0madd_c\u001b[0m\u001b[0;34m(\u001b[0m\u001b[0mn\u001b[0m\u001b[0;34m,\u001b[0m \u001b[0mswig_ptr\u001b[0m\u001b[0;34m(\u001b[0m\u001b[0mx\u001b[0m\u001b[0;34m)\u001b[0m\u001b[0;34m)\u001b[0m\u001b[0;34m\u001b[0m\u001b[0;34m\u001b[0m\u001b[0m\n\u001b[1;32m    105\u001b[0m \u001b[0;34m\u001b[0m\u001b[0m\n",
      "\u001b[0;31mAssertionError\u001b[0m: "
     ]
    }
   ],
   "source": [
    "import faiss\n",
    "import numpy as np\n",
    "\n",
    "matrix = np.random.randn(100, 10, 50)\n",
    "index = faiss.IndexFlatL2()\n",
    "index.add(matrix[0])"
   ]
  },
  {
   "cell_type": "code",
   "execution_count": 51,
   "metadata": {
    "ExecuteTime": {
     "end_time": "2021-06-17T18:22:36.883991Z",
     "start_time": "2021-06-17T18:22:36.868250Z"
    }
   },
   "outputs": [
    {
     "data": {
      "text/plain": [
       "tensor([0, 1, 2, 3])"
      ]
     },
     "execution_count": 51,
     "metadata": {},
     "output_type": "execute_result"
    }
   ],
   "source": [
    "import torch\n",
    "torch.LongTensor([0, 1, 2] + [3] * 1)"
   ]
  },
  {
   "cell_type": "code",
   "execution_count": 184,
   "metadata": {
    "ExecuteTime": {
     "end_time": "2021-06-17T20:24:55.016895Z",
     "start_time": "2021-06-17T20:24:54.990437Z"
    }
   },
   "outputs": [
    {
     "ename": "TypeError",
     "evalue": "'dict_items' object is not subscriptable",
     "output_type": "error",
     "traceback": [
      "\u001b[0;31m---------------------------------------------------------------------------\u001b[0m",
      "\u001b[0;31mTypeError\u001b[0m                                 Traceback (most recent call last)",
      "\u001b[0;32m<ipython-input-184-56df8aaf7d87>\u001b[0m in \u001b[0;36m<module>\u001b[0;34m\u001b[0m\n\u001b[0;32m----> 1\u001b[0;31m \u001b[0;34m{\u001b[0m\u001b[0;34m'a'\u001b[0m\u001b[0;34m:\u001b[0m \u001b[0;36m1\u001b[0m\u001b[0;34m,\u001b[0m \u001b[0;34m'b'\u001b[0m\u001b[0;34m:\u001b[0m \u001b[0;36m2\u001b[0m\u001b[0;34m}\u001b[0m\u001b[0;34m.\u001b[0m\u001b[0mitems\u001b[0m\u001b[0;34m(\u001b[0m\u001b[0;34m)\u001b[0m\u001b[0;34m[\u001b[0m\u001b[0;36m0\u001b[0m\u001b[0;34m]\u001b[0m\u001b[0;34m\u001b[0m\u001b[0;34m\u001b[0m\u001b[0m\n\u001b[0m",
      "\u001b[0;31mTypeError\u001b[0m: 'dict_items' object is not subscriptable"
     ]
    }
   ],
   "source": [
    "{'a': 1, 'b': 2}.items()[0]"
   ]
  },
  {
   "cell_type": "code",
   "execution_count": null,
   "metadata": {},
   "outputs": [],
   "source": []
  }
 ],
 "metadata": {
  "kernelspec": {
   "display_name": "Python 3",
   "language": "python",
   "name": "python3"
  },
  "language_info": {
   "codemirror_mode": {
    "name": "ipython",
    "version": 3
   },
   "file_extension": ".py",
   "mimetype": "text/x-python",
   "name": "python",
   "nbconvert_exporter": "python",
   "pygments_lexer": "ipython3",
   "version": "3.7.3"
  }
 },
 "nbformat": 4,
 "nbformat_minor": 4
}
