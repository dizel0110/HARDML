{
 "cells": [
  {
   "cell_type": "code",
   "execution_count": 88,
   "metadata": {},
   "outputs": [],
   "source": [
    "from scrapy.http import HtmlResponse\n",
    "from scrapy import Selector\n",
    "\n",
    "import requests\n",
    "\n",
    "from tqdm.auto import tqdm\n",
    "import json"
   ]
  },
  {
   "cell_type": "code",
   "execution_count": 6,
   "metadata": {},
   "outputs": [],
   "source": [
    "START_URL = 'https://www.imdb.com/search/name/?gender=male%2Cfemale&ref_=nv_cel_m'\n",
    "\n",
    "BASE_URL = \"https://www.imdb.com\""
   ]
  },
  {
   "cell_type": "code",
   "execution_count": 14,
   "metadata": {},
   "outputs": [],
   "source": [
    "def get_info_top_50(start_url, base_url=BASE_URL):\n",
    "    req = requests.get(start_url)\n",
    "    response = HtmlResponse(url=start_url, body=req.content)\n",
    "    rows = response.xpath('//*[@id=\"main\"]/div/div[@class=\"lister-list\"]/div[@class=\"lister-item mode-detail\"]')\n",
    "    links = []\n",
    "\n",
    "    for col in rows:\n",
    "        rel_url = col.xpath(\"./div[@class='lister-item-content']/h3/a/@href\").extract_first().strip()\n",
    "        actor_url = base_url + rel_url + '/'\n",
    "        links.append(actor_url)\n",
    "    return links"
   ]
  },
  {
   "cell_type": "code",
   "execution_count": 16,
   "metadata": {},
   "outputs": [],
   "source": [
    "def get_info_about_one_actor(actor_url, base_url=BASE_URL, top_k_films=15):\n",
    "    req = requests.get(actor_url)\n",
    "    response = HtmlResponse(url=actor_url, body=req.content)\n",
    "    name_widget = response.xpath('//*[@id=\"name-overview-widget-layout\"]')\n",
    "    item = dict()\n",
    "    item['name'] = name_widget.xpath('./tbody/tr[1]/td/h1/span/text()').extract_first().strip()\n",
    "    item['bio'] = ''.join(\n",
    "        name_widget.xpath('//*[@id=\"name-bio-text\"]/div/div//text()').extract()\n",
    "    ).replace('See full bio »', ' ').strip()\n",
    "    \n",
    "    try:\n",
    "        item['born'] = name_widget.xpath('//*[@id=\"name-born-info\"]/time/@datetime').extract_first().strip()\n",
    "    except AttributeError as e:\n",
    "        item['born'] = None\n",
    "    item['url'] = response.url\n",
    "    films = response.xpath(\n",
    "        '//*[@id=\"filmography\"]/div[@class=\"filmo-category-section\"][1]/div[contains(@class, \"filmo-row\")]'\n",
    "    )\n",
    "    item['movies'] = []\n",
    "    item['movie_links'] = []\n",
    "    for movie in films[:top_k_films]:\n",
    "        rel_url = movie.xpath(\"./b[1]/a/@href\").extract_first().strip()\n",
    "        movie_url = base_url + rel_url\n",
    "        ttl = movie.xpath(\"./b[1]/a/text()\").extract_first().strip()\n",
    "        item['movies'].append(ttl)\n",
    "        item['movie_links'].append(movie_url)\n",
    "    \n",
    "    return item"
   ]
  },
  {
   "cell_type": "code",
   "execution_count": 81,
   "metadata": {},
   "outputs": [],
   "source": [
    "def get_info_about_one_movie(movie_url):\n",
    "    req = requests.get(movie_url)\n",
    "    response = HtmlResponse(url=movie_url, body=req.content)\n",
    "    movie_name = response.xpath('//*[@class=\"title_wrapper\"]/h1/text()').extract_first().strip()\n",
    "    item = dict()\n",
    "    item['url'] = movie_url\n",
    "    item['title'] = movie_name\n",
    "    cast = response.xpath('//*[@class=\"cast_list\"]//tr//@title').extract()\n",
    "    cast = [i.strip() for i in cast if i]\n",
    "    item['cast'] = cast\n",
    "    return item"
   ]
  },
  {
   "cell_type": "code",
   "execution_count": null,
   "metadata": {},
   "outputs": [],
   "source": []
  },
  {
   "cell_type": "code",
   "execution_count": null,
   "metadata": {},
   "outputs": [],
   "source": []
  },
  {
   "cell_type": "code",
   "execution_count": 17,
   "metadata": {},
   "outputs": [],
   "source": [
    "actor_links = get_info_top_50(START_URL)"
   ]
  },
  {
   "cell_type": "code",
   "execution_count": 21,
   "metadata": {},
   "outputs": [
    {
     "data": {
      "application/vnd.jupyter.widget-view+json": {
       "model_id": "2f7a57c2e23242129362c4543f4ac1c1",
       "version_major": 2,
       "version_minor": 0
      },
      "text/plain": [
       "HBox(children=(IntProgress(value=0, max=50), HTML(value='')))"
      ]
     },
     "metadata": {},
     "output_type": "display_data"
    },
    {
     "name": "stdout",
     "output_type": "stream",
     "text": [
      "\n"
     ]
    }
   ],
   "source": [
    "actor_data = [get_info_about_one_actor(cur_url) for cur_url in tqdm(actor_links)]"
   ]
  },
  {
   "cell_type": "code",
   "execution_count": 72,
   "metadata": {},
   "outputs": [],
   "source": [
    "flatten = lambda t: [item for sublist in t for item in sublist]\n",
    "all_movies_links = flatten([cur_item['movie_links'] for cur_item in actor_data])"
   ]
  },
  {
   "cell_type": "code",
   "execution_count": 84,
   "metadata": {},
   "outputs": [
    {
     "data": {
      "application/vnd.jupyter.widget-view+json": {
       "model_id": "c8c629baa53f4f7da701ccfabfa329c7",
       "version_major": 2,
       "version_minor": 0
      },
      "text/plain": [
       "HBox(children=(IntProgress(value=0, max=680), HTML(value='')))"
      ]
     },
     "metadata": {},
     "output_type": "display_data"
    },
    {
     "name": "stdout",
     "output_type": "stream",
     "text": [
      "\n"
     ]
    }
   ],
   "source": [
    "movie_data = [get_info_about_one_movie(movie_url) for movie_url in tqdm(all_movies_links)]"
   ]
  },
  {
   "cell_type": "code",
   "execution_count": null,
   "metadata": {},
   "outputs": [],
   "source": []
  },
  {
   "cell_type": "code",
   "execution_count": null,
   "metadata": {},
   "outputs": [],
   "source": []
  },
  {
   "cell_type": "code",
   "execution_count": 94,
   "metadata": {},
   "outputs": [],
   "source": [
    "def dump_as_jl(inp_list_of_dicts, out_path):\n",
    "    with open(out_path, 'w', encoding='utf-8') as fout:\n",
    "        for line in inp_list_of_dicts:\n",
    "            tmp_str = json.dumps(line, ensure_ascii=False) + '\\n'\n",
    "            fout.write(tmp_str)"
   ]
  },
  {
   "cell_type": "code",
   "execution_count": 95,
   "metadata": {},
   "outputs": [],
   "source": [
    "dump_as_jl(actor_data, 'actors.jl')"
   ]
  },
  {
   "cell_type": "code",
   "execution_count": 96,
   "metadata": {},
   "outputs": [],
   "source": [
    "dump_as_jl(movie_data, 'movies.jl')"
   ]
  },
  {
   "cell_type": "code",
   "execution_count": null,
   "metadata": {},
   "outputs": [],
   "source": []
  }
 ],
 "metadata": {
  "kernelspec": {
   "display_name": "Python 3",
   "language": "python",
   "name": "python3"
  },
  "language_info": {
   "codemirror_mode": {
    "name": "ipython",
    "version": 3
   },
   "file_extension": ".py",
   "mimetype": "text/x-python",
   "name": "python",
   "nbconvert_exporter": "python",
   "pygments_lexer": "ipython3",
   "version": "3.7.3"
  }
 },
 "nbformat": 4,
 "nbformat_minor": 2
}
